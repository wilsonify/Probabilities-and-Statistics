{
 "cells": [
  {
   "cell_type": "code",
   "execution_count": 2,
   "metadata": {
    "collapsed": true,
    "jupyter": {
     "outputs_hidden": true
    }
   },
   "outputs": [],
   "source": [
    "library(\"tidyverse\")"
   ]
  },
  {
   "cell_type": "markdown",
   "metadata": {},
   "source": [
    "## Central Limit Theorm\n",
    "Suppose that a category of world class runners are known to run a marathon (26 miles) in an average of 142 minutes with a standard deviation of 12 minutes. Consider 49 of the races.\n",
    "\n",
    "Let\n",
    "X\n",
    "= the time to finish a race races.\n",
    "\n",
    "X ~ N(142,12)\n",
    "\n",
    "$\\bar{X} \\sim N \\left(142,\\frac{12}{\\sqrt{49}}\\right)$"
   ]
  },
  {
   "cell_type": "code",
   "execution_count": 28,
   "metadata": {
    "collapsed": true,
    "jupyter": {
     "outputs_hidden": true
    }
   },
   "outputs": [],
   "source": [
    "n <- 49\n",
    "mu <- 142\n",
    "sigma <- 12/sqrt(n)"
   ]
  },
  {
   "cell_type": "markdown",
   "metadata": {},
   "source": [
    "Part (a)\n",
    "Give the distribution of\n",
    "X.\n",
    "(Round your standard deviation to two decimal places.)\n",
    "X\n",
    "~\n",
    ","
   ]
  },
  {
   "cell_type": "code",
   "execution_count": 29,
   "metadata": {
    "collapsed": false,
    "jupyter": {
     "outputs_hidden": false
    }
   },
   "outputs": [
    {
     "data": {
      "text/html": [
       "1.71"
      ],
      "text/latex": [
       "1.71"
      ],
      "text/markdown": [
       "1.71"
      ],
      "text/plain": [
       "[1] 1.71"
      ]
     },
     "metadata": {},
     "output_type": "display_data"
    }
   ],
   "source": [
    "sigma %>% round(2)"
   ]
  },
  {
   "cell_type": "markdown",
   "metadata": {},
   "source": [
    "Part (b)\n",
    "Find the probability that the runner will average between 140 and 143 minutes in these 49 marathons. (Round your answer to four decimal places.)"
   ]
  },
  {
   "cell_type": "code",
   "execution_count": 30,
   "metadata": {
    "collapsed": false,
    "jupyter": {
     "outputs_hidden": false
    }
   },
   "outputs": [
    {
     "data": {
      "text/html": [
       "0.5985"
      ],
      "text/latex": [
       "0.5985"
      ],
      "text/markdown": [
       "0.5985"
      ],
      "text/plain": [
       "[1] 0.5985"
      ]
     },
     "metadata": {},
     "output_type": "display_data"
    }
   ],
   "source": [
    "(pnorm(143,mu,sigma)-pnorm(140,mu,sigma)) %>% round(4)"
   ]
  },
  {
   "cell_type": "markdown",
   "metadata": {},
   "source": [
    "Part (c)\n",
    "Find the 60th percentile for the average of these 49 marathons. (Round your answer to two decimal places.)\n",
    "min"
   ]
  },
  {
   "cell_type": "code",
   "execution_count": 31,
   "metadata": {
    "collapsed": false,
    "jupyter": {
     "outputs_hidden": false
    }
   },
   "outputs": [
    {
     "data": {
      "text/html": [
       "142.43"
      ],
      "text/latex": [
       "142.43"
      ],
      "text/markdown": [
       "142.43"
      ],
      "text/plain": [
       "[1] 142.43"
      ]
     },
     "metadata": {},
     "output_type": "display_data"
    }
   ],
   "source": [
    "(qnorm(0.6,mu,sigma)) %>% round(2)"
   ]
  },
  {
   "cell_type": "markdown",
   "metadata": {},
   "source": [
    "Part (d)\n",
    "Find the median of the average running times.\n",
    "min"
   ]
  },
  {
   "cell_type": "code",
   "execution_count": 32,
   "metadata": {
    "collapsed": false,
    "jupyter": {
     "outputs_hidden": false
    }
   },
   "outputs": [
    {
     "data": {
      "text/html": [
       "142"
      ],
      "text/latex": [
       "142"
      ],
      "text/markdown": [
       "142"
      ],
      "text/plain": [
       "[1] 142"
      ]
     },
     "metadata": {},
     "output_type": "display_data"
    }
   ],
   "source": [
    "qnorm(0.5,mu,sigma)"
   ]
  },
  {
   "cell_type": "markdown",
   "metadata": {},
   "source": [
    "# <center> Types of Problems</center>\n",
    "\n",
    "|Problem type  | helpful statistics and distributions to use |\n",
    "|--------------|------------|\n",
    "|sample size   |$n=\\left\\lceil{\\left(\\frac{2sz}{width}\\right)^2}\\right\\rceil$|\n",
    "|CI with large sample       | $\\bar{X} \\sim N\\left(\\bar{x},\\frac{s}{\\sqrt{n}}\\right)$ |\n",
    "|CI with known $\\sigma$| $\\bar{X} \\sim N\\left(\\bar{x},\\frac{\\sigma}{\\sqrt{n}}\\right)$|\n",
    "|all other CI    | $\\frac{(\\bar{X}-\\bar{x})}{\\frac{s}{\\sqrt{n}}} \\sim t(n-1)$|\n",
    "|Hypothesis involving a proportion| $s=\\sqrt{\\frac{pq}{n}}$|\n",
    "|left-tailed Hypothesis   |$\\alpha = pnorm(z)$ OR $z = qnorm(\\alpha)$ |\n",
    "|right-tailed Hypothesis  |$\\alpha = 1-pnorm(z)$ OR $z = qnorm(1-\\alpha)$|\n",
    "|two-tailed Hypothesis |$\\frac{\\alpha}{2} = 1-pnorm(z)$ OR $z = qnorm(1-\\frac{\\alpha}{2})$|\n",
    "|Goodness of Fit test|$\\sum{\\left(\\frac{(observed-expected)^2}{expected}\\right)} \\sim \\chi^2_{df}$|\n",
    "|Test for Independence |$\\sum{\\left(\\frac{(observed-expected)^2}{expected}\\right)} \\sim \\chi^2_{df}$|\n",
    "|Test for Homogeneity|$\\sum{\\left(\\frac{(observed-expected)^2}{expected}\\right)} \\sim \\chi^2_{df}$|\n",
    "|Test for Normality|$df\\left(\\frac{s^2}{\\sigma^2_0}\\right) \\sim \\chi^2_{df}$|\n",
    "|Regression| $B_1 = \\frac{sxy}{sxx}; B_0=\\bar{y}-B_1\\bar{x}$ | \n",
    "|Regression| $s = \\sqrt{\\frac{sse}{df}}; s_{B_1} = \\frac{s}{\\sqrt{sxx}}$ |\n",
    "|Regression| $\\frac{\\left(B1-B1_0\\right)}{s_{B_1}} \\sim t(n-2)$|"
   ]
  },
  {
   "cell_type": "markdown",
   "metadata": {},
   "source": [
    "# Confidence Interval with known sigma\n",
    "A sample of 20 heads of lettuce was selected. Assume that the population distribution of head weight is normal. The weight of each head of lettuce was then recorded. The mean weight was 2.2 pounds with a standard deviation of 0.1 pounds. The population standard deviation is known to be 0.2 pounds."
   ]
  },
  {
   "cell_type": "markdown",
   "metadata": {},
   "source": [
    "let X be the weight of a head of lettuce.\n",
    "\n",
    "$X \\sim N(\\mu,\\sigma)$\n",
    "\n",
    "$\\bar{X} \\sim N(\\mu,\\frac{\\mu}{\\sqrt{n}})$"
   ]
  },
  {
   "cell_type": "code",
   "execution_count": 39,
   "metadata": {
    "collapsed": true,
    "jupyter": {
     "outputs_hidden": true
    }
   },
   "outputs": [],
   "source": [
    "n <- 20 \n",
    "mu <- 2.2\n",
    "sigma <- 0.2 #given"
   ]
  },
  {
   "cell_type": "markdown",
   "metadata": {},
   "source": [
    "Construct a 95% confidence interval for the population mean weight of the heads of lettuce. State the confidence interval. (Round your answers to two decimal places.)"
   ]
  },
  {
   "cell_type": "code",
   "execution_count": 34,
   "metadata": {
    "collapsed": false,
    "jupyter": {
     "outputs_hidden": false
    }
   },
   "outputs": [
    {
     "data": {
      "text/html": [
       "<ol class=list-inline>\n",
       "\t<li>2.11</li>\n",
       "\t<li>2.29</li>\n",
       "</ol>\n"
      ],
      "text/latex": [
       "\\begin{enumerate*}\n",
       "\\item 2.11\n",
       "\\item 2.29\n",
       "\\end{enumerate*}\n"
      ],
      "text/markdown": [
       "1. 2.11\n",
       "2. 2.29\n",
       "\n",
       "\n"
      ],
      "text/plain": [
       "[1] 2.11 2.29"
      ]
     },
     "metadata": {},
     "output_type": "display_data"
    }
   ],
   "source": [
    "alpha <- 1-0.95\n",
    "half_alpha <- alpha/2 #this problem is two-tailed\n",
    "z=qnorm(1-half_alpha)  #some people memorize z=1.96 for a two-sided 95% CI\n",
    "error_bound <- z*sigma/sqrt(n) #central limit theorm\n",
    "CI <- c(mu-error_bound,mu+error_bound) \n",
    "CI %>% round(2)"
   ]
  },
  {
   "cell_type": "markdown",
   "metadata": {},
   "source": [
    "## Confidence Interval with unknown sigma\n",
    "A magazine published data on the best small firms in a certain year. These were firms that had been publicly traded for at least a year, have a stock price of at least \\$5 per share, and have reported annual revenue between \\$5 million and \\$1 billion. The table below shows the ages of the corporate CEOs for a random sample of these firms.\n",
    "\n",
    "\n",
    "\n",
    "Use this sample data to construct a $90\\%$ confidence interval for the mean age of CEO's for these top small firms. Use the Student's t-distribution. (Round your answers to two decimal places.)\n",
    "\n",
    "let X be the age in years of a CEO in the population\n",
    "\n",
    "Assume $X \\sim N(\\bar{x},s$)\n",
    "\n",
    "$\\frac{\\bar{X}-\\mu}{\\frac{s}{\\sqrt{n}}} \\sim T(\\nu=n-1)$"
   ]
  },
  {
   "cell_type": "code",
   "execution_count": 36,
   "metadata": {
    "collapsed": false,
    "jupyter": {
     "outputs_hidden": false
    }
   },
   "outputs": [
    {
     "data": {
      "text/html": [
       "<ol class=list-inline>\n",
       "\t<li>54.36</li>\n",
       "\t<li>58.7</li>\n",
       "</ol>\n"
      ],
      "text/latex": [
       "\\begin{enumerate*}\n",
       "\\item 54.36\n",
       "\\item 58.7\n",
       "\\end{enumerate*}\n"
      ],
      "text/markdown": [
       "1. 54.36\n",
       "2. 58.7\n",
       "\n",
       "\n"
      ],
      "text/plain": [
       "[1] 54.36 58.70"
      ]
     },
     "metadata": {},
     "output_type": "display_data"
    }
   ],
   "source": [
    "data <- c(47,59,50,61,56,59,74,63,53,50,59,60,60,57,46,55,63,57,47,55,57,43,61,62,49, 67,67,55,55,49)\n",
    "n <- length(data)\n",
    "df <- n-1 \n",
    "x_bar  <- mean(data)\n",
    "s <- sd(data)\n",
    "\n",
    "alpha  <- 1-0.9\n",
    "half_alpha= alpha/2 #two-tails\n",
    "t <- qt(1-half_alpha,df) #right-tail\n",
    "error_bound  <- t*s/sqrt(n)\n",
    "CI <- c(x_bar - error_bound, x_bar + error_bound) \n",
    "CI %>% round(2)"
   ]
  },
  {
   "cell_type": "markdown",
   "metadata": {},
   "source": [
    "# <center> Types of Error</center>\n",
    "\n",
    "\n",
    "|Hypothesis\\Truth    |$H_0$    |$H_A$  |\n",
    "|--------------------|---------|-------|\n",
    "|Reject $H_0$        |Type I Error  |True Positive|\n",
    "|Fail to Reject $H_0$|True Negative  |Type II Error  |\n"
   ]
  },
  {
   "cell_type": "markdown",
   "metadata": {},
   "source": [
    "## Z test\n",
    " \n",
    "To obtain information on the corrosion-resistance properties of a certain type of steel conduit, 45 specimens are buried in soil for a 2-year period. The maximum penetration (in mils) for each specimen is then measured, yielding a sample average penetration of x = 53.8 and a sample standard deviation of s = 4.7. The conduits were manufactured with the specification that true average penetration be at most 50 mils. They will be used unless it can be demonstrated conclusively that the specification $H_a$s not been met. What would you conclude? (Use $\\alpha$ = 0.05.)\n",
    "State the appropriate null and alternative hypotheses.\n",
    "\n",
    "$H_0$: $\\mu$ = 50;\n",
    "$H_a$: $\\mu$ > 50     \n",
    "\n",
    "Calculate the test statistic and determine the P-value. (Round your test statistic to two decimal places and your P-value to four decimal places.)"
   ]
  },
  {
   "cell_type": "code",
   "execution_count": 42,
   "metadata": {
    "collapsed": false,
    "jupyter": {
     "outputs_hidden": false
    }
   },
   "outputs": [
    {
     "data": {
      "text/html": [
       "5.42"
      ],
      "text/latex": [
       "5.42"
      ],
      "text/markdown": [
       "5.42"
      ],
      "text/plain": [
       "[1] 5.42"
      ]
     },
     "metadata": {},
     "output_type": "display_data"
    },
    {
     "data": {
      "text/html": [
       "0"
      ],
      "text/latex": [
       "0"
      ],
      "text/markdown": [
       "0"
      ],
      "text/plain": [
       "[1] 0"
      ]
     },
     "metadata": {},
     "output_type": "display_data"
    }
   ],
   "source": [
    "n=45\n",
    "x_bar=53.8\n",
    "H0=50\n",
    "s=4.7\n",
    "standard_error=s/sqrt(n)\n",
    "z=(x_bar-H0)/standard_error\n",
    "z %>% round(2)\n",
    "\n",
    "p_value = 1-pnorm(z) #right-tail, one-sided\n",
    "p_value %>% round(4)"
   ]
  },
  {
   "cell_type": "markdown",
   "metadata": {},
   "source": [
    "## T test\n",
    " \n",
    "An article described an investigation into the coating weights for large pipes resulting from a galvanized coating process. Production standards call for a true average weight of 200 lb per pipe. The accompanying descriptive summary and boxplot are from Minitab.\n",
    "\n",
    "|Variable |N |Mean |Median |TrMean |StDev |SEMean|Min |Max |Q1 |Q3|\n",
    "|---------|--|-----|-------|-------|------|------|----|----|---|--|\n",
    "|ctg wt |30 |206.97 |206.00 |206.81 |6.35 |1.16|193.00 |218.00 |202.75 |212.00|\n",
    "\n",
    "(a) What does the boxplot suggest about the status of the specification for true average coating weight?\n",
    "\n",
    "It appears that the true average weight could be significantly off from the production specification of 200 lb per pipe.      \n",
    "\n",
    "(b) A normal probability plot of the data was quite straight. Use the descriptive output to test the appropriate hypotheses. (Use $\\alpha$ = 0.05.) State the appropriate hypotheses.\n",
    "\n",
    "$H_0$: $\\mu$ = 200;\n",
    "$H_a$: $\\mu$ ≠ 200\n",
    "\n",
    "Calculate the test statistic and determine the P-value. (Round your test statistic to two decimal places and your P-value to three decimal places.)"
   ]
  },
  {
   "cell_type": "code",
   "execution_count": 47,
   "metadata": {
    "collapsed": false,
    "jupyter": {
     "outputs_hidden": false
    }
   },
   "outputs": [
    {
     "data": {
      "text/html": [
       "6.01"
      ],
      "text/latex": [
       "6.01"
      ],
      "text/markdown": [
       "6.01"
      ],
      "text/plain": [
       "[1] 6.01"
      ]
     },
     "metadata": {},
     "output_type": "display_data"
    },
    {
     "data": {
      "text/html": [
       "0"
      ],
      "text/latex": [
       "0"
      ],
      "text/markdown": [
       "0"
      ],
      "text/plain": [
       "[1] 0"
      ]
     },
     "metadata": {},
     "output_type": "display_data"
    },
    {
     "name": "stdout",
     "output_type": "stream",
     "text": [
      "[1] \"reject H0\"\n"
     ]
    }
   ],
   "source": [
    "n=30\n",
    "df=n-1\n",
    "x_bar=206.97\n",
    "s=6.35\n",
    "SE=s/sqrt(n)\n",
    "\n",
    "H0=200\n",
    "t=(x_bar-H0)/SE\n",
    "t %>% round(2)\n",
    "\n",
    "p_value = pt(-t,df) + 1-pt(t,df) # sum of both tails\n",
    "p_value %>% round(3)\n",
    "\n",
    "alpha <- 0.05\n",
    "if(p_value<alpha){print(\"reject H0\")} else {print(\"do not reject H0\")}"
   ]
  },
  {
   "cell_type": "markdown",
   "metadata": {},
   "source": [
    "## Hypothesis about proportion\n",
    "\n",
    "In a sample of 176 students at an Australian university that introduced the use of plagiarism-detection software in a number of courses, 59 students indicated a belief that such software unfairly targets students. Does this suggest that a majority of students at the university do not share this belief? Test appropriate hypotheses at level 0.05. (Let p be the proportion of students at this university who do not share this belief.)\n",
    "\n",
    "State the appropriate hypotheses.\n",
    "\n",
    "$H_0$: p = 0.50;\n",
    "$H_a$: p > 0.50\n",
    "\n",
    "\n",
    "Calculate the test statistic and determine the P-value. (Round your test statistic to two decimal places and your P-value to four decimal places.)"
   ]
  },
  {
   "cell_type": "code",
   "execution_count": 51,
   "metadata": {
    "collapsed": false,
    "jupyter": {
     "outputs_hidden": false
    }
   },
   "outputs": [
    {
     "data": {
      "text/html": [
       "4.37"
      ],
      "text/latex": [
       "4.37"
      ],
      "text/markdown": [
       "4.37"
      ],
      "text/plain": [
       "[1] 4.37"
      ]
     },
     "metadata": {},
     "output_type": "display_data"
    },
    {
     "data": {
      "text/html": [
       "0"
      ],
      "text/latex": [
       "0"
      ],
      "text/markdown": [
       "0"
      ],
      "text/plain": [
       "[1] 0"
      ]
     },
     "metadata": {},
     "output_type": "display_data"
    }
   ],
   "source": [
    "n=176\n",
    "p_hat=(176-59)/n\n",
    "\n",
    "H0=0.5\n",
    "SE=sqrt(H0*(1-H0)/n)\n",
    "\n",
    "z=(p_hat-H0)/SE\n",
    "z %>% round(2)\n",
    "\n",
    "p_value=1-pnorm(z) #right-tail of one-sided test\n",
    "p_value %>% round(4)"
   ]
  },
  {
   "cell_type": "markdown",
   "metadata": {},
   "source": [
    "\n",
    "# <center>Goodness of Fit</center> \n",
    "\n",
    "A university conducted a survey of more than 263,000 college freshmen from 385 colleges in a particular year. The results of student expected majors by gender were reported. Suppose a survey of 5000 graduating females and 5000 graduating males was done as a follow-up to determine what their actual majors were. The second column in the table does not add to 100% because of rounding.\n",
    "\n",
    "Conduct a goodness of fit test at the 5% level to determine if the male distribution fits the female distribution.\n",
    "\n",
    "|Major               | \tWomen |\tMen |\n",
    "|--------------------|--------|-----|\n",
    "|Arts & Humanities   |14.0% \t|11.3%|\n",
    "|Biological Sciences |8.4% \t  |6.7% |\n",
    "|Business \t         |13.1% \t|23.9%|\n",
    "|Education \t         |13.0% \t|5.7% |\n",
    "|Engineering \t       |2.6% \t  |15.5%|\n",
    "|Physical Sciences \t |2.6% \t  |3.7% |\n",
    "|Professional \t     |18.9% \t|9.3% |\n",
    "|Social Sciences \t   |13.0% \t|7.5% |\n",
    "|Technical \t         |0.4% \t  |1.8% |\n",
    "|Other \t             |5.8% \t  |8.1% |\n",
    "|Undecided \t         |8.0%    |6.5% |\n",
    "\n",
    "Part (a)\n",
    "State the null hypothesis.\n",
    "\n",
    "The male distribution fits the female distribution.     \n",
    "\n",
    "Part (b)\n",
    "State the alternative hypothesis.\n",
    "\n",
    "The male distribution does not fit the female distribution. \n",
    "\n",
    "Part (c)\n",
    "What are the degrees of freedom?\n",
    "$\\nu=11-1=10$\n",
    "\n",
    "Part (e)\n",
    "What is the test statistic? "
   ]
  },
  {
   "cell_type": "code",
   "execution_count": 2,
   "metadata": {
    "collapsed": false,
    "jupyter": {
     "outputs_hidden": false
    }
   },
   "outputs": [
    {
     "data": {
      "text/html": [
       "4581.67"
      ],
      "text/latex": [
       "4581.67"
      ],
      "text/markdown": [
       "4581.67"
      ],
      "text/plain": [
       "[1] 4581.67"
      ]
     },
     "metadata": {},
     "output_type": "display_data"
    }
   ],
   "source": [
    "n <- 5000\n",
    "expected_proportion <- c(14.0,8.4,13.1,13.0,2.6,2.6,18.9,13.0,0.4,5.8,8.0)/100 #women\n",
    "observed_proportion <- c(11.3,6.7,23.9,5.7,15.5,3.7,9.3,7.5,1.8,8.1,6.5)/100 #men\n",
    "expected_frequency  <- n*expected_proportion\n",
    "observed_frequency  <- n*observed_proportion\n",
    "df <- length(observed_frequency)-1\n",
    "stat <- sum((observed_frequency-expected_frequency)^2/expected_frequency)\n",
    "round(stat,2)"
   ]
  },
  {
   "cell_type": "markdown",
   "metadata": {},
   "source": [
    "Part (f)\n",
    "What is the p-value? (Round your answer to four decimal places.)"
   ]
  },
  {
   "cell_type": "code",
   "execution_count": 3,
   "metadata": {
    "collapsed": false,
    "jupyter": {
     "outputs_hidden": false
    }
   },
   "outputs": [
    {
     "data": {
      "text/html": [
       "0"
      ],
      "text/latex": [
       "0"
      ],
      "text/markdown": [
       "0"
      ],
      "text/plain": [
       "[1] 0"
      ]
     },
     "metadata": {},
     "output_type": "display_data"
    }
   ],
   "source": [
    "p_value <- 1-pchisq(stat,df)\n",
    "round(p_value,4)"
   ]
  },
  {
   "cell_type": "markdown",
   "metadata": {},
   "source": [
    "Explain what the p-value means for this problem.\n",
    "\n",
    "If H0 is true, then there is a chance equal to the p-value that the value of the test statistic will be equal to or greater than the calculated value. "
   ]
  },
  {
   "cell_type": "markdown",
   "metadata": {},
   "source": [
    "Part (h)\n",
    "Indicate the correct decision (\"reject\" or \"do not reject\" the null hypothesis) and write the appropriate conclusion."
   ]
  },
  {
   "cell_type": "code",
   "execution_count": 5,
   "metadata": {
    "collapsed": false,
    "jupyter": {
     "outputs_hidden": false
    }
   },
   "outputs": [
    {
     "name": "stdout",
     "output_type": "stream",
     "text": [
      "[1] \"Reject H0\"\n"
     ]
    }
   ],
   "source": [
    "alpha <- 0.05\n",
    "if ( p_value<alpha ){print(\"Reject H0\")} else {print(\"Fail to Reject H0\")}"
   ]
  },
  {
   "cell_type": "code",
   "execution_count": 6,
   "metadata": {
    "collapsed": false,
    "jupyter": {
     "outputs_hidden": false
    }
   },
   "outputs": [
    {
     "data": {
      "text/plain": [
       "\n",
       "\tChi-squared test for given probabilities\n",
       "\n",
       "data:  observed_frequency\n",
       "X-squared = 4572.5, df = 10, p-value < 2.2e-16\n"
      ]
     },
     "metadata": {},
     "output_type": "display_data"
    }
   ],
   "source": [
    "#check answer\n",
    "adjusted_expected_proportion=expected_frequency/sum(expected_frequency) # force expected proportion to add up to 1\n",
    "chisq.test(observed_frequency,p=adjusted_expected_proportion)"
   ]
  },
  {
   "cell_type": "markdown",
   "metadata": {},
   "source": [
    "# Test for Independence\n",
    "College students may be interested in whether or not their majors have any effect on starting salaries after graduation. Suppose that 296 recent graduates were surveyed as to their majors in college and their starting salaries after graduation. Below are the data. Conduct a test of independence. (Use a significance level of 0.05.)\n",
    "\n",
    "|Major       |<\\$50,000|\\$50,000-\\$68,999|=>\\$69,000|\n",
    "|------------|--------|---------------|---------|\n",
    "|English     |4 \t    |20 \t          |4\n",
    "|Engineering |9 \t    |31 \t          |60\n",
    "|Nursing     |9 \t    |15 \t          |14\n",
    "|Business    |9 \t    |20 \t          |30\n",
    "|Psychology  |21 \t    |29 \t          |21"
   ]
  },
  {
   "cell_type": "code",
   "execution_count": 7,
   "metadata": {
    "collapsed": false,
    "jupyter": {
     "outputs_hidden": false
    }
   },
   "outputs": [
    {
     "data": {
      "text/html": [
       "36.86"
      ],
      "text/latex": [
       "36.86"
      ],
      "text/markdown": [
       "36.86"
      ],
      "text/plain": [
       "[1] 36.86"
      ]
     },
     "metadata": {},
     "output_type": "display_data"
    },
    {
     "data": {
      "text/html": [
       "0"
      ],
      "text/latex": [
       "0"
      ],
      "text/markdown": [
       "0"
      ],
      "text/plain": [
       "[1] 0"
      ]
     },
     "metadata": {},
     "output_type": "display_data"
    },
    {
     "name": "stdout",
     "output_type": "stream",
     "text": [
      "[1] \"Reject H0\"\n"
     ]
    }
   ],
   "source": [
    "observed_frequency <- cbind(c(4,9,9,9,21),c(20,31,15,20,29),c(4,60,14,30,21))\n",
    "df <- prod(dim(observed_frequency)-1)\n",
    "expected_frequency <- outer(rowSums(observed_frequency),colSums(observed_frequency))/sum(observed_frequency)\n",
    "stat <- sum((observed_frequency-expected_frequency)^2/expected_frequency)\n",
    "round(stat,2)\n",
    "p_value <- 1-pchisq(stat,df)\n",
    "round(p_value,4)\n",
    "alpha <- 0.05\n",
    "if ( p_value<alpha ){print(\"Reject H0\")} else {print(\"Fail to Reject H0\")}"
   ]
  },
  {
   "cell_type": "markdown",
   "metadata": {},
   "source": [
    "# Test for Homogeneity\n",
    "A psychologist is interested in testing whether there is a difference in the distribution of personality types for business majors and social science majors. The results of the study are shown in the table below. Conduct a test of homogeneity. Test at a 5% level of significance.\n",
    "\n",
    "|Major          |Open |Conscientious |Extrovert |Agreeable |Neurotic|\n",
    "|---------------|-----|--------------|----------|----------|--------|\n",
    "|Business \t    |43 \t|53 \t         |45 \t      |61 \t     |59      |\n",
    "|Social Science |72 \t|75 \t         |65 \t      |80 \t     |66      |"
   ]
  },
  {
   "cell_type": "code",
   "execution_count": 8,
   "metadata": {
    "collapsed": false,
    "jupyter": {
     "outputs_hidden": false
    }
   },
   "outputs": [
    {
     "data": {
      "text/html": [
       "2.55"
      ],
      "text/latex": [
       "2.55"
      ],
      "text/markdown": [
       "2.55"
      ],
      "text/plain": [
       "[1] 2.55"
      ]
     },
     "metadata": {},
     "output_type": "display_data"
    },
    {
     "data": {
      "text/html": [
       "0.6366"
      ],
      "text/latex": [
       "0.6366"
      ],
      "text/markdown": [
       "0.6366"
      ],
      "text/plain": [
       "[1] 0.6366"
      ]
     },
     "metadata": {},
     "output_type": "display_data"
    },
    {
     "name": "stdout",
     "output_type": "stream",
     "text": [
      "[1] \"Fail to Reject H0\"\n"
     ]
    }
   ],
   "source": [
    "observed_frequency <- rbind(c(43,53,45,61,59),c(72,75,65,80,66))\n",
    "df <- prod(dim(observed_frequency)-1)\n",
    "expected_frequency <- outer(rowSums(observed_frequency),colSums(observed_frequency))/sum(observed_frequency)\n",
    "stat <- sum((observed_frequency-expected_frequency)^2/expected_frequency)\n",
    "round(stat,2)\n",
    "p_value <- 1-pchisq(stat,df)\n",
    "round(p_value,4)\n",
    "alpha <- 0.05\n",
    "if ( p_value<alpha ){print(\"Reject H0\")} else {print(\"Fail to Reject H0\")}"
   ]
  },
  {
   "cell_type": "code",
   "execution_count": 9,
   "metadata": {
    "collapsed": false,
    "jupyter": {
     "outputs_hidden": false
    }
   },
   "outputs": [
    {
     "data": {
      "text/plain": [
       "\n",
       "\tPearson's Chi-squared test\n",
       "\n",
       "data:  observed_frequency\n",
       "X-squared = 2.5451, df = 4, p-value = 0.6366\n"
      ]
     },
     "metadata": {},
     "output_type": "display_data"
    }
   ],
   "source": [
    "#check answer\n",
    "chisq.test(observed_frequency)"
   ]
  },
  {
   "cell_type": "markdown",
   "metadata": {},
   "source": [
    "# Test for Normality\n",
    "A plant manager is concerned her equipment may need recalibrating. It seems that the actual weight of the 15 oz. cereal boxes it fills has been fluctuating. The standard deviation should be at most 0.5 oz. In order to determine if the machine needs to be recalibrated, 83 randomly selected boxes of cereal from the next day's production were weighed. The standard deviation of the 83 boxes was 0.53. Does the machine need to be recalibrated? Conduct a hypothesis test at the 5% level."
   ]
  },
  {
   "cell_type": "code",
   "execution_count": 11,
   "metadata": {
    "collapsed": false,
    "jupyter": {
     "outputs_hidden": false
    }
   },
   "outputs": [
    {
     "data": {
      "text/html": [
       "92.14"
      ],
      "text/latex": [
       "92.14"
      ],
      "text/markdown": [
       "92.14"
      ],
      "text/plain": [
       "[1] 92.14"
      ]
     },
     "metadata": {},
     "output_type": "display_data"
    },
    {
     "data": {
      "text/html": [
       "0.2082"
      ],
      "text/latex": [
       "0.2082"
      ],
      "text/markdown": [
       "0.2082"
      ],
      "text/plain": [
       "[1] 0.2082"
      ]
     },
     "metadata": {},
     "output_type": "display_data"
    },
    {
     "name": "stdout",
     "output_type": "stream",
     "text": [
      "[1] \"Fail to Reject H0\"\n"
     ]
    }
   ],
   "source": [
    "sigma_0 <- 0.5\n",
    "n <- 83\n",
    "df <- n-1\n",
    "s <- 0.53\n",
    "stat <- df*s^2/sigma_0^2\n",
    "round(stat,2)\n",
    "p_value <- 1-pchisq(stat,df)\n",
    "round(p_value,4)\n",
    "alpha <- 0.05\n",
    "if ( p_value<alpha ){print(\"Reject H0\")} else {print(\"Fail to Reject H0\")}"
   ]
  },
  {
   "cell_type": "markdown",
   "metadata": {},
   "source": [
    "# Regression\n",
    "The accompanying data on x = current density (mA/cm2) and y = rate of deposition (µm/min) appeared in an article. Do you agree with the claim by the article's author that \"a linear relationship was obtained from the tin-lead rate of deposition as a function of current density\"?"
   ]
  },
  {
   "cell_type": "code",
   "execution_count": 22,
   "metadata": {
    "collapsed": false,
    "jupyter": {
     "outputs_hidden": false
    }
   },
   "outputs": [
    {
     "data": {
      "text/html": [
       "'y= -0.17 + 0.0305 *x'"
      ],
      "text/latex": [
       "'y= -0.17 + 0.0305 *x'"
      ],
      "text/markdown": [
       "'y= -0.17 + 0.0305 *x'"
      ],
      "text/plain": [
       "[1] \"y= -0.17 + 0.0305 *x\""
      ]
     },
     "metadata": {},
     "output_type": "display_data"
    },
    {
     "data": {
      "text/html": [
       "0.979"
      ],
      "text/latex": [
       "0.979"
      ],
      "text/markdown": [
       "0.979"
      ],
      "text/plain": [
       "[1] 0.979"
      ]
     },
     "metadata": {},
     "output_type": "display_data"
    },
    {
     "data": {
      "text/html": [
       "'t= 9.64 ; p_value= 0.0106'"
      ],
      "text/latex": [
       "'t= 9.64 ; p\\_value= 0.0106'"
      ],
      "text/markdown": [
       "'t= 9.64 ; p_value= 0.0106'"
      ],
      "text/plain": [
       "[1] \"t= 9.64 ; p_value= 0.0106\""
      ]
     },
     "metadata": {},
     "output_type": "display_data"
    }
   ],
   "source": [
    "x <- c(20,40,60,80)\n",
    "y <- c(0.34,1.15,1.76,2.17)\n",
    "n <- length(x)\n",
    "df <- n-2\n",
    "sxx   <- sum((x-mean(x))^2) \n",
    "syy   <- sum((y-mean(y))^2)\n",
    "sxy   <- sum((x-mean(x))*(y-mean(y)))\n",
    "B1    <- sxy/sxx\n",
    "B0    <- mean(y)-B1*mean(x)\n",
    "predict_y <- B0+B1*x\n",
    "sse <- sum((y-predict_y)^2)\n",
    "s <- sqrt(sse/df)\n",
    "s_B1 <- s/sqrt(sxx) \n",
    "B1_0 <- 0 #null hypothesis\n",
    "t <- (B1-B1_0)/s_B1\n",
    "p_value <- pt(-abs(t),df)+(1-pt(abs(t),df)) #two-tails\n",
    "\n",
    "paste(\"y=\",B0,\"+\",B1,\"*x\")\n",
    "r_squared <- (syy-sse)/syy\n",
    "round(r_squared,3)\n",
    "paste(\"t=\",round(t,2),\";\",\"p_value=\",round(p_value,4))"
   ]
  },
  {
   "cell_type": "code",
   "execution_count": 16,
   "metadata": {
    "collapsed": false,
    "jupyter": {
     "outputs_hidden": false
    }
   },
   "outputs": [
    {
     "data": {
      "text/plain": [
       "\n",
       "Call:\n",
       "lm(formula = y ~ x)\n",
       "\n",
       "Residuals:\n",
       "   1    2    3    4 \n",
       "-0.1  0.1  0.1 -0.1 \n",
       "\n",
       "Coefficients:\n",
       "             Estimate Std. Error t value Pr(>|t|)  \n",
       "(Intercept) -0.170000   0.173205  -0.981   0.4298  \n",
       "x            0.030500   0.003162   9.645   0.0106 *\n",
       "---\n",
       "Signif. codes:  0 ‘***’ 0.001 ‘**’ 0.01 ‘*’ 0.05 ‘.’ 0.1 ‘ ’ 1\n",
       "\n",
       "Residual standard error: 0.1414 on 2 degrees of freedom\n",
       "Multiple R-squared:  0.979,\tAdjusted R-squared:  0.9684 \n",
       "F-statistic: 93.03 on 1 and 2 DF,  p-value: 0.01058\n"
      ]
     },
     "metadata": {},
     "output_type": "display_data"
    },
    {
     "data": {
      "image/png": "[encoded data removed]",
      "text/plain": [
       "plot without title"
      ]
     },
     "metadata": {},
     "output_type": "display_data"
    }
   ],
   "source": [
    "#check answer\n",
    "fit <- lm(y~x)\n",
    "summary(fit)\n",
    "plot(x,y)\n",
    "abline(fit)"
   ]
  }
 ],
 "metadata": {
  "kernelspec": {
   "display_name": "R",
   "language": "R",
   "name": "ir"
  },
  "language_info": {
   "codemirror_mode": "r",
   "file_extension": ".r",
   "mimetype": "text/x-r-source",
   "name": "R",
   "pygments_lexer": "r",
   "version": "4.2.2"
  }
 },
 "nbformat": 4,
 "nbformat_minor": 4
}
