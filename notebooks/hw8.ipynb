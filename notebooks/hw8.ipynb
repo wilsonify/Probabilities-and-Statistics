{
 "cells": [
  {
   "cell_type": "code",
   "execution_count": 3,
   "metadata": {
    "collapsed": true
   },
   "outputs": [],
   "source": [
    "library(tidyverse)"
   ]
  },
  {
   "cell_type": "markdown",
   "metadata": {},
   "source": [
    "## Homework 8"
   ]
  },
  {
   "cell_type": "markdown",
   "metadata": {},
   "source": [
    " ## Problem 1.\n",
    " \n",
    "A group of divers is exploring an old sunken ship. Suppose the null hypothesis, $H_0$, is: the sunken ship does not contain buried treasure.\n",
    "\n",
    "State the Type I error.\n",
    "\n",
    "The ship does not contain buried treasure, but the divers think it does. \n",
    "\n",
    "State the Type II error.\n",
    "\n",
    "The ship does contain buried treasure, but the divers think it does not."
   ]
  },
  {
   "cell_type": "markdown",
   "metadata": {},
   "source": [
    "## Problem 2.\n",
    " \n",
    "Let $\\mu$ denote the true average radioactivity level (picocuries per liter). The value 5 pCi/L is considered the dividing line between safe and unsafe water. Would you recommend testing\n",
    "$H_0$: $\\mu$ = 5 versus $H_a$: $\\mu$ > 5 or $H_0$: $\\mu$ = 5 versus $H_a$: $\\mu$ < 5?\n",
    "Explain your reasoning. [Hint: Think about the consequences of a type I and type II error for each possibility.]\n",
    "\n",
    "\n",
    "One should test\n",
    "$H_0$: $\\mu$ = 5 versus $H_a$: $\\mu$ < 5.\n",
    "A type I error in this case involves deciding the water is safe when it isn't. This is a very serious error, so a test which ensures that this error is highly unlikely is desirable. We prefer that the most serious error be a type I error because it can be explicitly controlled. "
   ]
  },
  {
   "cell_type": "markdown",
   "metadata": {},
   "source": [
    "## Problem 3.\n",
    " \n",
    "Many older homes have electrical systems that use fuses rather than circuit breakers. A manufacturer of 40-amp fuses wants to make sure that the mean amperage at which its fuses burn out is in fact 40. If the mean amperage is lower than 40, customers will complain because the fuses require replacement too often. If the mean amperage is higher than 40, the manufacturer might be liable for damage to an electrical system due to fuse malfunction. To verify the amperage of the fuses, a sample of fuses is to be selected and inspected. If a hypothesis test were to be performed on the resulting data, w$H_a$t null and alternative hypotheses would be of interest to the manufacturer?\n",
    "\n",
    "   \n",
    "$H_0$: $\\mu$ = 40;\n",
    "$H_a$: $\\mu$ ≠ 40\n",
    "\n",
    "Describe type I error in the context of this problem situation.\n",
    "\n",
    "A type I error would be declaring a fuse as being defective when in fact there is nothing wrong with the fuse. \n",
    "\n",
    "Describe type II error in the context of this problem situation.\n",
    "\n",
    "A type II error would be declaring a fuse to be satisfactory when in fact it is defective. "
   ]
  },
  {
   "cell_type": "markdown",
   "metadata": {},
   "source": [
    "## Problem 4.\n",
    " \n",
    "Let $\\mu$ denote the true average reaction time to a certain stimulus. For a z test of $H_0$: $\\mu$ = 5 versus $H_a$: $\\mu$ > 5,\n",
    "determine the P-value for each of the following values of the z test statistic. (Round your answers to four decimal places.)"
   ]
  },
  {
   "cell_type": "code",
   "execution_count": 19,
   "metadata": {
    "collapsed": false
   },
   "outputs": [
    {
     "data": {
      "text/html": [
       "0.0681"
      ],
      "text/latex": [
       "0.0681"
      ],
      "text/markdown": [
       "0.0681"
      ],
      "text/plain": [
       "[1] 0.0681"
      ]
     },
     "metadata": {},
     "output_type": "display_data"
    }
   ],
   "source": [
    "# (a)\n",
    "z=1.49 #given\n",
    "alpha=1-pnorm(z) #right-tail probability\n",
    "alpha %>% round(4)"
   ]
  },
  {
   "cell_type": "code",
   "execution_count": 20,
   "metadata": {
    "collapsed": false
   },
   "outputs": [
    {
     "data": {
      "text/html": [
       "0.1685"
      ],
      "text/latex": [
       "0.1685"
      ],
      "text/markdown": [
       "0.1685"
      ],
      "text/plain": [
       "[1] 0.1685"
      ]
     },
     "metadata": {},
     "output_type": "display_data"
    }
   ],
   "source": [
    "#(b)\n",
    "z=0.96 #given\n",
    "alpha=1-pnorm(z)\n",
    "alpha %>% round(4)"
   ]
  },
  {
   "cell_type": "code",
   "execution_count": 21,
   "metadata": {
    "collapsed": false
   },
   "outputs": [
    {
     "data": {
      "text/html": [
       "0.025"
      ],
      "text/latex": [
       "0.025"
      ],
      "text/markdown": [
       "0.025"
      ],
      "text/plain": [
       "[1] 0.025"
      ]
     },
     "metadata": {},
     "output_type": "display_data"
    }
   ],
   "source": [
    "# (c)\n",
    "z=1.96\n",
    "alpha = 1-pnorm(z)\n",
    "alpha %>% round(4)"
   ]
  },
  {
   "cell_type": "code",
   "execution_count": 22,
   "metadata": {
    "collapsed": false
   },
   "outputs": [
    {
     "data": {
      "text/html": [
       "0.0064"
      ],
      "text/latex": [
       "0.0064"
      ],
      "text/markdown": [
       "0.0064"
      ],
      "text/plain": [
       "[1] 0.0064"
      ]
     },
     "metadata": {},
     "output_type": "display_data"
    }
   ],
   "source": [
    "#(d)\n",
    "z=2.49\n",
    "alpha = 1-pnorm(z)\n",
    "alpha %>% round(4)"
   ]
  },
  {
   "cell_type": "code",
   "execution_count": 18,
   "metadata": {
    "collapsed": false
   },
   "outputs": [
    {
     "data": {
      "text/html": [
       "0.5714"
      ],
      "text/latex": [
       "0.5714"
      ],
      "text/markdown": [
       "0.5714"
      ],
      "text/plain": [
       "[1] 0.5714"
      ]
     },
     "metadata": {},
     "output_type": "display_data"
    }
   ],
   "source": [
    "# (e)\n",
    "z=-0.18\n",
    "alpha = 1-pnorm(z)\n",
    "alpha %>% round(4)"
   ]
  },
  {
   "cell_type": "markdown",
   "metadata": {},
   "source": [
    "## Problem 5.\n",
    " \n",
    "Newly purchased tires of a particular type are supposed to be filled to a pressure of 30 psi. Let $\\mu$ denote the true average pressure. A test is to be carried out to decide whether $\\mu$ differs from the target value. Determine the P-value for each of the following z test statistic values. (Round your answers to four decimal places.)"
   ]
  },
  {
   "cell_type": "code",
   "execution_count": 23,
   "metadata": {
    "collapsed": false
   },
   "outputs": [
    {
     "data": {
      "text/html": [
       "0.0285"
      ],
      "text/latex": [
       "0.0285"
      ],
      "text/markdown": [
       "0.0285"
      ],
      "text/plain": [
       "[1] 0.0285"
      ]
     },
     "metadata": {},
     "output_type": "display_data"
    }
   ],
   "source": [
    "#(a)\n",
    "z=2.19\n",
    "half_alpha=1-pnorm(z) #right tail of two-tailed prob\n",
    "alpha =2*half_alpha\n",
    "alpha %>% round(4)"
   ]
  },
  {
   "cell_type": "code",
   "execution_count": 24,
   "metadata": {
    "collapsed": false
   },
   "outputs": [
    {
     "data": {
      "text/html": [
       "0.0784"
      ],
      "text/latex": [
       "0.0784"
      ],
      "text/markdown": [
       "0.0784"
      ],
      "text/plain": [
       "[1] 0.0784"
      ]
     },
     "metadata": {},
     "output_type": "display_data"
    }
   ],
   "source": [
    "#(b)\n",
    "z=-1.76\n",
    "half_alpha=pnorm(z) #left-tail of two-tailed prob\n",
    "alpha =2*half_alpha\n",
    "alpha %>% round(4)"
   ]
  },
  {
   "cell_type": "code",
   "execution_count": 25,
   "metadata": {
    "collapsed": false
   },
   "outputs": [
    {
     "data": {
      "text/html": [
       "0.5552"
      ],
      "text/latex": [
       "0.5552"
      ],
      "text/markdown": [
       "0.5552"
      ],
      "text/plain": [
       "[1] 0.5552"
      ]
     },
     "metadata": {},
     "output_type": "display_data"
    }
   ],
   "source": [
    "#(c)\n",
    "z=-0.59\n",
    "half_alpha=pnorm(z) #left-tail of two-tailed prob\n",
    "alpha =2*half_alpha\n",
    "alpha %>% round(4)"
   ]
  },
  {
   "cell_type": "code",
   "execution_count": 26,
   "metadata": {
    "collapsed": false
   },
   "outputs": [
    {
     "data": {
      "text/html": [
       "0.1389"
      ],
      "text/latex": [
       "0.1389"
      ],
      "text/markdown": [
       "0.1389"
      ],
      "text/plain": [
       "[1] 0.1389"
      ]
     },
     "metadata": {},
     "output_type": "display_data"
    }
   ],
   "source": [
    "#(d)\n",
    "z=1.48\n",
    "half_alpha=1-pnorm(z) #right tail of two-tailed prob\n",
    "alpha =2*half_alpha\n",
    "alpha %>% round(4)"
   ]
  },
  {
   "cell_type": "code",
   "execution_count": 27,
   "metadata": {
    "collapsed": false
   },
   "outputs": [
    {
     "data": {
      "text/html": [
       "0"
      ],
      "text/latex": [
       "0"
      ],
      "text/markdown": [
       "0"
      ],
      "text/plain": [
       "[1] 0"
      ]
     },
     "metadata": {},
     "output_type": "display_data"
    }
   ],
   "source": [
    "#(e)\n",
    "z=-5.06\n",
    "half_alpha=pnorm(z) #left-tail of two-tailed prob\n",
    "alpha =2*half_alpha\n",
    "alpha %>% round(4)"
   ]
  },
  {
   "cell_type": "markdown",
   "metadata": {},
   "source": [
    "## Problem 6.\n",
    " \n",
    "Pairs of P-values and significance levels, $\\alpha$, are given. For each pair, state whether the observed P-value would lead to rejection of $H_0$ at the given significance level."
   ]
  },
  {
   "cell_type": "code",
   "execution_count": 29,
   "metadata": {
    "collapsed": false
   },
   "outputs": [
    {
     "data": {
      "text/html": [
       "FALSE"
      ],
      "text/latex": [
       "FALSE"
      ],
      "text/markdown": [
       "FALSE"
      ],
      "text/plain": [
       "[1] FALSE"
      ]
     },
     "metadata": {},
     "output_type": "display_data"
    }
   ],
   "source": [
    "#(a)\n",
    "P_value = 0.097\n",
    "alpha = 0.05\n",
    "P_value<alpha # if TRUE, reject H_0    "
   ]
  },
  {
   "cell_type": "code",
   "execution_count": 30,
   "metadata": {
    "collapsed": false
   },
   "outputs": [
    {
     "data": {
      "text/html": [
       "FALSE"
      ],
      "text/latex": [
       "FALSE"
      ],
      "text/markdown": [
       "FALSE"
      ],
      "text/plain": [
       "[1] FALSE"
      ]
     },
     "metadata": {},
     "output_type": "display_data"
    }
   ],
   "source": [
    "#(b)    \n",
    "P_value = 0.009\n",
    "alpha = 0.001\n",
    "P_value<alpha # if TRUE, reject H_0    "
   ]
  },
  {
   "cell_type": "code",
   "execution_count": 31,
   "metadata": {
    "collapsed": false
   },
   "outputs": [
    {
     "data": {
      "text/html": [
       "FALSE"
      ],
      "text/latex": [
       "FALSE"
      ],
      "text/markdown": [
       "FALSE"
      ],
      "text/plain": [
       "[1] FALSE"
      ]
     },
     "metadata": {},
     "output_type": "display_data"
    }
   ],
   "source": [
    "#(c)\n",
    "P_value = 0.498\n",
    "alpha = 0.05\n",
    "P_value<alpha # if TRUE, reject H_0"
   ]
  },
  {
   "cell_type": "code",
   "execution_count": 35,
   "metadata": {
    "collapsed": false
   },
   "outputs": [
    {
     "data": {
      "text/html": [
       "TRUE"
      ],
      "text/latex": [
       "TRUE"
      ],
      "text/markdown": [
       "TRUE"
      ],
      "text/plain": [
       "[1] TRUE"
      ]
     },
     "metadata": {},
     "output_type": "display_data"
    }
   ],
   "source": [
    "#(d)    \n",
    "P_value = 0.097\n",
    "alpha = 0.10\n",
    "P_value<alpha # if TRUE, reject H_0"
   ]
  },
  {
   "cell_type": "code",
   "execution_count": 36,
   "metadata": {
    "collapsed": false
   },
   "outputs": [
    {
     "data": {
      "text/html": [
       "FALSE"
      ],
      "text/latex": [
       "FALSE"
      ],
      "text/markdown": [
       "FALSE"
      ],
      "text/plain": [
       "[1] FALSE"
      ]
     },
     "metadata": {},
     "output_type": "display_data"
    }
   ],
   "source": [
    "#(e)\n",
    "P_value = 0.036\n",
    "alpha = 0.01\n",
    "P_value<alpha # if TRUE, reject H_0"
   ]
  },
  {
   "cell_type": "code",
   "execution_count": 37,
   "metadata": {
    "collapsed": false
   },
   "outputs": [
    {
     "data": {
      "text/html": [
       "FALSE"
      ],
      "text/latex": [
       "FALSE"
      ],
      "text/markdown": [
       "FALSE"
      ],
      "text/plain": [
       "[1] FALSE"
      ]
     },
     "metadata": {},
     "output_type": "display_data"
    }
   ],
   "source": [
    "#(f)\n",
    "P_value = 0.221\n",
    "alpha = 0.10\n",
    "P_value<alpha # if TRUE, reject H_0"
   ]
  },
  {
   "cell_type": "markdown",
   "metadata": {},
   "source": [
    "## Problem 7.\n",
    " \n",
    "To obtain information on the corrosion-resistance properties of a certain type of steel conduit, 45 specimens are buried in soil for a 2-year period. The maximum penetration (in mils) for each specimen is then measured, yielding a sample average penetration of x = 53.8 and a sample standard deviation of s = 4.7. The conduits were manufactured with the specification that true average penetration be at most 50 mils. They will be used unless it can be demonstrated conclusively that the specification $H_a$s not been met. What would you conclude? (Use $\\alpha$ = 0.05.)\n",
    "State the appropriate null and alternative hypotheses.\n",
    "\n",
    "$H_0$: $\\mu$ = 50;\n",
    "$H_a$: $\\mu$ > 50     \n",
    "\n",
    "Calculate the test statistic and determine the P-value. (Round your test statistic to two decimal places and your P-value to four decimal places.)"
   ]
  },
  {
   "cell_type": "code",
   "execution_count": 39,
   "metadata": {
    "collapsed": false
   },
   "outputs": [
    {
     "data": {
      "text/html": [
       "5.42"
      ],
      "text/latex": [
       "5.42"
      ],
      "text/markdown": [
       "5.42"
      ],
      "text/plain": [
       "[1] 5.42"
      ]
     },
     "metadata": {},
     "output_type": "display_data"
    },
    {
     "data": {
      "text/html": [
       "0"
      ],
      "text/latex": [
       "0"
      ],
      "text/markdown": [
       "0"
      ],
      "text/plain": [
       "[1] 0"
      ]
     },
     "metadata": {},
     "output_type": "display_data"
    }
   ],
   "source": [
    "n=45\n",
    "x_bar=53.8\n",
    "H0=50\n",
    "s=4.7\n",
    "standard_error=s/sqrt(n)\n",
    "z=(x_bar-H0)/standard_error\n",
    "z %>% round(2)\n",
    "alpha = 1-pnorm(z) #right-tail, one-sided\n",
    "alpha %>% round(4)"
   ]
  },
  {
   "cell_type": "markdown",
   "metadata": {},
   "source": [
    "State the conclusion in the problem context.\n",
    "\n",
    "Reject the null hypothesis. There is sufficient evidence to conclude that the true average penetration is more than 50 mils. \n"
   ]
  },
  {
   "cell_type": "markdown",
   "metadata": {},
   "source": [
    "## Problem 8.\n",
    " \n",
    "The recommended daily dietary allowance for zinc among males older than age 50 years is 15 mg/day. An article reports the following summary data on intake for a sample of males age 65−74 years: n = 119, x = 12.4, and s = 6.96. Does this data indicate that average daily zinc intake in the population of all males age 65−74 falls below the recommended allowance? (Use $\\alpha$ = 0.05.)\n",
    "State the appropriate null and alternative hypotheses.\n",
    "\n",
    "$H_0$: $\\mu$ = 15;\n",
    "$H_a$: $\\mu$ < 15\n",
    "\n",
    "Calculate the test statistic and determine the P-value. (Round your test statistic to two decimal places and your P-value to four decimal places.)"
   ]
  },
  {
   "cell_type": "code",
   "execution_count": 42,
   "metadata": {
    "collapsed": false
   },
   "outputs": [
    {
     "data": {
      "text/html": [
       "-4.08"
      ],
      "text/latex": [
       "-4.08"
      ],
      "text/markdown": [
       "-4.08"
      ],
      "text/plain": [
       "[1] -4.08"
      ]
     },
     "metadata": {},
     "output_type": "display_data"
    },
    {
     "data": {
      "text/html": [
       "0"
      ],
      "text/latex": [
       "0"
      ],
      "text/markdown": [
       "0"
      ],
      "text/plain": [
       "[1] 0"
      ]
     },
     "metadata": {},
     "output_type": "display_data"
    }
   ],
   "source": [
    "n=119\n",
    "x_bar=12.4\n",
    "H0=15\n",
    "s=6.96\n",
    "standard_error=s/sqrt(n)\n",
    "z=(x_bar-H0)/standard_error\n",
    "z %>% round(2)\n",
    "alpha = pnorm(z) #left-tail, one-sided\n",
    "alpha %>% round(4)"
   ]
  },
  {
   "cell_type": "markdown",
   "metadata": {},
   "source": [
    "State the conclusion in the problem context.\n",
    "\n",
    "Reject the null hypothesis. There is sufficient evidence that average daily zinc intake falls below 15 mg/day. "
   ]
  },
  {
   "cell_type": "markdown",
   "metadata": {},
   "source": [
    "## Problem 9.\n",
    " \n",
    "The true average diameter of ball bearings of a certain type is supposed to be 0.5 in. A one-sample t test will be carried out to see whether this is the case. What conclusion is appropriate in each of the following situations?\n",
    "\n",
    "assume the true mean is equal to 0.5:\n",
    "\n",
    "null hypothesis, $H_0: \\mu=0.5$\n",
    "\n",
    "alt hypothesis, $H_a: \\mu \\neq 0.5$"
   ]
  },
  {
   "cell_type": "code",
   "execution_count": 58,
   "metadata": {
    "collapsed": false
   },
   "outputs": [
    {
     "data": {
      "text/html": [
       "FALSE"
      ],
      "text/latex": [
       "FALSE"
      ],
      "text/markdown": [
       "FALSE"
      ],
      "text/plain": [
       "[1] FALSE"
      ]
     },
     "metadata": {},
     "output_type": "display_data"
    }
   ],
   "source": [
    "#(a)    \n",
    "n       = 20\n",
    "df      = n-1\n",
    "t       = 1.64\n",
    "alpha   = 0.05\n",
    "P_value = 2*(1-pt(t,df)) #right-tail of two-tailed prob\n",
    "P_value<alpha #if TRUE, reject null hypothesis"
   ]
  },
  {
   "cell_type": "markdown",
   "metadata": {},
   "source": [
    "Do not reject the null hypothesis. There is not sufficient evidence that the true diameter differs from 0.5 in."
   ]
  },
  {
   "cell_type": "code",
   "execution_count": 59,
   "metadata": {
    "collapsed": false
   },
   "outputs": [
    {
     "data": {
      "text/html": [
       "FALSE"
      ],
      "text/latex": [
       "FALSE"
      ],
      "text/markdown": [
       "FALSE"
      ],
      "text/plain": [
       "[1] FALSE"
      ]
     },
     "metadata": {},
     "output_type": "display_data"
    }
   ],
   "source": [
    "#(b)    \n",
    "n = 20\n",
    "df=n-1\n",
    "t = -1.64\n",
    "alpha = 0.05\n",
    "P_value = 2*(pt(t,df)) #left-tail of two-tailed prob\n",
    "P_value<alpha #if TRUE, reject null hypothesis"
   ]
  },
  {
   "cell_type": "markdown",
   "metadata": {},
   "source": [
    "Do not reject the null hypothesis. There is not sufficient evidence that the true diameter differs from 0.5 in."
   ]
  },
  {
   "cell_type": "code",
   "execution_count": 60,
   "metadata": {
    "collapsed": false
   },
   "outputs": [
    {
     "data": {
      "text/html": [
       "FALSE"
      ],
      "text/latex": [
       "FALSE"
      ],
      "text/markdown": [
       "FALSE"
      ],
      "text/plain": [
       "[1] FALSE"
      ]
     },
     "metadata": {},
     "output_type": "display_data"
    }
   ],
   "source": [
    "#(c)    \n",
    "n = 30\n",
    "df=n-1\n",
    "t = -2.58\n",
    "alpha = 0.01\n",
    "P_value = 2*(pt(t,df)) #left-tail of two-tailed prob\n",
    "P_value<alpha #if TRUE, reject null hypothesis"
   ]
  },
  {
   "cell_type": "markdown",
   "metadata": {},
   "source": [
    "Do not reject the null hypothesis. There is not sufficient evidence that the true diameter differs from 0.5 in."
   ]
  },
  {
   "cell_type": "code",
   "execution_count": 61,
   "metadata": {
    "collapsed": false
   },
   "outputs": [
    {
     "data": {
      "text/html": [
       "TRUE"
      ],
      "text/latex": [
       "TRUE"
      ],
      "text/markdown": [
       "TRUE"
      ],
      "text/plain": [
       "[1] TRUE"
      ]
     },
     "metadata": {},
     "output_type": "display_data"
    }
   ],
   "source": [
    "#(d)    \n",
    "n = 30\n",
    "df=n-1\n",
    "t = -3.95\n",
    "P_value = 2*(pt(t,df)) #left-tail of two-tailed prob\n",
    "P_value<alpha #if TRUE, reject null hypothesis"
   ]
  },
  {
   "cell_type": "markdown",
   "metadata": {},
   "source": [
    "Reject the null hypothesis. There is sufficient evidence that the true diameter differs from 0.5 in. "
   ]
  },
  {
   "cell_type": "markdown",
   "metadata": {},
   "source": [
    "## Problem 10.\n",
    " \n",
    "An article described an investigation into the coating weights for large pipes resulting from a galvanized coating process. Production standards call for a true average weight of 200 lb per pipe. The accompanying descriptive summary and boxplot are from Minitab.\n",
    "\n",
    "|Variable |N |Mean |Median |TrMean |StDev |SEMean|Min |Max |Q1 |Q3|\n",
    "|---------|--|-----|-------|-------|------|------|----|----|---|--|\n",
    "|ctg wt |30 |206.97 |206.00 |206.81 |6.35 |1.16|193.00 |218.00 |202.75 |212.00|\n",
    "\n",
    "(a) What does the boxplot suggest about the status of the specification for true average coating weight?\n",
    "\n",
    "It appears that the true average weight could be significantly off from the production specification of 200 lb per pipe.      "
   ]
  },
  {
   "cell_type": "markdown",
   "metadata": {},
   "source": [
    "(b) A normal probability plot of the data was quite straight. Use the descriptive output to test the appropriate hypotheses. (Use $\\alpha$ = 0.05.) State the appropriate hypotheses.\n",
    "\n",
    "$H_0$: $\\mu$ = 200;\n",
    "$H_a$: $\\mu$ ≠ 200"
   ]
  },
  {
   "cell_type": "markdown",
   "metadata": {},
   "source": [
    "Calculate the test statistic and determine the P-value. (Round your test statistic to two decimal places and your P-value to three decimal places.)"
   ]
  },
  {
   "cell_type": "code",
   "execution_count": 64,
   "metadata": {
    "collapsed": false
   },
   "outputs": [
    {
     "data": {
      "text/html": [
       "6.01"
      ],
      "text/latex": [
       "6.01"
      ],
      "text/markdown": [
       "6.01"
      ],
      "text/plain": [
       "[1] 6.01"
      ]
     },
     "metadata": {},
     "output_type": "display_data"
    },
    {
     "data": {
      "text/html": [
       "0"
      ],
      "text/latex": [
       "0"
      ],
      "text/markdown": [
       "0"
      ],
      "text/plain": [
       "[1] 0"
      ]
     },
     "metadata": {},
     "output_type": "display_data"
    },
    {
     "data": {
      "text/html": [
       "TRUE"
      ],
      "text/latex": [
       "TRUE"
      ],
      "text/markdown": [
       "TRUE"
      ],
      "text/plain": [
       "[1] TRUE"
      ]
     },
     "metadata": {},
     "output_type": "display_data"
    }
   ],
   "source": [
    "n=30\n",
    "df=n-1\n",
    "x_bar=206.97\n",
    "H0=200\n",
    "s=6.35\n",
    "SE=s/sqrt(n)\n",
    "t=(x_bar-H0)/SE\n",
    "t %>% round(2)\n",
    "half_p_value = 1-pt(t,df)\n",
    "p_value=2*half_p_value\n",
    "p_value %>% round(3)\n",
    "p_value<0.05 #if TRUE, reject null hypothesis"
   ]
  },
  {
   "cell_type": "markdown",
   "metadata": {},
   "source": [
    "What can you conclude?\n",
    "\n",
    "Reject the null hypothesis. There is sufficient evidence to conclude that the true average weight differs from 200 lb per pipe.     "
   ]
  },
  {
   "cell_type": "markdown",
   "metadata": {},
   "source": [
    "## Problem 11.\n",
    "\n",
    "The accompanying data is on cube compressive strength (MPa) of concrete specimens."
   ]
  },
  {
   "cell_type": "code",
   "execution_count": 67,
   "metadata": {
    "collapsed": false
   },
   "outputs": [
    {
     "data": {
      "image/png": "[encoded data removed]",
      "text/plain": [
       "Plot with title “Normal Q-Q Plot”"
      ]
     },
     "metadata": {},
     "output_type": "display_data"
    }
   ],
   "source": [
    "comp_str <- c(112.5,97.0,92.8,86.0,102.0\n",
    "              ,99.5,95.8,103.5,89.0,86.9)\n",
    "qqnorm(comp_str)\n",
    "qqline(comp_str)"
   ]
  },
  {
   "cell_type": "markdown",
   "metadata": {},
   "source": [
    "(a) Is it plausible that the compressive strength for this type of concrete is normally distributed?\n",
    "\n",
    "The normal probability plot is acceptably linear, suggesting that a normal population distribution is plausible.     "
   ]
  },
  {
   "cell_type": "markdown",
   "metadata": {},
   "source": [
    "(b) Suppose the concrete will be used for a particular application unless there is strong evidence that true average strength is less than 100 MPa. Should the concrete be used? Carry out a test of appropriate hypotheses.\n",
    "State the appropriate hypotheses.\n",
    "\n",
    "$H_0$: $\\mu$ = 100;\n",
    "$H_a$: $\\mu$ < 100"
   ]
  },
  {
   "cell_type": "markdown",
   "metadata": {},
   "source": [
    "Calculate the test statistic and determine the P-value. (Round your test statistic to two decimal places and your P-value to four decimal places.)"
   ]
  },
  {
   "cell_type": "code",
   "execution_count": 73,
   "metadata": {
    "collapsed": false
   },
   "outputs": [
    {
     "data": {
      "text/html": [
       "-1.34"
      ],
      "text/latex": [
       "-1.34"
      ],
      "text/markdown": [
       "-1.34"
      ],
      "text/plain": [
       "[1] -1.34"
      ]
     },
     "metadata": {},
     "output_type": "display_data"
    },
    {
     "data": {
      "text/html": [
       "0.1071"
      ],
      "text/latex": [
       "0.1071"
      ],
      "text/markdown": [
       "0.1071"
      ],
      "text/plain": [
       "[1] 0.1071"
      ]
     },
     "metadata": {},
     "output_type": "display_data"
    },
    {
     "data": {
      "text/html": [
       "FALSE"
      ],
      "text/latex": [
       "FALSE"
      ],
      "text/markdown": [
       "FALSE"
      ],
      "text/plain": [
       "[1] FALSE"
      ]
     },
     "metadata": {},
     "output_type": "display_data"
    }
   ],
   "source": [
    "n=length(comp_str)\n",
    "df=n-1\n",
    "x_bar=mean(comp_str)\n",
    "s=sd(comp_str)\n",
    "H0=100\n",
    "SE=s/sqrt(n)\n",
    "t=(x_bar-H0)/SE\n",
    "t %>% round(2)\n",
    "P_value=pt(t,df) #left-tail of one-sided test\n",
    "P_value %>% round(4)\n",
    "P_value < 0.05 #use standard alpha=0.05. if TRUE, reject null hypothesis"
   ]
  },
  {
   "cell_type": "markdown",
   "metadata": {},
   "source": [
    "What can you conclude?\n",
    "\n",
    "There is not strong evidence that the true average strength is less than 100 MPa. The concrete should be used.    "
   ]
  },
  {
   "cell_type": "markdown",
   "metadata": {},
   "source": [
    "## Problem 12.\n",
    "\n",
    "A statistical program is recommended.\n",
    "A random sample of soil specimens was obtained, and the amount of organic matter (%) in the soil was determined for each specimen, resulting in the accompanying data."
   ]
  },
  {
   "cell_type": "code",
   "execution_count": 80,
   "metadata": {
    "collapsed": false
   },
   "outputs": [
    {
     "data": {
      "image/png": "[encoded data removed]",
      "text/plain": [
       "Plot with title “Normal Q-Q Plot”"
      ]
     },
     "metadata": {},
     "output_type": "display_data"
    }
   ],
   "source": [
    "organic <- c( 1.19,5.09,0.97,1.59,4.60,0.32,0.55,1.45\n",
    "             ,0.16,4.47,1.20,3.50,5.02,4.67,5.22,2.69\n",
    "             ,3.99,3.17,3.03,2.21,0.69,4.47,3.31,1.17\n",
    "             ,0.78,1.17,1.57,2.62,1.66,2.05)\n",
    "qqnorm(organic)\n",
    "qqline(organic)"
   ]
  },
  {
   "cell_type": "markdown",
   "metadata": {},
   "source": [
    "The values of the sample mean, sample standard deviation, and (estimated) standard error of the mean are 2.486, 1.612, and 0.294, respectively. Does this data suggest that the true average percentage of organic matter in such soil is something other than 3%? Carry out a test of the appropriate hypotheses at significance level 0.10. [Note: A normal probability plot of the data shows an acceptable pattern in light of the reasonably large sample size.]\n",
    "\n",
    "State the appropriate hypotheses.\n",
    "\n",
    "$H_0$: $\\mu$ = 3;\n",
    "$H_a$: $\\mu$ ≠ 3"
   ]
  },
  {
   "cell_type": "markdown",
   "metadata": {},
   "source": [
    "Calculate the test statistic and determine the P-value. (Round your test statistic to two decimal places and your P-value to three decimal places.)"
   ]
  },
  {
   "cell_type": "code",
   "execution_count": 85,
   "metadata": {
    "collapsed": false
   },
   "outputs": [
    {
     "data": {
      "text/html": [
       "-1.75"
      ],
      "text/latex": [
       "-1.75"
      ],
      "text/markdown": [
       "-1.75"
      ],
      "text/plain": [
       "[1] -1.75"
      ]
     },
     "metadata": {},
     "output_type": "display_data"
    },
    {
     "data": {
      "text/html": [
       "0.091"
      ],
      "text/latex": [
       "0.091"
      ],
      "text/markdown": [
       "0.091"
      ],
      "text/plain": [
       "[1] 0.091"
      ]
     },
     "metadata": {},
     "output_type": "display_data"
    },
    {
     "data": {
      "text/html": [
       "TRUE"
      ],
      "text/latex": [
       "TRUE"
      ],
      "text/markdown": [
       "TRUE"
      ],
      "text/plain": [
       "[1] TRUE"
      ]
     },
     "metadata": {},
     "output_type": "display_data"
    }
   ],
   "source": [
    "n=length(organic)\n",
    "df=n-1\n",
    "x_bar=mean(organic)\n",
    "s=sd(organic)\n",
    "SE=s/sqrt(n)\n",
    "H0=3\n",
    "t=(x_bar-H0)/SE\n",
    "t %>% round(2)\n",
    "half_p_value=pt(t,df) #left-tail of two-sided prob\n",
    "p_value=2*half_p_value\n",
    "p_value %>% round(3)\n",
    "p_value<0.1 # if TRUE, reject null"
   ]
  },
  {
   "cell_type": "markdown",
   "metadata": {},
   "source": [
    "What can you conclude?\n",
    "\n",
    "Reject the null hypothesis. There is sufficient evidence to conclude that the true average percentage of organic matter in this type of soil is something other than 3%. \n",
    "\n",
    "Would your conclusion be different if $\\alpha$ = 0.05 had been used?\n",
    "\n",
    "Do not reject the null hypothesis. There is not sufficient evidence to conclude that the true average percentage of organic matter in this type of soil is something other than 3%."
   ]
  },
  {
   "cell_type": "markdown",
   "metadata": {},
   "source": [
    "## Problem 13.\n",
    "\n",
    "Consider using a z test to test $H_0$: p = 0.9.\n",
    "\n",
    "Determine the P-value in each of the following situations. (Round your answers to four decimal places.)"
   ]
  },
  {
   "cell_type": "code",
   "execution_count": 87,
   "metadata": {
    "collapsed": false
   },
   "outputs": [
    {
     "data": {
      "text/html": [
       "0.0721"
      ],
      "text/latex": [
       "0.0721"
      ],
      "text/markdown": [
       "0.0721"
      ],
      "text/plain": [
       "[1] 0.0721"
      ]
     },
     "metadata": {},
     "output_type": "display_data"
    }
   ],
   "source": [
    "#(a)\n",
    "#p > 0.9 implies right-tail\n",
    "z = 1.46\n",
    "(1-pnorm(z)) %>% round(4)"
   ]
  },
  {
   "cell_type": "code",
   "execution_count": 88,
   "metadata": {
    "collapsed": false
   },
   "outputs": [
    {
     "data": {
      "text/html": [
       "0.0026"
      ],
      "text/latex": [
       "0.0026"
      ],
      "text/markdown": [
       "0.0026"
      ],
      "text/plain": [
       "[1] 0.0026"
      ]
     },
     "metadata": {},
     "output_type": "display_data"
    }
   ],
   "source": [
    "#(b)\n",
    "#p < 0.9 implies left-tail\n",
    "z = -2.79\n",
    "pnorm(z) %>% round(4)"
   ]
  },
  {
   "cell_type": "code",
   "execution_count": 89,
   "metadata": {
    "collapsed": false
   },
   "outputs": [
    {
     "data": {
      "text/html": [
       "0.0053"
      ],
      "text/latex": [
       "0.0053"
      ],
      "text/markdown": [
       "0.0053"
      ],
      "text/plain": [
       "[1] 0.0053"
      ]
     },
     "metadata": {},
     "output_type": "display_data"
    }
   ],
   "source": [
    "#(c)\n",
    "#p ≠ 0.9 implies two-tailed\n",
    "z = -2.79\n",
    "half=pnorm(z)\n",
    "(2*half) %>% round(4)"
   ]
  },
  {
   "cell_type": "code",
   "execution_count": 90,
   "metadata": {
    "collapsed": false
   },
   "outputs": [
    {
     "data": {
      "text/html": [
       "0.6103"
      ],
      "text/latex": [
       "0.6103"
      ],
      "text/markdown": [
       "0.6103"
      ],
      "text/plain": [
       "[1] 0.6103"
      ]
     },
     "metadata": {},
     "output_type": "display_data"
    }
   ],
   "source": [
    "#(d)\n",
    "#p < 0.9 implies left-tail\n",
    "z = 0.28\n",
    "pnorm(z) %>% round(4)"
   ]
  },
  {
   "cell_type": "markdown",
   "metadata": {},
   "source": [
    "## Problem 14.\n",
    "\n",
    "A random sample of 147 recent donations at a certain blood bank reveals that 81 were type A blood. Does this suggest that the actual percentage of type A donations differs from 40%, the percentage of the population having type A blood? Carry out a test of the appropriate hypotheses using a significance level of 0.01.\n",
    "\n",
    "State the appropriate null and alternative hypotheses.\n",
    "\n",
    "$H_0$: p = 0.40;\n",
    "$H_a$: p ≠ 0.40\n",
    "\n",
    "Calculate the test statistic and determine the P-value. (Round your test statistic to two decimal places and your P-value to four decimal places.)"
   ]
  },
  {
   "cell_type": "code",
   "execution_count": 97,
   "metadata": {
    "collapsed": false
   },
   "outputs": [
    {
     "data": {
      "text/html": [
       "3.74"
      ],
      "text/latex": [
       "3.74"
      ],
      "text/markdown": [
       "3.74"
      ],
      "text/plain": [
       "[1] 3.74"
      ]
     },
     "metadata": {},
     "output_type": "display_data"
    },
    {
     "data": {
      "text/html": [
       "2e-04"
      ],
      "text/latex": [
       "2e-04"
      ],
      "text/markdown": [
       "2e-04"
      ],
      "text/plain": [
       "[1] 2e-04"
      ]
     },
     "metadata": {},
     "output_type": "display_data"
    }
   ],
   "source": [
    "n=147\n",
    "p=81/n\n",
    "H0=0.40\n",
    "SE=sqrt(H0*(1-H0)/n) #sd of a binomial dist\n",
    "alpha=0.01\n",
    "z=(p-H0)/SE\n",
    "z %>% round(2)\n",
    "half_p_value = 1-pnorm(z) #right-tail of two-tailed prob\n",
    "p_value=2*half_p_value\n",
    "p_value %>% round(4)"
   ]
  },
  {
   "cell_type": "markdown",
   "metadata": {},
   "source": [
    "State the conclusion in the problem context.\n",
    "\n",
    "Reject the null hypothesis. There is sufficient evidence to conclude that the percentage of type A donations differs from 40%. \n",
    "\n",
    "Would your conclusion have been different if a significance level of 0.05 had been used?\n",
    "\n",
    "No    "
   ]
  },
  {
   "cell_type": "markdown",
   "metadata": {},
   "source": [
    "## Problem 15.\n",
    " \n",
    "It is known that roughly 2/3 of all human beings have a dominant right foot or eye. Is there also right-sided dominance in kissing behavior? An article reported that in a random sample of 136 kissing couples, both people in 87 of the couples tended to lean more to the right than to the left. (Use $\\alpha$ = 0.05.)"
   ]
  },
  {
   "cell_type": "markdown",
   "metadata": {},
   "source": [
    "(a) If 2/3 of all kissing couples exhibit this right-leaning behavior, what is the probability that the number in a sample of 136 who do so differs from the expected value by at least as much as what was actually observed? (Round your answer to three decimal places.)"
   ]
  },
  {
   "cell_type": "code",
   "execution_count": 13,
   "metadata": {
    "collapsed": false
   },
   "outputs": [
    {
     "data": {
      "text/html": [
       "0.525"
      ],
      "text/latex": [
       "0.525"
      ],
      "text/markdown": [
       "0.525"
      ],
      "text/plain": [
       "[1] 0.525"
      ]
     },
     "metadata": {},
     "output_type": "display_data"
    }
   ],
   "source": [
    "n <- 136\n",
    "p_hat <- 2/3\n",
    "expected <- p_hat*n\n",
    "observed  <- 87 \n",
    "difference <- abs(observed-expected)\n",
    "\n",
    "#binomial dist is discrete\n",
    "left_tail <-  0:floor(expected-difference)\n",
    "right_tail <- ceiling(expected+difference):n\n",
    "p_value <- sum(dbinom(left_tail,n,p_hat))+sum(dbinom(right_tail,n,p_hat))\n",
    "round(p_value,3)"
   ]
  },
  {
   "cell_type": "markdown",
   "metadata": {},
   "source": [
    "(b) Does the result of the experiment suggest that the 2/3 figure is implausible for kissing behavior?\n",
    "\n",
    "State the appropriate null and alternative hypotheses.\n",
    "\n",
    "$H_0$: p = 2/3;\n",
    "$H_a$: p ≠ 2/3\n",
    "\n",
    "Calculate the test statistic and determine the P-value. (Round your test statistic to two decimal places and your P-value to four decimal places.)\n",
    "\n",
    "**see calc above**\n",
    "\n",
    "State the conclusion in the problem context.\n",
    "\n",
    "Do not reject the null hypothesis. There is not sufficient evidence to conclude that the true proportion of right-leaning be$H_a$vior differs from 2/3. "
   ]
  },
  {
   "cell_type": "code",
   "execution_count": 103,
   "metadata": {
    "collapsed": false
   },
   "outputs": [
    {
     "data": {
      "text/html": [
       "-0.67"
      ],
      "text/latex": [
       "-0.67"
      ],
      "text/markdown": [
       "-0.67"
      ],
      "text/plain": [
       "[1] -0.67"
      ]
     },
     "metadata": {},
     "output_type": "display_data"
    },
    {
     "data": {
      "text/html": [
       "0.505"
      ],
      "text/latex": [
       "0.505"
      ],
      "text/markdown": [
       "0.505"
      ],
      "text/plain": [
       "[1] 0.505"
      ]
     },
     "metadata": {},
     "output_type": "display_data"
    }
   ],
   "source": [
    "n=136\n",
    "x_bar=87/n\n",
    "H0=2/3\n",
    "SE=sqrt(H0*(1-H0)/n)\n",
    "z=(x_bar-H0)/SE\n",
    "z %>% round(2)\n",
    "(2*pnorm(z))%>% round(3)"
   ]
  },
  {
   "cell_type": "markdown",
   "metadata": {},
   "source": [
    "## Problem 16.\n",
    "\n",
    "In a sample of 176 students at an Australian university that introduced the use of plagiarism-detection software in a number of courses, 59 students indicated a belief that such software unfairly targets students. Does this suggest that a majority of students at the university do not share this belief? Test appropriate hypotheses at level 0.05. (Let p be the proportion of students at this university who do not share this belief.)\n",
    "\n",
    "State the appropriate hypotheses.\n",
    "\n",
    "$H_0$: p = 0.50;\n",
    "$H_a$: p > 0.50\n"
   ]
  },
  {
   "cell_type": "markdown",
   "metadata": {},
   "source": [
    "Calculate the test statistic and determine the P-value. (Round your test statistic to two decimal places and your P-value to four decimal places.)"
   ]
  },
  {
   "cell_type": "code",
   "execution_count": 112,
   "metadata": {
    "collapsed": false
   },
   "outputs": [
    {
     "data": {
      "text/html": [
       "4.37"
      ],
      "text/latex": [
       "4.37"
      ],
      "text/markdown": [
       "4.37"
      ],
      "text/plain": [
       "[1] 4.37"
      ]
     },
     "metadata": {},
     "output_type": "display_data"
    },
    {
     "data": {
      "text/html": [
       "1"
      ],
      "text/latex": [
       "1"
      ],
      "text/markdown": [
       "1"
      ],
      "text/plain": [
       "[1] 1"
      ]
     },
     "metadata": {},
     "output_type": "display_data"
    }
   ],
   "source": [
    "n=176\n",
    "H0=0.5\n",
    "x_bar=59/n\n",
    "SE=sqrt(H0*(1-H0)/n)\n",
    "z=(H0-x_bar)/SE\n",
    "z %>% round(2)\n",
    "p_value=pnorm(z) #right-tail of one-sided\n",
    "p_value %>% round(4)"
   ]
  },
  {
   "cell_type": "markdown",
   "metadata": {},
   "source": [
    "What can you conclude?\n",
    "\n",
    "Do not reject the null hypothesis. There is not sufficient evidence that more than 50% of all students do not share the belief that the plagiarism-detection software unfairly targets students. \n",
    "\n",
    "Reject the null hypothesis. There is not sufficient evidence that more than 50% of all students do not share the belief that the plagiarism-detection software unfairly targets students.     \n",
    "\n",
    "Reject the null hypothesis. There is sufficient evidence that more than 50% of all students do not share the belief that the plagiarism-detection software unfairly targets students. \n",
    "\n",
    "Do not reject the null hypothesis. There is sufficient evidence that more than 50% of all students do not share the belief that the plagiarism-detection software unfairly targets students."
   ]
  },
  {
   "cell_type": "code",
   "execution_count": null,
   "metadata": {
    "collapsed": true
   },
   "outputs": [],
   "source": []
  }
 ],
 "metadata": {
  "kernelspec": {
   "display_name": "R",
   "language": "R",
   "name": "ir"
  },
  "language_info": {
   "codemirror_mode": "r",
   "file_extension": ".r",
   "mimetype": "text/x-r-source",
   "name": "R",
   "pygments_lexer": "r",
   "version": "3.4.2"
  }
 },
 "nbformat": 4,
 "nbformat_minor": 2
}
