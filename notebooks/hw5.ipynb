{
 "cells": [
  {
   "cell_type": "code",
   "execution_count": 5,
   "metadata": {
    "collapsed": false
   },
   "outputs": [
    {
     "name": "stderr",
     "output_type": "stream",
     "text": [
      "Loading tidyverse: ggplot2\n",
      "Loading tidyverse: tibble\n",
      "Loading tidyverse: tidyr\n",
      "Loading tidyverse: readr\n",
      "Loading tidyverse: purrr\n",
      "Loading tidyverse: dplyr\n",
      "Conflicts with tidy packages ---------------------------------------------------\n",
      "filter(): dplyr, stats\n",
      "lag():    dplyr, stats\n"
     ]
    }
   ],
   "source": [
    "library(\"tidyverse\")"
   ]
  },
  {
   "cell_type": "markdown",
   "metadata": {},
   "source": [
    "# Homework 5\n",
    "## Problem 1\n",
    "Yoonie is a personnel manager in a large corporation. Each month she must review 16 of the employees. From past experience, she has found that the reviews take her approximately four hours each to do with a population standard deviation of 1.2 hours. Let X be the random variable representing the time it takes her to complete one review. Assume X is normally distributed. Let X be the random variable representing the mean time to complete the 16 reviews. Assume that the 16 reviews represent a random set of reviews.\n",
    "\n",
    "Complete the distributions. (Enter exact numbers as integers, fractions, or decimals.) \n",
    "\n",
    "\n",
    "X ~ N(4,1.2)\n",
    "\n",
    "$\\bar{X}$~ N(4,$\\frac{1.2}{\\sqrt{16}}$)\n"
   ]
  },
  {
   "cell_type": "code",
   "execution_count": 2,
   "metadata": {
    "collapsed": false
   },
   "outputs": [
    {
     "data": {
      "text/html": [
       "0.3"
      ],
      "text/latex": [
       "0.3"
      ],
      "text/markdown": [
       "0.3"
      ],
      "text/plain": [
       "[1] 0.3"
      ]
     },
     "metadata": {},
     "output_type": "display_data"
    }
   ],
   "source": [
    "1.2/4"
   ]
  },
  {
   "cell_type": "markdown",
   "metadata": {},
   "source": [
    "## Problem 2\n",
    "Suppose that the distance of fly balls hit to the outfield (in baseball) is normally distributed with a mean of 236 feet and a standard deviation of 46 feet. We randomly sample 49 fly balls.\n",
    "\n",
    "X ~ N(236,46)\n",
    "\n",
    "$\\bar{X}$ ~ N(236,$\\frac{46}{\\sqrt{49}}$)"
   ]
  },
  {
   "cell_type": "markdown",
   "metadata": {},
   "source": [
    "(a) If X\n",
    "= average distance in feet for 49 fly balls, then give the distribution of\n",
    "X.\n",
    "Round your standard deviation to two decimal places."
   ]
  },
  {
   "cell_type": "code",
   "execution_count": 12,
   "metadata": {
    "collapsed": false
   },
   "outputs": [
    {
     "data": {
      "text/html": [
       "6.571"
      ],
      "text/latex": [
       "6.571"
      ],
      "text/markdown": [
       "6.571"
      ],
      "text/plain": [
       "[1] 6.571"
      ]
     },
     "metadata": {},
     "output_type": "display_data"
    }
   ],
   "source": [
    "(46/sqrt(49)) %>% round(3)"
   ]
  },
  {
   "cell_type": "markdown",
   "metadata": {},
   "source": [
    "(b)What is the probability that the 49 balls traveled an average of less than 226 feet?\n",
    "\n",
    "Sketch the graph. Scale the horizontal axis for\n",
    "X.\n",
    "Shade the region corresponding to the probability. "
   ]
  },
  {
   "cell_type": "code",
   "execution_count": 13,
   "metadata": {
    "collapsed": false
   },
   "outputs": [
    {
     "data": {
      "text/html": [
       "0.064"
      ],
      "text/latex": [
       "0.064"
      ],
      "text/markdown": [
       "0.064"
      ],
      "text/plain": [
       "[1] 0.064"
      ]
     },
     "metadata": {},
     "output_type": "display_data"
    }
   ],
   "source": [
    "pnorm(226,236,(46/sqrt(49))) %>% round(3)"
   ]
  },
  {
   "cell_type": "markdown",
   "metadata": {},
   "source": [
    "(c)Find the 80th percentile of the distribution of the average of 49 fly balls. (Round your answer to two decimal places.)"
   ]
  },
  {
   "cell_type": "code",
   "execution_count": 15,
   "metadata": {
    "collapsed": false
   },
   "outputs": [
    {
     "data": {
      "text/html": [
       "241.53"
      ],
      "text/latex": [
       "241.53"
      ],
      "text/markdown": [
       "241.53"
      ],
      "text/plain": [
       "[1] 241.53"
      ]
     },
     "metadata": {},
     "output_type": "display_data"
    }
   ],
   "source": [
    "qnorm(0.80,236,(46/sqrt(49))) %>% round(2)"
   ]
  },
  {
   "cell_type": "markdown",
   "metadata": {},
   "source": [
    "## Problem 3\n",
    "Suppose that a category of world class runners are known to run a marathon (26 miles) in an average of 142 minutes with a standard deviation of 12 minutes. Consider 49 of the races.\n",
    "\n",
    "Let\n",
    "X\n",
    "= the average of the 49 races.\n",
    "\n",
    "X ~ N(142,12)\n",
    "\n",
    "$\\bar{X}$ ~ N(142,$\\frac{12}{\\sqrt(49)}$)"
   ]
  },
  {
   "cell_type": "code",
   "execution_count": 16,
   "metadata": {
    "collapsed": true
   },
   "outputs": [],
   "source": [
    "x_bar=142\n",
    "sigma=12/sqrt(49)"
   ]
  },
  {
   "cell_type": "markdown",
   "metadata": {},
   "source": [
    "Part (a)\n",
    "Give the distribution of\n",
    "X.\n",
    "(Round your standard deviation to two decimal places.)\n",
    "X\n",
    "~\n",
    ","
   ]
  },
  {
   "cell_type": "code",
   "execution_count": 18,
   "metadata": {
    "collapsed": false
   },
   "outputs": [
    {
     "data": {
      "text/html": [
       "1.71"
      ],
      "text/latex": [
       "1.71"
      ],
      "text/markdown": [
       "1.71"
      ],
      "text/plain": [
       "[1] 1.71"
      ]
     },
     "metadata": {},
     "output_type": "display_data"
    }
   ],
   "source": [
    "sigma %>% round(2)"
   ]
  },
  {
   "cell_type": "markdown",
   "metadata": {},
   "source": [
    "Part (b)\n",
    "Find the probability that the runner will average between 140 and 143 minutes in these 49 marathons. (Round your answer to four decimal places.)"
   ]
  },
  {
   "cell_type": "code",
   "execution_count": 20,
   "metadata": {
    "collapsed": false
   },
   "outputs": [
    {
     "data": {
      "text/html": [
       "0.5985"
      ],
      "text/latex": [
       "0.5985"
      ],
      "text/markdown": [
       "0.5985"
      ],
      "text/plain": [
       "[1] 0.5985"
      ]
     },
     "metadata": {},
     "output_type": "display_data"
    }
   ],
   "source": [
    "(pnorm(143,x_bar,sigma)-pnorm(140,x_bar,sigma)) %>% round(4)"
   ]
  },
  {
   "cell_type": "markdown",
   "metadata": {},
   "source": [
    "Part (c)\n",
    "Find the 60th percentile for the average of these 49 marathons. (Round your answer to two decimal places.)\n",
    "min"
   ]
  },
  {
   "cell_type": "code",
   "execution_count": 22,
   "metadata": {
    "collapsed": false
   },
   "outputs": [
    {
     "data": {
      "text/html": [
       "142.43"
      ],
      "text/latex": [
       "142.43"
      ],
      "text/markdown": [
       "142.43"
      ],
      "text/plain": [
       "[1] 142.43"
      ]
     },
     "metadata": {},
     "output_type": "display_data"
    }
   ],
   "source": [
    "(qnorm(0.6,x_bar,sigma)) %>% round(2)"
   ]
  },
  {
   "cell_type": "markdown",
   "metadata": {},
   "source": [
    "Part (d)\n",
    "Find the median of the average running times.\n",
    "min"
   ]
  },
  {
   "cell_type": "code",
   "execution_count": 23,
   "metadata": {
    "collapsed": false
   },
   "outputs": [
    {
     "data": {
      "text/html": [
       "142"
      ],
      "text/latex": [
       "142"
      ],
      "text/markdown": [
       "142"
      ],
      "text/plain": [
       "[1] 142"
      ]
     },
     "metadata": {},
     "output_type": "display_data"
    }
   ],
   "source": [
    "qnorm(0.5,x_bar,sigma)"
   ]
  },
  {
   "cell_type": "markdown",
   "metadata": {},
   "source": [
    "# Problem 4\n",
    "The cost of unleaded gasoline in the Bay Area once followed an unknown distribution with a mean of \\$4.24 and a standard deviation of \\$0.08. Sixteen gas stations from the Bay Area are randomly chosen. We are interested in the average cost of gasoline for the 16 gas stations. What is the distribution to use for the average cost of gasoline for the 16 gas stations?\n",
    "\n",
    "\n",
    "X ~ N(4.24,0.08)\n",
    "\n",
    "$\\bar{X}$ ~ N(4.24,$\\frac{0.08}{\\sqrt{16}}$)"
   ]
  },
  {
   "cell_type": "markdown",
   "metadata": {},
   "source": [
    "# Problem 5\n",
    "The cost of unleaded gasoline in the Bay Area once followed an unknown distribution with a mean of \\$4.59 and a standard deviation of \\$0.10. Sixteen gas stations from the Bay Area are randomly chosen. We are interested in the average cost of gasoline for the 16 gas stations.\n",
    "\n",
    "Find the probability that the average price for 30 gas stations is less than \\$4.53.\n",
    "\n",
    "X ~ N(4.59,0.10)\n",
    "\n",
    "$\\bar{X}$ ~ N(4.59,$\\frac{0.10}{\\sqrt{30}}$)"
   ]
  },
  {
   "cell_type": "code",
   "execution_count": 29,
   "metadata": {
    "collapsed": false
   },
   "outputs": [
    {
     "data": {
      "text/html": [
       "0.000507500473556572"
      ],
      "text/latex": [
       "0.000507500473556572"
      ],
      "text/markdown": [
       "0.000507500473556572"
      ],
      "text/plain": [
       "[1] 0.0005075005"
      ]
     },
     "metadata": {},
     "output_type": "display_data"
    }
   ],
   "source": [
    "avg=4.59\n",
    "std=0.10/sqrt(30)\n",
    "              \n",
    "(pnorm(4.53,avg,std))"
   ]
  },
  {
   "cell_type": "markdown",
   "metadata": {},
   "source": [
    "# Problem 6 \n",
    "Salaries for teachers in a particular elementary school district are normally distributed with a mean of \\$42,000 and a standard deviation of \\$5,500. We randomly survey ten teachers from that district. (Round your answers to the nearest dollar.) \n",
    "\n",
    "X ~ N(42000,5500)\n",
    "\n",
    "$\\bar{X}$ ~ N(42000,$\\frac{5500}{\\sqrt{10}}$)"
   ]
  },
  {
   "cell_type": "code",
   "execution_count": 30,
   "metadata": {
    "collapsed": true
   },
   "outputs": [],
   "source": [
    "avg=42000\n",
    "std=5500/sqrt(10)"
   ]
  },
  {
   "cell_type": "markdown",
   "metadata": {},
   "source": [
    "(a) Find the 90th percentile for an individual teacher's salary."
   ]
  },
  {
   "cell_type": "code",
   "execution_count": 35,
   "metadata": {
    "collapsed": false
   },
   "outputs": [
    {
     "data": {
      "text/html": [
       "49049"
      ],
      "text/latex": [
       "49049"
      ],
      "text/markdown": [
       "49049"
      ],
      "text/plain": [
       "[1] 49049"
      ]
     },
     "metadata": {},
     "output_type": "display_data"
    }
   ],
   "source": [
    "qnorm(0.9,42000,5500) %>% round(0)"
   ]
  },
  {
   "cell_type": "markdown",
   "metadata": {},
   "source": [
    "(b) Find the 90th percentile for the average teacher's salary. "
   ]
  },
  {
   "cell_type": "code",
   "execution_count": 36,
   "metadata": {
    "collapsed": false
   },
   "outputs": [
    {
     "data": {
      "text/html": [
       "44229"
      ],
      "text/latex": [
       "44229"
      ],
      "text/markdown": [
       "44229"
      ],
      "text/plain": [
       "[1] 44229"
      ]
     },
     "metadata": {},
     "output_type": "display_data"
    }
   ],
   "source": [
    "qnorm(0.9,avg,std) %>% round(0)"
   ]
  },
  {
   "cell_type": "code",
   "execution_count": null,
   "metadata": {
    "collapsed": true
   },
   "outputs": [],
   "source": []
  }
 ],
 "metadata": {
  "kernelspec": {
   "display_name": "R",
   "language": "R",
   "name": "ir"
  },
  "language_info": {
   "codemirror_mode": "r",
   "file_extension": ".r",
   "mimetype": "text/x-r-source",
   "name": "R",
   "pygments_lexer": "r",
   "version": "3.4.2"
  }
 },
 "nbformat": 4,
 "nbformat_minor": 2
}
