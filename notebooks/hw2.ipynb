{
 "cells": [
  {
   "cell_type": "markdown",
   "metadata": {},
   "source": [
    "# Homework 2"
   ]
  },
  {
   "cell_type": "code",
   "execution_count": 1,
   "metadata": {
    "collapsed": false
   },
   "outputs": [
    {
     "name": "stderr",
     "output_type": "stream",
     "text": [
      "Loading tidyverse: ggplot2\n",
      "Loading tidyverse: tibble\n",
      "Loading tidyverse: tidyr\n",
      "Loading tidyverse: readr\n",
      "Loading tidyverse: purrr\n",
      "Loading tidyverse: dplyr\n",
      "Conflicts with tidy packages ---------------------------------------------------\n",
      "filter(): dplyr, stats\n",
      "lag():    dplyr, stats\n"
     ]
    }
   ],
   "source": [
    "library('tidyverse')"
   ]
  },
  {
   "cell_type": "markdown",
   "metadata": {
    "collapsed": true
   },
   "source": [
    "## Problem 1\n",
    "Suppose that vehicles taking a particular freeway exit can turn right (R), turn left (L), or go straight (S). Consider observing the direction for each of three successive vehicles. (Enter your answers in set notation. Enter EMPTY or ∅ for the empty set.) "
   ]
  },
  {
   "cell_type": "code",
   "execution_count": 2,
   "metadata": {
    "collapsed": true
   },
   "outputs": [],
   "source": [
    "options <- c('L','R','S')\n",
    "all_possible <- expand.grid(options,options,options)\n",
    "all_possible$joined  <- apply(all_possible, 1, paste, collapse=\"\")"
   ]
  },
  {
   "cell_type": "markdown",
   "metadata": {},
   "source": [
    "(a) List all outcomes in the event A that all three vehicles go in the same direction."
   ]
  },
  {
   "cell_type": "code",
   "execution_count": 3,
   "metadata": {
    "collapsed": false
   },
   "outputs": [
    {
     "data": {
      "text/html": [
       "<ol class=list-inline>\n",
       "\t<li>'LLL'</li>\n",
       "\t<li>'RRR'</li>\n",
       "\t<li>'SSS'</li>\n",
       "</ol>\n"
      ],
      "text/latex": [
       "\\begin{enumerate*}\n",
       "\\item 'LLL'\n",
       "\\item 'RRR'\n",
       "\\item 'SSS'\n",
       "\\end{enumerate*}\n"
      ],
      "text/markdown": [
       "1. 'LLL'\n",
       "2. 'RRR'\n",
       "3. 'SSS'\n",
       "\n",
       "\n"
      ],
      "text/plain": [
       "[1] \"LLL\" \"RRR\" \"SSS\""
      ]
     },
     "metadata": {},
     "output_type": "display_data"
    }
   ],
   "source": [
    "all_same <- all_possible$Var1==all_possible$Var2 & all_possible$Var2==all_possible$Var3\n",
    "A <- all_possible[all_same,'joined']\n",
    "A"
   ]
  },
  {
   "cell_type": "markdown",
   "metadata": {},
   "source": [
    "(b) List all outcomes in the event B that all three vehicles take different directions. "
   ]
  },
  {
   "cell_type": "code",
   "execution_count": 4,
   "metadata": {
    "collapsed": false
   },
   "outputs": [
    {
     "data": {
      "text/html": [
       "<ol class=list-inline>\n",
       "\t<li>'SRL'</li>\n",
       "\t<li>'RSL'</li>\n",
       "\t<li>'SLR'</li>\n",
       "\t<li>'LSR'</li>\n",
       "\t<li>'RLS'</li>\n",
       "\t<li>'LRS'</li>\n",
       "</ol>\n"
      ],
      "text/latex": [
       "\\begin{enumerate*}\n",
       "\\item 'SRL'\n",
       "\\item 'RSL'\n",
       "\\item 'SLR'\n",
       "\\item 'LSR'\n",
       "\\item 'RLS'\n",
       "\\item 'LRS'\n",
       "\\end{enumerate*}\n"
      ],
      "text/markdown": [
       "1. 'SRL'\n",
       "2. 'RSL'\n",
       "3. 'SLR'\n",
       "4. 'LSR'\n",
       "5. 'RLS'\n",
       "6. 'LRS'\n",
       "\n",
       "\n"
      ],
      "text/plain": [
       "[1] \"SRL\" \"RSL\" \"SLR\" \"LSR\" \"RLS\" \"LRS\""
      ]
     },
     "metadata": {},
     "output_type": "display_data"
    }
   ],
   "source": [
    "all_diff <- all_possible$Var1!=all_possible$Var2 &\n",
    "            all_possible$Var1!=all_possible$Var3 &\n",
    "            all_possible$Var2!=all_possible$Var3\n",
    "B <- all_possible[all_diff,'joined']\n",
    "B"
   ]
  },
  {
   "cell_type": "markdown",
   "metadata": {},
   "source": [
    "(c) List all outcomes in the event C that exactly two of the three vehicles turn right. "
   ]
  },
  {
   "cell_type": "code",
   "execution_count": 5,
   "metadata": {
    "collapsed": false
   },
   "outputs": [
    {
     "data": {
      "text/html": [
       "<ol class=list-inline>\n",
       "\t<li>'RRL'</li>\n",
       "\t<li>'RLR'</li>\n",
       "\t<li>'LRR'</li>\n",
       "\t<li>'SRR'</li>\n",
       "\t<li>'RSR'</li>\n",
       "\t<li>'RRS'</li>\n",
       "</ol>\n"
      ],
      "text/latex": [
       "\\begin{enumerate*}\n",
       "\\item 'RRL'\n",
       "\\item 'RLR'\n",
       "\\item 'LRR'\n",
       "\\item 'SRR'\n",
       "\\item 'RSR'\n",
       "\\item 'RRS'\n",
       "\\end{enumerate*}\n"
      ],
      "text/markdown": [
       "1. 'RRL'\n",
       "2. 'RLR'\n",
       "3. 'LRR'\n",
       "4. 'SRR'\n",
       "5. 'RSR'\n",
       "6. 'RRS'\n",
       "\n",
       "\n"
      ],
      "text/plain": [
       "[1] \"RRL\" \"RLR\" \"LRR\" \"SRR\" \"RSR\" \"RRS\""
      ]
     },
     "metadata": {},
     "output_type": "display_data"
    }
   ],
   "source": [
    "two_rights <- as.integer(all_possible$Var1=='R')+\n",
    "              as.integer(all_possible$Var2=='R')+\n",
    "              as.integer(all_possible$Var3=='R') == 2\n",
    "C <- all_possible[two_rights,'joined']\n",
    "C"
   ]
  },
  {
   "cell_type": "markdown",
   "metadata": {},
   "source": [
    "(d) List all outcomes in the event D that exactly two vehicles go in the same direction."
   ]
  },
  {
   "cell_type": "code",
   "execution_count": 6,
   "metadata": {
    "collapsed": false
   },
   "outputs": [
    {
     "data": {
      "text/html": [
       "<ol class=list-inline>\n",
       "\t<li>'RLL'</li>\n",
       "\t<li>'SLL'</li>\n",
       "\t<li>'LRL'</li>\n",
       "\t<li>'RRL'</li>\n",
       "\t<li>'LSL'</li>\n",
       "\t<li>'SSL'</li>\n",
       "\t<li>'LLR'</li>\n",
       "\t<li>'RLR'</li>\n",
       "\t<li>'LRR'</li>\n",
       "\t<li>'SRR'</li>\n",
       "\t<li>'RSR'</li>\n",
       "\t<li>'SSR'</li>\n",
       "\t<li>'LLS'</li>\n",
       "\t<li>'SLS'</li>\n",
       "\t<li>'RRS'</li>\n",
       "\t<li>'SRS'</li>\n",
       "\t<li>'LSS'</li>\n",
       "\t<li>'RSS'</li>\n",
       "</ol>\n"
      ],
      "text/latex": [
       "\\begin{enumerate*}\n",
       "\\item 'RLL'\n",
       "\\item 'SLL'\n",
       "\\item 'LRL'\n",
       "\\item 'RRL'\n",
       "\\item 'LSL'\n",
       "\\item 'SSL'\n",
       "\\item 'LLR'\n",
       "\\item 'RLR'\n",
       "\\item 'LRR'\n",
       "\\item 'SRR'\n",
       "\\item 'RSR'\n",
       "\\item 'SSR'\n",
       "\\item 'LLS'\n",
       "\\item 'SLS'\n",
       "\\item 'RRS'\n",
       "\\item 'SRS'\n",
       "\\item 'LSS'\n",
       "\\item 'RSS'\n",
       "\\end{enumerate*}\n"
      ],
      "text/markdown": [
       "1. 'RLL'\n",
       "2. 'SLL'\n",
       "3. 'LRL'\n",
       "4. 'RRL'\n",
       "5. 'LSL'\n",
       "6. 'SSL'\n",
       "7. 'LLR'\n",
       "8. 'RLR'\n",
       "9. 'LRR'\n",
       "10. 'SRR'\n",
       "11. 'RSR'\n",
       "12. 'SSR'\n",
       "13. 'LLS'\n",
       "14. 'SLS'\n",
       "15. 'RRS'\n",
       "16. 'SRS'\n",
       "17. 'LSS'\n",
       "18. 'RSS'\n",
       "\n",
       "\n"
      ],
      "text/plain": [
       " [1] \"RLL\" \"SLL\" \"LRL\" \"RRL\" \"LSL\" \"SSL\" \"LLR\" \"RLR\" \"LRR\" \"SRR\" \"RSR\" \"SSR\"\n",
       "[13] \"LLS\" \"SLS\" \"RRS\" \"SRS\" \"LSS\" \"RSS\""
      ]
     },
     "metadata": {},
     "output_type": "display_data"
    }
   ],
   "source": [
    "two_same <- as.integer(all_possible$Var1==all_possible$Var2) +\n",
    "            as.integer(all_possible$Var1==all_possible$Var3) +\n",
    "            as.integer(all_possible$Var2==all_possible$Var3) == 1\n",
    "D <- all_possible[two_same,'joined']\n",
    "D"
   ]
  },
  {
   "cell_type": "markdown",
   "metadata": {},
   "source": [
    "(e) List outcomes in D'."
   ]
  },
  {
   "cell_type": "code",
   "execution_count": 7,
   "metadata": {
    "collapsed": false
   },
   "outputs": [
    {
     "data": {
      "text/html": [
       "<ol class=list-inline>\n",
       "\t<li>'LLL'</li>\n",
       "\t<li>'SRL'</li>\n",
       "\t<li>'RSL'</li>\n",
       "\t<li>'SLR'</li>\n",
       "\t<li>'RRR'</li>\n",
       "\t<li>'LSR'</li>\n",
       "\t<li>'RLS'</li>\n",
       "\t<li>'LRS'</li>\n",
       "\t<li>'SSS'</li>\n",
       "</ol>\n"
      ],
      "text/latex": [
       "\\begin{enumerate*}\n",
       "\\item 'LLL'\n",
       "\\item 'SRL'\n",
       "\\item 'RSL'\n",
       "\\item 'SLR'\n",
       "\\item 'RRR'\n",
       "\\item 'LSR'\n",
       "\\item 'RLS'\n",
       "\\item 'LRS'\n",
       "\\item 'SSS'\n",
       "\\end{enumerate*}\n"
      ],
      "text/markdown": [
       "1. 'LLL'\n",
       "2. 'SRL'\n",
       "3. 'RSL'\n",
       "4. 'SLR'\n",
       "5. 'RRR'\n",
       "6. 'LSR'\n",
       "7. 'RLS'\n",
       "8. 'LRS'\n",
       "9. 'SSS'\n",
       "\n",
       "\n"
      ],
      "text/plain": [
       "[1] \"LLL\" \"SRL\" \"RSL\" \"SLR\" \"RRR\" \"LSR\" \"RLS\" \"LRS\" \"SSS\""
      ]
     },
     "metadata": {},
     "output_type": "display_data"
    }
   ],
   "source": [
    "D_prime <- all_possible[!two_same,'joined']\n",
    "D_prime"
   ]
  },
  {
   "cell_type": "markdown",
   "metadata": {},
   "source": [
    "List outcomes in C ∪ D."
   ]
  },
  {
   "cell_type": "code",
   "execution_count": 8,
   "metadata": {
    "collapsed": false
   },
   "outputs": [
    {
     "data": {
      "text/html": [
       "<ol class=list-inline>\n",
       "\t<li>'RRL'</li>\n",
       "\t<li>'RLR'</li>\n",
       "\t<li>'LRR'</li>\n",
       "\t<li>'SRR'</li>\n",
       "\t<li>'RSR'</li>\n",
       "\t<li>'RRS'</li>\n",
       "\t<li>'RLL'</li>\n",
       "\t<li>'SLL'</li>\n",
       "\t<li>'LRL'</li>\n",
       "\t<li>'LSL'</li>\n",
       "\t<li>'SSL'</li>\n",
       "\t<li>'LLR'</li>\n",
       "\t<li>'SSR'</li>\n",
       "\t<li>'LLS'</li>\n",
       "\t<li>'SLS'</li>\n",
       "\t<li>'SRS'</li>\n",
       "\t<li>'LSS'</li>\n",
       "\t<li>'RSS'</li>\n",
       "</ol>\n"
      ],
      "text/latex": [
       "\\begin{enumerate*}\n",
       "\\item 'RRL'\n",
       "\\item 'RLR'\n",
       "\\item 'LRR'\n",
       "\\item 'SRR'\n",
       "\\item 'RSR'\n",
       "\\item 'RRS'\n",
       "\\item 'RLL'\n",
       "\\item 'SLL'\n",
       "\\item 'LRL'\n",
       "\\item 'LSL'\n",
       "\\item 'SSL'\n",
       "\\item 'LLR'\n",
       "\\item 'SSR'\n",
       "\\item 'LLS'\n",
       "\\item 'SLS'\n",
       "\\item 'SRS'\n",
       "\\item 'LSS'\n",
       "\\item 'RSS'\n",
       "\\end{enumerate*}\n"
      ],
      "text/markdown": [
       "1. 'RRL'\n",
       "2. 'RLR'\n",
       "3. 'LRR'\n",
       "4. 'SRR'\n",
       "5. 'RSR'\n",
       "6. 'RRS'\n",
       "7. 'RLL'\n",
       "8. 'SLL'\n",
       "9. 'LRL'\n",
       "10. 'LSL'\n",
       "11. 'SSL'\n",
       "12. 'LLR'\n",
       "13. 'SSR'\n",
       "14. 'LLS'\n",
       "15. 'SLS'\n",
       "16. 'SRS'\n",
       "17. 'LSS'\n",
       "18. 'RSS'\n",
       "\n",
       "\n"
      ],
      "text/plain": [
       " [1] \"RRL\" \"RLR\" \"LRR\" \"SRR\" \"RSR\" \"RRS\" \"RLL\" \"SLL\" \"LRL\" \"LSL\" \"SSL\" \"LLR\"\n",
       "[13] \"SSR\" \"LLS\" \"SLS\" \"SRS\" \"LSS\" \"RSS\""
      ]
     },
     "metadata": {},
     "output_type": "display_data"
    }
   ],
   "source": [
    "union(C,D)"
   ]
  },
  {
   "cell_type": "markdown",
   "metadata": {},
   "source": [
    "List outcomes in C ∩ D."
   ]
  },
  {
   "cell_type": "code",
   "execution_count": 9,
   "metadata": {
    "collapsed": false
   },
   "outputs": [
    {
     "data": {
      "text/html": [
       "<ol class=list-inline>\n",
       "\t<li>'RRL'</li>\n",
       "\t<li>'RLR'</li>\n",
       "\t<li>'LRR'</li>\n",
       "\t<li>'SRR'</li>\n",
       "\t<li>'RSR'</li>\n",
       "\t<li>'RRS'</li>\n",
       "</ol>\n"
      ],
      "text/latex": [
       "\\begin{enumerate*}\n",
       "\\item 'RRL'\n",
       "\\item 'RLR'\n",
       "\\item 'LRR'\n",
       "\\item 'SRR'\n",
       "\\item 'RSR'\n",
       "\\item 'RRS'\n",
       "\\end{enumerate*}\n"
      ],
      "text/markdown": [
       "1. 'RRL'\n",
       "2. 'RLR'\n",
       "3. 'LRR'\n",
       "4. 'SRR'\n",
       "5. 'RSR'\n",
       "6. 'RRS'\n",
       "\n",
       "\n"
      ],
      "text/plain": [
       "[1] \"RRL\" \"RLR\" \"LRR\" \"SRR\" \"RSR\" \"RRS\""
      ]
     },
     "metadata": {},
     "output_type": "display_data"
    }
   ],
   "source": [
    "intersect(C,D)"
   ]
  },
  {
   "cell_type": "markdown",
   "metadata": {},
   "source": [
    "## Problem 2\n",
    " Three components are connected to form a system as shown in the accompanying diagram. Because the components in the 2–3 subsystem are connected in parallel, that subsystem will function if at least one of the two individual components functions. For the entire system to function, component 1 must function and so must the 2–3 subsystem. \n",
    "\n",
    "![image.png](attachment:image.png)\n",
    "\n",
    "The experiment consists of determining the condition of each component [S (success) for a functioning component and F (failure) for a nonfunctioning component]. (Enter your answers in set notation. Enter EMPTY or ∅ for the empty set.) "
   ]
  },
  {
   "cell_type": "code",
   "execution_count": 10,
   "metadata": {
    "collapsed": false
   },
   "outputs": [
    {
     "data": {
      "text/html": [
       "<ol class=list-inline>\n",
       "\t<li>'SSS'</li>\n",
       "\t<li>'FSS'</li>\n",
       "\t<li>'SFS'</li>\n",
       "\t<li>'FFS'</li>\n",
       "\t<li>'SSF'</li>\n",
       "\t<li>'FSF'</li>\n",
       "\t<li>'SFF'</li>\n",
       "\t<li>'FFF'</li>\n",
       "</ol>\n"
      ],
      "text/latex": [
       "\\begin{enumerate*}\n",
       "\\item 'SSS'\n",
       "\\item 'FSS'\n",
       "\\item 'SFS'\n",
       "\\item 'FFS'\n",
       "\\item 'SSF'\n",
       "\\item 'FSF'\n",
       "\\item 'SFF'\n",
       "\\item 'FFF'\n",
       "\\end{enumerate*}\n"
      ],
      "text/markdown": [
       "1. 'SSS'\n",
       "2. 'FSS'\n",
       "3. 'SFS'\n",
       "4. 'FFS'\n",
       "5. 'SSF'\n",
       "6. 'FSF'\n",
       "7. 'SFF'\n",
       "8. 'FFF'\n",
       "\n",
       "\n"
      ],
      "text/plain": [
       "[1] \"SSS\" \"FSS\" \"SFS\" \"FFS\" \"SSF\" \"FSF\" \"SFF\" \"FFF\""
      ]
     },
     "metadata": {},
     "output_type": "display_data"
    }
   ],
   "source": [
    "conditions <- c('S','F')\n",
    "all_cond <- expand.grid(conditions,conditions,conditions)\n",
    "all_cond$joined <- apply(all_cond, 1, paste, collapse=\"\")\n",
    "all_cond$joined"
   ]
  },
  {
   "cell_type": "markdown",
   "metadata": {},
   "source": [
    "(a) Which outcomes are contained in the event A that exactly two of the three components function? "
   ]
  },
  {
   "cell_type": "code",
   "execution_count": 11,
   "metadata": {
    "collapsed": false
   },
   "outputs": [
    {
     "data": {
      "text/html": [
       "<ol class=list-inline>\n",
       "\t<li>'FSS'</li>\n",
       "\t<li>'SFS'</li>\n",
       "\t<li>'SSF'</li>\n",
       "</ol>\n"
      ],
      "text/latex": [
       "\\begin{enumerate*}\n",
       "\\item 'FSS'\n",
       "\\item 'SFS'\n",
       "\\item 'SSF'\n",
       "\\end{enumerate*}\n"
      ],
      "text/markdown": [
       "1. 'FSS'\n",
       "2. 'SFS'\n",
       "3. 'SSF'\n",
       "\n",
       "\n"
      ],
      "text/plain": [
       "[1] \"FSS\" \"SFS\" \"SSF\""
      ]
     },
     "metadata": {},
     "output_type": "display_data"
    }
   ],
   "source": [
    "A <- all_cond[rowSums(all_cond=='S')==2,'joined']\n",
    "A"
   ]
  },
  {
   "cell_type": "markdown",
   "metadata": {},
   "source": [
    "(b) Which outcomes are contained in the event B that at least two of the components function?"
   ]
  },
  {
   "cell_type": "code",
   "execution_count": 12,
   "metadata": {
    "collapsed": false
   },
   "outputs": [
    {
     "data": {
      "text/html": [
       "<ol class=list-inline>\n",
       "\t<li>'SSS'</li>\n",
       "\t<li>'FSS'</li>\n",
       "\t<li>'SFS'</li>\n",
       "\t<li>'SSF'</li>\n",
       "</ol>\n"
      ],
      "text/latex": [
       "\\begin{enumerate*}\n",
       "\\item 'SSS'\n",
       "\\item 'FSS'\n",
       "\\item 'SFS'\n",
       "\\item 'SSF'\n",
       "\\end{enumerate*}\n"
      ],
      "text/markdown": [
       "1. 'SSS'\n",
       "2. 'FSS'\n",
       "3. 'SFS'\n",
       "4. 'SSF'\n",
       "\n",
       "\n"
      ],
      "text/plain": [
       "[1] \"SSS\" \"FSS\" \"SFS\" \"SSF\""
      ]
     },
     "metadata": {},
     "output_type": "display_data"
    }
   ],
   "source": [
    "B <- all_cond[rowSums(all_cond=='S')>=2,'joined']\n",
    "B"
   ]
  },
  {
   "cell_type": "markdown",
   "metadata": {},
   "source": [
    "(c) Which outcomes are contained in the event C that the system functions?"
   ]
  },
  {
   "cell_type": "code",
   "execution_count": 13,
   "metadata": {
    "collapsed": false
   },
   "outputs": [
    {
     "data": {
      "text/html": [
       "<ol class=list-inline>\n",
       "\t<li>'SSS'</li>\n",
       "\t<li>'SFS'</li>\n",
       "\t<li>'SSF'</li>\n",
       "</ol>\n"
      ],
      "text/latex": [
       "\\begin{enumerate*}\n",
       "\\item 'SSS'\n",
       "\\item 'SFS'\n",
       "\\item 'SSF'\n",
       "\\end{enumerate*}\n"
      ],
      "text/markdown": [
       "1. 'SSS'\n",
       "2. 'SFS'\n",
       "3. 'SSF'\n",
       "\n",
       "\n"
      ],
      "text/plain": [
       "[1] \"SSS\" \"SFS\" \"SSF\""
      ]
     },
     "metadata": {},
     "output_type": "display_data"
    }
   ],
   "source": [
    "sys_functions <- all_cond$Var1=='S' & rowSums(all_cond=='S')>=2\n",
    "C <- all_cond[sys_functions,'joined']\n",
    "C"
   ]
  },
  {
   "cell_type": "markdown",
   "metadata": {},
   "source": [
    "(d) List outcomes in C'."
   ]
  },
  {
   "cell_type": "code",
   "execution_count": 14,
   "metadata": {
    "collapsed": false
   },
   "outputs": [
    {
     "data": {
      "text/html": [
       "<ol class=list-inline>\n",
       "\t<li>'FSS'</li>\n",
       "\t<li>'FFS'</li>\n",
       "\t<li>'FSF'</li>\n",
       "\t<li>'SFF'</li>\n",
       "\t<li>'FFF'</li>\n",
       "</ol>\n"
      ],
      "text/latex": [
       "\\begin{enumerate*}\n",
       "\\item 'FSS'\n",
       "\\item 'FFS'\n",
       "\\item 'FSF'\n",
       "\\item 'SFF'\n",
       "\\item 'FFF'\n",
       "\\end{enumerate*}\n"
      ],
      "text/markdown": [
       "1. 'FSS'\n",
       "2. 'FFS'\n",
       "3. 'FSF'\n",
       "4. 'SFF'\n",
       "5. 'FFF'\n",
       "\n",
       "\n"
      ],
      "text/plain": [
       "[1] \"FSS\" \"FFS\" \"FSF\" \"SFF\" \"FFF\""
      ]
     },
     "metadata": {},
     "output_type": "display_data"
    }
   ],
   "source": [
    "all_cond[!sys_functions,'joined']"
   ]
  },
  {
   "cell_type": "markdown",
   "metadata": {},
   "source": [
    "(e) List outcomes in A ∪ C."
   ]
  },
  {
   "cell_type": "code",
   "execution_count": 15,
   "metadata": {
    "collapsed": false
   },
   "outputs": [
    {
     "data": {
      "text/html": [
       "<ol class=list-inline>\n",
       "\t<li>'FSS'</li>\n",
       "\t<li>'SFS'</li>\n",
       "\t<li>'SSF'</li>\n",
       "\t<li>'SSS'</li>\n",
       "</ol>\n"
      ],
      "text/latex": [
       "\\begin{enumerate*}\n",
       "\\item 'FSS'\n",
       "\\item 'SFS'\n",
       "\\item 'SSF'\n",
       "\\item 'SSS'\n",
       "\\end{enumerate*}\n"
      ],
      "text/markdown": [
       "1. 'FSS'\n",
       "2. 'SFS'\n",
       "3. 'SSF'\n",
       "4. 'SSS'\n",
       "\n",
       "\n"
      ],
      "text/plain": [
       "[1] \"FSS\" \"SFS\" \"SSF\" \"SSS\""
      ]
     },
     "metadata": {},
     "output_type": "display_data"
    }
   ],
   "source": [
    "union(A,C)"
   ]
  },
  {
   "cell_type": "markdown",
   "metadata": {},
   "source": [
    "(f) List outcomes in A ∩ C."
   ]
  },
  {
   "cell_type": "code",
   "execution_count": 16,
   "metadata": {
    "collapsed": false
   },
   "outputs": [
    {
     "data": {
      "text/html": [
       "<ol class=list-inline>\n",
       "\t<li>'SFS'</li>\n",
       "\t<li>'SSF'</li>\n",
       "</ol>\n"
      ],
      "text/latex": [
       "\\begin{enumerate*}\n",
       "\\item 'SFS'\n",
       "\\item 'SSF'\n",
       "\\end{enumerate*}\n"
      ],
      "text/markdown": [
       "1. 'SFS'\n",
       "2. 'SSF'\n",
       "\n",
       "\n"
      ],
      "text/plain": [
       "[1] \"SFS\" \"SSF\""
      ]
     },
     "metadata": {},
     "output_type": "display_data"
    }
   ],
   "source": [
    "intersect(A,C)"
   ]
  },
  {
   "cell_type": "markdown",
   "metadata": {},
   "source": [
    "(g) List outcomes in B ∪ C."
   ]
  },
  {
   "cell_type": "code",
   "execution_count": 17,
   "metadata": {
    "collapsed": false
   },
   "outputs": [
    {
     "data": {
      "text/html": [
       "<ol class=list-inline>\n",
       "\t<li>'SSS'</li>\n",
       "\t<li>'FSS'</li>\n",
       "\t<li>'SFS'</li>\n",
       "\t<li>'SSF'</li>\n",
       "</ol>\n"
      ],
      "text/latex": [
       "\\begin{enumerate*}\n",
       "\\item 'SSS'\n",
       "\\item 'FSS'\n",
       "\\item 'SFS'\n",
       "\\item 'SSF'\n",
       "\\end{enumerate*}\n"
      ],
      "text/markdown": [
       "1. 'SSS'\n",
       "2. 'FSS'\n",
       "3. 'SFS'\n",
       "4. 'SSF'\n",
       "\n",
       "\n"
      ],
      "text/plain": [
       "[1] \"SSS\" \"FSS\" \"SFS\" \"SSF\""
      ]
     },
     "metadata": {},
     "output_type": "display_data"
    }
   ],
   "source": [
    "union(B,C)"
   ]
  },
  {
   "cell_type": "markdown",
   "metadata": {},
   "source": [
    "(h) List outcomes in B ∩ C. "
   ]
  },
  {
   "cell_type": "code",
   "execution_count": 18,
   "metadata": {
    "collapsed": false
   },
   "outputs": [
    {
     "data": {
      "text/html": [
       "<ol class=list-inline>\n",
       "\t<li>'SSS'</li>\n",
       "\t<li>'SFS'</li>\n",
       "\t<li>'SSF'</li>\n",
       "</ol>\n"
      ],
      "text/latex": [
       "\\begin{enumerate*}\n",
       "\\item 'SSS'\n",
       "\\item 'SFS'\n",
       "\\item 'SSF'\n",
       "\\end{enumerate*}\n"
      ],
      "text/markdown": [
       "1. 'SSS'\n",
       "2. 'SFS'\n",
       "3. 'SSF'\n",
       "\n",
       "\n"
      ],
      "text/plain": [
       "[1] \"SSS\" \"SFS\" \"SSF\""
      ]
     },
     "metadata": {},
     "output_type": "display_data"
    }
   ],
   "source": [
    "intersect(B,C)"
   ]
  },
  {
   "cell_type": "markdown",
   "metadata": {},
   "source": [
    "## Problem 3\n",
    "An engineering construction firm is currently working on power plants at three different sites. Let Ai denote the event that the plant at site i is completed by the contract date. Use the operations of union, intersection, and complementation to describe each of the following events in terms of A<sub>1</sub>, A<sub>2</sub>, and A<sub>3</sub>, draw a Venn diagram, and shade the region corresponding to each one. \n",
    "\n"
   ]
  },
  {
   "cell_type": "markdown",
   "metadata": {},
   "source": [
    "(a) At least one plant is completed by the contract date. \n",
    "\n",
    "A1 ∪ A2 ∪ A3\n",
    "![image.png](attachment:image.png)"
   ]
  },
  {
   "cell_type": "markdown",
   "metadata": {},
   "source": [
    "(b) All plants are completed by the contract date.\n",
    "\n",
    "A1 ∩ A2 ∩ A3\n",
    "    \n",
    "![image.png](attachment:image.png)"
   ]
  },
  {
   "cell_type": "markdown",
   "metadata": {},
   "source": [
    "(c) Only the plant at site 1 is completed by the contract date. \n",
    "\n",
    "A1 ∩ A2' ∩ A3'\n",
    "\n",
    "![image.png](attachment:image.png)"
   ]
  },
  {
   "cell_type": "markdown",
   "metadata": {},
   "source": [
    "(d) Exactly one plant is completed by the contract date. \n",
    "\n",
    "(A1 ∩ A2' ∩ A3') ∪ (A1' ∩ A2 ∩ A3') ∪ (A1' ∩ A2' ∩ A3)\n",
    "\n",
    "![image.png](attachment:image.png)"
   ]
  },
  {
   "cell_type": "markdown",
   "metadata": {},
   "source": [
    "(e) Either the plant at site 1 or both of the other plants are completed by the contract date.\n",
    "\n",
    "A1 ∪ (A2 ∩ A3)\n",
    "\n",
    "![image.png](attachment:image.png)"
   ]
  },
  {
   "cell_type": "markdown",
   "metadata": {},
   "source": [
    "## Problem 4\n",
    "A mutual fund company offers its customers a variety of funds: a money-market fund, three different bond funds (short, intermediate, and long-term), two stock funds (moderate and high-risk), and a balanced fund. Among customers who own shares in just one fund, the percentages of customers in the different funds are as follows. "
   ]
  },
  {
   "cell_type": "code",
   "execution_count": 19,
   "metadata": {
    "collapsed": true
   },
   "outputs": [],
   "source": [
    "money_market        <- 0.24\n",
    "short_bond          <- 0.14\n",
    "intermediate_bond   <- 0.07 \n",
    "long_bond           <- 0.05\n",
    "high_risk_stock     <- 0.17\n",
    "moderate_risk_stock <-0.25\n",
    "balanced            <- 0.08"
   ]
  },
  {
   "cell_type": "markdown",
   "metadata": {},
   "source": [
    "(a) What is the probability that the selected individual owns shares in the balanced fund? "
   ]
  },
  {
   "cell_type": "code",
   "execution_count": 20,
   "metadata": {
    "collapsed": false
   },
   "outputs": [
    {
     "data": {
      "text/html": [
       "0.08"
      ],
      "text/latex": [
       "0.08"
      ],
      "text/markdown": [
       "0.08"
      ],
      "text/plain": [
       "[1] 0.08"
      ]
     },
     "metadata": {},
     "output_type": "display_data"
    }
   ],
   "source": [
    "balanced"
   ]
  },
  {
   "cell_type": "markdown",
   "metadata": {},
   "source": [
    "(b) What is the probability that the individual owns shares in a bond fund?"
   ]
  },
  {
   "cell_type": "code",
   "execution_count": 21,
   "metadata": {
    "collapsed": false
   },
   "outputs": [
    {
     "data": {
      "text/html": [
       "0.26"
      ],
      "text/latex": [
       "0.26"
      ],
      "text/markdown": [
       "0.26"
      ],
      "text/plain": [
       "[1] 0.26"
      ]
     },
     "metadata": {},
     "output_type": "display_data"
    }
   ],
   "source": [
    "short_bond+intermediate_bond+long_bond"
   ]
  },
  {
   "cell_type": "markdown",
   "metadata": {},
   "source": [
    "(c) What is the probability that the selected individual does not own shares in a stock fund? "
   ]
  },
  {
   "cell_type": "code",
   "execution_count": 22,
   "metadata": {
    "collapsed": false
   },
   "outputs": [
    {
     "data": {
      "text/html": [
       "0.58"
      ],
      "text/latex": [
       "0.58"
      ],
      "text/markdown": [
       "0.58"
      ],
      "text/plain": [
       "[1] 0.58"
      ]
     },
     "metadata": {},
     "output_type": "display_data"
    }
   ],
   "source": [
    "1-(high_risk_stock+moderate_risk_stock)"
   ]
  },
  {
   "cell_type": "markdown",
   "metadata": {},
   "source": [
    "## Problem 5\n",
    "Consider randomly selecting a student at a large university, and let A be the event that the selected student has a Visa card and B be the analogous event for MasterCard. Suppose that"
   ]
  },
  {
   "cell_type": "code",
   "execution_count": 23,
   "metadata": {
    "collapsed": true
   },
   "outputs": [],
   "source": [
    "P_A  <-  0.7\n",
    "P_B  <-  0.4"
   ]
  },
  {
   "cell_type": "markdown",
   "metadata": {},
   "source": [
    "Could it be the case that\n",
    "P(A ∩ B) = 0.5?\n",
    "Why or why not? [Hint: For any two sets A and B if A is a subset of B then\n",
    "P(A) ≤ P(B).]\n",
    "\n",
    "No, this is not possible. Since A ∩ B is contained in the event B, it must be the case that P(A ∩ B) ≤ P(B). However 0.5 > 0.4 violates this requirement.    "
   ]
  },
  {
   "cell_type": "markdown",
   "metadata": {},
   "source": [
    " (b)\n",
    "From now on, suppose that\n",
    "P(A ∩ B) = 0.3.\n",
    "What is the probability that the selected student has at least one of these two types of cards? "
   ]
  },
  {
   "cell_type": "code",
   "execution_count": 24,
   "metadata": {
    "collapsed": false
   },
   "outputs": [
    {
     "data": {
      "text/html": [
       "0.8"
      ],
      "text/latex": [
       "0.8"
      ],
      "text/markdown": [
       "0.8"
      ],
      "text/plain": [
       "[1] 0.8"
      ]
     },
     "metadata": {},
     "output_type": "display_data"
    }
   ],
   "source": [
    "P_AintersectB <- 0.3\n",
    "P_AorB <- P_A+P_B-P_AintersectB\n",
    "P_AorB"
   ]
  },
  {
   "cell_type": "markdown",
   "metadata": {},
   "source": [
    "(c) What is the probability that the selected student has neither type of card? \n"
   ]
  },
  {
   "cell_type": "code",
   "execution_count": 25,
   "metadata": {
    "collapsed": false
   },
   "outputs": [
    {
     "data": {
      "text/html": [
       "0.2"
      ],
      "text/latex": [
       "0.2"
      ],
      "text/markdown": [
       "0.2"
      ],
      "text/plain": [
       "[1] 0.2"
      ]
     },
     "metadata": {},
     "output_type": "display_data"
    }
   ],
   "source": [
    "1-(P_AorB)"
   ]
  },
  {
   "cell_type": "markdown",
   "metadata": {},
   "source": [
    "(d) Describe, in terms of A and B, the event that the selected student has a Visa card but not a MasterCard. \n",
    "\n",
    "\n",
    "A ∩ B'\n",
    " "
   ]
  },
  {
   "cell_type": "markdown",
   "metadata": {},
   "source": [
    "Calculate the probability of this event."
   ]
  },
  {
   "cell_type": "code",
   "execution_count": 26,
   "metadata": {
    "collapsed": false
   },
   "outputs": [
    {
     "data": {
      "text/html": [
       "0.4"
      ],
      "text/latex": [
       "0.4"
      ],
      "text/markdown": [
       "0.4"
      ],
      "text/plain": [
       "[1] 0.4"
      ]
     },
     "metadata": {},
     "output_type": "display_data"
    }
   ],
   "source": [
    "P_A-P_AintersectB"
   ]
  },
  {
   "cell_type": "markdown",
   "metadata": {},
   "source": [
    " (e)\n",
    "Calculate the probability that the selected student has exactly one of the two types of cards. "
   ]
  },
  {
   "cell_type": "code",
   "execution_count": 27,
   "metadata": {
    "collapsed": false
   },
   "outputs": [
    {
     "data": {
      "text/html": [
       "0.5"
      ],
      "text/latex": [
       "0.5"
      ],
      "text/markdown": [
       "0.5"
      ],
      "text/plain": [
       "[1] 0.5"
      ]
     },
     "metadata": {},
     "output_type": "display_data"
    }
   ],
   "source": [
    "(P_A-P_AintersectB)+(P_B-P_AintersectB)"
   ]
  },
  {
   "cell_type": "markdown",
   "metadata": {},
   "source": [
    "## Problem 6\n",
    "Suppose that 50% of all adults regularly consume coffee, 55% regularly consume carbonated soda, and 65% regularly consume at least one of these two products. "
   ]
  },
  {
   "cell_type": "code",
   "execution_count": 28,
   "metadata": {
    "collapsed": true
   },
   "outputs": [],
   "source": [
    "P_coffee <- 0.5\n",
    "P_soda <- 0.55\n",
    "P_coffee_or_soda <- 0.65"
   ]
  },
  {
   "cell_type": "markdown",
   "metadata": {},
   "source": [
    "(a) What is the probability that a randomly selected adult regularly consumes both coffee and soda?"
   ]
  },
  {
   "cell_type": "code",
   "execution_count": 29,
   "metadata": {
    "collapsed": false
   },
   "outputs": [
    {
     "data": {
      "text/html": [
       "0.4"
      ],
      "text/latex": [
       "0.4"
      ],
      "text/markdown": [
       "0.4"
      ],
      "text/plain": [
       "[1] 0.4"
      ]
     },
     "metadata": {},
     "output_type": "display_data"
    }
   ],
   "source": [
    "P_coffee_and_soda <- P_coffee+P_soda-P_coffee_or_soda\n",
    "P_coffee_and_soda"
   ]
  },
  {
   "cell_type": "markdown",
   "metadata": {},
   "source": [
    "(b) What is the probability that a randomly selected adult doesn't regularly consume at least one of these two products?"
   ]
  },
  {
   "cell_type": "code",
   "execution_count": 30,
   "metadata": {
    "collapsed": false
   },
   "outputs": [
    {
     "data": {
      "text/html": [
       "0.35"
      ],
      "text/latex": [
       "0.35"
      ],
      "text/markdown": [
       "0.35"
      ],
      "text/plain": [
       "[1] 0.35"
      ]
     },
     "metadata": {},
     "output_type": "display_data"
    }
   ],
   "source": [
    "1-P_coffee_or_soda"
   ]
  },
  {
   "cell_type": "markdown",
   "metadata": {},
   "source": [
    "## Problem 7\n",
    "An insurance company offers four different deductible levels—none, low, medium, and high—for its homeowner's policyholders and three different levels—low, medium, and high—for its automobile policyholders. The accompanying table gives proportions for the various categories of policyholders who have both types of insurance. For example, the proportion of individuals with both low homeowner's deductible and low auto deductible is 0.07 (7% of all such individuals). "
   ]
  },
  {
   "cell_type": "code",
   "execution_count": 31,
   "metadata": {
    "collapsed": false
   },
   "outputs": [
    {
     "data": {
      "text/html": [
       "<table>\n",
       "<thead><tr><th></th><th scope=col>N_Home</th><th scope=col>L_Home</th><th scope=col>M_Home</th><th scope=col>H_Home</th></tr></thead>\n",
       "<tbody>\n",
       "\t<tr><th scope=row>L_Auto</th><td>0.04</td><td>0.07</td><td>0.05</td><td>0.04</td></tr>\n",
       "\t<tr><th scope=row>M_Auto</th><td>0.07</td><td>0.12</td><td>0.20</td><td>0.06</td></tr>\n",
       "\t<tr><th scope=row>H_Auto</th><td>0.02</td><td>0.03</td><td>0.15</td><td>0.15</td></tr>\n",
       "</tbody>\n",
       "</table>\n"
      ],
      "text/latex": [
       "\\begin{tabular}{r|llll}\n",
       "  & N\\_Home & L\\_Home & M\\_Home & H\\_Home\\\\\n",
       "\\hline\n",
       "\tL\\_Auto & 0.04 & 0.07 & 0.05 & 0.04\\\\\n",
       "\tM\\_Auto & 0.07 & 0.12 & 0.20 & 0.06\\\\\n",
       "\tH\\_Auto & 0.02 & 0.03 & 0.15 & 0.15\\\\\n",
       "\\end{tabular}\n"
      ],
      "text/markdown": [
       "\n",
       "| <!--/--> | N_Home | L_Home | M_Home | H_Home | \n",
       "|---|---|---|\n",
       "| L_Auto | 0.04 | 0.07 | 0.05 | 0.04 | \n",
       "| M_Auto | 0.07 | 0.12 | 0.20 | 0.06 | \n",
       "| H_Auto | 0.02 | 0.03 | 0.15 | 0.15 | \n",
       "\n",
       "\n"
      ],
      "text/plain": [
       "       N_Home L_Home M_Home H_Home\n",
       "L_Auto 0.04   0.07   0.05   0.04  \n",
       "M_Auto 0.07   0.12   0.20   0.06  \n",
       "H_Auto 0.02   0.03   0.15   0.15  "
      ]
     },
     "metadata": {},
     "output_type": "display_data"
    }
   ],
   "source": [
    "L_Auto <-c(0.04,0.07,0.05,0.04)\n",
    "M_Auto <-c(0.07,0.12,0.20,0.06)\n",
    "H_Auto <-c(0.02,0.03,0.15,0.15)\n",
    "insurance <- data.frame(rbind(L_Auto,M_Auto,H_Auto))\n",
    "colnames(insurance) <- c('N_Home','L_Home','M_Home','H_Home')\n",
    "insurance"
   ]
  },
  {
   "cell_type": "markdown",
   "metadata": {},
   "source": [
    "Suppose an individual having both types of policies is randomly selected.\n",
    "(a) What is the probability that the individual has a medium auto deductible and a high homeowner's deductible?"
   ]
  },
  {
   "cell_type": "code",
   "execution_count": 32,
   "metadata": {
    "collapsed": false
   },
   "outputs": [
    {
     "data": {
      "text/html": [
       "0.06"
      ],
      "text/latex": [
       "0.06"
      ],
      "text/markdown": [
       "0.06"
      ],
      "text/plain": [
       "[1] 0.06"
      ]
     },
     "metadata": {},
     "output_type": "display_data"
    }
   ],
   "source": [
    "insurance['M_Auto','H_Home']"
   ]
  },
  {
   "cell_type": "markdown",
   "metadata": {},
   "source": [
    "(b) What is the probability that the individual has a low auto deductible? \n",
    "A low homeowner's deductible?"
   ]
  },
  {
   "cell_type": "code",
   "execution_count": 33,
   "metadata": {
    "collapsed": false
   },
   "outputs": [
    {
     "data": {
      "text/html": [
       "0.2"
      ],
      "text/latex": [
       "0.2"
      ],
      "text/markdown": [
       "0.2"
      ],
      "text/plain": [
       "[1] 0.2"
      ]
     },
     "metadata": {},
     "output_type": "display_data"
    },
    {
     "data": {
      "text/html": [
       "0.22"
      ],
      "text/latex": [
       "0.22"
      ],
      "text/markdown": [
       "0.22"
      ],
      "text/plain": [
       "[1] 0.22"
      ]
     },
     "metadata": {},
     "output_type": "display_data"
    }
   ],
   "source": [
    "P_L_Auto <- sum(insurance['L_Auto',])\n",
    "P_L_Auto\n",
    "P_L_Home <- sum(insurance[,'L_Home'])\n",
    "P_L_Home"
   ]
  },
  {
   "cell_type": "markdown",
   "metadata": {},
   "source": [
    "(c) What is the probability that the individual is in the same category for both auto and homeowner's deductibles?"
   ]
  },
  {
   "cell_type": "code",
   "execution_count": 34,
   "metadata": {
    "collapsed": false
   },
   "outputs": [
    {
     "data": {
      "text/html": [
       "0.42"
      ],
      "text/latex": [
       "0.42"
      ],
      "text/markdown": [
       "0.42"
      ],
      "text/plain": [
       "[1] 0.42"
      ]
     },
     "metadata": {},
     "output_type": "display_data"
    }
   ],
   "source": [
    "P_same <- insurance['L_Auto','L_Home']+\n",
    "insurance['M_Auto','M_Home']+\n",
    "insurance['H_Auto','H_Home']\n",
    "P_same"
   ]
  },
  {
   "cell_type": "markdown",
   "metadata": {},
   "source": [
    "(d) Based on your answer in part (c), what is the probability that the two categories are different?"
   ]
  },
  {
   "cell_type": "code",
   "execution_count": 35,
   "metadata": {
    "collapsed": false
   },
   "outputs": [
    {
     "data": {
      "text/html": [
       "0.58"
      ],
      "text/latex": [
       "0.58"
      ],
      "text/markdown": [
       "0.58"
      ],
      "text/plain": [
       "[1] 0.58"
      ]
     },
     "metadata": {},
     "output_type": "display_data"
    }
   ],
   "source": [
    "P_diff <- 1-P_same\n",
    "P_diff"
   ]
  },
  {
   "cell_type": "markdown",
   "metadata": {},
   "source": [
    "(e) What is the probability that the individual has at least one low deductible level?"
   ]
  },
  {
   "cell_type": "code",
   "execution_count": 36,
   "metadata": {
    "collapsed": false
   },
   "outputs": [
    {
     "data": {
      "text/html": [
       "0.35"
      ],
      "text/latex": [
       "0.35"
      ],
      "text/markdown": [
       "0.35"
      ],
      "text/plain": [
       "[1] 0.35"
      ]
     },
     "metadata": {},
     "output_type": "display_data"
    }
   ],
   "source": [
    "P_one_low <- sum(insurance['L_Auto',        ])+\n",
    "             sum(insurance[        ,'L_Home'])-\n",
    "                 insurance['L_Auto','L_Home']\n",
    "P_one_low"
   ]
  },
  {
   "cell_type": "markdown",
   "metadata": {},
   "source": [
    "(f) Using the answer in part (e), what is the probability that neither deductible level is low?"
   ]
  },
  {
   "cell_type": "code",
   "execution_count": 37,
   "metadata": {
    "collapsed": false
   },
   "outputs": [
    {
     "data": {
      "text/html": [
       "0.65"
      ],
      "text/latex": [
       "0.65"
      ],
      "text/markdown": [
       "0.65"
      ],
      "text/plain": [
       "[1] 0.65"
      ]
     },
     "metadata": {},
     "output_type": "display_data"
    }
   ],
   "source": [
    "1-P_one_low"
   ]
  },
  {
   "cell_type": "markdown",
   "metadata": {},
   "source": [
    "## Problem 8\n",
    "Show that if one event A is contained in another event B (i.e., A is a subset of B), then\n",
    "P(A) ≤ P(B).\n",
    "[Hint: For such A and B, A and\n",
    "B ∩ A'\n",
    "are disjoint and\n",
    "B = A ∪ (B ∩ A'),\n",
    "as can be seen from a Venn diagram.] \n",
    "\n",
    "\n",
    "Since A is contained in B, we may write B as \n",
    "B=A ∪ (B ∩ A'), the union of two mutually exclusive events. \n",
    "\n",
    "Then P(B) = P(A ∪ (B ∩ A'))\n",
    "and  P(B) = P(A) + P(B ∩ A') \n",
    "\n",
    "\n",
    "Then, since P(B ∩ A')>=0\n",
    "it follows that P(B) ≥ P(A)+0. \n",
    "\n",
    "This proves the statement. "
   ]
  },
  {
   "cell_type": "markdown",
   "metadata": {},
   "source": [
    " For general A and B, what does this imply about the relationship among\n",
    "P(A ∩ B),\n",
    "P(A)\n",
    "and\n",
    "P(A ∪ B)?\n",
    "\n",
    "P(A ∩ B) ≤ P(A) ≤ P(A ∪ B)\n"
   ]
  },
  {
   "cell_type": "markdown",
   "metadata": {},
   "source": [
    "## Problem 9\n",
    "An academic department with five faculty members—Anderson, Box, Cox, Cramer, and Fisher—must select two of its members to serve on a personnel review committee. Because the work will be time-consuming, no one is anxious to serve, so it is decided that the representative will be selected by putting the names on identical pieces of paper and then randomly selecting two. "
   ]
  },
  {
   "cell_type": "code",
   "execution_count": 38,
   "metadata": {
    "collapsed": false
   },
   "outputs": [
    {
     "data": {
      "text/html": [
       "<table>\n",
       "<tbody>\n",
       "\t<tr><td>Anderson</td><td>Box     </td></tr>\n",
       "\t<tr><td>Anderson</td><td>Cox     </td></tr>\n",
       "\t<tr><td>Anderson</td><td>Cramer  </td></tr>\n",
       "\t<tr><td>Anderson</td><td>Fisher  </td></tr>\n",
       "\t<tr><td>Box     </td><td>Cox     </td></tr>\n",
       "\t<tr><td>Box     </td><td>Cramer  </td></tr>\n",
       "\t<tr><td>Box     </td><td>Fisher  </td></tr>\n",
       "\t<tr><td>Cox     </td><td>Cramer  </td></tr>\n",
       "\t<tr><td>Cox     </td><td>Fisher  </td></tr>\n",
       "\t<tr><td>Cramer  </td><td>Fisher  </td></tr>\n",
       "</tbody>\n",
       "</table>\n"
      ],
      "text/latex": [
       "\\begin{tabular}{ll}\n",
       "\t Anderson & Box     \\\\\n",
       "\t Anderson & Cox     \\\\\n",
       "\t Anderson & Cramer  \\\\\n",
       "\t Anderson & Fisher  \\\\\n",
       "\t Box      & Cox     \\\\\n",
       "\t Box      & Cramer  \\\\\n",
       "\t Box      & Fisher  \\\\\n",
       "\t Cox      & Cramer  \\\\\n",
       "\t Cox      & Fisher  \\\\\n",
       "\t Cramer   & Fisher  \\\\\n",
       "\\end{tabular}\n"
      ],
      "text/markdown": [
       "\n",
       "| Anderson | Box      | \n",
       "| Anderson | Cox      | \n",
       "| Anderson | Cramer   | \n",
       "| Anderson | Fisher   | \n",
       "| Box      | Cox      | \n",
       "| Box      | Cramer   | \n",
       "| Box      | Fisher   | \n",
       "| Cox      | Cramer   | \n",
       "| Cox      | Fisher   | \n",
       "| Cramer   | Fisher   | \n",
       "\n",
       "\n"
      ],
      "text/plain": [
       "      [,1]     [,2]  \n",
       " [1,] Anderson Box   \n",
       " [2,] Anderson Cox   \n",
       " [3,] Anderson Cramer\n",
       " [4,] Anderson Fisher\n",
       " [5,] Box      Cox   \n",
       " [6,] Box      Cramer\n",
       " [7,] Box      Fisher\n",
       " [8,] Cox      Cramer\n",
       " [9,] Cox      Fisher\n",
       "[10,] Cramer   Fisher"
      ]
     },
     "metadata": {},
     "output_type": "display_data"
    }
   ],
   "source": [
    "members <- c('Anderson', 'Box', 'Cox', 'Cramer', 'Fisher')\n",
    "initials <- c('A','B','C','C','F')\n",
    "outcomes <- t(combn(members,m = 2, simplify = TRUE))\n",
    "outcomes"
   ]
  },
  {
   "cell_type": "markdown",
   "metadata": {},
   "source": [
    "(a) What is the probability that both Anderson and Box will be selected? [Hint: List the equally likely outcomes.]"
   ]
  },
  {
   "cell_type": "code",
   "execution_count": 39,
   "metadata": {
    "collapsed": false
   },
   "outputs": [
    {
     "data": {
      "text/html": [
       "0.1"
      ],
      "text/latex": [
       "0.1"
      ],
      "text/markdown": [
       "0.1"
      ],
      "text/plain": [
       "[1] 0.1"
      ]
     },
     "metadata": {},
     "output_type": "display_data"
    }
   ],
   "source": [
    "n_outcomes=dim(outcomes)[1]\n",
    "1/n_outcomes"
   ]
  },
  {
   "cell_type": "markdown",
   "metadata": {},
   "source": [
    "(b) What is the probability that at least one of the two members whose name begins with C is selected?"
   ]
  },
  {
   "cell_type": "code",
   "execution_count": 40,
   "metadata": {
    "collapsed": false
   },
   "outputs": [
    {
     "data": {
      "text/html": [
       "0.7"
      ],
      "text/latex": [
       "0.7"
      ],
      "text/markdown": [
       "0.7"
      ],
      "text/plain": [
       "[1] 0.7"
      ]
     },
     "metadata": {},
     "output_type": "display_data"
    }
   ],
   "source": [
    "init_outcomes <- t(combn(initials,m = 2, simplify = TRUE))\n",
    "isC <- init_outcomes=='C'\n",
    "sum(apply(isC,1,any))/n_outcomes"
   ]
  },
  {
   "cell_type": "markdown",
   "metadata": {},
   "source": [
    "(c) If the five faculty members have taught for 3, 6, 7, 10, and 14 years, respectively, at the university, what is the probability that the two chosen representatives have a total of at least 16 years teaching experience there?"
   ]
  },
  {
   "cell_type": "code",
   "execution_count": 41,
   "metadata": {
    "collapsed": false
   },
   "outputs": [
    {
     "data": {
      "text/html": [
       "0.6"
      ],
      "text/latex": [
       "0.6"
      ],
      "text/markdown": [
       "0.6"
      ],
      "text/plain": [
       "[1] 0.6"
      ]
     },
     "metadata": {},
     "output_type": "display_data"
    }
   ],
   "source": [
    "years_taught <- c(3,6,7,10,14)\n",
    "years_outcomes <- t(combn(years_taught,m = 2, simplify = TRUE))\n",
    "sum(apply(years_outcomes,1,sum)>=16)/n_outcomes"
   ]
  },
  {
   "cell_type": "markdown",
   "metadata": {},
   "source": [
    "## Problem 10\n",
    " As of April 2006, roughly 50 million .com web domain names were registered (e.g., yahoo.com)."
   ]
  },
  {
   "cell_type": "code",
   "execution_count": 42,
   "metadata": {
    "collapsed": true
   },
   "outputs": [],
   "source": [
    "two_letter_domains <- expand.grid(letters,letters)"
   ]
  },
  {
   "cell_type": "markdown",
   "metadata": {},
   "source": [
    "(a)\n",
    "How many domain names consisting of just two letters in sequence can be formed?"
   ]
  },
  {
   "cell_type": "code",
   "execution_count": 43,
   "metadata": {
    "collapsed": false
   },
   "outputs": [
    {
     "data": {
      "text/html": [
       "676"
      ],
      "text/latex": [
       "676"
      ],
      "text/markdown": [
       "676"
      ],
      "text/plain": [
       "[1] 676"
      ]
     },
     "metadata": {},
     "output_type": "display_data"
    },
    {
     "data": {
      "text/html": [
       "676"
      ],
      "text/latex": [
       "676"
      ],
      "text/markdown": [
       "676"
      ],
      "text/plain": [
       "[1] 676"
      ]
     },
     "metadata": {},
     "output_type": "display_data"
    }
   ],
   "source": [
    "dim(two_letter_domains)[1]\n",
    "26*26"
   ]
  },
  {
   "cell_type": "markdown",
   "metadata": {},
   "source": [
    "How many domain names of length two are there if digits as well as letters are permitted as characters? [Note: A character length of three or more is now mandated.]"
   ]
  },
  {
   "cell_type": "code",
   "execution_count": 44,
   "metadata": {
    "collapsed": false
   },
   "outputs": [
    {
     "data": {
      "text/html": [
       "1296"
      ],
      "text/latex": [
       "1296"
      ],
      "text/markdown": [
       "1296"
      ],
      "text/plain": [
       "[1] 1296"
      ]
     },
     "metadata": {},
     "output_type": "display_data"
    }
   ],
   "source": [
    "36*36"
   ]
  },
  {
   "cell_type": "markdown",
   "metadata": {},
   "source": [
    "(b)\n",
    "How many domain names are there consisting of three letters in sequence? [Note: All are currently taken.]"
   ]
  },
  {
   "cell_type": "code",
   "execution_count": 45,
   "metadata": {
    "collapsed": false
   },
   "outputs": [
    {
     "data": {
      "text/html": [
       "17576"
      ],
      "text/latex": [
       "17576"
      ],
      "text/markdown": [
       "17576"
      ],
      "text/plain": [
       "[1] 17576"
      ]
     },
     "metadata": {},
     "output_type": "display_data"
    }
   ],
   "source": [
    "26*26*26"
   ]
  },
  {
   "cell_type": "markdown",
   "metadata": {},
   "source": [
    "How many of this length are there if either letters or digits are permitted?"
   ]
  },
  {
   "cell_type": "code",
   "execution_count": 46,
   "metadata": {
    "collapsed": false
   },
   "outputs": [
    {
     "data": {
      "text/html": [
       "46656"
      ],
      "text/latex": [
       "46656"
      ],
      "text/markdown": [
       "46656"
      ],
      "text/plain": [
       "[1] 46656"
      ]
     },
     "metadata": {},
     "output_type": "display_data"
    }
   ],
   "source": [
    "36*36*36"
   ]
  },
  {
   "cell_type": "markdown",
   "metadata": {},
   "source": [
    "(c)\n",
    "How many domain names are there consisting of four letters in sequence?"
   ]
  },
  {
   "cell_type": "code",
   "execution_count": 47,
   "metadata": {
    "collapsed": false
   },
   "outputs": [
    {
     "data": {
      "text/html": [
       "456976"
      ],
      "text/latex": [
       "456976"
      ],
      "text/markdown": [
       "456976"
      ],
      "text/plain": [
       "[1] 456976"
      ]
     },
     "metadata": {},
     "output_type": "display_data"
    }
   ],
   "source": [
    "26^4"
   ]
  },
  {
   "cell_type": "markdown",
   "metadata": {},
   "source": [
    "How many of this length are there if either letters or digits are permitted?"
   ]
  },
  {
   "cell_type": "code",
   "execution_count": 48,
   "metadata": {
    "collapsed": false
   },
   "outputs": [
    {
     "data": {
      "text/html": [
       "1679616"
      ],
      "text/latex": [
       "1679616"
      ],
      "text/markdown": [
       "1679616"
      ],
      "text/plain": [
       "[1] 1679616"
      ]
     },
     "metadata": {},
     "output_type": "display_data"
    }
   ],
   "source": [
    "36^4"
   ]
  },
  {
   "cell_type": "markdown",
   "metadata": {},
   "source": [
    "(d)\n",
    "As of a certain date, 98,795 of the four-character sequences using either letters or digits had not yet been claimed. If a four-character name is randomly selected on that date, what is the probability that it is already owned? (Round your answer to four decimal places.) "
   ]
  },
  {
   "cell_type": "code",
   "execution_count": 49,
   "metadata": {
    "collapsed": false
   },
   "outputs": [
    {
     "data": {
      "text/html": [
       "0.9412"
      ],
      "text/latex": [
       "0.9412"
      ],
      "text/markdown": [
       "0.9412"
      ],
      "text/plain": [
       "[1] 0.9412"
      ]
     },
     "metadata": {},
     "output_type": "display_data"
    }
   ],
   "source": [
    "round(1-98795/(36^4),4)"
   ]
  },
  {
   "cell_type": "markdown",
   "metadata": {},
   "source": [
    "## Problem 11\n",
    "Computer keyboard failures can be attributed to electrical defects or mechanical defects. A repair facility currently has 25 failed keyboards, 8 of which have electrical defects and 17 of which have mechanical defects. "
   ]
  },
  {
   "cell_type": "code",
   "execution_count": 50,
   "metadata": {
    "collapsed": true
   },
   "outputs": [],
   "source": [
    "N <- 25\n",
    "n <- 7\n",
    "n_electrical <- 8\n",
    "n_mechanical <- 17"
   ]
  },
  {
   "cell_type": "markdown",
   "metadata": {},
   "source": [
    "(a)\n",
    "How many ways are there to randomly select 7 of these keyboards for a thorough inspection (without regard to order)?"
   ]
  },
  {
   "cell_type": "code",
   "execution_count": 51,
   "metadata": {
    "collapsed": false
   },
   "outputs": [
    {
     "data": {
      "text/html": [
       "480700"
      ],
      "text/latex": [
       "480700"
      ],
      "text/markdown": [
       "480700"
      ],
      "text/plain": [
       "[1] 480700"
      ]
     },
     "metadata": {},
     "output_type": "display_data"
    }
   ],
   "source": [
    "total  <- choose(N,n)\n",
    "total"
   ]
  },
  {
   "cell_type": "markdown",
   "metadata": {},
   "source": [
    "(b)\n",
    "In how many ways can a sample of 7 keyboards be selected so that exactly two have an electrical defect?"
   ]
  },
  {
   "cell_type": "code",
   "execution_count": 52,
   "metadata": {
    "collapsed": false
   },
   "outputs": [
    {
     "data": {
      "text/html": [
       "173264"
      ],
      "text/latex": [
       "173264"
      ],
      "text/markdown": [
       "173264"
      ],
      "text/plain": [
       "[1] 173264"
      ]
     },
     "metadata": {},
     "output_type": "display_data"
    }
   ],
   "source": [
    "choose(n_electrical,2)*choose(N-n_electrical,n-2)"
   ]
  },
  {
   "cell_type": "markdown",
   "metadata": {},
   "source": [
    "(c)\n",
    "If a sample of 7 keyboards is randomly selected, what is the probability that at least 6 of these will have a mechanical defect? (Round your answer to four decimal places.) "
   ]
  },
  {
   "cell_type": "code",
   "execution_count": 53,
   "metadata": {
    "collapsed": false
   },
   "outputs": [
    {
     "data": {
      "text/html": [
       "0.2464"
      ],
      "text/latex": [
       "0.2464"
      ],
      "text/markdown": [
       "0.2464"
      ],
      "text/plain": [
       "[1] 0.2464"
      ]
     },
     "metadata": {},
     "output_type": "display_data"
    }
   ],
   "source": [
    "case_6 <- choose(n_mechanical,6)*choose(N-n_mechanical,n-6)\n",
    "case_7 <- choose(n_mechanical,7)*choose(N-n_mechanical,n-7)\n",
    "round((case_6+case_7)/total,4)"
   ]
  },
  {
   "cell_type": "markdown",
   "metadata": {},
   "source": [
    "## Problem 12\n",
    "The population of a particular country consists of three ethnic groups. Each individual belongs to one of the four major blood groups. The accompanying joint probability table gives the proportions of individuals in the various ethnic group-blood group combinations. "
   ]
  },
  {
   "cell_type": "code",
   "execution_count": 54,
   "metadata": {
    "collapsed": false
   },
   "outputs": [
    {
     "data": {
      "text/html": [
       "<table>\n",
       "<thead><tr><th></th><th scope=col>O</th><th scope=col>A</th><th scope=col>B</th><th scope=col>AB</th></tr></thead>\n",
       "<tbody>\n",
       "\t<tr><th scope=row>eth_1</th><td>0.082</td><td>0.115</td><td>0.011</td><td>0.004</td></tr>\n",
       "\t<tr><th scope=row>eth_2</th><td>0.126</td><td>0.141</td><td>0.018</td><td>0.003</td></tr>\n",
       "\t<tr><th scope=row>eth_3</th><td>0.215</td><td>0.209</td><td>0.056</td><td>0.020</td></tr>\n",
       "</tbody>\n",
       "</table>\n"
      ],
      "text/latex": [
       "\\begin{tabular}{r|llll}\n",
       "  & O & A & B & AB\\\\\n",
       "\\hline\n",
       "\teth\\_1 & 0.082 & 0.115 & 0.011 & 0.004\\\\\n",
       "\teth\\_2 & 0.126 & 0.141 & 0.018 & 0.003\\\\\n",
       "\teth\\_3 & 0.215 & 0.209 & 0.056 & 0.020\\\\\n",
       "\\end{tabular}\n"
      ],
      "text/markdown": [
       "\n",
       "| <!--/--> | O | A | B | AB | \n",
       "|---|---|---|\n",
       "| eth_1 | 0.082 | 0.115 | 0.011 | 0.004 | \n",
       "| eth_2 | 0.126 | 0.141 | 0.018 | 0.003 | \n",
       "| eth_3 | 0.215 | 0.209 | 0.056 | 0.020 | \n",
       "\n",
       "\n"
      ],
      "text/plain": [
       "      O     A     B     AB   \n",
       "eth_1 0.082 0.115 0.011 0.004\n",
       "eth_2 0.126 0.141 0.018 0.003\n",
       "eth_3 0.215 0.209 0.056 0.020"
      ]
     },
     "metadata": {},
     "output_type": "display_data"
    }
   ],
   "source": [
    "eth_1 <- c(0.082,0.115,0.011,0.004)\n",
    "eth_2 <- c(0.126,0.141,0.018,0.003)\n",
    "eth_3 <- c(0.215,0.209,0.056,0.020)\n",
    "blood_demo <- rbind(eth_1,eth_2,eth_3)\n",
    "colnames(blood_demo) <- c('O','A','B','AB')\n",
    "blood_demo"
   ]
  },
  {
   "cell_type": "markdown",
   "metadata": {},
   "source": [
    "Suppose that an individual is randomly selected from the population, and define events by A = {type A selected}, B = {type B selected}, and C = {ethnic group 3 selected}. "
   ]
  },
  {
   "cell_type": "code",
   "execution_count": 55,
   "metadata": {
    "collapsed": true
   },
   "outputs": [],
   "source": [
    "P_A <- sum(blood_demo[,'A']) \n",
    "P_B <- sum(blood_demo[,'B'])\n",
    "P_C <- sum(blood_demo['eth_3',])"
   ]
  },
  {
   "cell_type": "markdown",
   "metadata": {},
   "source": [
    "(a) Calculate P(A), P(C), and P(A ∩ C). (Enter your answers to three decimal places.) "
   ]
  },
  {
   "cell_type": "code",
   "execution_count": 56,
   "metadata": {
    "collapsed": false
   },
   "outputs": [
    {
     "data": {
      "text/html": [
       "0.465"
      ],
      "text/latex": [
       "0.465"
      ],
      "text/markdown": [
       "0.465"
      ],
      "text/plain": [
       "[1] 0.465"
      ]
     },
     "metadata": {},
     "output_type": "display_data"
    },
    {
     "data": {
      "text/html": [
       "0.5"
      ],
      "text/latex": [
       "0.5"
      ],
      "text/markdown": [
       "0.5"
      ],
      "text/plain": [
       "[1] 0.5"
      ]
     },
     "metadata": {},
     "output_type": "display_data"
    },
    {
     "data": {
      "text/html": [
       "0.209"
      ],
      "text/latex": [
       "0.209"
      ],
      "text/markdown": [
       "0.209"
      ],
      "text/plain": [
       "[1] 0.209"
      ]
     },
     "metadata": {},
     "output_type": "display_data"
    }
   ],
   "source": [
    "P_A\n",
    "P_C\n",
    "P_A_and_C <- blood_demo['eth_3','A']\n",
    "P_A_and_C"
   ]
  },
  {
   "cell_type": "markdown",
   "metadata": {},
   "source": [
    "(b) Calculate both P(A | C) and P(C | A). (Round your answers to three decimal places.) "
   ]
  },
  {
   "cell_type": "code",
   "execution_count": 57,
   "metadata": {
    "collapsed": false
   },
   "outputs": [
    {
     "data": {
      "text/html": [
       "0.418"
      ],
      "text/latex": [
       "0.418"
      ],
      "text/markdown": [
       "0.418"
      ],
      "text/plain": [
       "[1] 0.418"
      ]
     },
     "metadata": {},
     "output_type": "display_data"
    },
    {
     "data": {
      "text/html": [
       "0.449"
      ],
      "text/latex": [
       "0.449"
      ],
      "text/markdown": [
       "0.449"
      ],
      "text/plain": [
       "[1] 0.449"
      ]
     },
     "metadata": {},
     "output_type": "display_data"
    }
   ],
   "source": [
    "P_A_and_C/P_C\n",
    "round(P_A_and_C/P_A,3)"
   ]
  },
  {
   "cell_type": "markdown",
   "metadata": {},
   "source": [
    "Explain in context what each of these probabilities represents. (Select all that apply.) \n",
    "\n",
    "If we know that the individual came from ethnic group 3, the probability that he has type A is given by P(A | C).\n",
    "\n",
    "If a person has type A blood, the probability that he is from ethnic group 3 is given by P(C | A)."
   ]
  },
  {
   "cell_type": "markdown",
   "metadata": {},
   "source": [
    "\n",
    "(c) If the selected individual does not have type B blood, what is the probability that he or she is from ethnic group 1? (Round your answer to three decimal places.)"
   ]
  },
  {
   "cell_type": "code",
   "execution_count": 58,
   "metadata": {
    "collapsed": false
   },
   "outputs": [
    {
     "data": {
      "text/html": [
       "0.22"
      ],
      "text/latex": [
       "0.22"
      ],
      "text/markdown": [
       "0.22"
      ],
      "text/plain": [
       "[1] 0.22"
      ]
     },
     "metadata": {},
     "output_type": "display_data"
    }
   ],
   "source": [
    "P_notB <- 1-P_B\n",
    "P_1_and_notB <- sum(blood_demo['eth_1',c('O','A','AB')])\n",
    "round(P_1_and_notB/P_notB,3)"
   ]
  },
  {
   "cell_type": "markdown",
   "metadata": {},
   "source": [
    "## Problem 13\n",
    "\n",
    " A department store sells sport shirts in three sizes (small, medium, and large), three patterns (plaid, print, and stripe), and two sleeve lengths (long and short). The accompanying tables give the proportions of shirts sold in the various category combinations. "
   ]
  },
  {
   "cell_type": "code",
   "execution_count": 59,
   "metadata": {
    "collapsed": false
   },
   "outputs": [
    {
     "data": {
      "text/html": [
       "<table>\n",
       "<thead><tr><th></th><th scope=col>Pl</th><th scope=col>Pr</th><th scope=col>St</th></tr></thead>\n",
       "<tbody>\n",
       "\t<tr><th scope=row>S</th><td>0.04</td><td>0.02</td><td>0.05</td></tr>\n",
       "\t<tr><th scope=row>M</th><td>0.08</td><td>0.08</td><td>0.12</td></tr>\n",
       "\t<tr><th scope=row>L</th><td>0.03</td><td>0.07</td><td>0.08</td></tr>\n",
       "</tbody>\n",
       "</table>\n"
      ],
      "text/latex": [
       "\\begin{tabular}{r|lll}\n",
       "  & Pl & Pr & St\\\\\n",
       "\\hline\n",
       "\tS & 0.04 & 0.02 & 0.05\\\\\n",
       "\tM & 0.08 & 0.08 & 0.12\\\\\n",
       "\tL & 0.03 & 0.07 & 0.08\\\\\n",
       "\\end{tabular}\n"
      ],
      "text/markdown": [
       "\n",
       "| <!--/--> | Pl | Pr | St | \n",
       "|---|---|---|\n",
       "| S | 0.04 | 0.02 | 0.05 | \n",
       "| M | 0.08 | 0.08 | 0.12 | \n",
       "| L | 0.03 | 0.07 | 0.08 | \n",
       "\n",
       "\n"
      ],
      "text/plain": [
       "  Pl   Pr   St  \n",
       "S 0.04 0.02 0.05\n",
       "M 0.08 0.08 0.12\n",
       "L 0.03 0.07 0.08"
      ]
     },
     "metadata": {},
     "output_type": "display_data"
    },
    {
     "data": {
      "text/html": [
       "<table>\n",
       "<thead><tr><th></th><th scope=col>Pl</th><th scope=col>Pr</th><th scope=col>St</th></tr></thead>\n",
       "<tbody>\n",
       "\t<tr><th scope=row>S</th><td>0.03</td><td>0.02</td><td>0.03</td></tr>\n",
       "\t<tr><th scope=row>M</th><td>0.10</td><td>0.04</td><td>0.07</td></tr>\n",
       "\t<tr><th scope=row>L</th><td>0.04</td><td>0.02</td><td>0.08</td></tr>\n",
       "</tbody>\n",
       "</table>\n"
      ],
      "text/latex": [
       "\\begin{tabular}{r|lll}\n",
       "  & Pl & Pr & St\\\\\n",
       "\\hline\n",
       "\tS & 0.03 & 0.02 & 0.03\\\\\n",
       "\tM & 0.10 & 0.04 & 0.07\\\\\n",
       "\tL & 0.04 & 0.02 & 0.08\\\\\n",
       "\\end{tabular}\n"
      ],
      "text/markdown": [
       "\n",
       "| <!--/--> | Pl | Pr | St | \n",
       "|---|---|---|\n",
       "| S | 0.03 | 0.02 | 0.03 | \n",
       "| M | 0.10 | 0.04 | 0.07 | \n",
       "| L | 0.04 | 0.02 | 0.08 | \n",
       "\n",
       "\n"
      ],
      "text/plain": [
       "  Pl   Pr   St  \n",
       "S 0.03 0.02 0.03\n",
       "M 0.10 0.04 0.07\n",
       "L 0.04 0.02 0.08"
      ]
     },
     "metadata": {},
     "output_type": "display_data"
    }
   ],
   "source": [
    "short_sleeve <- rbind(S=c(0.04,0.02,0.05)\n",
    "                      ,M=c(0.08,0.08,0.12)\n",
    "                      ,L=c(0.03,0.07,0.08))\n",
    "colnames(short_sleeve) <-c('Pl','Pr','St')    \n",
    "short_sleeve\n",
    "\n",
    "long_sleeve <- rbind(S=c(0.03,0.02,0.03)\n",
    "                     ,M=c(0.10,0.04,0.07)\n",
    "                     ,L=c(0.04,0.02,0.08))\n",
    "colnames(long_sleeve) <-c('Pl','Pr','St')    \n",
    "long_sleeve\n"
   ]
  },
  {
   "cell_type": "markdown",
   "metadata": {},
   "source": [
    "(a) What is the probability that the next shirt sold is a medium, long-sleeved, print shirt?"
   ]
  },
  {
   "cell_type": "code",
   "execution_count": 60,
   "metadata": {
    "collapsed": false
   },
   "outputs": [
    {
     "data": {
      "text/html": [
       "0.04"
      ],
      "text/latex": [
       "0.04"
      ],
      "text/markdown": [
       "0.04"
      ],
      "text/plain": [
       "[1] 0.04"
      ]
     },
     "metadata": {},
     "output_type": "display_data"
    }
   ],
   "source": [
    "long_sleeve['M','Pr']"
   ]
  },
  {
   "cell_type": "markdown",
   "metadata": {},
   "source": [
    "(b) What is the probability that the next shirt sold is a medium print shirt?"
   ]
  },
  {
   "cell_type": "code",
   "execution_count": 61,
   "metadata": {
    "collapsed": false
   },
   "outputs": [
    {
     "data": {
      "text/html": [
       "0.12"
      ],
      "text/latex": [
       "0.12"
      ],
      "text/markdown": [
       "0.12"
      ],
      "text/plain": [
       "[1] 0.12"
      ]
     },
     "metadata": {},
     "output_type": "display_data"
    }
   ],
   "source": [
    "short_sleeve['M','Pr']+long_sleeve['M','Pr']"
   ]
  },
  {
   "cell_type": "markdown",
   "metadata": {},
   "source": [
    "(c) What is the probability that the next shirt sold is a short-sleeved shirt? \n",
    "A long-sleeved shirt?"
   ]
  },
  {
   "cell_type": "code",
   "execution_count": 62,
   "metadata": {
    "collapsed": false
   },
   "outputs": [
    {
     "data": {
      "text/html": [
       "0.57"
      ],
      "text/latex": [
       "0.57"
      ],
      "text/markdown": [
       "0.57"
      ],
      "text/plain": [
       "[1] 0.57"
      ]
     },
     "metadata": {},
     "output_type": "display_data"
    },
    {
     "data": {
      "text/html": [
       "0.43"
      ],
      "text/latex": [
       "0.43"
      ],
      "text/markdown": [
       "0.43"
      ],
      "text/plain": [
       "[1] 0.43"
      ]
     },
     "metadata": {},
     "output_type": "display_data"
    }
   ],
   "source": [
    "sum(short_sleeve)\n",
    "sum(long_sleeve)"
   ]
  },
  {
   "cell_type": "markdown",
   "metadata": {},
   "source": [
    "(d) What is the probability that the size of the next shirt sold is medium?"
   ]
  },
  {
   "cell_type": "code",
   "execution_count": 63,
   "metadata": {
    "collapsed": false
   },
   "outputs": [
    {
     "data": {
      "text/html": [
       "0.49"
      ],
      "text/latex": [
       "0.49"
      ],
      "text/markdown": [
       "0.49"
      ],
      "text/plain": [
       "[1] 0.49"
      ]
     },
     "metadata": {},
     "output_type": "display_data"
    }
   ],
   "source": [
    "sum(short_sleeve['M',])+\n",
    "sum(long_sleeve['M',])"
   ]
  },
  {
   "cell_type": "markdown",
   "metadata": {},
   "source": [
    "What is the probability that the pattern of the next shirt sold is a print?"
   ]
  },
  {
   "cell_type": "code",
   "execution_count": 64,
   "metadata": {
    "collapsed": false
   },
   "outputs": [
    {
     "data": {
      "text/html": [
       "0.25"
      ],
      "text/latex": [
       "0.25"
      ],
      "text/markdown": [
       "0.25"
      ],
      "text/plain": [
       "[1] 0.25"
      ]
     },
     "metadata": {},
     "output_type": "display_data"
    }
   ],
   "source": [
    "sum(short_sleeve[,'Pr'])+\n",
    "sum(long_sleeve[,'Pr'])"
   ]
  },
  {
   "cell_type": "markdown",
   "metadata": {},
   "source": [
    "(e) Given that the shirt just sold was a short-sleeved plaid, what is the probability that its size was medium? (Round your answer to three decimal places.)"
   ]
  },
  {
   "cell_type": "code",
   "execution_count": 65,
   "metadata": {
    "collapsed": false
   },
   "outputs": [
    {
     "data": {
      "text/html": [
       "0.533"
      ],
      "text/latex": [
       "0.533"
      ],
      "text/markdown": [
       "0.533"
      ],
      "text/plain": [
       "[1] 0.533"
      ]
     },
     "metadata": {},
     "output_type": "display_data"
    }
   ],
   "source": [
    "round(short_sleeve['M','Pl']/sum(short_sleeve[,'Pl']),3)"
   ]
  },
  {
   "cell_type": "markdown",
   "metadata": {},
   "source": [
    "(f) Given that the shirt just sold was a medium plaid, what is the probability that it was short-sleeved? \n",
    "\n",
    "Long-sleeved? (Round your answer to three decimal places.)"
   ]
  },
  {
   "cell_type": "code",
   "execution_count": 66,
   "metadata": {
    "collapsed": false
   },
   "outputs": [
    {
     "data": {
      "text/html": [
       "0.444"
      ],
      "text/latex": [
       "0.444"
      ],
      "text/markdown": [
       "0.444"
      ],
      "text/plain": [
       "[1] 0.444"
      ]
     },
     "metadata": {},
     "output_type": "display_data"
    },
    {
     "data": {
      "text/html": [
       "0.556"
      ],
      "text/latex": [
       "0.556"
      ],
      "text/markdown": [
       "0.556"
      ],
      "text/plain": [
       "[1] 0.556"
      ]
     },
     "metadata": {},
     "output_type": "display_data"
    }
   ],
   "source": [
    "round(short_sleeve['M','Pl']/(short_sleeve['M','Pl']+long_sleeve['M','Pl']),3)\n",
    "round(long_sleeve['M','Pl']/(short_sleeve['M','Pl']+long_sleeve['M','Pl']),3)"
   ]
  },
  {
   "cell_type": "markdown",
   "metadata": {},
   "source": [
    "## Problem 14\n",
    "If P(B | A) > P(B), show that\n",
    "P(B' | A) < P(B').\n",
    "[Hint: Add\n",
    "P(B' | A)\n",
    "to both sides of the given inequality and then use the fact that\n",
    "P(A | B) + P(A' | B) = 1.]\n",
    "\n",
    "\n",
    "P(B | A) + P(B' | A) > P(B) + P(B' | A)\n",
    "\n",
    "1                    > P(B) + P(B' | A) \n",
    "\n",
    "1-P(B)               > P(B' | A)\n",
    "\n",
    "1-P(B)               > P(B' | A)\n",
    "\n",
    "P(B' | A)            < P(B') \t"
   ]
  },
  {
   "cell_type": "markdown",
   "metadata": {},
   "source": [
    "## Problem 15\n",
    "Seventy-eight percent of the light aircraft that disappear while in flight in a certain country are subsequently discovered. Of the aircraft that are discovered, 68% have an emergency locator, whereas 90% of the aircraft not discovered do not have such a locator. Suppose a light aircraft has disappeared. (Round your answers to three decimal places.)"
   ]
  },
  {
   "cell_type": "code",
   "execution_count": 67,
   "metadata": {
    "collapsed": true
   },
   "outputs": [],
   "source": [
    "#A:discovered\n",
    "#B:has locator\n",
    "P_A <- 0.78 #given\n",
    "P_B_given_A <- 0.68 #given\n",
    "P_notB_given_notA <- 0.9 #given"
   ]
  },
  {
   "cell_type": "markdown",
   "metadata": {},
   "source": [
    "(a) If it has an emergency locator, what is the probability that it will not be discovered?\n",
    "\n",
    "given:\n",
    "\n",
    "$P(A)= 0.78$\n",
    "and\n",
    "\n",
    "$P(B|A) = 0.68$ \n",
    "and\n",
    "\n",
    "$P(B'|A') = 0.9$ \n",
    "\n",
    "definition of complement\n",
    "\n",
    "$P(A') = 1-P(A) = 1-0.78 = 0.22$ \n",
    "\n",
    "complement of conditional probability\n",
    "\n",
    "$P(B|A')=1-P(B'|A')=1-0.9=0.1 $\n",
    "\n",
    "partition B\n",
    "\n",
    "$P(B)=P(A) \\cdot P(B|A) + P(A') \\cdot P(B|A')$\n",
    "\n",
    "$=0.78 \\cdot 0.68   + 0.22 \\cdot 0.1 = 0.5524$\n",
    "\n",
    "Apply Bayes Theorem\n",
    "\n",
    "$P(A'|B)=P(B|A') \\cdot \\frac{P(A')}{P(B)}$\n",
    "         \n",
    "$=0.1 \\cdot \\frac{0.22}{0.5524} = 0.0398$"
   ]
  },
  {
   "cell_type": "code",
   "execution_count": 68,
   "metadata": {
    "collapsed": false
   },
   "outputs": [
    {
     "data": {
      "text/html": [
       "0.04"
      ],
      "text/latex": [
       "0.04"
      ],
      "text/markdown": [
       "0.04"
      ],
      "text/plain": [
       "[1] 0.04"
      ]
     },
     "metadata": {},
     "output_type": "display_data"
    }
   ],
   "source": [
    "P_notA <- 1-P_A #definition of complement\n",
    "P_B_given_notA=1-P_notB_given_notA #complement of conditional probability\n",
    "P_B=P_A*P_B_given_A+P_notA*P_B_given_notA # partition of B\n",
    "P_notA_given_B=P_B_given_notA*P_notA/P_B # Bayes Theorem\n",
    "round(P_notA_given_B,3)"
   ]
  },
  {
   "cell_type": "markdown",
   "metadata": {},
   "source": [
    "(b) If it does not have an emergency locator, what is the probability that it will be discovered?\n",
    "\n",
    "complement\n",
    "\n",
    "$P(B') = 1-P(B) = 1-0.5524 = 0.4476$\n",
    "\n",
    "complement of conditional prob\n",
    "\n",
    "$P(B'|A)=1-P(B|A) = 1 - 0.68 = 0.32$\n",
    "\n",
    "Bayes Theorm\n",
    "\n",
    "$P(A|B')=P(B'|A) \\cdot \\frac{P(A)}{P(B')}$\n",
    "$=0.32 \\cdot \\frac{0.78}{0.4476} = 0.558$"
   ]
  },
  {
   "cell_type": "code",
   "execution_count": 69,
   "metadata": {
    "collapsed": false
   },
   "outputs": [
    {
     "data": {
      "text/html": [
       "0.558"
      ],
      "text/latex": [
       "0.558"
      ],
      "text/markdown": [
       "0.558"
      ],
      "text/plain": [
       "[1] 0.558"
      ]
     },
     "metadata": {},
     "output_type": "display_data"
    }
   ],
   "source": [
    "P_notB=1-P_B # complement\n",
    "P_notB_given_A=1-P_B_given_A # complement of conditional prob\n",
    "P_A_given_notB=P_notB_given_A*P_A/P_notB\n",
    "round(P_A_given_notB,3)"
   ]
  },
  {
   "cell_type": "markdown",
   "metadata": {},
   "source": [
    "## Problem 16\n",
    " Blue Cab operates 15% of the taxis in a certain city, and Green Cab operates the other 85%. After a nighttime hit-and-run accident involving a taxi, an eyewitness said the vehicle was blue. Suppose, though, that under night vision conditions, only 80% of individuals can correctly distinguish between a blue and a green vehicle. What is the (posterior) probability that the taxi at fault was blue? [Hint: A tree diagram might help. Note: This is based on an actual incident.] (Round your answer to four decimal places.)\n",
    " \n",
    "Define\n",
    "\n",
    "B: Blue at Fault\n",
    "\n",
    "G: Green at Fault\n",
    "\n",
    "IB: ID as Blue\n",
    "\n",
    "IG: ID at Green\n",
    "\n",
    "Given\n",
    "\n",
    "P(G)=0.85 and P(B)=0.15\n",
    "\n",
    "P(IB|B)=0.8 and P(IG|G)=0.8\n",
    "\n",
    "P(IB|G)=0.2 and P(IG|B)=0.2\n",
    "\n",
    "Partition IB \n",
    "\n",
    "$P(IB)=P(G) \\cdot P(IB|G)+P(B) \\cdot P(IB|B)$\n",
    "\n",
    "$P(IB)=0.85 \\cdot 0.2+0.15 \\cdot 0.8=0.29$\n",
    "\n",
    "Bayes Theorm\n",
    "\n",
    "$P(BF|IB)=P(IB|B) \\cdot \\frac{P(B)}{P(IB)}$\n",
    "\n",
    "$=0.8 \\cdot \\frac{0.15}{0.29}=0.4138$"
   ]
  },
  {
   "cell_type": "code",
   "execution_count": 70,
   "metadata": {
    "collapsed": false
   },
   "outputs": [
    {
     "data": {
      "text/html": [
       "0.4138"
      ],
      "text/latex": [
       "0.4138"
      ],
      "text/markdown": [
       "0.4138"
      ],
      "text/plain": [
       "[1] 0.4138"
      ]
     },
     "metadata": {},
     "output_type": "display_data"
    }
   ],
   "source": [
    "#Given:\n",
    "P_G=0.85\n",
    "P_B=0.15\n",
    "P_IB_given_B=0.8\n",
    "P_IB_given_G=0.2\n",
    "\n",
    "P_IB=P_G*P_IB_given_G+P_B*P_IB_given_B #Partition IB \n",
    "P_B_given_IB=P_IB_given_B*P_B/P_IB #Bayes Theorem\n",
    "round(P_B_given_IB,4)"
   ]
  },
  {
   "cell_type": "markdown",
   "metadata": {},
   "source": [
    "Indicate the probability rule you used. \n",
    "\n",
    "Bayes Theorm"
   ]
  },
  {
   "cell_type": "markdown",
   "metadata": {},
   "source": [
    "## Problem 17\n",
    "An oil exploration company currently has two active projects, one in Asia and the other in Europe. Let A be the event that the Asian project is successful and B be the event that the European project is successful. Suppose that A and B are independent events with P(A) = 0.2 and P(B) = 0.8."
   ]
  },
  {
   "cell_type": "code",
   "execution_count": 71,
   "metadata": {
    "collapsed": true
   },
   "outputs": [],
   "source": [
    "P_A=0.2\n",
    "P_B=0.8"
   ]
  },
  {
   "cell_type": "markdown",
   "metadata": {},
   "source": [
    "(a) If the Asian project is not successful, what is the probability that the European project is also not successful?"
   ]
  },
  {
   "cell_type": "code",
   "execution_count": 94,
   "metadata": {
    "collapsed": false
   },
   "outputs": [
    {
     "data": {
      "text/html": [
       "0.2"
      ],
      "text/latex": [
       "0.2"
      ],
      "text/markdown": [
       "0.2"
      ],
      "text/plain": [
       "[1] 0.2"
      ]
     },
     "metadata": {},
     "output_type": "display_data"
    }
   ],
   "source": [
    "P_notA=1-P_A\n",
    "P_notB=1-P_B\n",
    "P_notB"
   ]
  },
  {
   "cell_type": "markdown",
   "metadata": {},
   "source": [
    "Explain your reasoning.\n",
    "\n",
    "Since the events are independent, then A' and B' are independent.     "
   ]
  },
  {
   "cell_type": "markdown",
   "metadata": {},
   "source": [
    "(b) What is the probability that at least one of the two projects will be successful?"
   ]
  },
  {
   "cell_type": "code",
   "execution_count": 95,
   "metadata": {
    "collapsed": false
   },
   "outputs": [
    {
     "data": {
      "text/html": [
       "0.84"
      ],
      "text/latex": [
       "0.84"
      ],
      "text/markdown": [
       "0.84"
      ],
      "text/plain": [
       "[1] 0.84"
      ]
     },
     "metadata": {},
     "output_type": "display_data"
    }
   ],
   "source": [
    "P_A_and_B=P_A*P_B # intesection of independent events\n",
    "P_A_or_B=P_A+P_B-P_A_and_B # sum rule\n",
    "P_A_or_B"
   ]
  },
  {
   "cell_type": "markdown",
   "metadata": {},
   "source": [
    "(c) Given that at least one of the two projects is successful, what is the probability that only the Asian project is successful? (Round your answer to three decimal places.)\n",
    "\n",
    "$P(A \\cap B') = P(A)-P(A \\cup B)$"
   ]
  },
  {
   "cell_type": "code",
   "execution_count": 96,
   "metadata": {
    "collapsed": false
   },
   "outputs": [
    {
     "data": {
      "text/html": [
       "0.048"
      ],
      "text/latex": [
       "0.048"
      ],
      "text/markdown": [
       "0.048"
      ],
      "text/plain": [
       "[1] 0.048"
      ]
     },
     "metadata": {},
     "output_type": "display_data"
    }
   ],
   "source": [
    "P_A_and_notB_given_A_or_B=(P_A-P_A_and_B)/P_A_or_B\n",
    "round(P_A_and_notB_given_A_or_B,3)"
   ]
  },
  {
   "cell_type": "markdown",
   "metadata": {},
   "source": [
    "## Problem 18\n",
    "Suppose that the proportions of blood phenotypes in a particular population are as follows:\n",
    "\n",
    "\n",
    "| A  | B  | AB | O  |\n",
    "|----|----|----|----|\n",
    "|0.48|0.13|0.05|0.34|\n",
    "\n",
    "\n",
    "Assuming that the phenotypes of two randomly selected individuals are independent of one another, what is the probability that both phenotypes are O? (Enter your answer to four decimal places.)"
   ]
  },
  {
   "cell_type": "code",
   "execution_count": 98,
   "metadata": {
    "collapsed": false
   },
   "outputs": [
    {
     "data": {
      "text/html": [
       "0.1156"
      ],
      "text/latex": [
       "0.1156"
      ],
      "text/markdown": [
       "0.1156"
      ],
      "text/plain": [
       "[1] 0.1156"
      ]
     },
     "metadata": {},
     "output_type": "display_data"
    }
   ],
   "source": [
    "P_O=0.34\n",
    "P_O^2"
   ]
  },
  {
   "cell_type": "markdown",
   "metadata": {},
   "source": [
    "What is the probability that the phenotypes of two randomly selected individuals match? (Enter your answer to four decimal places.)"
   ]
  },
  {
   "cell_type": "code",
   "execution_count": 99,
   "metadata": {
    "collapsed": false
   },
   "outputs": [
    {
     "data": {
      "text/html": [
       "0.3654"
      ],
      "text/latex": [
       "0.3654"
      ],
      "text/markdown": [
       "0.3654"
      ],
      "text/plain": [
       "[1] 0.3654"
      ]
     },
     "metadata": {},
     "output_type": "display_data"
    }
   ],
   "source": [
    "P_A=0.48\n",
    "P_B=0.13\n",
    "P_AB=0.05\n",
    "P_O=0.34\n",
    "\n",
    "P_A^2+P_B^2+P_AB^2+P_O^2"
   ]
  },
  {
   "cell_type": "markdown",
   "metadata": {},
   "source": [
    "## Problem 19\n",
    "Consider independently rolling two fair dice, one red and the other green. Let A be the event that the red die shows 3 dots, B be the event that the green die shows 4 dots, and C be the event that the total number of dots showing on the two dice is 7. Are these events pairwise independent (i.e., are A and B independent events, are A and C independent, and are B and C independent)? \n",
    "\n",
    "Yes, the events are pairwise independent."
   ]
  },
  {
   "cell_type": "markdown",
   "metadata": {},
   "source": [
    "Are the three events mutually independent? \n",
    "\n",
    "No, the three events are not mutually independent."
   ]
  },
  {
   "cell_type": "markdown",
   "metadata": {},
   "source": [
    "## Problem 20\n",
    "The probability that an individual randomly selected from a particular population has a certain disease is 0.06. A diagnostic test correctly detects the presence of the disease 97% of the time and correctly detects the absence of the disease 99% of the time. If the test is applied twice, the two test results are independent, and both are positive, what is the (posterior) probability that the selected individual has the disease? [Hint: Tree diagram with first-generation branches corresponding to Disease and No Disease, and second- and third-generation branches corresponding to results of the two tests.] "
   ]
  },
  {
   "cell_type": "markdown",
   "metadata": {
    "collapsed": true
   },
   "source": [
    "D:Diseased\n",
    "H:Healthy\n",
    "P:Positive Test Result\n",
    "N:Negative Test Result"
   ]
  },
  {
   "cell_type": "code",
   "execution_count": 106,
   "metadata": {
    "collapsed": true
   },
   "outputs": [],
   "source": [
    "P_D=0.06\n",
    "P_H=1-P_D\n",
    "\n",
    "P_D_given_P=0.97\n",
    "P_H_given_P=1-P_D_given_P\n",
    "\n",
    "P_H_given_N=0.99\n",
    "P_D_given_N=1-P_H_given_N"
   ]
  },
  {
   "cell_type": "code",
   "execution_count": 109,
   "metadata": {
    "collapsed": true
   },
   "outputs": [],
   "source": [
    "P_PP_given_D=P_D_given_P*P_D_given_P/P_D\n",
    "P_PP_given_H=P_H_given_P*P_H_given_P/P_H\n",
    "P_PP=P_PP_given_D+P_PP_given_H #Partition PP \n",
    "P_D_given_PP=P_PP_given_D*P_D/(P_PP)"
   ]
  },
  {
   "cell_type": "code",
   "execution_count": null,
   "metadata": {
    "collapsed": true
   },
   "outputs": [],
   "source": []
  }
 ],
 "metadata": {
  "kernelspec": {
   "display_name": "R",
   "language": "R",
   "name": "ir"
  },
  "language_info": {
   "codemirror_mode": "r",
   "file_extension": ".r",
   "mimetype": "text/x-r-source",
   "name": "R",
   "pygments_lexer": "r",
   "version": "3.4.2"
  }
 },
 "nbformat": 4,
 "nbformat_minor": 2
}
