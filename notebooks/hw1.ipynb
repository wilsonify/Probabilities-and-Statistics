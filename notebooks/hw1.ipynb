{
 "cells": [
  {
   "cell_type": "code",
   "execution_count": 1,
   "metadata": {
    "collapsed": false
   },
   "outputs": [
    {
     "name": "stderr",
     "output_type": "stream",
     "text": [
      "Loading tidyverse: ggplot2\n",
      "Loading tidyverse: tibble\n",
      "Loading tidyverse: tidyr\n",
      "Loading tidyverse: readr\n",
      "Loading tidyverse: purrr\n",
      "Loading tidyverse: dplyr\n",
      "Conflicts with tidy packages ---------------------------------------------------\n",
      "filter(): dplyr, stats\n",
      "lag():    dplyr, stats\n"
     ]
    }
   ],
   "source": [
    "library('tidyverse','reshape')"
   ]
  },
  {
   "cell_type": "markdown",
   "metadata": {},
   "source": [
    "# Homework 1\n",
    "## problem 1\n",
    "The accompanying summary data on CeO<sub>2</sub> particle sizes (nm) \n",
    "under certain experimental conditions was read from a graph in an article."
   ]
  },
  {
   "cell_type": "code",
   "execution_count": 2,
   "metadata": {
    "collapsed": false
   },
   "outputs": [
    {
     "data": {
      "text/html": [
       "<table>\n",
       "<thead><tr><th scope=col>lower_bound</th><th scope=col>upper_bound</th><th scope=col>n_particles</th></tr></thead>\n",
       "<tbody>\n",
       "\t<tr><td>3.0</td><td>3.5</td><td> 6 </td></tr>\n",
       "\t<tr><td>3.5</td><td>4.0</td><td>16 </td></tr>\n",
       "\t<tr><td>4.0</td><td>4.5</td><td>28 </td></tr>\n",
       "\t<tr><td>4.5</td><td>5.0</td><td>34 </td></tr>\n",
       "\t<tr><td>5.0</td><td>5.5</td><td>23 </td></tr>\n",
       "\t<tr><td>5.5</td><td>6.0</td><td>13 </td></tr>\n",
       "\t<tr><td>6.0</td><td>6.5</td><td> 8 </td></tr>\n",
       "\t<tr><td>6.5</td><td>7.0</td><td> 3 </td></tr>\n",
       "\t<tr><td>7.0</td><td>7.5</td><td> 3 </td></tr>\n",
       "\t<tr><td>7.5</td><td>8.0</td><td> 2 </td></tr>\n",
       "</tbody>\n",
       "</table>\n"
      ],
      "text/latex": [
       "\\begin{tabular}{r|lll}\n",
       " lower\\_bound & upper\\_bound & n\\_particles\\\\\n",
       "\\hline\n",
       "\t 3.0 & 3.5 &  6 \\\\\n",
       "\t 3.5 & 4.0 & 16 \\\\\n",
       "\t 4.0 & 4.5 & 28 \\\\\n",
       "\t 4.5 & 5.0 & 34 \\\\\n",
       "\t 5.0 & 5.5 & 23 \\\\\n",
       "\t 5.5 & 6.0 & 13 \\\\\n",
       "\t 6.0 & 6.5 &  8 \\\\\n",
       "\t 6.5 & 7.0 &  3 \\\\\n",
       "\t 7.0 & 7.5 &  3 \\\\\n",
       "\t 7.5 & 8.0 &  2 \\\\\n",
       "\\end{tabular}\n"
      ],
      "text/markdown": [
       "\n",
       "lower_bound | upper_bound | n_particles | \n",
       "|---|---|---|---|---|---|---|---|---|---|\n",
       "| 3.0 | 3.5 |  6  | \n",
       "| 3.5 | 4.0 | 16  | \n",
       "| 4.0 | 4.5 | 28  | \n",
       "| 4.5 | 5.0 | 34  | \n",
       "| 5.0 | 5.5 | 23  | \n",
       "| 5.5 | 6.0 | 13  | \n",
       "| 6.0 | 6.5 |  8  | \n",
       "| 6.5 | 7.0 |  3  | \n",
       "| 7.0 | 7.5 |  3  | \n",
       "| 7.5 | 8.0 |  2  | \n",
       "\n",
       "\n"
      ],
      "text/plain": [
       "   lower_bound upper_bound n_particles\n",
       "1  3.0         3.5          6         \n",
       "2  3.5         4.0         16         \n",
       "3  4.0         4.5         28         \n",
       "4  4.5         5.0         34         \n",
       "5  5.0         5.5         23         \n",
       "6  5.5         6.0         13         \n",
       "7  6.0         6.5          8         \n",
       "8  6.5         7.0          3         \n",
       "9  7.0         7.5          3         \n",
       "10 7.5         8.0          2         "
      ]
     },
     "metadata": {},
     "output_type": "display_data"
    }
   ],
   "source": [
    "n_particles <- c(6,16,28,34,23,13,8,3,3,2)\n",
    "lower_bound  <- c(3,3.5,4,4.5,5,5.5,6,6.5,7,7.5)\n",
    "upper_bound  <- c(3.5,4,4.5,5,5.5,6,6.5,7,7.5,8)\n",
    "particle_data <- data.frame(lower_bound,upper_bound,n_particles)\n",
    "particle_data"
   ]
  },
  {
   "cell_type": "markdown",
   "metadata": {},
   "source": [
    "(a)\n",
    "What proportion of the observations are less than 5? \n",
    "(Round your answer to three decimal places.)\n",
    "\n",
    "0.618 is correct."
   ]
  },
  {
   "cell_type": "code",
   "execution_count": 3,
   "metadata": {
    "collapsed": false
   },
   "outputs": [
    {
     "name": "stdout",
     "output_type": "stream",
     "text": [
      "84 / 136"
     ]
    },
    {
     "data": {
      "text/html": [
       "0.618"
      ],
      "text/latex": [
       "0.618"
      ],
      "text/markdown": [
       "0.618"
      ],
      "text/plain": [
       "[1] 0.618"
      ]
     },
     "metadata": {},
     "output_type": "display_data"
    }
   ],
   "source": [
    "total_particles <- sum(particle_data['n_particles'])\n",
    "\n",
    "bool_less_than_5 <- particle_data$upper_bound<=5 #boolean cover\n",
    "vect_less_than_5 <- particle_data[bool_less_than_5,'n_particles']\n",
    "n_less_than_5 <- sum(vect_less_than_5)\n",
    "\n",
    "cat(n_less_than_5, '/', total_particles)\n",
    "\n",
    "answer <- n_less_than_5/total_particles\n",
    "round(answer,3)"
   ]
  },
  {
   "cell_type": "markdown",
   "metadata": {},
   "source": [
    "(b) What proportion of the observations are at least 6? \n",
    "(Round your answer to three decimal places.)\n",
    "\n",
    "0.118 is correct."
   ]
  },
  {
   "cell_type": "code",
   "execution_count": 4,
   "metadata": {
    "collapsed": false
   },
   "outputs": [
    {
     "name": "stdout",
     "output_type": "stream",
     "text": [
      "16 / 136"
     ]
    },
    {
     "data": {
      "text/html": [
       "0.118"
      ],
      "text/latex": [
       "0.118"
      ],
      "text/markdown": [
       "0.118"
      ],
      "text/plain": [
       "[1] 0.118"
      ]
     },
     "metadata": {},
     "output_type": "display_data"
    }
   ],
   "source": [
    "bool_at_least_6 <- particle_data$lower_bound>=6 #boolean cover\n",
    "vect_at_least_6 <- particle_data[bool_at_least_6,'n_particles']\n",
    "n_at_least_6  <- sum(vect_at_least_6)\n",
    "\n",
    "cat(n_at_least_6,'/',total_particles)\n",
    "answer <- n_at_least_6/total_particles\n",
    "round(answer,3)"
   ]
  },
  {
   "cell_type": "markdown",
   "metadata": {
    "collapsed": true
   },
   "source": [
    "(c)\n",
    "Construct a histogram with relative frequency on the vertical axis.\n",
    "Comment on interesting features. In particular, does the distribution of particle sizes appear to be reasonably symmetric or somewhat skewed? \n",
    "\n",
    "[Note: The investigators fit a lognormal distribution to the data.]\n",
    "positively skewed is correct."
   ]
  },
  {
   "cell_type": "code",
   "execution_count": 5,
   "metadata": {
    "collapsed": true
   },
   "outputs": [],
   "source": [
    "weighted_size <- lower_bound*n_particles\n",
    "size_mean=sum(weighted_size)/total_particles\n",
    "size_median=4.5"
   ]
  },
  {
   "cell_type": "code",
   "execution_count": 6,
   "metadata": {
    "collapsed": false
   },
   "outputs": [
    {
     "data": {},
     "metadata": {},
     "output_type": "display_data"
    },
    {
     "data": {
      "image/png": "[encoded data removed]",
      "text/plain": [
       "plot without title"
      ]
     },
     "metadata": {},
     "output_type": "display_data"
    }
   ],
   "source": [
    "relative_frequency=n_particles/total_particles\n",
    "ggplot(particle_data, aes(y = relative_frequency,x = lower_bound)) +\n",
    "  geom_col() +\n",
    "  \n",
    "  geom_segment(aes(x=size_mean, xend=size_mean, y=0.3, yend=0)\n",
    "               , size = 2\n",
    "               , arrow = arrow(length = unit(0.1, \"cm\"))) +\n",
    "  annotate(\"text\",x=size_mean+0.2,y=0.31,label=\"mean\") +\n",
    "  \n",
    "  geom_segment(aes(x=size_median, xend=size_median, y=0.3, yend=0)\n",
    "               , size = 2\n",
    "               , arrow = arrow(length = unit(0.1, \"cm\"))) +\n",
    "  annotate(\"text\",x=size_median-0.25,y=0.3,label=\"median\") +\n",
    "  coord_fixed(ratio=15)\n",
    "\n",
    "#mean>median = positive skew\n",
    "#mean<median = negative skew\n",
    "#mean=median = symmetric"
   ]
  },
  {
   "cell_type": "markdown",
   "metadata": {
    "collapsed": true
   },
   "source": [
    "(d)\n",
    "Construct a histogram with density on the vertical axis.\n",
    "\n",
    "Compare the density histogram to the histogram in part (c).\n",
    "\n",
    "Both graphs are essentially identical, other than vertical axis labeling is correct."
   ]
  },
  {
   "cell_type": "code",
   "execution_count": 7,
   "metadata": {
    "collapsed": false
   },
   "outputs": [
    {
     "data": {},
     "metadata": {},
     "output_type": "display_data"
    },
    {
     "data": {
      "image/png": "[encoded data removed]",
      "text/plain": [
       "plot without title"
      ]
     },
     "metadata": {},
     "output_type": "display_data"
    }
   ],
   "source": [
    "bin_width=upper_bound-lower_bound\n",
    "density=relative_frequency/bin_width\n",
    "\n",
    "ggplot(particle_data, aes(y = density,x = lower_bound)) +\n",
    "  geom_col() +\n",
    "  \n",
    "  coord_fixed(ratio=15)"
   ]
  },
  {
   "cell_type": "markdown",
   "metadata": {},
   "source": [
    "## Problem 2\n",
    "Exposure to microbial products, especially endotoxin, may have an impact on vulnerability to allergic diseases. The following are data on concentration (EU/mg) in settled dust for one sample of urban homes and another of farm homes. "
   ]
  },
  {
   "cell_type": "code",
   "execution_count": 8,
   "metadata": {
    "collapsed": true
   },
   "outputs": [],
   "source": [
    "urban <- c(6.0,5.0,11.0,33.0,4.0,5.0,80.0,18.0,35.0,17.0,23.0)\n",
    "farm <- c(6.0,15.0,11.0,9.0,9.0,8.0,2.0,19.0,3.0,9.0,22.0,9.2,4.0,1.0,0.4)"
   ]
  },
  {
   "cell_type": "markdown",
   "metadata": {},
   "source": [
    "(a) Determine the sample mean for each sample. (Round your answers to two decimal places.) \n",
    "\n",
    "21.55\n",
    "and\n",
    "8.51\n",
    "is correct"
   ]
  },
  {
   "cell_type": "code",
   "execution_count": 9,
   "metadata": {
    "collapsed": false
   },
   "outputs": [
    {
     "data": {
      "text/html": [
       "21.55"
      ],
      "text/latex": [
       "21.55"
      ],
      "text/markdown": [
       "21.55"
      ],
      "text/plain": [
       "[1] 21.55"
      ]
     },
     "metadata": {},
     "output_type": "display_data"
    },
    {
     "data": {
      "text/html": [
       "8.51"
      ],
      "text/latex": [
       "8.51"
      ],
      "text/markdown": [
       "8.51"
      ],
      "text/plain": [
       "[1] 8.51"
      ]
     },
     "metadata": {},
     "output_type": "display_data"
    }
   ],
   "source": [
    "round(mean(urban),2)\n",
    "round(mean(farm),2)"
   ]
  },
  {
   "cell_type": "markdown",
   "metadata": {},
   "source": [
    "\n",
    "How do they compare? \n",
    "\n",
    "The average endotoxin concentration in urban homes is more than double the average concentration in farm homes.    "
   ]
  },
  {
   "cell_type": "markdown",
   "metadata": {},
   "source": [
    "(b) Determine the sample median for each sample. \n",
    "  \n",
    "17 \n",
    "and\n",
    "9 \n",
    "is correct\n",
    "    "
   ]
  },
  {
   "cell_type": "code",
   "execution_count": 10,
   "metadata": {
    "collapsed": false
   },
   "outputs": [
    {
     "data": {
      "text/html": [
       "17"
      ],
      "text/latex": [
       "17"
      ],
      "text/markdown": [
       "17"
      ],
      "text/plain": [
       "[1] 17"
      ]
     },
     "metadata": {},
     "output_type": "display_data"
    },
    {
     "data": {
      "text/html": [
       "9"
      ],
      "text/latex": [
       "9"
      ],
      "text/markdown": [
       "9"
      ],
      "text/plain": [
       "[1] 9"
      ]
     },
     "metadata": {},
     "output_type": "display_data"
    }
   ],
   "source": [
    "median(urban)\n",
    "median(farm)"
   ]
  },
  {
   "cell_type": "markdown",
   "metadata": {},
   "source": [
    "How do they compare? \n",
    "\n",
    "The median endotoxin concentration in urban homes is roughly double the median concentration in farm homes."
   ]
  },
  {
   "cell_type": "markdown",
   "metadata": {},
   "source": [
    "Why is the median for the urban sample so different from the mean for that sample? \n",
    "\n",
    "The mean and median for urban homes are so different because the few large values raise the mean but not the median."
   ]
  },
  {
   "cell_type": "markdown",
   "metadata": {},
   "source": [
    "(c) Calculate the trimmed mean for each sample by deleting the smallest and largest observation. (Round your answers to two decimal places.) \n",
    "\n",
    "17\n",
    "and\n",
    "8.09 \n",
    "is correct"
   ]
  },
  {
   "cell_type": "code",
   "execution_count": 11,
   "metadata": {
    "collapsed": false
   },
   "outputs": [
    {
     "data": {
      "text/html": [
       "17"
      ],
      "text/latex": [
       "17"
      ],
      "text/markdown": [
       "17"
      ],
      "text/plain": [
       "[1] 17"
      ]
     },
     "metadata": {},
     "output_type": "display_data"
    },
    {
     "data": {
      "text/html": [
       "8.09"
      ],
      "text/latex": [
       "8.09"
      ],
      "text/markdown": [
       "8.09"
      ],
      "text/plain": [
       "[1] 8.09"
      ]
     },
     "metadata": {},
     "output_type": "display_data"
    }
   ],
   "source": [
    "round(mean(urban,trim = 1/length(urban)),2)\n",
    "round(mean(farm,trim=1/length(farm)),2)"
   ]
  },
  {
   "cell_type": "markdown",
   "metadata": {},
   "source": [
    "What are the corresponding trimming percentages? (Round your answers to two decimal places.) \n",
    "\n",
    "9.09\n",
    "and\n",
    "6.67 \n",
    "is correct"
   ]
  },
  {
   "cell_type": "code",
   "execution_count": 12,
   "metadata": {
    "collapsed": false
   },
   "outputs": [
    {
     "data": {
      "text/html": [
       "9.09"
      ],
      "text/latex": [
       "9.09"
      ],
      "text/markdown": [
       "9.09"
      ],
      "text/plain": [
       "[1] 9.09"
      ]
     },
     "metadata": {},
     "output_type": "display_data"
    },
    {
     "data": {
      "text/html": [
       "6.67"
      ],
      "text/latex": [
       "6.67"
      ],
      "text/markdown": [
       "6.67"
      ],
      "text/plain": [
       "[1] 6.67"
      ]
     },
     "metadata": {},
     "output_type": "display_data"
    }
   ],
   "source": [
    "round(100*(1/length(urban)),2)\n",
    "round(100*(1/length(farm)),2)"
   ]
  },
  {
   "cell_type": "markdown",
   "metadata": {},
   "source": [
    "How do the values of these trimmed means compare to the corresponding means and medians?\n",
    "\n",
    "\n",
    "Urban homes:\n",
    "The trimmed mean **less than** the mean of the entire sample. The trimmed mean **equal to** the median of the entire sample.\n",
    "\n",
    "Farm homes:\n",
    "The trimmmed mean is **less than** the mean of the entire sample. The trimmed mean is **less than** the median of the entire sample."
   ]
  },
  {
   "cell_type": "markdown",
   "metadata": {},
   "source": [
    "## Problem 3\n",
    "The article \"Snow Cover and Temperature Relationships in North America and Eurasia\" used statistical techniques to relate the amount of snow cover on each continent to average continental temperature. Data presented there included the following ten observations on October snow cover for Eurasia during the years 1970-1979 (in million km<sup>2</sup>): "
   ]
  },
  {
   "cell_type": "code",
   "execution_count": 13,
   "metadata": {
    "collapsed": false
   },
   "outputs": [
    {
     "data": {
      "text/html": [
       "<table>\n",
       "<thead><tr><th scope=col>years</th><th scope=col>october_snow_cover</th></tr></thead>\n",
       "<tbody>\n",
       "\t<tr><td>1970</td><td> 6.5</td></tr>\n",
       "\t<tr><td>1971</td><td>12.0</td></tr>\n",
       "\t<tr><td>1972</td><td>14.9</td></tr>\n",
       "\t<tr><td>1973</td><td>10.0</td></tr>\n",
       "\t<tr><td>1974</td><td>10.7</td></tr>\n",
       "\t<tr><td>1975</td><td> 7.9</td></tr>\n",
       "\t<tr><td>1976</td><td>21.9</td></tr>\n",
       "\t<tr><td>1977</td><td>12.5</td></tr>\n",
       "\t<tr><td>1978</td><td>14.5</td></tr>\n",
       "\t<tr><td>1979</td><td> 9.2</td></tr>\n",
       "</tbody>\n",
       "</table>\n"
      ],
      "text/latex": [
       "\\begin{tabular}{r|ll}\n",
       " years & october\\_snow\\_cover\\\\\n",
       "\\hline\n",
       "\t 1970 &  6.5\\\\\n",
       "\t 1971 & 12.0\\\\\n",
       "\t 1972 & 14.9\\\\\n",
       "\t 1973 & 10.0\\\\\n",
       "\t 1974 & 10.7\\\\\n",
       "\t 1975 &  7.9\\\\\n",
       "\t 1976 & 21.9\\\\\n",
       "\t 1977 & 12.5\\\\\n",
       "\t 1978 & 14.5\\\\\n",
       "\t 1979 &  9.2\\\\\n",
       "\\end{tabular}\n"
      ],
      "text/markdown": [
       "\n",
       "years | october_snow_cover | \n",
       "|---|---|---|---|---|---|---|---|---|---|\n",
       "| 1970 |  6.5 | \n",
       "| 1971 | 12.0 | \n",
       "| 1972 | 14.9 | \n",
       "| 1973 | 10.0 | \n",
       "| 1974 | 10.7 | \n",
       "| 1975 |  7.9 | \n",
       "| 1976 | 21.9 | \n",
       "| 1977 | 12.5 | \n",
       "| 1978 | 14.5 | \n",
       "| 1979 |  9.2 | \n",
       "\n",
       "\n"
      ],
      "text/plain": [
       "   years october_snow_cover\n",
       "1  1970   6.5              \n",
       "2  1971  12.0              \n",
       "3  1972  14.9              \n",
       "4  1973  10.0              \n",
       "5  1974  10.7              \n",
       "6  1975   7.9              \n",
       "7  1976  21.9              \n",
       "8  1977  12.5              \n",
       "9  1978  14.5              \n",
       "10 1979   9.2              "
      ]
     },
     "metadata": {},
     "output_type": "display_data"
    }
   ],
   "source": [
    "october_snow_cover <- c(6.5, 12.0, 14.9, 10.0, 10.7, 7.9, 21.9, 12.5, 14.5, 9.2)\n",
    "years  <- c(1970:1979)\n",
    "snow_data=data.frame(years,october_snow_cover)\n",
    "snow_data"
   ]
  },
  {
   "cell_type": "markdown",
   "metadata": {},
   "source": [
    "What would you report as a representative, or typical, value of October snow cover for this period, and what prompted your choice? \n",
    "\n",
    "The median of this sample because a potential outlier may produce a misleading mean. "
   ]
  },
  {
   "cell_type": "code",
   "execution_count": 14,
   "metadata": {
    "collapsed": false
   },
   "outputs": [
    {
     "data": {},
     "metadata": {},
     "output_type": "display_data"
    },
    {
     "data": {
      "image/png": "[encoded data removed]",
      "text/plain": [
       "plot without title"
      ]
     },
     "metadata": {},
     "output_type": "display_data"
    }
   ],
   "source": [
    "is_outlier <- function(x) {\n",
    "  return(x < quantile(x, 0.25) - 1.5 * IQR(x) | x > quantile(x, 0.75) + 1.5 * IQR(x))\n",
    "}\n",
    "snow_outliers=is_outlier(october_snow_cover)#boolean cover\n",
    "\n",
    "snow_mean=mean(october_snow_cover)\n",
    "snow_median=median(october_snow_cover)\n",
    "\n",
    "snow_Q1=quantile(october_snow_cover, 0.25)\n",
    "snow_Q3=quantile(october_snow_cover, 0.75)\n",
    "snow_IQR=snow_Q3-snow_Q1\n",
    "snow_USL=snow_Q3 + 1.5 * snow_IQR\n",
    "snow_LSL=snow_Q1 - 1.5 * snow_IQR\n",
    "\n",
    "\n",
    "ggplot(snow_data,aes(x='snow',y=october_snow_cover)) +\n",
    "  geom_point()+\n",
    "  geom_boxplot(outlier.color = 'red') +\n",
    "  coord_fixed(0.75)"
   ]
  },
  {
   "cell_type": "markdown",
   "metadata": {},
   "source": [
    "## Problem 4\n",
    "\n",
    "The propagation of fatigue cracks in various aircraft parts has been the subject of extensive study in recent years. The accompanying data consists of propagation lives (flight hours/104) to reach a given crack size in fastener holes intended for use in military aircraft. "
   ]
  },
  {
   "cell_type": "code",
   "execution_count": 15,
   "metadata": {
    "collapsed": true
   },
   "outputs": [],
   "source": [
    "crack_time <- c(0.721, 0.844, 0.870, 0.915, 0.929, 0.933, 0.968, 1.009\n",
    ",1.039, 1.048, 1.084, 1.125, 1.130, 1.169, 1.239, 1.360   )"
   ]
  },
  {
   "cell_type": "markdown",
   "metadata": {},
   "source": [
    "(a) Compute and compare the values of the sample mean x and median x tilde. (Round your answers to four decimal places.) \n",
    "\n",
    "$\\bar{x}=1.0239$\n",
    "and\n",
    "$\\tilde{x}=1.0240$\n",
    "is correct"
   ]
  },
  {
   "cell_type": "code",
   "execution_count": 16,
   "metadata": {
    "collapsed": false
   },
   "outputs": [
    {
     "data": {
      "text/html": [
       "1.0239"
      ],
      "text/latex": [
       "1.0239"
      ],
      "text/markdown": [
       "1.0239"
      ],
      "text/plain": [
       "[1] 1.0239"
      ]
     },
     "metadata": {},
     "output_type": "display_data"
    },
    {
     "data": {
      "text/html": [
       "1.024"
      ],
      "text/latex": [
       "1.024"
      ],
      "text/markdown": [
       "1.024"
      ],
      "text/plain": [
       "[1] 1.024"
      ]
     },
     "metadata": {},
     "output_type": "display_data"
    }
   ],
   "source": [
    "round(mean(crack_time),4)\n",
    "round(median(crack_time),4)"
   ]
  },
  {
   "cell_type": "markdown",
   "metadata": {},
   "source": [
    "b) By how much could the largest sample observation be decreased without affecting the value of the median? (Enter your answer to three decimal places.)\n",
    "\n",
    "0.321 is correct"
   ]
  },
  {
   "cell_type": "code",
   "execution_count": 17,
   "metadata": {
    "collapsed": false
   },
   "outputs": [
    {
     "name": "stdout",
     "output_type": "stream",
     "text": [
      "1.36 - 1.039 = 0.321"
     ]
    }
   ],
   "source": [
    "half_length <- length(crack_time)/2\n",
    "\n",
    "values_used_by_median <- c(sort(crack_time)[half_length]\n",
    "                           ,sort(crack_time)[half_length+1])\n",
    "\n",
    "cat(max(crack_time),'-',max(values_used_by_median),'=',max(crack_time)-max(values_used_by_median))\n"
   ]
  },
  {
   "cell_type": "markdown",
   "metadata": {},
   "source": [
    "## Problem 5\n",
    "A sample of n = 10 automobiles was selected, and each was subjected to a 5-mph crash test. Denoting a car with no visible damage by S (for success) and a car with such damage by F, results were as follows: \n"
   ]
  },
  {
   "cell_type": "code",
   "execution_count": 18,
   "metadata": {
    "collapsed": true
   },
   "outputs": [],
   "source": [
    "damage <- c('S', 'S', 'F', 'S', 'S', 'S', 'S', 'F', 'S', 'F')"
   ]
  },
  {
   "cell_type": "markdown",
   "metadata": {},
   "source": [
    "(a) What is the value of the sample proportion of successes x/n?\n",
    "\n",
    "0.7 is correct"
   ]
  },
  {
   "cell_type": "code",
   "execution_count": 19,
   "metadata": {
    "collapsed": false
   },
   "outputs": [
    {
     "data": {
      "text/html": [
       "0.7"
      ],
      "text/latex": [
       "0.7"
      ],
      "text/markdown": [
       "0.7"
      ],
      "text/plain": [
       "[1] 0.7"
      ]
     },
     "metadata": {},
     "output_type": "display_data"
    }
   ],
   "source": [
    "sum(damage=='S')/length(damage)"
   ]
  },
  {
   "cell_type": "markdown",
   "metadata": {},
   "source": [
    "(b) Replace each S with a 1 and each F with a 0. Then calculate x for this numerically coded sample.\n",
    "    \n",
    "$\\bar{x}=0.7$ \n",
    "is correct"
   ]
  },
  {
   "cell_type": "code",
   "execution_count": 20,
   "metadata": {
    "collapsed": false
   },
   "outputs": [
    {
     "data": {
      "text/html": [
       "0.7"
      ],
      "text/latex": [
       "0.7"
      ],
      "text/markdown": [
       "0.7"
      ],
      "text/plain": [
       "[1] 0.7"
      ]
     },
     "metadata": {},
     "output_type": "display_data"
    }
   ],
   "source": [
    "coded_damage <- as.integer(damage=='S')\n",
    "mean(coded_damage)"
   ]
  },
  {
   "cell_type": "markdown",
   "metadata": {},
   "source": [
    "How does x compare with x/n?\n",
    "\n",
    "The proportion in part (a) is exactly equal to the mean in part (b)."
   ]
  },
  {
   "cell_type": "markdown",
   "metadata": {},
   "source": [
    "(c) Suppose it is decided to include 15 more cars in the experiment. How many of these would have to be S's to give x/n = 0.72 for the entire sample of 25 cars?\n",
    "\n",
    "11 is correct"
   ]
  },
  {
   "cell_type": "code",
   "execution_count": 21,
   "metadata": {
    "collapsed": false
   },
   "outputs": [
    {
     "data": {
      "text/html": [
       "11"
      ],
      "text/latex": [
       "11"
      ],
      "text/markdown": [
       "11"
      ],
      "text/plain": [
       "[1] 11"
      ]
     },
     "metadata": {},
     "output_type": "display_data"
    }
   ],
   "source": [
    "n1 <- length(coded_damage)\n",
    "x1 <- sum(coded_damage) \n",
    "n2 <- n1+15\n",
    "x2 <- 0.72*n2 # because x2/n2=0.72\n",
    "x2-x1"
   ]
  },
  {
   "cell_type": "markdown",
   "metadata": {},
   "source": [
    "## Problem 6\n",
    "(a)\n",
    "If a constant c is added to each x<sub>i</sub> in a sample, yielding\n",
    "y<sub>i</sub> = x<sub>i</sub> + c,\n",
    "how does the sample mean of the y<sub>i</sub> s relate to the mean of the x<sub>i</sub> s? "
   ]
  },
  {
   "cell_type": "markdown",
   "metadata": {},
   "source": [
    "$$\\bar{y}=\\frac{\\sum{y_i}}{n}\n",
    "= \\frac{\\sum{x_i+c}}{n}\n",
    "= \\frac{\\sum{x_i}}{n} + \\frac{nc}{n}\n",
    "= \\bar{x}+c\n",
    "$$"
   ]
  },
  {
   "cell_type": "markdown",
   "metadata": {},
   "source": [
    "If a constant c is added to each x<sub>i</sub> in a sample, yielding\n",
    "y<sub>i</sub> = x<sub>i</sub> + c,\n",
    "how does the median of the y<sub>i</sub> s relate to the median of the x<sub>i</sub> s?"
   ]
  },
  {
   "cell_type": "markdown",
   "metadata": {},
   "source": [
    "$\\tilde{y}=$the median of $(x_1+c,x_2+c,...,x_n+c)$\n",
    "\n",
    "$=$ the median of $(x_1,x_2,...,x_n)+c$\n",
    "\n",
    "$= \\tilde{x} + c$"
   ]
  },
  {
   "cell_type": "markdown",
   "metadata": {},
   "source": [
    "(b)\n",
    "If each x<sub>i</sub> is multiplied by a constant c, yielding\n",
    "y<sub>i</sub> = cx<sub>i</sub>,\n",
    "how does the sample mean of the y<sub>i</sub> s relate to the mean of the x<sub>i</sub> s? "
   ]
  },
  {
   "cell_type": "markdown",
   "metadata": {},
   "source": [
    "$\\bar{y}=\\frac{\\sum{y_i}}{n}$\n",
    "$= \\frac{\\sum{x_i c}}{n} $\n",
    "$= \\frac{c\\sum{x_i}}{n}$\n",
    "$=\\bar{x} \\cdot c$"
   ]
  },
  {
   "cell_type": "markdown",
   "metadata": {},
   "source": [
    "If each x<sub>i</sub> is multiplied by a constant c, yielding\n",
    "y<sub>i</sub> = cx<sub>i</sub>,\n",
    "how does the median of the y<sub>i</sub> s relate to the median of the x<sub>i</sub> s?"
   ]
  },
  {
   "cell_type": "markdown",
   "metadata": {},
   "source": [
    "$\\tilde{y}=$ the median of \n",
    "$ (x_1 \\cdot c, x_2 \\cdot c,, x_n \\cdot c) $\n",
    "$=$ the median of $(x_1,x_2,...,x_n)\\cdot c$\n",
    "$=\\tilde{x} \\cdot c$"
   ]
  },
  {
   "cell_type": "markdown",
   "metadata": {},
   "source": [
    "## Problem 7\n",
    "An experiment to study the lifetime (in hours) for a certain type of component involved putting ten components into operation and observing them for 100 hours. Eight of the components failed during that period, and those lifetimes were recorded. Denote the lifetimes of the two components still functioning after 100 hours by 100+. The resulting sample observations were as follows.\n"
   ]
  },
  {
   "cell_type": "code",
   "execution_count": 22,
   "metadata": {
    "collapsed": true
   },
   "outputs": [],
   "source": [
    "lifetime <- c('18', '30', '36', '49', '56', '80', '87', '92','100+','100+')\n"
   ]
  },
  {
   "cell_type": "markdown",
   "metadata": {},
   "source": [
    " Which of the measures of center discussed in this section can be calculated? [Note: The data from this experiment is said to be \"censored on the right.\"] (Select all that apply.) \n",
    " \n",
    " 20% trimmed mean = 66.67\n",
    " and\n",
    " sample median = 68"
   ]
  },
  {
   "cell_type": "code",
   "execution_count": 23,
   "metadata": {
    "collapsed": false
   },
   "outputs": [
    {
     "data": {
      "text/html": [
       "<ol class=list-inline>\n",
       "\t<li>'18'</li>\n",
       "\t<li>'30'</li>\n",
       "\t<li>'36'</li>\n",
       "\t<li>'49'</li>\n",
       "\t<li>'56'</li>\n",
       "\t<li>'80'</li>\n",
       "\t<li>'87'</li>\n",
       "\t<li>'92'</li>\n",
       "\t<li>'100+'</li>\n",
       "\t<li>'100+'</li>\n",
       "</ol>\n"
      ],
      "text/latex": [
       "\\begin{enumerate*}\n",
       "\\item '18'\n",
       "\\item '30'\n",
       "\\item '36'\n",
       "\\item '49'\n",
       "\\item '56'\n",
       "\\item '80'\n",
       "\\item '87'\n",
       "\\item '92'\n",
       "\\item '100+'\n",
       "\\item '100+'\n",
       "\\end{enumerate*}\n"
      ],
      "text/markdown": [
       "1. '18'\n",
       "2. '30'\n",
       "3. '36'\n",
       "4. '49'\n",
       "5. '56'\n",
       "6. '80'\n",
       "7. '87'\n",
       "8. '92'\n",
       "9. '100+'\n",
       "10. '100+'\n",
       "\n",
       "\n"
      ],
      "text/plain": [
       " [1] \"18\"   \"30\"   \"36\"   \"49\"   \"56\"   \"80\"   \"87\"   \"92\"   \"100+\" \"100+\""
      ]
     },
     "metadata": {},
     "output_type": "display_data"
    },
    {
     "data": {
      "text/html": [
       "<ol class=list-inline>\n",
       "\t<li>36</li>\n",
       "\t<li>49</li>\n",
       "\t<li>56</li>\n",
       "\t<li>80</li>\n",
       "\t<li>87</li>\n",
       "\t<li>92</li>\n",
       "</ol>\n"
      ],
      "text/latex": [
       "\\begin{enumerate*}\n",
       "\\item 36\n",
       "\\item 49\n",
       "\\item 56\n",
       "\\item 80\n",
       "\\item 87\n",
       "\\item 92\n",
       "\\end{enumerate*}\n"
      ],
      "text/markdown": [
       "1. 36\n",
       "2. 49\n",
       "3. 56\n",
       "4. 80\n",
       "5. 87\n",
       "6. 92\n",
       "\n",
       "\n"
      ],
      "text/plain": [
       "[1] 36 49 56 80 87 92"
      ]
     },
     "metadata": {},
     "output_type": "display_data"
    },
    {
     "data": {
      "text/html": [
       "66.67"
      ],
      "text/latex": [
       "66.67"
      ],
      "text/markdown": [
       "66.67"
      ],
      "text/plain": [
       "[1] 66.67"
      ]
     },
     "metadata": {},
     "output_type": "display_data"
    }
   ],
   "source": [
    "lifetime\n",
    "trimmed_lifetime <- as.integer(lifetime[3:8])\n",
    "trimmed_lifetime\n",
    "round(mean(trimmed_lifetime),2)"
   ]
  },
  {
   "cell_type": "code",
   "execution_count": 24,
   "metadata": {
    "collapsed": false
   },
   "outputs": [
    {
     "name": "stdout",
     "output_type": "stream",
     "text": [
      "median=median( 56 80 )= 68"
     ]
    }
   ],
   "source": [
    "half_length_lifetime <- length(lifetime)/2\n",
    "values_for_median=as.integer(c(lifetime[half_length_lifetime],\n",
    "lifetime[half_length_lifetime+1]))\n",
    "cat('median=median(',values_for_median,')=',median(values_for_median))"
   ]
  },
  {
   "cell_type": "markdown",
   "metadata": {},
   "source": [
    "## Problem 8\n",
    "\n",
    "Poly(3-hydroxybutyrate) (PHB), a semicrystalline polymer that is fully biodegradable and biocompatible, is obtained from renewable resources. From a sustainability perspective, PHB offers many attractive properties though it is more expensive to produce than standard plastics. The accompanying data on melting point (°C) for each of 12 specimens of the polymer using a differential scanning calorimeter appeared in an article. "
   ]
  },
  {
   "cell_type": "code",
   "execution_count": 25,
   "metadata": {
    "collapsed": true
   },
   "outputs": [],
   "source": [
    "melting_point <- c(180.6, 181.8, 180.9, 181.6, 182.7, 181.5, 181.4, 182.2, 182.1, 180.3, 181.6, 180.6)"
   ]
  },
  {
   "cell_type": "markdown",
   "metadata": {},
   "source": [
    "Compute the following. (Round your answers to two decimal places.)\n",
    "\n",
    "(a)\n",
    "the sample range \n",
    "2.40 is correct"
   ]
  },
  {
   "cell_type": "code",
   "execution_count": 26,
   "metadata": {
    "collapsed": false
   },
   "outputs": [
    {
     "data": {
      "text/html": [
       "2.4"
      ],
      "text/latex": [
       "2.4"
      ],
      "text/markdown": [
       "2.4"
      ],
      "text/plain": [
       "[1] 2.4"
      ]
     },
     "metadata": {},
     "output_type": "display_data"
    }
   ],
   "source": [
    "round(max(melting_point)-min(melting_point),2)"
   ]
  },
  {
   "cell_type": "markdown",
   "metadata": {},
   "source": [
    " (b)\n",
    "the sample variance s<sup>2</sup> from the definition [Hint: First subtract 180 from each observation.] \n",
    "\n",
    "0.53 is correct"
   ]
  },
  {
   "cell_type": "code",
   "execution_count": 27,
   "metadata": {
    "collapsed": false
   },
   "outputs": [
    {
     "data": {
      "text/html": [
       "0.53"
      ],
      "text/latex": [
       "0.53"
      ],
      "text/markdown": [
       "0.53"
      ],
      "text/plain": [
       "[1] 0.53"
      ]
     },
     "metadata": {},
     "output_type": "display_data"
    },
    {
     "name": "stdout",
     "output_type": "stream",
     "text": [
      "5.789167 /( 12 -1)"
     ]
    },
    {
     "data": {
      "text/html": [
       "0.526287878787873"
      ],
      "text/latex": [
       "0.526287878787873"
      ],
      "text/markdown": [
       "0.526287878787873"
      ],
      "text/plain": [
       "[1] 0.5262879"
      ]
     },
     "metadata": {},
     "output_type": "display_data"
    }
   ],
   "source": [
    "round(var(melting_point),2)\n",
    "#or\n",
    "n <- length(melting_point)\n",
    "squared_deviation <- (melting_point-mean(melting_point))^2\n",
    "cat(sum(squared_deviation),'/(',n,'-1)')\n",
    "sum(squared_deviation)/(n-1)"
   ]
  },
  {
   "cell_type": "markdown",
   "metadata": {},
   "source": [
    "(c) the sample standard deviation\n",
    "\n",
    "0.73 is correct"
   ]
  },
  {
   "cell_type": "code",
   "execution_count": 28,
   "metadata": {
    "collapsed": false
   },
   "outputs": [
    {
     "data": {
      "text/html": [
       "0.73"
      ],
      "text/latex": [
       "0.73"
      ],
      "text/markdown": [
       "0.73"
      ],
      "text/plain": [
       "[1] 0.73"
      ]
     },
     "metadata": {},
     "output_type": "display_data"
    }
   ],
   "source": [
    "round(sqrt(var(melting_point)),2)"
   ]
  },
  {
   "cell_type": "markdown",
   "metadata": {},
   "source": [
    "(d) s2 using the shortcut method\n",
    "\n",
    "0.53 is correct"
   ]
  },
  {
   "cell_type": "markdown",
   "metadata": {},
   "source": [
    "from the text\n",
    "\n",
    "$s^2=\\frac{S_{xx}}{n-1}$\n",
    "\n",
    "the numerator of s<sup>2</sup> is\n",
    "$S_{xx}=\\sum{(x_i - \\bar{x})^2}= \\sum{x_i^2}-\\frac{\\left(\\sum{x_i}\\right)^2}{n}$"
   ]
  },
  {
   "cell_type": "code",
   "execution_count": 29,
   "metadata": {
    "collapsed": false
   },
   "outputs": [
    {
     "name": "stdout",
     "output_type": "stream",
     "text": [
      "( 395058.7 -  4740635 / 12 )/( 12 -1)"
     ]
    },
    {
     "data": {
      "text/html": [
       "0.53"
      ],
      "text/latex": [
       "0.53"
      ],
      "text/markdown": [
       "0.53"
      ],
      "text/plain": [
       "[1] 0.53"
      ]
     },
     "metadata": {},
     "output_type": "display_data"
    }
   ],
   "source": [
    "sum_of_squares <- sum(melting_point^2)\n",
    "sum_squared <- sum(melting_point)^2\n",
    "S_xx=sum_of_squares - (sum_squared/n)\n",
    "cat('(',sum_of_squares,'- ',sum_squared,'/',n,')/(',n,'-1)')\n",
    "round(S_xx/(n-1),2)"
   ]
  },
  {
   "cell_type": "markdown",
   "metadata": {},
   "source": [
    "## Problem 9\n",
    "\n",
    "Suppose the value of Young's modulus (GPa) was determined for cast plates consisting of certain intermetallic substrates, resulting in the following sample observations: "
   ]
  },
  {
   "cell_type": "code",
   "execution_count": 30,
   "metadata": {
    "collapsed": true
   },
   "outputs": [],
   "source": [
    "modulus <- c(116.8,115.8,114.8,115.3,115.9)"
   ]
  },
  {
   "cell_type": "markdown",
   "metadata": {},
   "source": [
    "(a) Calculate $\\bar{x}$\n",
    "\n",
    "115.72 is correct"
   ]
  },
  {
   "cell_type": "code",
   "execution_count": 31,
   "metadata": {
    "collapsed": false
   },
   "outputs": [
    {
     "data": {
      "text/html": [
       "115.72"
      ],
      "text/latex": [
       "115.72"
      ],
      "text/markdown": [
       "115.72"
      ],
      "text/plain": [
       "[1] 115.72"
      ]
     },
     "metadata": {},
     "output_type": "display_data"
    },
    {
     "data": {
      "text/html": [
       "115.72"
      ],
      "text/latex": [
       "115.72"
      ],
      "text/markdown": [
       "115.72"
      ],
      "text/plain": [
       "[1] 115.72"
      ]
     },
     "metadata": {},
     "output_type": "display_data"
    }
   ],
   "source": [
    "mean(modulus)\n",
    "#or\n",
    "sum(modulus)/length(modulus)"
   ]
  },
  {
   "cell_type": "markdown",
   "metadata": {},
   "source": [
    "Calculate the deviations from the mean. (Enter your answers to two decimal places.) \n",
    "\n",
    "(b) Use the deviations calculated in part (a) to obtain the sample variance and the sample standard deviation. (Round your answers to three decimal places.) \n",
    "\n",
    "0.557 \n",
    "and\n",
    "0.746 \n",
    "is correct"
   ]
  },
  {
   "cell_type": "code",
   "execution_count": 34,
   "metadata": {
    "collapsed": false
   },
   "outputs": [
    {
     "data": {
      "text/html": [
       "<table>\n",
       "<thead><tr><th scope=col>modulus</th><th scope=col>deviation</th><th scope=col>deviation_squared</th></tr></thead>\n",
       "<tbody>\n",
       "\t<tr><td>116.8 </td><td> 1.08 </td><td>1.1664</td></tr>\n",
       "\t<tr><td>115.8 </td><td> 0.08 </td><td>0.0064</td></tr>\n",
       "\t<tr><td>114.8 </td><td>-0.92 </td><td>0.8464</td></tr>\n",
       "\t<tr><td>115.3 </td><td>-0.42 </td><td>0.1764</td></tr>\n",
       "\t<tr><td>115.9 </td><td> 0.18 </td><td>0.0324</td></tr>\n",
       "</tbody>\n",
       "</table>\n"
      ],
      "text/latex": [
       "\\begin{tabular}{r|lll}\n",
       " modulus & deviation & deviation\\_squared\\\\\n",
       "\\hline\n",
       "\t 116.8  &  1.08  & 1.1664\\\\\n",
       "\t 115.8  &  0.08  & 0.0064\\\\\n",
       "\t 114.8  & -0.92  & 0.8464\\\\\n",
       "\t 115.3  & -0.42  & 0.1764\\\\\n",
       "\t 115.9  &  0.18  & 0.0324\\\\\n",
       "\\end{tabular}\n"
      ],
      "text/markdown": [
       "\n",
       "modulus | deviation | deviation_squared | \n",
       "|---|---|---|---|---|\n",
       "| 116.8  |  1.08  | 1.1664 | \n",
       "| 115.8  |  0.08  | 0.0064 | \n",
       "| 114.8  | -0.92  | 0.8464 | \n",
       "| 115.3  | -0.42  | 0.1764 | \n",
       "| 115.9  |  0.18  | 0.0324 | \n",
       "\n",
       "\n"
      ],
      "text/plain": [
       "  modulus deviation deviation_squared\n",
       "1 116.8    1.08     1.1664           \n",
       "2 115.8    0.08     0.0064           \n",
       "3 114.8   -0.92     0.8464           \n",
       "4 115.3   -0.42     0.1764           \n",
       "5 115.9    0.18     0.0324           "
      ]
     },
     "metadata": {},
     "output_type": "display_data"
    },
    {
     "data": {
      "text/html": [
       "0.557"
      ],
      "text/latex": [
       "0.557"
      ],
      "text/markdown": [
       "0.557"
      ],
      "text/plain": [
       "[1] 0.557"
      ]
     },
     "metadata": {},
     "output_type": "display_data"
    },
    {
     "data": {
      "text/html": [
       "0.746"
      ],
      "text/latex": [
       "0.746"
      ],
      "text/markdown": [
       "0.746"
      ],
      "text/plain": [
       "[1] 0.746"
      ]
     },
     "metadata": {},
     "output_type": "display_data"
    }
   ],
   "source": [
    "deviation <- round((modulus-mean(modulus)),2)\n",
    "deviation_squared <- deviation^2\n",
    "data.frame(modulus,deviation,deviation_squared)\n",
    "sample_var <- sum(deviation_squared)/(length(modulus)-1)\n",
    "sample_var\n",
    "round(sqrt(sample_var),3)"
   ]
  },
  {
   "cell_type": "markdown",
   "metadata": {},
   "source": [
    "(c) Calculate s<sup>2</sup> by using the computational formula for the numerator S<sub>xx</sub>. (Round your answer to three decimal places.)\n",
    "\n",
    "0.557 is correct"
   ]
  },
  {
   "cell_type": "code",
   "execution_count": 35,
   "metadata": {
    "collapsed": false
   },
   "outputs": [
    {
     "name": "stdout",
     "output_type": "stream",
     "text": [
      "( 66957.82 -  334778 / 5 )/( 5 -1)"
     ]
    },
    {
     "data": {
      "text/html": [
       "0.557"
      ],
      "text/latex": [
       "0.557"
      ],
      "text/markdown": [
       "0.557"
      ],
      "text/plain": [
       "[1] 0.557"
      ]
     },
     "metadata": {},
     "output_type": "display_data"
    }
   ],
   "source": [
    "n <- length(modulus)\n",
    "sum_of_squares <- sum(modulus^2)\n",
    "sum_squared <- sum(modulus)^2\n",
    "S_xx=sum_of_squares - (sum_squared/n)\n",
    "cat('(',sum_of_squares,'- ',sum_squared,'/',n,')/(',n,'-1)')\n",
    "round(S_xx/(n-1),3)"
   ]
  },
  {
   "cell_type": "markdown",
   "metadata": {},
   "source": [
    "(d) Subtract 100 from each observation to obtain a sample of transformed values. Now calculate the sample variance of these transformed values. (Round your answer to three decimal places.)\n",
    "\n",
    "0.557 is correct"
   ]
  },
  {
   "cell_type": "code",
   "execution_count": 36,
   "metadata": {
    "collapsed": false
   },
   "outputs": [
    {
     "data": {
      "text/html": [
       "0.557"
      ],
      "text/latex": [
       "0.557"
      ],
      "text/markdown": [
       "0.557"
      ],
      "text/plain": [
       "[1] 0.557"
      ]
     },
     "metadata": {},
     "output_type": "display_data"
    }
   ],
   "source": [
    "trans_modulus <- modulus-100\n",
    "round(var(trans_modulus),3)"
   ]
  },
  {
   "cell_type": "markdown",
   "metadata": {},
   "source": [
    "An article described an experiment in which observations on various characteristics were made using minichambers of three different types: (1) cooler (PVC frames covered with shade cloth), (2) control (PVC frames only), and (3) warmer (PVC frames covered with plastic). One of the article's authors kindly supplied the accompanying data on the difference between air and soil temperatures (°C). "
   ]
  },
  {
   "cell_type": "code",
   "execution_count": 37,
   "metadata": {
    "collapsed": false
   },
   "outputs": [
    {
     "data": {
      "text/html": [
       "<table>\n",
       "<thead><tr><th scope=col>Run</th><th scope=col>Cooler</th><th scope=col>Control</th><th scope=col>Warmer</th></tr></thead>\n",
       "<tbody>\n",
       "\t<tr><td> 1  </td><td>1.59</td><td>1.92</td><td>2.57</td></tr>\n",
       "\t<tr><td> 2  </td><td>1.43</td><td>2.00</td><td>2.60</td></tr>\n",
       "\t<tr><td> 3  </td><td>1.88</td><td>2.19</td><td>1.93</td></tr>\n",
       "\t<tr><td> 4  </td><td>1.26</td><td>1.12</td><td>1.58</td></tr>\n",
       "\t<tr><td> 5  </td><td>1.91</td><td>1.78</td><td>2.30</td></tr>\n",
       "\t<tr><td> 6  </td><td>1.86</td><td>1.84</td><td>0.84</td></tr>\n",
       "\t<tr><td> 7  </td><td>1.90</td><td>2.45</td><td>2.65</td></tr>\n",
       "\t<tr><td> 8  </td><td>1.57</td><td>2.03</td><td>0.15</td></tr>\n",
       "\t<tr><td> 9  </td><td>1.79</td><td>1.52</td><td>2.74</td></tr>\n",
       "\t<tr><td>10  </td><td>1.72</td><td>0.56</td><td>2.53</td></tr>\n",
       "\t<tr><td>11  </td><td>2.41</td><td>1.90</td><td>2.13</td></tr>\n",
       "\t<tr><td>12  </td><td>2.34</td><td>  NA</td><td>2.86</td></tr>\n",
       "\t<tr><td>13  </td><td>0.87</td><td>  NA</td><td>2.31</td></tr>\n",
       "\t<tr><td>14  </td><td>1.34</td><td>  NA</td><td>1.91</td></tr>\n",
       "\t<tr><td>15  </td><td>1.76</td><td>  NA</td><td>  NA</td></tr>\n",
       "</tbody>\n",
       "</table>\n"
      ],
      "text/latex": [
       "\\begin{tabular}{r|llll}\n",
       " Run & Cooler & Control & Warmer\\\\\n",
       "\\hline\n",
       "\t  1   & 1.59 & 1.92 & 2.57\\\\\n",
       "\t  2   & 1.43 & 2.00 & 2.60\\\\\n",
       "\t  3   & 1.88 & 2.19 & 1.93\\\\\n",
       "\t  4   & 1.26 & 1.12 & 1.58\\\\\n",
       "\t  5   & 1.91 & 1.78 & 2.30\\\\\n",
       "\t  6   & 1.86 & 1.84 & 0.84\\\\\n",
       "\t  7   & 1.90 & 2.45 & 2.65\\\\\n",
       "\t  8   & 1.57 & 2.03 & 0.15\\\\\n",
       "\t  9   & 1.79 & 1.52 & 2.74\\\\\n",
       "\t 10   & 1.72 & 0.56 & 2.53\\\\\n",
       "\t 11   & 2.41 & 1.90 & 2.13\\\\\n",
       "\t 12   & 2.34 &   NA & 2.86\\\\\n",
       "\t 13   & 0.87 &   NA & 2.31\\\\\n",
       "\t 14   & 1.34 &   NA & 1.91\\\\\n",
       "\t 15   & 1.76 &   NA &   NA\\\\\n",
       "\\end{tabular}\n"
      ],
      "text/markdown": [
       "\n",
       "Run | Cooler | Control | Warmer | \n",
       "|---|---|---|---|---|---|---|---|---|---|---|---|---|---|---|\n",
       "|  1   | 1.59 | 1.92 | 2.57 | \n",
       "|  2   | 1.43 | 2.00 | 2.60 | \n",
       "|  3   | 1.88 | 2.19 | 1.93 | \n",
       "|  4   | 1.26 | 1.12 | 1.58 | \n",
       "|  5   | 1.91 | 1.78 | 2.30 | \n",
       "|  6   | 1.86 | 1.84 | 0.84 | \n",
       "|  7   | 1.90 | 2.45 | 2.65 | \n",
       "|  8   | 1.57 | 2.03 | 0.15 | \n",
       "|  9   | 1.79 | 1.52 | 2.74 | \n",
       "| 10   | 1.72 | 0.56 | 2.53 | \n",
       "| 11   | 2.41 | 1.90 | 2.13 | \n",
       "| 12   | 2.34 |   NA | 2.86 | \n",
       "| 13   | 0.87 |   NA | 2.31 | \n",
       "| 14   | 1.34 |   NA | 1.91 | \n",
       "| 15   | 1.76 |   NA |   NA | \n",
       "\n",
       "\n"
      ],
      "text/plain": [
       "   Run Cooler Control Warmer\n",
       "1   1  1.59   1.92    2.57  \n",
       "2   2  1.43   2.00    2.60  \n",
       "3   3  1.88   2.19    1.93  \n",
       "4   4  1.26   1.12    1.58  \n",
       "5   5  1.91   1.78    2.30  \n",
       "6   6  1.86   1.84    0.84  \n",
       "7   7  1.90   2.45    2.65  \n",
       "8   8  1.57   2.03    0.15  \n",
       "9   9  1.79   1.52    2.74  \n",
       "10 10  1.72   0.56    2.53  \n",
       "11 11  2.41   1.90    2.13  \n",
       "12 12  2.34     NA    2.86  \n",
       "13 13  0.87     NA    2.31  \n",
       "14 14  1.34     NA    1.91  \n",
       "15 15  1.76     NA      NA  "
      ]
     },
     "metadata": {},
     "output_type": "display_data"
    }
   ],
   "source": [
    "Run <- c(1:15)\n",
    "\n",
    "Cooler <- c(1.59\n",
    ",1.43\n",
    ",1.88\n",
    ",1.26\n",
    ",1.91\n",
    ",1.86\n",
    ",1.9\n",
    ",1.57\n",
    ",1.79\n",
    ",1.72\n",
    ",2.41\n",
    ",2.34\n",
    ",0.87\n",
    ",1.34\n",
    ",1.76)\n",
    "\n",
    "Control <- c(1.92\n",
    ",2\n",
    ",2.19\n",
    ",1.12\n",
    ",1.78\n",
    ",1.84\n",
    ",2.45\n",
    ",2.03\n",
    ",1.52\n",
    ",0.56\n",
    ",1.9,NA,NA,NA,NA)\n",
    "\n",
    "\n",
    "Warmer <- c(2.57\n",
    ",2.6\n",
    ",1.93\n",
    ",1.58\n",
    ",2.3\n",
    ",0.84\n",
    ",2.65\n",
    ",0.15\n",
    ",2.74\n",
    ",2.53\n",
    ",2.13\n",
    ",2.86\n",
    ",2.31\n",
    ",1.91,NA)\n",
    "\n",
    "minichambers <- data.frame(Run,Cooler,Control,Warmer)\n",
    "minichambers"
   ]
  },
  {
   "cell_type": "markdown",
   "metadata": {},
   "source": [
    " (a)\n",
    "Compare measures of center for the three different samples. \n",
    "\n",
    "Cooler  $\\tilde{x}=1.760$\n",
    "\n",
    "Control $\\tilde{x}=1.900$\n",
    "\n",
    "Warmer  $\\tilde{x}=2.305$"
   ]
  },
  {
   "cell_type": "code",
   "execution_count": 38,
   "metadata": {
    "collapsed": false
   },
   "outputs": [
    {
     "data": {
      "text/html": [
       "1.76"
      ],
      "text/latex": [
       "1.76"
      ],
      "text/markdown": [
       "1.76"
      ],
      "text/plain": [
       "[1] 1.76"
      ]
     },
     "metadata": {},
     "output_type": "display_data"
    },
    {
     "data": {
      "text/html": [
       "1.9"
      ],
      "text/latex": [
       "1.9"
      ],
      "text/markdown": [
       "1.9"
      ],
      "text/plain": [
       "[1] 1.9"
      ]
     },
     "metadata": {},
     "output_type": "display_data"
    },
    {
     "data": {
      "text/html": [
       "2.305"
      ],
      "text/latex": [
       "2.305"
      ],
      "text/markdown": [
       "2.305"
      ],
      "text/plain": [
       "[1] 2.305"
      ]
     },
     "metadata": {},
     "output_type": "display_data"
    }
   ],
   "source": [
    "median(Cooler)\n",
    "median(Control,na.rm = TRUE)\n",
    "median(Warmer,na.rm = TRUE)"
   ]
  },
  {
   "cell_type": "markdown",
   "metadata": {},
   "source": [
    " (b)\n",
    "Calculate the standard deviations for the three different samples. (Round your answers to three decimal places.) \n",
    "\n",
    "Cooler  $s=0.395$\n",
    "\n",
    "Control $s=0.524$\n",
    "\n",
    "Warmer  $s=0.772$\n"
   ]
  },
  {
   "cell_type": "code",
   "execution_count": 42,
   "metadata": {
    "collapsed": false
   },
   "outputs": [
    {
     "data": {
      "text/html": [
       "0.395"
      ],
      "text/latex": [
       "0.395"
      ],
      "text/markdown": [
       "0.395"
      ],
      "text/plain": [
       "[1] 0.395"
      ]
     },
     "metadata": {},
     "output_type": "display_data"
    },
    {
     "data": {
      "text/html": [
       "0.524"
      ],
      "text/latex": [
       "0.524"
      ],
      "text/markdown": [
       "0.524"
      ],
      "text/plain": [
       "[1] 0.524"
      ]
     },
     "metadata": {},
     "output_type": "display_data"
    },
    {
     "data": {
      "text/html": [
       "0.772"
      ],
      "text/latex": [
       "0.772"
      ],
      "text/markdown": [
       "0.772"
      ],
      "text/plain": [
       "[1] 0.772"
      ]
     },
     "metadata": {},
     "output_type": "display_data"
    }
   ],
   "source": [
    "round(sd(Cooler,na.rm=TRUE),3)\n",
    "round(sd(Control,na.rm = TRUE),3)\n",
    "round(sd(Warmer,na.rm=TRUE),3)"
   ]
  },
  {
   "cell_type": "markdown",
   "metadata": {},
   "source": [
    "Interpret and compare the standard deviations for the three different samples. \n",
    "\n",
    "We see from the standard deviations that variability increases as the conditions of the minichambers transition from cooler to warmer.    "
   ]
  },
  {
   "cell_type": "markdown",
   "metadata": {},
   "source": [
    "Do the fourth spreads for the three samples convey the same message as do the standard deviations about relative variability? \n",
    "\n",
    "No, The fourth spreads do not communicate the same message as the standard deviations did.  "
   ]
  },
  {
   "cell_type": "code",
   "execution_count": 43,
   "metadata": {
    "collapsed": false
   },
   "outputs": [
    {
     "data": {
      "text/html": [
       "0.39"
      ],
      "text/latex": [
       "0.39"
      ],
      "text/markdown": [
       "0.39"
      ],
      "text/plain": [
       "[1] 0.39"
      ]
     },
     "metadata": {},
     "output_type": "display_data"
    },
    {
     "data": {
      "text/html": [
       "0.365"
      ],
      "text/latex": [
       "0.365"
      ],
      "text/markdown": [
       "0.365"
      ],
      "text/plain": [
       "[1] 0.365"
      ]
     },
     "metadata": {},
     "output_type": "display_data"
    },
    {
     "data": {
      "text/html": [
       "0.6775"
      ],
      "text/latex": [
       "0.6775"
      ],
      "text/markdown": [
       "0.6775"
      ],
      "text/plain": [
       "[1] 0.6775"
      ]
     },
     "metadata": {},
     "output_type": "display_data"
    }
   ],
   "source": [
    "IQR(Cooler)\n",
    "IQR(Control,na.rm = TRUE)\n",
    "IQR(Warmer,na.rm=TRUE)"
   ]
  },
  {
   "cell_type": "markdown",
   "metadata": {},
   "source": [
    "(d) Construct a comparative boxplot. "
   ]
  },
  {
   "cell_type": "code",
   "execution_count": 44,
   "metadata": {
    "collapsed": false
   },
   "outputs": [
    {
     "data": {
      "text/html": [
       "<table>\n",
       "<thead><tr><th scope=col>Run</th><th scope=col>Type</th><th scope=col>TempDiff</th></tr></thead>\n",
       "<tbody>\n",
       "\t<tr><td> 1     </td><td>Cooler </td><td>1.59   </td></tr>\n",
       "\t<tr><td> 2     </td><td>Cooler </td><td>1.43   </td></tr>\n",
       "\t<tr><td> 3     </td><td>Cooler </td><td>1.88   </td></tr>\n",
       "\t<tr><td> 4     </td><td>Cooler </td><td>1.26   </td></tr>\n",
       "\t<tr><td> 5     </td><td>Cooler </td><td>1.91   </td></tr>\n",
       "\t<tr><td> 6     </td><td>Cooler </td><td>1.86   </td></tr>\n",
       "\t<tr><td> 7     </td><td>Cooler </td><td>1.90   </td></tr>\n",
       "\t<tr><td> 8     </td><td>Cooler </td><td>1.57   </td></tr>\n",
       "\t<tr><td> 9     </td><td>Cooler </td><td>1.79   </td></tr>\n",
       "\t<tr><td>10     </td><td>Cooler </td><td>1.72   </td></tr>\n",
       "\t<tr><td>11     </td><td>Cooler </td><td>2.41   </td></tr>\n",
       "\t<tr><td>12     </td><td>Cooler </td><td>2.34   </td></tr>\n",
       "\t<tr><td>13     </td><td>Cooler </td><td>0.87   </td></tr>\n",
       "\t<tr><td>14     </td><td>Cooler </td><td>1.34   </td></tr>\n",
       "\t<tr><td>15     </td><td>Cooler </td><td>1.76   </td></tr>\n",
       "\t<tr><td> 1     </td><td>Control</td><td>1.92   </td></tr>\n",
       "\t<tr><td> 2     </td><td>Control</td><td>2.00   </td></tr>\n",
       "\t<tr><td> 3     </td><td>Control</td><td>2.19   </td></tr>\n",
       "\t<tr><td> 4     </td><td>Control</td><td>1.12   </td></tr>\n",
       "\t<tr><td> 5     </td><td>Control</td><td>1.78   </td></tr>\n",
       "\t<tr><td> 6     </td><td>Control</td><td>1.84   </td></tr>\n",
       "\t<tr><td> 7     </td><td>Control</td><td>2.45   </td></tr>\n",
       "\t<tr><td> 8     </td><td>Control</td><td>2.03   </td></tr>\n",
       "\t<tr><td> 9     </td><td>Control</td><td>1.52   </td></tr>\n",
       "\t<tr><td>10     </td><td>Control</td><td>0.56   </td></tr>\n",
       "\t<tr><td>11     </td><td>Control</td><td>1.90   </td></tr>\n",
       "\t<tr><td>12     </td><td>Control</td><td>  NA   </td></tr>\n",
       "\t<tr><td>13     </td><td>Control</td><td>  NA   </td></tr>\n",
       "\t<tr><td>14     </td><td>Control</td><td>  NA   </td></tr>\n",
       "\t<tr><td>15     </td><td>Control</td><td>  NA   </td></tr>\n",
       "\t<tr><td> 1     </td><td>Warmer </td><td>2.57   </td></tr>\n",
       "\t<tr><td> 2     </td><td>Warmer </td><td>2.60   </td></tr>\n",
       "\t<tr><td> 3     </td><td>Warmer </td><td>1.93   </td></tr>\n",
       "\t<tr><td> 4     </td><td>Warmer </td><td>1.58   </td></tr>\n",
       "\t<tr><td> 5     </td><td>Warmer </td><td>2.30   </td></tr>\n",
       "\t<tr><td> 6     </td><td>Warmer </td><td>0.84   </td></tr>\n",
       "\t<tr><td> 7     </td><td>Warmer </td><td>2.65   </td></tr>\n",
       "\t<tr><td> 8     </td><td>Warmer </td><td>0.15   </td></tr>\n",
       "\t<tr><td> 9     </td><td>Warmer </td><td>2.74   </td></tr>\n",
       "\t<tr><td>10     </td><td>Warmer </td><td>2.53   </td></tr>\n",
       "\t<tr><td>11     </td><td>Warmer </td><td>2.13   </td></tr>\n",
       "\t<tr><td>12     </td><td>Warmer </td><td>2.86   </td></tr>\n",
       "\t<tr><td>13     </td><td>Warmer </td><td>2.31   </td></tr>\n",
       "\t<tr><td>14     </td><td>Warmer </td><td>1.91   </td></tr>\n",
       "\t<tr><td>15     </td><td>Warmer </td><td>  NA   </td></tr>\n",
       "</tbody>\n",
       "</table>\n"
      ],
      "text/latex": [
       "\\begin{tabular}{r|lll}\n",
       " Run & Type & TempDiff\\\\\n",
       "\\hline\n",
       "\t  1      & Cooler  & 1.59   \\\\\n",
       "\t  2      & Cooler  & 1.43   \\\\\n",
       "\t  3      & Cooler  & 1.88   \\\\\n",
       "\t  4      & Cooler  & 1.26   \\\\\n",
       "\t  5      & Cooler  & 1.91   \\\\\n",
       "\t  6      & Cooler  & 1.86   \\\\\n",
       "\t  7      & Cooler  & 1.90   \\\\\n",
       "\t  8      & Cooler  & 1.57   \\\\\n",
       "\t  9      & Cooler  & 1.79   \\\\\n",
       "\t 10      & Cooler  & 1.72   \\\\\n",
       "\t 11      & Cooler  & 2.41   \\\\\n",
       "\t 12      & Cooler  & 2.34   \\\\\n",
       "\t 13      & Cooler  & 0.87   \\\\\n",
       "\t 14      & Cooler  & 1.34   \\\\\n",
       "\t 15      & Cooler  & 1.76   \\\\\n",
       "\t  1      & Control & 1.92   \\\\\n",
       "\t  2      & Control & 2.00   \\\\\n",
       "\t  3      & Control & 2.19   \\\\\n",
       "\t  4      & Control & 1.12   \\\\\n",
       "\t  5      & Control & 1.78   \\\\\n",
       "\t  6      & Control & 1.84   \\\\\n",
       "\t  7      & Control & 2.45   \\\\\n",
       "\t  8      & Control & 2.03   \\\\\n",
       "\t  9      & Control & 1.52   \\\\\n",
       "\t 10      & Control & 0.56   \\\\\n",
       "\t 11      & Control & 1.90   \\\\\n",
       "\t 12      & Control &   NA   \\\\\n",
       "\t 13      & Control &   NA   \\\\\n",
       "\t 14      & Control &   NA   \\\\\n",
       "\t 15      & Control &   NA   \\\\\n",
       "\t  1      & Warmer  & 2.57   \\\\\n",
       "\t  2      & Warmer  & 2.60   \\\\\n",
       "\t  3      & Warmer  & 1.93   \\\\\n",
       "\t  4      & Warmer  & 1.58   \\\\\n",
       "\t  5      & Warmer  & 2.30   \\\\\n",
       "\t  6      & Warmer  & 0.84   \\\\\n",
       "\t  7      & Warmer  & 2.65   \\\\\n",
       "\t  8      & Warmer  & 0.15   \\\\\n",
       "\t  9      & Warmer  & 2.74   \\\\\n",
       "\t 10      & Warmer  & 2.53   \\\\\n",
       "\t 11      & Warmer  & 2.13   \\\\\n",
       "\t 12      & Warmer  & 2.86   \\\\\n",
       "\t 13      & Warmer  & 2.31   \\\\\n",
       "\t 14      & Warmer  & 1.91   \\\\\n",
       "\t 15      & Warmer  &   NA   \\\\\n",
       "\\end{tabular}\n"
      ],
      "text/markdown": [
       "\n",
       "Run | Type | TempDiff | \n",
       "|---|---|---|---|---|---|---|---|---|---|---|---|---|---|---|---|---|---|---|---|---|---|---|---|---|---|---|---|---|---|---|---|---|---|---|---|---|---|---|---|---|---|---|---|---|\n",
       "|  1      | Cooler  | 1.59    | \n",
       "|  2      | Cooler  | 1.43    | \n",
       "|  3      | Cooler  | 1.88    | \n",
       "|  4      | Cooler  | 1.26    | \n",
       "|  5      | Cooler  | 1.91    | \n",
       "|  6      | Cooler  | 1.86    | \n",
       "|  7      | Cooler  | 1.90    | \n",
       "|  8      | Cooler  | 1.57    | \n",
       "|  9      | Cooler  | 1.79    | \n",
       "| 10      | Cooler  | 1.72    | \n",
       "| 11      | Cooler  | 2.41    | \n",
       "| 12      | Cooler  | 2.34    | \n",
       "| 13      | Cooler  | 0.87    | \n",
       "| 14      | Cooler  | 1.34    | \n",
       "| 15      | Cooler  | 1.76    | \n",
       "|  1      | Control | 1.92    | \n",
       "|  2      | Control | 2.00    | \n",
       "|  3      | Control | 2.19    | \n",
       "|  4      | Control | 1.12    | \n",
       "|  5      | Control | 1.78    | \n",
       "|  6      | Control | 1.84    | \n",
       "|  7      | Control | 2.45    | \n",
       "|  8      | Control | 2.03    | \n",
       "|  9      | Control | 1.52    | \n",
       "| 10      | Control | 0.56    | \n",
       "| 11      | Control | 1.90    | \n",
       "| 12      | Control |   NA    | \n",
       "| 13      | Control |   NA    | \n",
       "| 14      | Control |   NA    | \n",
       "| 15      | Control |   NA    | \n",
       "|  1      | Warmer  | 2.57    | \n",
       "|  2      | Warmer  | 2.60    | \n",
       "|  3      | Warmer  | 1.93    | \n",
       "|  4      | Warmer  | 1.58    | \n",
       "|  5      | Warmer  | 2.30    | \n",
       "|  6      | Warmer  | 0.84    | \n",
       "|  7      | Warmer  | 2.65    | \n",
       "|  8      | Warmer  | 0.15    | \n",
       "|  9      | Warmer  | 2.74    | \n",
       "| 10      | Warmer  | 2.53    | \n",
       "| 11      | Warmer  | 2.13    | \n",
       "| 12      | Warmer  | 2.86    | \n",
       "| 13      | Warmer  | 2.31    | \n",
       "| 14      | Warmer  | 1.91    | \n",
       "| 15      | Warmer  |   NA    | \n",
       "\n",
       "\n"
      ],
      "text/plain": [
       "   Run Type    TempDiff\n",
       "1   1  Cooler  1.59    \n",
       "2   2  Cooler  1.43    \n",
       "3   3  Cooler  1.88    \n",
       "4   4  Cooler  1.26    \n",
       "5   5  Cooler  1.91    \n",
       "6   6  Cooler  1.86    \n",
       "7   7  Cooler  1.90    \n",
       "8   8  Cooler  1.57    \n",
       "9   9  Cooler  1.79    \n",
       "10 10  Cooler  1.72    \n",
       "11 11  Cooler  2.41    \n",
       "12 12  Cooler  2.34    \n",
       "13 13  Cooler  0.87    \n",
       "14 14  Cooler  1.34    \n",
       "15 15  Cooler  1.76    \n",
       "16  1  Control 1.92    \n",
       "17  2  Control 2.00    \n",
       "18  3  Control 2.19    \n",
       "19  4  Control 1.12    \n",
       "20  5  Control 1.78    \n",
       "21  6  Control 1.84    \n",
       "22  7  Control 2.45    \n",
       "23  8  Control 2.03    \n",
       "24  9  Control 1.52    \n",
       "25 10  Control 0.56    \n",
       "26 11  Control 1.90    \n",
       "27 12  Control   NA    \n",
       "28 13  Control   NA    \n",
       "29 14  Control   NA    \n",
       "30 15  Control   NA    \n",
       "31  1  Warmer  2.57    \n",
       "32  2  Warmer  2.60    \n",
       "33  3  Warmer  1.93    \n",
       "34  4  Warmer  1.58    \n",
       "35  5  Warmer  2.30    \n",
       "36  6  Warmer  0.84    \n",
       "37  7  Warmer  2.65    \n",
       "38  8  Warmer  0.15    \n",
       "39  9  Warmer  2.74    \n",
       "40 10  Warmer  2.53    \n",
       "41 11  Warmer  2.13    \n",
       "42 12  Warmer  2.86    \n",
       "43 13  Warmer  2.31    \n",
       "44 14  Warmer  1.91    \n",
       "45 15  Warmer    NA    "
      ]
     },
     "metadata": {},
     "output_type": "display_data"
    }
   ],
   "source": [
    "molten_minichambers <- reshape2::melt(minichambers,'Run')\n",
    "colnames(molten_minichambers) <- c(\"Run\",\"Type\", \"TempDiff\")\n",
    "molten_minichambers"
   ]
  },
  {
   "cell_type": "code",
   "execution_count": 45,
   "metadata": {
    "collapsed": false
   },
   "outputs": [
    {
     "name": "stderr",
     "output_type": "stream",
     "text": [
      "Warning message:\n",
      "“Removed 5 rows containing non-finite values (stat_boxplot).”"
     ]
    },
    {
     "data": {},
     "metadata": {},
     "output_type": "display_data"
    },
    {
     "data": {
      "image/png": "[encoded data removed]",
      "text/plain": [
       "plot without title"
      ]
     },
     "metadata": {},
     "output_type": "display_data"
    }
   ],
   "source": [
    "ggplot(molten_minichambers,aes(x = Type,y=TempDiff)) +\n",
    "   geom_boxplot() + coord_flip()"
   ]
  },
  {
   "cell_type": "markdown",
   "metadata": {},
   "source": [
    "## Problem 11\n",
    "A study of the relationship between age and various visual functions (such as acuity and depth perception) reported the following observations on the area of scleral lamina (mm2) from human optic nerve heads: "
   ]
  },
  {
   "cell_type": "code",
   "execution_count": 46,
   "metadata": {
    "collapsed": true
   },
   "outputs": [],
   "source": [
    "scleral_area <- c(2.82,2.67,2.80,3.88,2.38,2.67,3.97,4.25,3.83\n",
    "  ,4.35,3.37,4.61,2.34,3.66,2.88,3.50,3.04)"
   ]
  },
  {
   "cell_type": "markdown",
   "metadata": {},
   "source": [
    "Calculate $\\sum{x_i}$ and $\\sum{x_i^22}$. \n",
    "(Round to two decimal places.) \n",
    "\n",
    "57.02\n",
    "and\n",
    "199.45\n",
    "is correct"
   ]
  },
  {
   "cell_type": "code",
   "execution_count": 47,
   "metadata": {
    "collapsed": false
   },
   "outputs": [
    {
     "data": {
      "text/html": [
       "57.02"
      ],
      "text/latex": [
       "57.02"
      ],
      "text/markdown": [
       "57.02"
      ],
      "text/plain": [
       "[1] 57.02"
      ]
     },
     "metadata": {},
     "output_type": "display_data"
    },
    {
     "data": {
      "text/html": [
       "199.45"
      ],
      "text/latex": [
       "199.45"
      ],
      "text/markdown": [
       "199.45"
      ],
      "text/plain": [
       "[1] 199.45"
      ]
     },
     "metadata": {},
     "output_type": "display_data"
    }
   ],
   "source": [
    "sum(scleral_area)\n",
    "sum(scleral_area^2)"
   ]
  },
  {
   "cell_type": "markdown",
   "metadata": {},
   "source": [
    "(b) Use the values calculated in part (a) to compute the sample variance s2 and then the sample standard deviation s. (Round your answers to three decimal places.) \n",
    "\n",
    "0.512\n",
    "and\n",
    "0.716\n",
    "is correct"
   ]
  },
  {
   "cell_type": "code",
   "execution_count": 48,
   "metadata": {
    "collapsed": false
   },
   "outputs": [
    {
     "data": {
      "text/html": [
       "0.512"
      ],
      "text/latex": [
       "0.512"
      ],
      "text/markdown": [
       "0.512"
      ],
      "text/plain": [
       "[1] 0.512"
      ]
     },
     "metadata": {},
     "output_type": "display_data"
    },
    {
     "data": {
      "text/html": [
       "0.716"
      ],
      "text/latex": [
       "0.716"
      ],
      "text/markdown": [
       "0.716"
      ],
      "text/plain": [
       "[1] 0.716"
      ]
     },
     "metadata": {},
     "output_type": "display_data"
    }
   ],
   "source": [
    "round(var(scleral_area),3)\n",
    "round(sd(scleral_area),3)"
   ]
  },
  {
   "cell_type": "markdown",
   "metadata": {},
   "source": [
    "## Problem 12\n",
    "An article reported the following data on oxidation-induction time (min) for various commercial oils: "
   ]
  },
  {
   "cell_type": "code",
   "execution_count": 50,
   "metadata": {
    "collapsed": true
   },
   "outputs": [],
   "source": [
    "oxidation_time <- c(89,104,130,160,180,195,134,145,214,105,145  \n",
    "  ,153,151,138,87,99,94,119,129)"
   ]
  },
  {
   "cell_type": "markdown",
   "metadata": {},
   "source": [
    "(a) Calculate the sample variance and standard deviation. (Round your answers to three decimal places.)\n",
    "\n",
    "$s^2=1269.673$\n",
    "\n",
    "$s=35.632$\n",
    "\n",
    "is correct"
   ]
  },
  {
   "cell_type": "code",
   "execution_count": 51,
   "metadata": {
    "collapsed": false
   },
   "outputs": [
    {
     "data": {
      "text/html": [
       "1269.673"
      ],
      "text/latex": [
       "1269.673"
      ],
      "text/markdown": [
       "1269.673"
      ],
      "text/plain": [
       "[1] 1269.673"
      ]
     },
     "metadata": {},
     "output_type": "display_data"
    },
    {
     "data": {
      "text/html": [
       "35.632"
      ],
      "text/latex": [
       "35.632"
      ],
      "text/markdown": [
       "35.632"
      ],
      "text/plain": [
       "[1] 35.632"
      ]
     },
     "metadata": {},
     "output_type": "display_data"
    }
   ],
   "source": [
    "round(var(oxidation_time),3)\n",
    "round(sd(oxidation_time),3)"
   ]
  },
  {
   "cell_type": "markdown",
   "metadata": {},
   "source": [
    "(b) If the observations were reexpressed in hours, what would be the resulting values of the sample variance and sample standard deviation? Answer without actually performing the reexpression. (Round your answer to three decimal places.) \n",
    "\n",
    "0.353\n",
    "and\n",
    "0.594\n",
    "is correct"
   ]
  },
  {
   "cell_type": "code",
   "execution_count": 52,
   "metadata": {
    "collapsed": false
   },
   "outputs": [
    {
     "data": {
      "text/html": [
       "0.353"
      ],
      "text/latex": [
       "0.353"
      ],
      "text/markdown": [
       "0.353"
      ],
      "text/plain": [
       "[1] 0.353"
      ]
     },
     "metadata": {},
     "output_type": "display_data"
    },
    {
     "data": {
      "text/html": [
       "0.594"
      ],
      "text/latex": [
       "0.594"
      ],
      "text/markdown": [
       "0.594"
      ],
      "text/plain": [
       "[1] 0.594"
      ]
     },
     "metadata": {},
     "output_type": "display_data"
    }
   ],
   "source": [
    "round(var(oxidation_time)/60^2,3)\n",
    "round(sd(oxidation_time)/60,3)"
   ]
  },
  {
   "cell_type": "markdown",
   "metadata": {},
   "source": [
    "## Problem 13\n",
    "The first four deviations from the mean in a sample of n = 5 reaction times were 0.5, 0.8, 1.2, and 1.4. What is the fifth deviation from the mean?"
   ]
  },
  {
   "cell_type": "code",
   "execution_count": 53,
   "metadata": {
    "collapsed": false
   },
   "outputs": [
    {
     "data": {
      "text/html": [
       "-3.9"
      ],
      "text/latex": [
       "-3.9"
      ],
      "text/markdown": [
       "-3.9"
      ],
      "text/plain": [
       "[1] -3.9"
      ]
     },
     "metadata": {},
     "output_type": "display_data"
    }
   ],
   "source": [
    "0-sum(c(0.5,0.8,1.2,1.4)) #deviations should sum to 0"
   ]
  },
  {
   "cell_type": "markdown",
   "metadata": {},
   "source": [
    "Give a sample for which these are the five deviations from the mean. "
   ]
  },
  {
   "cell_type": "code",
   "execution_count": 54,
   "metadata": {
    "collapsed": false
   },
   "outputs": [
    {
     "data": {
      "text/html": [
       "<ol class=list-inline>\n",
       "\t<li>0.5</li>\n",
       "\t<li>0.8</li>\n",
       "\t<li>1.2</li>\n",
       "\t<li>1.4</li>\n",
       "\t<li>-3.9</li>\n",
       "</ol>\n"
      ],
      "text/latex": [
       "\\begin{enumerate*}\n",
       "\\item 0.5\n",
       "\\item 0.8\n",
       "\\item 1.2\n",
       "\\item 1.4\n",
       "\\item -3.9\n",
       "\\end{enumerate*}\n"
      ],
      "text/markdown": [
       "1. 0.5\n",
       "2. 0.8\n",
       "3. 1.2\n",
       "4. 1.4\n",
       "5. -3.9\n",
       "\n",
       "\n"
      ],
      "text/plain": [
       "[1]  0.5  0.8  1.2  1.4 -3.9"
      ]
     },
     "metadata": {},
     "output_type": "display_data"
    }
   ],
   "source": [
    "sample <- c(4.4, 4.7, 5.1, 5.3, 0)\n",
    "sample-mean(sample)"
   ]
  },
  {
   "cell_type": "markdown",
   "metadata": {},
   "source": [
    "## Problem 14\n",
    "A company utilizes two different machines to manufacture parts of a certain type. During a single shift, a sample of n = 20 parts produced by each machine is obtained, and the value of a particular critical dimension for each part is determined. The comparative boxplot below is constructed from the resulting data. "
   ]
  },
  {
   "cell_type": "markdown",
   "metadata": {},
   "source": [
    "![image.png](attachment:image.png)\n",
    "\n",
    "A typical value seems to be about the same for the two machines.\n",
    "\n",
    "The only outlier that exists is from machine 1.\n",
    "\n",
    "Machine 2's sample values have considerably more variation than machine 1's sample values."
   ]
  },
  {
   "cell_type": "markdown",
   "metadata": {},
   "source": [
    "## Problem 15\n",
    "Observations on burst strength (lb/in2) were obtained both for test nozzle closure welds and for production canister nozzle welds."
   ]
  },
  {
   "cell_type": "code",
   "execution_count": 55,
   "metadata": {
    "collapsed": true
   },
   "outputs": [],
   "source": [
    "Test <- c(7200,6100,7300,7300,8000,7400\n",
    "          ,7300,7300,8000,6700,8300)\n",
    "Cannister <- c(5250,5625,5900,5900,5700,6050\n",
    "               ,5800,6000,5875,6100,5850,6600)"
   ]
  },
  {
   "cell_type": "markdown",
   "metadata": {},
   "source": [
    "The production canister welds have consistently lower burst strengths than the test nozzle welds.\n",
    "\n",
    "The test nozzle welds have much more variable burst strengths.\n",
    "\n",
    "The production canister welds data contain 2 outliers."
   ]
  },
  {
   "cell_type": "markdown",
   "metadata": {},
   "source": [
    "## Problem 16\n",
    "Temperature transducers of a certain type are shipped in batches of 50. A sample of 60 batches was selected, and the number of transducers in each batch not conforming to design specifications was determined, resulting in the following data: "
   ]
  },
  {
   "cell_type": "code",
   "execution_count": 56,
   "metadata": {
    "collapsed": true
   },
   "outputs": [],
   "source": [
    "nonconforming <- c(2,1,2,4,1,1,3,2,0,5,3,3,1,3,2,4,7,0,2,3\n",
    "                   ,0,4,2,1,3,1,1,3,4,1,2,3,2,2,8,4,5,1,3,1\n",
    "                   ,5,0,2,3,2,1,0,6,4,2,1,6,0,3,3,3,7,1,2,2)"
   ]
  },
  {
   "cell_type": "code",
   "execution_count": 57,
   "metadata": {
    "collapsed": false
   },
   "outputs": [
    {
     "data": {
      "text/html": [
       "<table>\n",
       "<thead><tr><th scope=col>nonconforming</th><th scope=col>Freq</th><th scope=col>relative_freq</th></tr></thead>\n",
       "<tbody>\n",
       "\t<tr><td>0    </td><td> 6   </td><td>0.100</td></tr>\n",
       "\t<tr><td>1    </td><td>13   </td><td>0.217</td></tr>\n",
       "\t<tr><td>2    </td><td>14   </td><td>0.233</td></tr>\n",
       "\t<tr><td>3    </td><td>13   </td><td>0.217</td></tr>\n",
       "\t<tr><td>4    </td><td> 6   </td><td>0.100</td></tr>\n",
       "\t<tr><td>5    </td><td> 3   </td><td>0.050</td></tr>\n",
       "\t<tr><td>6    </td><td> 2   </td><td>0.033</td></tr>\n",
       "\t<tr><td>7    </td><td> 2   </td><td>0.033</td></tr>\n",
       "\t<tr><td>8    </td><td> 1   </td><td>0.017</td></tr>\n",
       "</tbody>\n",
       "</table>\n"
      ],
      "text/latex": [
       "\\begin{tabular}{r|lll}\n",
       " nonconforming & Freq & relative\\_freq\\\\\n",
       "\\hline\n",
       "\t 0     &  6    & 0.100\\\\\n",
       "\t 1     & 13    & 0.217\\\\\n",
       "\t 2     & 14    & 0.233\\\\\n",
       "\t 3     & 13    & 0.217\\\\\n",
       "\t 4     &  6    & 0.100\\\\\n",
       "\t 5     &  3    & 0.050\\\\\n",
       "\t 6     &  2    & 0.033\\\\\n",
       "\t 7     &  2    & 0.033\\\\\n",
       "\t 8     &  1    & 0.017\\\\\n",
       "\\end{tabular}\n"
      ],
      "text/markdown": [
       "\n",
       "nonconforming | Freq | relative_freq | \n",
       "|---|---|---|---|---|---|---|---|---|\n",
       "| 0     |  6    | 0.100 | \n",
       "| 1     | 13    | 0.217 | \n",
       "| 2     | 14    | 0.233 | \n",
       "| 3     | 13    | 0.217 | \n",
       "| 4     |  6    | 0.100 | \n",
       "| 5     |  3    | 0.050 | \n",
       "| 6     |  2    | 0.033 | \n",
       "| 7     |  2    | 0.033 | \n",
       "| 8     |  1    | 0.017 | \n",
       "\n",
       "\n"
      ],
      "text/plain": [
       "  nonconforming Freq relative_freq\n",
       "1 0              6   0.100        \n",
       "2 1             13   0.217        \n",
       "3 2             14   0.233        \n",
       "4 3             13   0.217        \n",
       "5 4              6   0.100        \n",
       "6 5              3   0.050        \n",
       "7 6              2   0.033        \n",
       "8 7              2   0.033        \n",
       "9 8              1   0.017        "
      ]
     },
     "metadata": {},
     "output_type": "display_data"
    }
   ],
   "source": [
    "freq <- as.data.frame(table(nonconforming))\n",
    "freq$nonconforming  <- as.numeric(levels(freq$nonconforming)) # factors are not numbers\n",
    "freq$relative_freq <- round(freq$Freq/sum(freq$Freq),3)\n",
    "freq"
   ]
  },
  {
   "cell_type": "markdown",
   "metadata": {},
   "source": [
    "(b) What proportion of batches in the sample have at most six nonconforming transducers? (Round your answer to three decimal places.)\n",
    "\n",
    "0.950 is correct"
   ]
  },
  {
   "cell_type": "code",
   "execution_count": 58,
   "metadata": {
    "collapsed": false
   },
   "outputs": [
    {
     "data": {
      "text/html": [
       "0.95"
      ],
      "text/latex": [
       "0.95"
      ],
      "text/markdown": [
       "0.95"
      ],
      "text/plain": [
       "[1] 0.95"
      ]
     },
     "metadata": {},
     "output_type": "display_data"
    }
   ],
   "source": [
    "round(sum(freq[freq$nonconforming<=6,'Freq'])/sum(freq$Freq),3)"
   ]
  },
  {
   "cell_type": "markdown",
   "metadata": {},
   "source": [
    "What proportion have fewer than six? (Round your answer to three decimal places.)\n",
    "\n",
    "0.917 is correct"
   ]
  },
  {
   "cell_type": "code",
   "execution_count": 59,
   "metadata": {
    "collapsed": false
   },
   "outputs": [
    {
     "data": {
      "text/html": [
       "0.917"
      ],
      "text/latex": [
       "0.917"
      ],
      "text/markdown": [
       "0.917"
      ],
      "text/plain": [
       "[1] 0.917"
      ]
     },
     "metadata": {},
     "output_type": "display_data"
    }
   ],
   "source": [
    "round(sum(freq[freq$nonconforming<6,'Freq'])/sum(freq$Freq),3)"
   ]
  },
  {
   "cell_type": "markdown",
   "metadata": {},
   "source": [
    "What proportion have at least six nonconforming units? (Round your answer to three decimal places.)\n",
    " \n",
    " 0.083 is correct"
   ]
  },
  {
   "cell_type": "code",
   "execution_count": 60,
   "metadata": {
    "collapsed": false
   },
   "outputs": [
    {
     "data": {
      "text/html": [
       "0.083"
      ],
      "text/latex": [
       "0.083"
      ],
      "text/markdown": [
       "0.083"
      ],
      "text/plain": [
       "[1] 0.083"
      ]
     },
     "metadata": {},
     "output_type": "display_data"
    }
   ],
   "source": [
    "round(sum(freq[freq$nonconforming>=6,'Freq'])/sum(freq$Freq),3)"
   ]
  },
  {
   "cell_type": "markdown",
   "metadata": {},
   "source": [
    "(c) Draw a histogram of the data using relative frequency on the vertical scale."
   ]
  },
  {
   "cell_type": "code",
   "execution_count": 61,
   "metadata": {
    "collapsed": false
   },
   "outputs": [
    {
     "data": {},
     "metadata": {},
     "output_type": "display_data"
    },
    {
     "data": {
      "image/png": "[encoded data removed]",
      "text/plain": [
       "plot without title"
      ]
     },
     "metadata": {},
     "output_type": "display_data"
    }
   ],
   "source": [
    "ggplot(freq, aes(y = relative_freq,x = nonconforming)) +\n",
    "  geom_col()"
   ]
  },
  {
   "cell_type": "markdown",
   "metadata": {},
   "source": [
    "Comment on its features. (Select all that apply.)"
   ]
  },
  {
   "cell_type": "code",
   "execution_count": 62,
   "metadata": {
    "collapsed": false
   },
   "outputs": [
    {
     "data": {
      "text/html": [
       "2.55"
      ],
      "text/latex": [
       "2.55"
      ],
      "text/markdown": [
       "2.55"
      ],
      "text/plain": [
       "[1] 2.55"
      ]
     },
     "metadata": {},
     "output_type": "display_data"
    },
    {
     "data": {
      "text/html": [
       "2"
      ],
      "text/latex": [
       "2"
      ],
      "text/markdown": [
       "2"
      ],
      "text/plain": [
       "[1] 2"
      ]
     },
     "metadata": {},
     "output_type": "display_data"
    }
   ],
   "source": [
    "mean(nonconforming)\n",
    "median(nonconforming)"
   ]
  },
  {
   "cell_type": "markdown",
   "metadata": {},
   "source": [
    "There is some positive skewness in the data.\n",
    "\n",
    "The center of the histogram is around 2 or 3."
   ]
  },
  {
   "cell_type": "markdown",
   "metadata": {},
   "source": [
    "## Problem 17\n",
    "The minimum injection pressure (psi) for injection molding specimens of high amylose corn was determined for eight different specimens (higher pressure corresponds to greater processing difficulty), resulting in the following observations. "
   ]
  },
  {
   "cell_type": "code",
   "execution_count": 63,
   "metadata": {
    "collapsed": true
   },
   "outputs": [],
   "source": [
    "injection_pressure <- c(15.0,12.9,17.9,14.3,12.4,10.5,9.4,8.4)"
   ]
  },
  {
   "cell_type": "markdown",
   "metadata": {},
   "source": [
    "(a) Determine the values of the sample mean x, sample median x tilde, and 12.5% trimmed mean xtr. (Round your answers to two decimal places.)\n",
    "\n",
    "$\\bar{x}=12.6$\n",
    "\n",
    "$\\tilde{x}=12.65$\n",
    "\n",
    "$\\bar{x}_{tr}=12.42$"
   ]
  },
  {
   "cell_type": "code",
   "execution_count": 69,
   "metadata": {
    "collapsed": false
   },
   "outputs": [
    {
     "data": {
      "text/html": [
       "12.6"
      ],
      "text/latex": [
       "12.6"
      ],
      "text/markdown": [
       "12.6"
      ],
      "text/plain": [
       "[1] 12.6"
      ]
     },
     "metadata": {},
     "output_type": "display_data"
    },
    {
     "data": {
      "text/html": [
       "12.65"
      ],
      "text/latex": [
       "12.65"
      ],
      "text/markdown": [
       "12.65"
      ],
      "text/plain": [
       "[1] 12.65"
      ]
     },
     "metadata": {},
     "output_type": "display_data"
    },
    {
     "data": {
      "text/html": [
       "12.42"
      ],
      "text/latex": [
       "12.42"
      ],
      "text/markdown": [
       "12.42"
      ],
      "text/plain": [
       "[1] 12.42"
      ]
     },
     "metadata": {},
     "output_type": "display_data"
    }
   ],
   "source": [
    "mean(injection_pressure)\n",
    "median(injection_pressure)\n",
    "round(mean(injection_pressure,trim = 0.125),2)"
   ]
  },
  {
   "cell_type": "markdown",
   "metadata": {},
   "source": [
    "Compare these values. \n",
    "All three measures of center are similar, indicating little skewness to the data set.\n",
    "\n",
    "All three measures of center are similar, indicating little skewness to the data set."
   ]
  },
  {
   "cell_type": "markdown",
   "metadata": {},
   "source": [
    "(b) By how much could the smallest sample observation, currently 8.4, be increased without affecting the value of the sample median?\n",
    "\n",
    "4 is correct"
   ]
  },
  {
   "cell_type": "code",
   "execution_count": 72,
   "metadata": {
    "collapsed": false
   },
   "outputs": [
    {
     "data": {
      "text/html": [
       "4"
      ],
      "text/latex": [
       "4"
      ],
      "text/markdown": [
       "4"
      ],
      "text/plain": [
       "[1] 4"
      ]
     },
     "metadata": {},
     "output_type": "display_data"
    }
   ],
   "source": [
    "half_length <- length(injection_pressure)/2 \n",
    "injection_pressure <- sort(injection_pressure)\n",
    "values_for_median <- c(injection_pressure[half_length],injection_pressure[half_length+1])\n",
    "min(values_for_median)-min(injection_pressure)"
   ]
  },
  {
   "cell_type": "markdown",
   "metadata": {},
   "source": [
    "(c) Suppose we want the values of the sample mean and median when the observations are expressed in kilograms per square inch (ksi) rather than psi. Is it necessary to reexpress each observation in ksi, or can the values calculated in part (a) be used directly? [Hint: 1 kg = 2.2 lb.]\n",
    "\n",
    "No, the values obtained in part (a) can be used directly.  "
   ]
  },
  {
   "cell_type": "code",
   "execution_count": 74,
   "metadata": {
    "collapsed": false
   },
   "outputs": [
    {
     "data": {
      "text/html": [
       "0.0126"
      ],
      "text/latex": [
       "0.0126"
      ],
      "text/markdown": [
       "0.0126"
      ],
      "text/plain": [
       "[1] 0.0126"
      ]
     },
     "metadata": {},
     "output_type": "display_data"
    },
    {
     "data": {
      "text/html": [
       "0.01265"
      ],
      "text/latex": [
       "0.01265"
      ],
      "text/markdown": [
       "0.01265"
      ],
      "text/plain": [
       "[1] 0.01265"
      ]
     },
     "metadata": {},
     "output_type": "display_data"
    },
    {
     "data": {
      "text/html": [
       "0.01"
      ],
      "text/latex": [
       "0.01"
      ],
      "text/markdown": [
       "0.01"
      ],
      "text/plain": [
       "[1] 0.01"
      ]
     },
     "metadata": {},
     "output_type": "display_data"
    }
   ],
   "source": [
    "mean(injection_pressure)/1000\n",
    "median(injection_pressure)/1000\n",
    "round(mean(injection_pressure,trim = 0.125)/1000,2)"
   ]
  },
  {
   "cell_type": "markdown",
   "metadata": {},
   "source": [
    "## Problem 18\n",
    "An article reported the following data on oxygen consumption (mL/kg/min) for a sample of ten firefighters performing a fire-suppression simulation: "
   ]
  },
  {
   "cell_type": "code",
   "execution_count": 76,
   "metadata": {
    "collapsed": true
   },
   "outputs": [],
   "source": [
    "oxygen_consumption <- c(29.7,49.7,30.8,28.6,28.7,25.3,33.7,29.7,23.2,31.2)"
   ]
  },
  {
   "cell_type": "markdown",
   "metadata": {},
   "source": [
    "Compute the following. (Round your answers to four decimal places.)\n",
    "\n",
    "(a) The sample range\n",
    "\n",
    "26.5\n",
    "is correct"
   ]
  },
  {
   "cell_type": "code",
   "execution_count": 78,
   "metadata": {
    "collapsed": false
   },
   "outputs": [
    {
     "data": {
      "text/html": [
       "26.5"
      ],
      "text/latex": [
       "26.5"
      ],
      "text/markdown": [
       "26.5"
      ],
      "text/plain": [
       "[1] 26.5"
      ]
     },
     "metadata": {},
     "output_type": "display_data"
    }
   ],
   "source": [
    "max(oxygen_consumption)-min(oxygen_consumption)"
   ]
  },
  {
   "cell_type": "markdown",
   "metadata": {},
   "source": [
    "(b) The sample variance s2 from the definition (i.e., by first computing deviations, then squaring them, etc.)\n",
    "\n",
    "51.643 is correct"
   ]
  },
  {
   "cell_type": "code",
   "execution_count": 85,
   "metadata": {
    "collapsed": false
   },
   "outputs": [
    {
     "data": {
      "text/html": [
       "51.6427"
      ],
      "text/latex": [
       "51.6427"
      ],
      "text/markdown": [
       "51.6427"
      ],
      "text/plain": [
       "[1] 51.6427"
      ]
     },
     "metadata": {},
     "output_type": "display_data"
    }
   ],
   "source": [
    "deviations <- oxygen_consumption-mean(oxygen_consumption)\n",
    "squared_deviations <- deviations^2\n",
    "var_oxygen_consumption <- round(sum(squared_deviations)/(length(oxygen_consumption)-1),4)\n",
    "var_oxygen_consumption"
   ]
  },
  {
   "cell_type": "markdown",
   "metadata": {},
   "source": [
    "(c) The sample standard deviation\n",
    "\n",
    "7.1863 is correct"
   ]
  },
  {
   "cell_type": "code",
   "execution_count": 87,
   "metadata": {
    "collapsed": false
   },
   "outputs": [
    {
     "data": {
      "text/html": [
       "7.1863"
      ],
      "text/latex": [
       "7.1863"
      ],
      "text/markdown": [
       "7.1863"
      ],
      "text/plain": [
       "[1] 7.1863"
      ]
     },
     "metadata": {},
     "output_type": "display_data"
    }
   ],
   "source": [
    "round(sqrt(var_oxygen_consumption),4)"
   ]
  },
  {
   "cell_type": "markdown",
   "metadata": {},
   "source": [
    "(d) s2 using the shortcut method\n",
    "\n",
    "51.6427 is correct"
   ]
  },
  {
   "cell_type": "code",
   "execution_count": 91,
   "metadata": {
    "collapsed": false
   },
   "outputs": [
    {
     "data": {
      "text/html": [
       "51.6427"
      ],
      "text/latex": [
       "51.6427"
      ],
      "text/markdown": [
       "51.6427"
      ],
      "text/plain": [
       "[1] 51.6427"
      ]
     },
     "metadata": {},
     "output_type": "display_data"
    }
   ],
   "source": [
    "n=length(oxygen_consumption)\n",
    "sum_of_squares <- sum(oxygen_consumption^2)\n",
    "squared_sum  <- sum(oxygen_consumption)^2\n",
    "S_xx <- sum_of_squares - (squared_sum/n)\n",
    "round(S_xx/(n-1),4)"
   ]
  },
  {
   "cell_type": "markdown",
   "metadata": {},
   "source": [
    "## Problem 19\n",
    "An article on pedaling techniques for elite endurance cyclists reported on single-leg power at a high workload. "
   ]
  },
  {
   "cell_type": "code",
   "execution_count": 93,
   "metadata": {
    "collapsed": true
   },
   "outputs": [],
   "source": [
    "leg_power <- c(249,193,163,186,182,171,177\n",
    "  ,207,207,186,205,185,190,201)"
   ]
  },
  {
   "cell_type": "markdown",
   "metadata": {},
   "source": [
    "(a) Calculate the sample mean x and median x tilde. (Round your mean to two decimal places.) \n",
    "\n",
    "193\n",
    "and\n",
    "188\n",
    "is correct"
   ]
  },
  {
   "cell_type": "code",
   "execution_count": 95,
   "metadata": {
    "collapsed": false
   },
   "outputs": [
    {
     "data": {
      "text/html": [
       "193"
      ],
      "text/latex": [
       "193"
      ],
      "text/markdown": [
       "193"
      ],
      "text/plain": [
       "[1] 193"
      ]
     },
     "metadata": {},
     "output_type": "display_data"
    },
    {
     "data": {
      "text/html": [
       "188"
      ],
      "text/latex": [
       "188"
      ],
      "text/markdown": [
       "188"
      ],
      "text/plain": [
       "[1] 188"
      ]
     },
     "metadata": {},
     "output_type": "display_data"
    },
    {
     "data": {
      "text/html": [
       "20.8806130178211"
      ],
      "text/latex": [
       "20.8806130178211"
      ],
      "text/markdown": [
       "20.8806130178211"
      ],
      "text/plain": [
       "[1] 20.88061"
      ]
     },
     "metadata": {},
     "output_type": "display_data"
    }
   ],
   "source": [
    "mean(leg_power)\n",
    "median(leg_power)\n",
    "sd(leg_power)"
   ]
  },
  {
   "cell_type": "markdown",
   "metadata": {},
   "source": [
    "Interpret the sample mean and median. \n",
    "\n",
    "The mean is larger than the median, but they are still fairly close together."
   ]
  },
  {
   "cell_type": "markdown",
   "metadata": {},
   "source": [
    "(b) Suppose that the first observation had been 260 rather than 249. Calculate the sample mean and median. (Round your mean to two decimal places.) \n",
    "\n",
    "193.79\n",
    "and\n",
    "188\n",
    "is correct"
   ]
  },
  {
   "cell_type": "code",
   "execution_count": 106,
   "metadata": {
    "collapsed": false
   },
   "outputs": [
    {
     "data": {
      "text/html": [
       "193.79"
      ],
      "text/latex": [
       "193.79"
      ],
      "text/markdown": [
       "193.79"
      ],
      "text/plain": [
       "[1] 193.79"
      ]
     },
     "metadata": {},
     "output_type": "display_data"
    },
    {
     "data": {
      "text/html": [
       "188"
      ],
      "text/latex": [
       "188"
      ],
      "text/markdown": [
       "188"
      ],
      "text/plain": [
       "[1] 188"
      ]
     },
     "metadata": {},
     "output_type": "display_data"
    }
   ],
   "source": [
    "alt_leg_power <- leg_power\n",
    "alt_leg_power[1] <- 260\n",
    "round(mean(alt_leg_power),2)\n",
    "median(alt_leg_power)"
   ]
  },
  {
   "cell_type": "markdown",
   "metadata": {},
   "source": [
    "How would the mean and median change? \n",
    "\n",
    "The mean increased, and the median stayed the same."
   ]
  },
  {
   "cell_type": "markdown",
   "metadata": {},
   "source": [
    "(c) Calculate a trimmed mean by eliminating the smallest and largest sample observations. (Enter your answer to two decimal places.)\n",
    "\n",
    "190.83 is correct"
   ]
  },
  {
   "cell_type": "code",
   "execution_count": 108,
   "metadata": {
    "collapsed": false
   },
   "outputs": [
    {
     "data": {
      "text/html": [
       "190.83"
      ],
      "text/latex": [
       "190.83"
      ],
      "text/markdown": [
       "190.83"
      ],
      "text/plain": [
       "[1] 190.83"
      ]
     },
     "metadata": {},
     "output_type": "display_data"
    }
   ],
   "source": [
    "round(mean(leg_power,trim = (1/length(leg_power))),2)"
   ]
  },
  {
   "cell_type": "markdown",
   "metadata": {},
   "source": [
    "What is the corresponding trimming percentage? (Round your answer to two decimal places.)\n",
    "\n",
    "7.14% is correct"
   ]
  },
  {
   "cell_type": "code",
   "execution_count": 112,
   "metadata": {
    "collapsed": false
   },
   "outputs": [
    {
     "data": {
      "text/html": [
       "7.14"
      ],
      "text/latex": [
       "7.14"
      ],
      "text/markdown": [
       "7.14"
      ],
      "text/plain": [
       "[1] 7.14"
      ]
     },
     "metadata": {},
     "output_type": "display_data"
    }
   ],
   "source": [
    "round(100*(1/length(leg_power)),2)"
   ]
  },
  {
   "cell_type": "markdown",
   "metadata": {},
   "source": [
    "\n",
    "(d) The article also reported values of single-leg power for a low workload. The sample mean for n = 13 observations was x = 119.8 (actually 119.7692), and the 14th observation, somewhat of an outlier, was 157. What is the value of x for the entire sample? (Round your answer to the nearest whole number.)\n",
    "\n",
    "122 is correct"
   ]
  },
  {
   "cell_type": "code",
   "execution_count": 128,
   "metadata": {
    "collapsed": false
   },
   "outputs": [
    {
     "data": {
      "text/html": [
       "122"
      ],
      "text/latex": [
       "122"
      ],
      "text/markdown": [
       "122"
      ],
      "text/plain": [
       "[1] 122"
      ]
     },
     "metadata": {},
     "output_type": "display_data"
    }
   ],
   "source": [
    "n <- 13\n",
    "x <- 119.7692\n",
    "o <- 157\n",
    "sum <- n*x\n",
    "round((sum+o)/(n+1),0)"
   ]
  },
  {
   "cell_type": "markdown",
   "metadata": {},
   "source": [
    "## Problem 20\n",
    "Consider the following observations on shear strength (MPa) of a joint bonded in a particular manner. "
   ]
  },
  {
   "cell_type": "code",
   "execution_count": 131,
   "metadata": {
    "collapsed": true
   },
   "outputs": [],
   "source": [
    "shear_strength <- c(  22.8,40.4,16.4,73.6,36.6,109.6\n",
    "  ,30.0,4.4,33.1,66.7,81.5)"
   ]
  },
  {
   "cell_type": "markdown",
   "metadata": {},
   "source": [
    "(a) What are the values of the fourths? (Enter your answers to two decimal places.) \n",
    "\n",
    "26.4\n",
    "and\n",
    "70.15\n",
    "is correct"
   ]
  },
  {
   "cell_type": "code",
   "execution_count": 134,
   "metadata": {
    "collapsed": false
   },
   "outputs": [
    {
     "data": {
      "text/html": [
       "<strong>25%:</strong> 26.4"
      ],
      "text/latex": [
       "\\textbf{25\\textbackslash{}\\%:} 26.4"
      ],
      "text/markdown": [
       "**25%:** 26.4"
      ],
      "text/plain": [
       " 25% \n",
       "26.4 "
      ]
     },
     "metadata": {},
     "output_type": "display_data"
    },
    {
     "data": {
      "text/html": [
       "<strong>75%:</strong> 70.15"
      ],
      "text/latex": [
       "\\textbf{75\\textbackslash{}\\%:} 70.15"
      ],
      "text/markdown": [
       "**75%:** 70.15"
      ],
      "text/plain": [
       "  75% \n",
       "70.15 "
      ]
     },
     "metadata": {},
     "output_type": "display_data"
    }
   ],
   "source": [
    "Q1 <- quantile(shear_strength, 0.25)\n",
    "Q3 <- quantile(shear_strength, 0.75)\n",
    "Q1\n",
    "Q3"
   ]
  },
  {
   "cell_type": "markdown",
   "metadata": {},
   "source": [
    "What is the value of fs?\n",
    "\n",
    "43.75 is correct"
   ]
  },
  {
   "cell_type": "code",
   "execution_count": 138,
   "metadata": {
    "collapsed": false
   },
   "outputs": [
    {
     "data": {
      "text/html": [
       "43.75"
      ],
      "text/latex": [
       "43.75"
      ],
      "text/markdown": [
       "43.75"
      ],
      "text/plain": [
       "[1] 43.75"
      ]
     },
     "metadata": {},
     "output_type": "display_data"
    }
   ],
   "source": [
    "as.numeric(Q3-Q1)"
   ]
  },
  {
   "cell_type": "markdown",
   "metadata": {},
   "source": [
    "(b) Construct a boxplot based on the five-number summary. "
   ]
  },
  {
   "cell_type": "code",
   "execution_count": 172,
   "metadata": {
    "collapsed": false
   },
   "outputs": [
    {
     "data": {},
     "metadata": {},
     "output_type": "display_data"
    },
    {
     "data": {
      "image/png": "[encoded data removed]",
      "text/plain": [
       "plot without title"
      ]
     },
     "metadata": {},
     "output_type": "display_data"
    }
   ],
   "source": [
    "ggplot(as.data.frame(shear_strength),aes(x='joint',y=shear_strength)) +\n",
    "geom_boxplot() +\n",
    "theme(aspect.ratio = 0.2)+\n",
    "coord_flip()"
   ]
  },
  {
   "cell_type": "markdown",
   "metadata": {},
   "source": [
    "Comment on its features. (Select all that apply.)\n",
    "\n",
    "The variation seems quite large.\n",
    "\n",
    "There is a slight positive skew to the data.\n",
    "\n",
    "There are no outliers."
   ]
  },
  {
   "cell_type": "markdown",
   "metadata": {},
   "source": [
    "(c) How large or small does an observation have to be to qualify as an outlier? (Round your answers to one decimal place.) \n",
    "\n",
    "below -39.2\n",
    "and\n",
    "above 135.8\n"
   ]
  },
  {
   "cell_type": "code",
   "execution_count": 195,
   "metadata": {
    "collapsed": false
   },
   "outputs": [
    {
     "data": {
      "text/html": [
       "-39.2"
      ],
      "text/latex": [
       "-39.2"
      ],
      "text/markdown": [
       "-39.2"
      ],
      "text/plain": [
       "[1] -39.2"
      ]
     },
     "metadata": {},
     "output_type": "display_data"
    },
    {
     "data": {
      "text/html": [
       "135.8"
      ],
      "text/latex": [
       "135.8"
      ],
      "text/markdown": [
       "135.8"
      ],
      "text/plain": [
       "[1] 135.8"
      ]
     },
     "metadata": {},
     "output_type": "display_data"
    }
   ],
   "source": [
    "round(as.numeric(Q1-1.5*(Q3-Q1)),1)\n",
    "round(as.numeric(Q3+1.5*(Q3-Q1)),1)"
   ]
  },
  {
   "cell_type": "markdown",
   "metadata": {},
   "source": [
    "How large or small does an observation have to be to qualify as an extreme outlier? (Round your answers to one decimal place.) \n",
    "\n",
    "below -104.9\n",
    "and\n",
    "above 201.4\n"
   ]
  },
  {
   "cell_type": "code",
   "execution_count": 197,
   "metadata": {
    "collapsed": false
   },
   "outputs": [
    {
     "data": {
      "text/html": [
       "-104.9"
      ],
      "text/latex": [
       "-104.9"
      ],
      "text/markdown": [
       "-104.9"
      ],
      "text/plain": [
       "[1] -104.9"
      ]
     },
     "metadata": {},
     "output_type": "display_data"
    },
    {
     "data": {
      "text/html": [
       "201.4"
      ],
      "text/latex": [
       "201.4"
      ],
      "text/markdown": [
       "201.4"
      ],
      "text/plain": [
       "[1] 201.4"
      ]
     },
     "metadata": {},
     "output_type": "display_data"
    }
   ],
   "source": [
    "round(as.numeric(Q1-3*(Q3-Q1)),1)\n",
    "round(as.numeric(Q3+3*(Q3-Q1)),1)"
   ]
  },
  {
   "cell_type": "markdown",
   "metadata": {},
   "source": [
    "(d) By how much could the largest observation be decreased without affecting fs?\n",
    "\n",
    "36 is correct"
   ]
  },
  {
   "cell_type": "code",
   "execution_count": 198,
   "metadata": {
    "collapsed": false
   },
   "outputs": [
    {
     "data": {
      "text/html": [
       "36"
      ],
      "text/latex": [
       "36"
      ],
      "text/markdown": [
       "36"
      ],
      "text/plain": [
       "[1] 36"
      ]
     },
     "metadata": {},
     "output_type": "display_data"
    }
   ],
   "source": [
    "shear_strength  <- sort(shear_strength)\n",
    "three_fourths_length <- floor(3*length(shear_strength)/4)\n",
    "values_for_Q3 <- c(shear_strength[three_fourths_length],shear_strength[three_fourths_length+1]) \n",
    "max(shear_strength)-max(values_for_Q3)"
   ]
  }
 ],
 "metadata": {
  "kernelspec": {
   "display_name": "R",
   "language": "R",
   "name": "ir"
  },
  "language_info": {
   "codemirror_mode": "r",
   "file_extension": ".r",
   "mimetype": "text/x-r-source",
   "name": "R",
   "pygments_lexer": "r",
   "version": "3.4.2"
  }
 },
 "nbformat": 4,
 "nbformat_minor": 2
}
