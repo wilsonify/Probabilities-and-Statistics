{
 "cells": [
  {
   "cell_type": "code",
   "execution_count": null,
   "metadata": {
    "collapsed": true,
    "jupyter": {
     "outputs_hidden": true
    }
   },
   "outputs": [],
   "source": []
  },
  {
   "cell_type": "markdown",
   "metadata": {},
   "source": []
  },
  {
   "cell_type": "markdown",
   "metadata": {},
   "source": [
    "# 7.2: Large-Sample Confidence Intervals for a Population Mean and Proportion \n",
    "A sample of 53 research cotton samples resulted in a sample average percentage elongation of 8.14 and a sample standard deviation of 1.42. Calculate a 95% large-sample CI for the true average percentage elongation μ. (Round your answers to three decimal places.)\n",
    "\n",
    "What assumptions are you making about the distribution of percentage elongation? \n",
    "\n",
    "No assumptions needed because n is large (>40) "
   ]
  },
  {
   "cell_type": "code",
   "execution_count": 3,
   "metadata": {},
   "outputs": [
    {
     "data": {
      "text/html": [
       "<ol class=list-inline>\n",
       "\t<li>7.758</li>\n",
       "\t<li>8.522</li>\n",
       "</ol>\n"
      ],
      "text/latex": [
       "\\begin{enumerate*}\n",
       "\\item 7.758\n",
       "\\item 8.522\n",
       "\\end{enumerate*}\n"
      ],
      "text/markdown": [
       "1. 7.758\n",
       "2. 8.522\n",
       "\n",
       "\n"
      ],
      "text/plain": [
       "[1] 7.758 8.522"
      ]
     },
     "metadata": {},
     "output_type": "display_data"
    }
   ],
   "source": [
    "n=53\n",
    "df=n-1\n",
    "x_bar=8.14\n",
    "s=1.42\n",
    "SE=s/sqrt(n)\n",
    "alpha=1-0.95\n",
    "half_alpha=alpha/2\n",
    "t=qnorm(1-half_alpha)\n",
    "CI=c(x_bar-t*SE,x_bar+t*SE)\n",
    "round(CI,3)"
   ]
  },
  {
   "cell_type": "markdown",
   "metadata": {},
   "source": [
    "The following observations are lifetimes (days) subsequent to diagnosis for individuals suffering from blood cancer.\n",
    "\n",
    "(a)\n",
    "Can a confidence interval for true average lifetime be calculated without assuming anything about the nature of the lifetime distribution? Explain your reasoning. [Note: A normal probability plot of the data exhibits a reasonably linear pattern.]\n",
    "\n",
    "Yes, the sample size is large enough for the confidence interval to be reasonable. \n",
    "\n",
    "(b)\n",
    "Calculate and interpret a confidence interval with a 99% confidence level for true average lifetime. [Hint:\n",
    "x = 1192.0\n",
    "and\n",
    "s = 506.6.]\n",
    "(Round your answers to one decimal place.)\n",
    "\n",
    "Interpret the resulting interval.\n",
    "We are 99% confident that this interval contains the true population mean. "
   ]
  },
  {
   "cell_type": "code",
   "execution_count": 6,
   "metadata": {
    "collapsed": true,
    "jupyter": {
     "outputs_hidden": true
    }
   },
   "outputs": [],
   "source": [
    "data <- c(115,181,255,419,442,462,516,739,743,789,807\n",
    "  ,865,925,984,1026,1062,1064,1166,1192,1222,1222,1251\n",
    "  ,1278,1290,1358,1369,1408,1455,1478,1519,1578,1578,1599\n",
    "  ,1604,1606,1696,1736,1799,1815,1853,1899,1925,1965)"
   ]
  },
  {
   "cell_type": "code",
   "execution_count": 11,
   "metadata": {},
   "outputs": [
    {
     "data": {
      "text/html": [
       "<ol class=list-inline>\n",
       "\t<li>993</li>\n",
       "\t<li>1391</li>\n",
       "</ol>\n"
      ],
      "text/latex": [
       "\\begin{enumerate*}\n",
       "\\item 993\n",
       "\\item 1391\n",
       "\\end{enumerate*}\n"
      ],
      "text/markdown": [
       "1. 993\n",
       "2. 1391\n",
       "\n",
       "\n"
      ],
      "text/plain": [
       "[1]  993 1391"
      ]
     },
     "metadata": {},
     "output_type": "display_data"
    }
   ],
   "source": [
    "n=length(data)\n",
    "df=n-1\n",
    "x_bar=mean(data)\n",
    "s=sd(data)\n",
    "SE=s/sqrt(n)\n",
    "alpha=1-0.99\n",
    "half_alpha=alpha/2\n",
    "t=qnorm(1-half_alpha)\n",
    "CI=c(x_bar-t*SE,x_bar+t*SE)\n",
    "round(CI,1)"
   ]
  },
  {
   "cell_type": "markdown",
   "metadata": {},
   "source": [
    "# 4.4: The Exponential and Gamma and Other Distributions\n",
    "Suppose the proportion X of surface area in a randomly selected quadrat that is covered by a certain plant has a standard beta distribution with α = 4 and β = 2.\n",
    "\n",
    "(a) Compute E(X) and V(X). (Round your answers to four decimal places.)"
   ]
  },
  {
   "cell_type": "code",
   "execution_count": 14,
   "metadata": {},
   "outputs": [
    {
     "data": {
      "text/html": [
       "0.6667"
      ],
      "text/latex": [
       "0.6667"
      ],
      "text/markdown": [
       "0.6667"
      ],
      "text/plain": [
       "[1] 0.6667"
      ]
     },
     "metadata": {},
     "output_type": "display_data"
    },
    {
     "data": {
      "text/html": [
       "0.0317"
      ],
      "text/latex": [
       "0.0317"
      ],
      "text/markdown": [
       "0.0317"
      ],
      "text/plain": [
       "[1] 0.0317"
      ]
     },
     "metadata": {},
     "output_type": "display_data"
    }
   ],
   "source": [
    "alpha=4\n",
    "beta=2\n",
    "average=alpha/(alpha+beta)\n",
    "round(average,4)\n",
    "variance=(alpha*beta)/((alpha+beta)^2*(alpha+beta+1))\n",
    "round(variance,4)"
   ]
  },
  {
   "cell_type": "markdown",
   "metadata": {},
   "source": [
    "(b) Compute P(X ≤ 0.7). (Round your answer to four decimal places.)"
   ]
  },
  {
   "cell_type": "code",
   "execution_count": 15,
   "metadata": {},
   "outputs": [
    {
     "data": {
      "text/html": [
       "0.52822"
      ],
      "text/latex": [
       "0.52822"
      ],
      "text/markdown": [
       "0.52822"
      ],
      "text/plain": [
       "[1] 0.52822"
      ]
     },
     "metadata": {},
     "output_type": "display_data"
    }
   ],
   "source": [
    "pbeta(0.7,alpha,beta)"
   ]
  },
  {
   "cell_type": "markdown",
   "metadata": {},
   "source": [
    "(c) Compute P(0.7 ≤ X ≤ 0.9). (Round your answer to four decimal places.)"
   ]
  },
  {
   "cell_type": "code",
   "execution_count": 16,
   "metadata": {},
   "outputs": [
    {
     "data": {
      "text/html": [
       "0.39032"
      ],
      "text/latex": [
       "0.39032"
      ],
      "text/markdown": [
       "0.39032"
      ],
      "text/plain": [
       "[1] 0.39032"
      ]
     },
     "metadata": {},
     "output_type": "display_data"
    }
   ],
   "source": [
    "pbeta(0.9,alpha,beta)-pbeta(0.7,alpha,beta)"
   ]
  },
  {
   "cell_type": "markdown",
   "metadata": {},
   "source": [
    "(d) What is the expected proportion of the sampling region not covered by the plant? (Round your answer to four decimal places.)"
   ]
  },
  {
   "cell_type": "code",
   "execution_count": 17,
   "metadata": {},
   "outputs": [
    {
     "data": {
      "text/html": [
       "0.333333333333333"
      ],
      "text/latex": [
       "0.333333333333333"
      ],
      "text/markdown": [
       "0.333333333333333"
      ],
      "text/plain": [
       "[1] 0.3333333"
      ]
     },
     "metadata": {},
     "output_type": "display_data"
    }
   ],
   "source": [
    "1-average"
   ]
  },
  {
   "cell_type": "markdown",
   "metadata": {},
   "source": [
    "The lifetime X (in hundreds of hours) of a certain type of vacuum tube has a Weibull distribution with parameters α = 2 and β = 3. \n",
    "\n",
    "Compute the following. (Round your answers to three decimal places.) \n",
    "\n",
    "E(X) = \t"
   ]
  },
  {
   "cell_type": "code",
   "execution_count": 28,
   "metadata": {},
   "outputs": [
    {
     "data": {
      "text/html": [
       "2.659"
      ],
      "text/latex": [
       "2.659"
      ],
      "text/markdown": [
       "2.659"
      ],
      "text/plain": [
       "[1] 2.659"
      ]
     },
     "metadata": {},
     "output_type": "display_data"
    }
   ],
   "source": [
    "shape=2\n",
    "scale=3\n",
    "mu=scale*gamma(1+1/shape)\n",
    "round(mu,3)"
   ]
  },
  {
   "cell_type": "markdown",
   "metadata": {},
   "source": [
    "V(X) = \t"
   ]
  },
  {
   "cell_type": "code",
   "execution_count": 29,
   "metadata": {},
   "outputs": [
    {
     "data": {
      "text/html": [
       "1.931"
      ],
      "text/latex": [
       "1.931"
      ],
      "text/markdown": [
       "1.931"
      ],
      "text/plain": [
       "[1] 1.931"
      ]
     },
     "metadata": {},
     "output_type": "display_data"
    }
   ],
   "source": [
    "variance=scale^2*(gamma(1+2/shape)-gamma(1+1/shape)^2)\n",
    "round(variance,3)"
   ]
  },
  {
   "cell_type": "markdown",
   "metadata": {},
   "source": [
    "P(X ≤ 4)"
   ]
  },
  {
   "cell_type": "code",
   "execution_count": 26,
   "metadata": {},
   "outputs": [
    {
     "data": {
      "text/html": [
       "1"
      ],
      "text/latex": [
       "1"
      ],
      "text/markdown": [
       "1"
      ],
      "text/plain": [
       "[1] 1"
      ]
     },
     "metadata": {},
     "output_type": "display_data"
    }
   ],
   "source": [
    "round(pweibull(4,shape,scale),3)"
   ]
  },
  {
   "cell_type": "markdown",
   "metadata": {},
   "source": [
    "P(1.5 ≤ X ≤ 4)"
   ]
  },
  {
   "cell_type": "code",
   "execution_count": 23,
   "metadata": {},
   "outputs": [
    {
     "data": {
      "text/html": [
       "0.609787467665339"
      ],
      "text/latex": [
       "0.609787467665339"
      ],
      "text/markdown": [
       "0.609787467665339"
      ],
      "text/plain": [
       "[1] 0.6097875"
      ]
     },
     "metadata": {},
     "output_type": "display_data"
    }
   ],
   "source": [
    "pweibull(4,shape,scale)-pweibull(1.5,shape,scale)"
   ]
  },
  {
   "cell_type": "markdown",
   "metadata": {},
   "source": [
    " Let X denote the data transfer time (ms) in a grid computing system (the time required for data transfer between a \"worker\" computer and a \"master\" computer). Suppose that X has a gamma distribution with mean value 37.5 ms and standard deviation 21.6 (suggested by the article \"Computation Time of Grid Computing with Data Transfer Times that Follow a Gamma Distribution,\"†).\n",
    " \n",
    "$mu={\\alpha}{\\beta} \\implies \\alpha=\\frac{\\mu}{\\beta}$\n",
    "\n",
    "$var={\\alpha}{\\beta^2} \\implies \\alpha = \\frac{var}{\\beta^2}$\n",
    "\n",
    "$ \\frac{\\beta}{\\mu}  = \\frac{\\beta^2}{var} \\implies$\n",
    "$\\beta=\\frac{var}{\\mu}$"
   ]
  },
  {
   "cell_type": "markdown",
   "metadata": {},
   "source": [
    "(a)\n",
    "What are the values of α and β? (Round your answers to four decimal places.)"
   ]
  },
  {
   "cell_type": "code",
   "execution_count": 42,
   "metadata": {},
   "outputs": [
    {
     "data": {
      "text/html": [
       "3.0141"
      ],
      "text/latex": [
       "3.0141"
      ],
      "text/markdown": [
       "3.0141"
      ],
      "text/plain": [
       "[1] 3.0141"
      ]
     },
     "metadata": {},
     "output_type": "display_data"
    },
    {
     "data": {
      "text/html": [
       "12.4416"
      ],
      "text/latex": [
       "12.4416"
      ],
      "text/markdown": [
       "12.4416"
      ],
      "text/plain": [
       "[1] 12.4416"
      ]
     },
     "metadata": {},
     "output_type": "display_data"
    }
   ],
   "source": [
    "mu=37.5\n",
    "sd=21.6\n",
    "var=sd^2\n",
    "beta=var/mu #scale\n",
    "alpha=mu/beta\n",
    "round(alpha,4)\n",
    "round(beta,4) "
   ]
  },
  {
   "cell_type": "markdown",
   "metadata": {},
   "source": [
    "(b)\n",
    "What is the probability that data transfer time exceeds 49 ms? (Round your answer to three decimal places.)"
   ]
  },
  {
   "cell_type": "code",
   "execution_count": 52,
   "metadata": {},
   "outputs": [
    {
     "data": {
      "text/html": [
       "0.249842654420455"
      ],
      "text/latex": [
       "0.249842654420455"
      ],
      "text/markdown": [
       "0.249842654420455"
      ],
      "text/plain": [
       "[1] 0.2498427"
      ]
     },
     "metadata": {},
     "output_type": "display_data"
    },
    {
     "data": {
      "text/html": [
       "0.302638008370298"
      ],
      "text/latex": [
       "0.302638008370298"
      ],
      "text/markdown": [
       "0.302638008370298"
      ],
      "text/plain": [
       "[1] 0.302638"
      ]
     },
     "metadata": {},
     "output_type": "display_data"
    }
   ],
   "source": [
    "1-pgamma(49,shape=alpha,scale = beta)\n"
   ]
  },
  {
   "cell_type": "markdown",
   "metadata": {},
   "source": [
    "(c)\n",
    "What is the probability that data transfer time is between 49 and 79 ms? (Round your answer to three decimal places.) "
   ]
  },
  {
   "cell_type": "code",
   "execution_count": 53,
   "metadata": {},
   "outputs": [
    {
     "data": {
      "text/html": [
       "0.201026731141305"
      ],
      "text/latex": [
       "0.201026731141305"
      ],
      "text/markdown": [
       "0.201026731141305"
      ],
      "text/plain": [
       "[1] 0.2010267"
      ]
     },
     "metadata": {},
     "output_type": "display_data"
    },
    {
     "data": {
      "text/html": [
       "0.220612789552126"
      ],
      "text/latex": [
       "0.220612789552126"
      ],
      "text/markdown": [
       "0.220612789552126"
      ],
      "text/plain": [
       "[1] 0.2206128"
      ]
     },
     "metadata": {},
     "output_type": "display_data"
    }
   ],
   "source": [
    "pgamma(79,alpha,scale = beta)-pgamma(49,alpha,scale = beta)\n"
   ]
  },
  {
   "cell_type": "markdown",
   "metadata": {},
   "source": [
    "Let X denote the distance (m) that an animal moves from its birth site to the first territorial vacancy it encounters. Suppose that for banner-tailed kangaroo rats, X has an exponential distribution with parameter λ = 0.01427."
   ]
  },
  {
   "cell_type": "code",
   "execution_count": 45,
   "metadata": {
    "collapsed": true,
    "jupyter": {
     "outputs_hidden": true
    }
   },
   "outputs": [],
   "source": [
    "lambda=0.01427"
   ]
  },
  {
   "cell_type": "markdown",
   "metadata": {},
   "source": [
    "(a) What is the probability that the distance is at most 100 m? "
   ]
  },
  {
   "cell_type": "code",
   "execution_count": 46,
   "metadata": {},
   "outputs": [
    {
     "data": {
      "text/html": [
       "0.759972073021666"
      ],
      "text/latex": [
       "0.759972073021666"
      ],
      "text/markdown": [
       "0.759972073021666"
      ],
      "text/plain": [
       "[1] 0.7599721"
      ]
     },
     "metadata": {},
     "output_type": "display_data"
    }
   ],
   "source": [
    "pexp(100,lambda)"
   ]
  },
  {
   "cell_type": "markdown",
   "metadata": {},
   "source": [
    "at most 200 m \t     \t"
   ]
  },
  {
   "cell_type": "code",
   "execution_count": 47,
   "metadata": {},
   "outputs": [
    {
     "data": {
      "text/html": [
       "0.942386594270483"
      ],
      "text/latex": [
       "0.942386594270483"
      ],
      "text/markdown": [
       "0.942386594270483"
      ],
      "text/plain": [
       "[1] 0.9423866"
      ]
     },
     "metadata": {},
     "output_type": "display_data"
    }
   ],
   "source": [
    "pexp(200,lambda)"
   ]
  },
  {
   "cell_type": "markdown",
   "metadata": {},
   "source": [
    "between 100 and 200 m \t     \t"
   ]
  },
  {
   "cell_type": "code",
   "execution_count": 48,
   "metadata": {},
   "outputs": [
    {
     "data": {
      "text/html": [
       "0.182414521248818"
      ],
      "text/latex": [
       "0.182414521248818"
      ],
      "text/markdown": [
       "0.182414521248818"
      ],
      "text/plain": [
       "[1] 0.1824145"
      ]
     },
     "metadata": {},
     "output_type": "display_data"
    }
   ],
   "source": [
    "pexp(200,lambda)-pexp(100,lambda)"
   ]
  },
  {
   "cell_type": "markdown",
   "metadata": {},
   "source": [
    "(b) What is the probability that distance exceeds the mean distance by more than 2 standard deviations? (Round your answer to four decimal places.)"
   ]
  },
  {
   "cell_type": "code",
   "execution_count": 51,
   "metadata": {},
   "outputs": [
    {
     "data": {
      "text/html": [
       "0.049787068367864"
      ],
      "text/latex": [
       "0.049787068367864"
      ],
      "text/markdown": [
       "0.049787068367864"
      ],
      "text/plain": [
       "[1] 0.04978707"
      ]
     },
     "metadata": {},
     "output_type": "display_data"
    }
   ],
   "source": [
    "mu=1/lambda\n",
    "var=1/lambda^2\n",
    "1-pexp(mu+2*sqrt(var),lambda)"
   ]
  },
  {
   "cell_type": "markdown",
   "metadata": {},
   "source": [
    "(c) What is the value of the median distance? (Round your answer to two decimal places.)\n",
    "m "
   ]
  },
  {
   "cell_type": "code",
   "execution_count": 50,
   "metadata": {},
   "outputs": [
    {
     "data": {
      "text/html": [
       "48.5737337463171"
      ],
      "text/latex": [
       "48.5737337463171"
      ],
      "text/markdown": [
       "48.5737337463171"
      ],
      "text/plain": [
       "[1] 48.57373"
      ]
     },
     "metadata": {},
     "output_type": "display_data"
    }
   ],
   "source": [
    "qexp(0.5,lambda)"
   ]
  },
  {
   "cell_type": "markdown",
   "metadata": {},
   "source": [
    "Let X denote the distance (m) that an animal moves from its birth site to the first territorial vacancy it encounters. Suppose that for banner-tailed kangaroo rats, X has an exponential distribution with parameter λ = 0.01347."
   ]
  },
  {
   "cell_type": "code",
   "execution_count": 55,
   "metadata": {
    "collapsed": true,
    "jupyter": {
     "outputs_hidden": true
    }
   },
   "outputs": [],
   "source": [
    "lambda=0.01347"
   ]
  },
  {
   "cell_type": "markdown",
   "metadata": {},
   "source": [
    "(a) What is the probability that the distance is at most 100 m? "
   ]
  },
  {
   "cell_type": "code",
   "execution_count": 59,
   "metadata": {},
   "outputs": [
    {
     "data": {
      "text/html": [
       "0.74"
      ],
      "text/latex": [
       "0.74"
      ],
      "text/markdown": [
       "0.74"
      ],
      "text/plain": [
       "[1] 0.74"
      ]
     },
     "metadata": {},
     "output_type": "display_data"
    }
   ],
   "source": [
    "round(pexp(100,lambda),4)"
   ]
  },
  {
   "cell_type": "markdown",
   "metadata": {},
   "source": [
    "At most 200 m? "
   ]
  },
  {
   "cell_type": "code",
   "execution_count": 60,
   "metadata": {},
   "outputs": [
    {
     "data": {
      "text/html": [
       "0.9324"
      ],
      "text/latex": [
       "0.9324"
      ],
      "text/markdown": [
       "0.9324"
      ],
      "text/plain": [
       "[1] 0.9324"
      ]
     },
     "metadata": {},
     "output_type": "display_data"
    }
   ],
   "source": [
    "round(pexp(200,lambda),4)"
   ]
  },
  {
   "cell_type": "markdown",
   "metadata": {},
   "source": [
    "Between 100 and 200 m? (Round your answers to four decimal places.)"
   ]
  },
  {
   "cell_type": "code",
   "execution_count": 61,
   "metadata": {},
   "outputs": [
    {
     "data": {
      "text/html": [
       "0.1924"
      ],
      "text/latex": [
       "0.1924"
      ],
      "text/markdown": [
       "0.1924"
      ],
      "text/plain": [
       "[1] 0.1924"
      ]
     },
     "metadata": {},
     "output_type": "display_data"
    }
   ],
   "source": [
    "round(pexp(200,lambda)-pexp(100,lambda),4)"
   ]
  },
  {
   "cell_type": "markdown",
   "metadata": {},
   "source": [
    "(b) What is the probability that distance exceeds the mean distance by more than 2 standard deviations? (Round your answer to four decimal places.)"
   ]
  },
  {
   "cell_type": "code",
   "execution_count": 64,
   "metadata": {},
   "outputs": [
    {
     "data": {
      "text/html": [
       "0.0498"
      ],
      "text/latex": [
       "0.0498"
      ],
      "text/markdown": [
       "0.0498"
      ],
      "text/plain": [
       "[1] 0.0498"
      ]
     },
     "metadata": {},
     "output_type": "display_data"
    }
   ],
   "source": [
    "mu=1/lambda\n",
    "var=1/lambda^2\n",
    "round(1-pexp(mu+2*sqrt(var),lambda),4)"
   ]
  },
  {
   "cell_type": "markdown",
   "metadata": {},
   "source": [
    "(c) What is the value of the median distance? (Round your answer to two decimal places.)\n",
    "m "
   ]
  },
  {
   "cell_type": "code",
   "execution_count": 63,
   "metadata": {},
   "outputs": [
    {
     "data": {
      "text/html": [
       "51.4585880148437"
      ],
      "text/latex": [
       "51.4585880148437"
      ],
      "text/markdown": [
       "51.4585880148437"
      ],
      "text/plain": [
       "[1] 51.45859"
      ]
     },
     "metadata": {},
     "output_type": "display_data"
    }
   ],
   "source": [
    "qexp(0.5,lambda)"
   ]
  },
  {
   "cell_type": "markdown",
   "metadata": {},
   "source": [
    " Let X denote the data transfer time (ms) in a grid computing system (the time required for data transfer between a \"worker\" computer and a \"master\" computer). Suppose that X has a gamma distribution with mean value 37.5 ms and standard deviation 21.6 (suggested by the article \"Computation Time of Grid Computing with Data Transfer Times that Follow a Gamma Distribution,\"†)."
   ]
  },
  {
   "cell_type": "code",
   "execution_count": 65,
   "metadata": {
    "collapsed": true,
    "jupyter": {
     "outputs_hidden": true
    }
   },
   "outputs": [],
   "source": [
    "mu=37.5\n",
    "var=21.6^2"
   ]
  },
  {
   "cell_type": "markdown",
   "metadata": {},
   "source": [
    "(a)\n",
    "What are the values of α and β? (Round your answers to four decimal places.)\n",
    "α = β ="
   ]
  },
  {
   "cell_type": "code",
   "execution_count": 66,
   "metadata": {},
   "outputs": [
    {
     "data": {
      "text/html": [
       "3.0141"
      ],
      "text/latex": [
       "3.0141"
      ],
      "text/markdown": [
       "3.0141"
      ],
      "text/plain": [
       "[1] 3.0141"
      ]
     },
     "metadata": {},
     "output_type": "display_data"
    },
    {
     "data": {
      "text/html": [
       "12.4416"
      ],
      "text/latex": [
       "12.4416"
      ],
      "text/markdown": [
       "12.4416"
      ],
      "text/plain": [
       "[1] 12.4416"
      ]
     },
     "metadata": {},
     "output_type": "display_data"
    }
   ],
   "source": [
    "beta=var/mu #scale\n",
    "alpha=mu/beta\n",
    "round(alpha,4)\n",
    "round(beta,4) "
   ]
  },
  {
   "cell_type": "markdown",
   "metadata": {},
   "source": [
    "(b)\n",
    "What is the probability that data transfer time exceeds 51 ms? (Round your answer to three decimal places.)\n",
    "(c)"
   ]
  },
  {
   "cell_type": "code",
   "execution_count": 69,
   "metadata": {},
   "outputs": [
    {
     "data": {
      "text/html": [
       "0.226352627546332"
      ],
      "text/latex": [
       "0.226352627546332"
      ],
      "text/markdown": [
       "0.226352627546332"
      ],
      "text/plain": [
       "[1] 0.2263526"
      ]
     },
     "metadata": {},
     "output_type": "display_data"
    }
   ],
   "source": [
    "1-pgamma(51,alpha,scale = beta)"
   ]
  },
  {
   "cell_type": "markdown",
   "metadata": {},
   "source": [
    " (c)\n",
    "What is the probability that data transfer time is between 51 and 70 ms? (Round your answer to three decimal places.) "
   ]
  },
  {
   "cell_type": "code",
   "execution_count": 68,
   "metadata": {},
   "outputs": [
    {
     "data": {
      "text/html": [
       "0.14432740872816"
      ],
      "text/latex": [
       "0.14432740872816"
      ],
      "text/markdown": [
       "0.14432740872816"
      ],
      "text/plain": [
       "[1] 0.1443274"
      ]
     },
     "metadata": {},
     "output_type": "display_data"
    }
   ],
   "source": [
    "pgamma(70,alpha,scale = beta)-pgamma(51,alpha,scale = beta)"
   ]
  },
  {
   "cell_type": "markdown",
   "metadata": {},
   "source": [
    "# 4.3: The Normal Distribution\n",
    "If bolt thread length is normally distributed, what is the probability that the thread length of a randomly selected bolt is"
   ]
  },
  {
   "cell_type": "markdown",
   "metadata": {},
   "source": [
    "(a) Within 0.7 SDs of its mean value?"
   ]
  },
  {
   "cell_type": "code",
   "execution_count": 70,
   "metadata": {},
   "outputs": [
    {
     "data": {
      "text/html": [
       "0.5161"
      ],
      "text/latex": [
       "0.5161"
      ],
      "text/markdown": [
       "0.5161"
      ],
      "text/plain": [
       "[1] 0.5161"
      ]
     },
     "metadata": {},
     "output_type": "display_data"
    }
   ],
   "source": [
    "round(pnorm(0.7)-pnorm(-0.7),4)"
   ]
  },
  {
   "cell_type": "markdown",
   "metadata": {},
   "source": [
    "(b) Farther than 2.5 SDs from its mean value?"
   ]
  },
  {
   "cell_type": "code",
   "execution_count": 71,
   "metadata": {},
   "outputs": [
    {
     "data": {
      "text/html": [
       "0.0124"
      ],
      "text/latex": [
       "0.0124"
      ],
      "text/markdown": [
       "0.0124"
      ],
      "text/plain": [
       "[1] 0.0124"
      ]
     },
     "metadata": {},
     "output_type": "display_data"
    }
   ],
   "source": [
    "round(pnorm(-2.5)+(1-pnorm(2.5)),4)"
   ]
  },
  {
   "cell_type": "markdown",
   "metadata": {},
   "source": [
    "(c) Between 1 and 2 SDs from its mean value?"
   ]
  },
  {
   "cell_type": "code",
   "execution_count": 73,
   "metadata": {},
   "outputs": [
    {
     "data": {
      "text/html": [
       "0.2718"
      ],
      "text/latex": [
       "0.2718"
      ],
      "text/markdown": [
       "0.2718"
      ],
      "text/plain": [
       "[1] 0.2718"
      ]
     },
     "metadata": {},
     "output_type": "display_data"
    }
   ],
   "source": [
    "round((pnorm(2)-pnorm(-2))-(pnorm(1)-pnorm(-1)),4)"
   ]
  },
  {
   "cell_type": "markdown",
   "metadata": {},
   "source": [
    "Suppose the force acting on a column that helps to support a building is a normally distributed random variable X with mean value 16.0 kips and standard deviation 1.25 kips. Compute the following probabilities by standardizing and then using a standard normal curve table from the Appendix Tables. (Round your answers to four decimal places.)"
   ]
  },
  {
   "cell_type": "code",
   "execution_count": 76,
   "metadata": {
    "collapsed": true,
    "jupyter": {
     "outputs_hidden": true
    }
   },
   "outputs": [],
   "source": [
    "mu=16\n",
    "std=1.25"
   ]
  },
  {
   "cell_type": "markdown",
   "metadata": {},
   "source": [
    "(a)    \n",
    "P(X ≤ 16)"
   ]
  },
  {
   "cell_type": "code",
   "execution_count": 77,
   "metadata": {},
   "outputs": [
    {
     "data": {
      "text/html": [
       "0.5"
      ],
      "text/latex": [
       "0.5"
      ],
      "text/markdown": [
       "0.5"
      ],
      "text/plain": [
       "[1] 0.5"
      ]
     },
     "metadata": {},
     "output_type": "display_data"
    }
   ],
   "source": [
    "pnorm(16,mu,std)"
   ]
  },
  {
   "cell_type": "markdown",
   "metadata": {},
   "source": [
    "(b)    \n",
    "P(X ≤ 18.5)"
   ]
  },
  {
   "cell_type": "code",
   "execution_count": 78,
   "metadata": {},
   "outputs": [
    {
     "data": {
      "text/html": [
       "0.977249868051821"
      ],
      "text/latex": [
       "0.977249868051821"
      ],
      "text/markdown": [
       "0.977249868051821"
      ],
      "text/plain": [
       "[1] 0.9772499"
      ]
     },
     "metadata": {},
     "output_type": "display_data"
    }
   ],
   "source": [
    "pnorm(18.5,mu,std)"
   ]
  },
  {
   "cell_type": "markdown",
   "metadata": {},
   "source": [
    "(c)    \n",
    "P(X ≥ 9.75)"
   ]
  },
  {
   "cell_type": "code",
   "execution_count": 79,
   "metadata": {},
   "outputs": [
    {
     "data": {
      "text/html": [
       "0.999999713348428"
      ],
      "text/latex": [
       "0.999999713348428"
      ],
      "text/markdown": [
       "0.999999713348428"
      ],
      "text/plain": [
       "[1] 0.9999997"
      ]
     },
     "metadata": {},
     "output_type": "display_data"
    }
   ],
   "source": [
    "1-pnorm(9.75,mu,std)"
   ]
  },
  {
   "cell_type": "markdown",
   "metadata": {},
   "source": [
    "(d)    \n",
    "P(15 ≤ X ≤ 19)"
   ]
  },
  {
   "cell_type": "code",
   "execution_count": 80,
   "metadata": {},
   "outputs": [
    {
     "data": {
      "text/html": [
       "0.779947065492007"
      ],
      "text/latex": [
       "0.779947065492007"
      ],
      "text/markdown": [
       "0.779947065492007"
      ],
      "text/plain": [
       "[1] 0.7799471"
      ]
     },
     "metadata": {},
     "output_type": "display_data"
    }
   ],
   "source": [
    "pnorm(19,mu,std)-pnorm(15,mu,std)"
   ]
  },
  {
   "cell_type": "markdown",
   "metadata": {},
   "source": [
    "(e)    \n",
    "P(|X − 16| ≤ 1)"
   ]
  },
  {
   "cell_type": "code",
   "execution_count": 81,
   "metadata": {},
   "outputs": [
    {
     "data": {
      "text/html": [
       "0.576289202833207"
      ],
      "text/latex": [
       "0.576289202833207"
      ],
      "text/markdown": [
       "0.576289202833207"
      ],
      "text/plain": [
       "[1] 0.5762892"
      ]
     },
     "metadata": {},
     "output_type": "display_data"
    }
   ],
   "source": [
    "pnorm(17,mu,std)-pnorm(15,mu,std)"
   ]
  },
  {
   "cell_type": "markdown",
   "metadata": {},
   "source": [
    "Let Z be a standard normal random variable and calculate the following probabilities, drawing pictures wherever appropriate. (Round your answers to four decimal places.)"
   ]
  },
  {
   "cell_type": "markdown",
   "metadata": {},
   "source": [
    "(a)    P(0 ≤ Z ≤ 2.94)"
   ]
  },
  {
   "cell_type": "code",
   "execution_count": 83,
   "metadata": {},
   "outputs": [
    {
     "data": {
      "text/html": [
       "0.4984"
      ],
      "text/latex": [
       "0.4984"
      ],
      "text/markdown": [
       "0.4984"
      ],
      "text/plain": [
       "[1] 0.4984"
      ]
     },
     "metadata": {},
     "output_type": "display_data"
    }
   ],
   "source": [
    "round(pnorm(2.94)-pnorm(0),4)"
   ]
  },
  {
   "cell_type": "markdown",
   "metadata": {},
   "source": [
    "(b)    P(0 ≤ Z ≤ 1)"
   ]
  },
  {
   "cell_type": "code",
   "execution_count": 85,
   "metadata": {},
   "outputs": [
    {
     "data": {
      "text/html": [
       "0.3413"
      ],
      "text/latex": [
       "0.3413"
      ],
      "text/markdown": [
       "0.3413"
      ],
      "text/plain": [
       "[1] 0.3413"
      ]
     },
     "metadata": {},
     "output_type": "display_data"
    }
   ],
   "source": [
    "round(pnorm(1)-pnorm(0),4)"
   ]
  },
  {
   "cell_type": "markdown",
   "metadata": {},
   "source": [
    "(c)    P(−2.40 ≤ Z ≤ 0)"
   ]
  },
  {
   "cell_type": "code",
   "execution_count": 86,
   "metadata": {},
   "outputs": [
    {
     "data": {
      "text/html": [
       "0.4918"
      ],
      "text/latex": [
       "0.4918"
      ],
      "text/markdown": [
       "0.4918"
      ],
      "text/plain": [
       "[1] 0.4918"
      ]
     },
     "metadata": {},
     "output_type": "display_data"
    }
   ],
   "source": [
    "round(pnorm(0)-pnorm(-2.40),4)"
   ]
  },
  {
   "cell_type": "markdown",
   "metadata": {},
   "source": [
    "(d)    P(−2.40 ≤ Z ≤ 2.40)"
   ]
  },
  {
   "cell_type": "code",
   "execution_count": 88,
   "metadata": {},
   "outputs": [
    {
     "data": {
      "text/html": [
       "0.9836"
      ],
      "text/latex": [
       "0.9836"
      ],
      "text/markdown": [
       "0.9836"
      ],
      "text/plain": [
       "[1] 0.9836"
      ]
     },
     "metadata": {},
     "output_type": "display_data"
    }
   ],
   "source": [
    "round(pnorm(2.4)-pnorm(-2.4),4)"
   ]
  },
  {
   "cell_type": "markdown",
   "metadata": {},
   "source": [
    "(e)    P(Z ≤ 1.03)"
   ]
  },
  {
   "cell_type": "code",
   "execution_count": 89,
   "metadata": {},
   "outputs": [
    {
     "data": {
      "text/html": [
       "0.8485"
      ],
      "text/latex": [
       "0.8485"
      ],
      "text/markdown": [
       "0.8485"
      ],
      "text/plain": [
       "[1] 0.8485"
      ]
     },
     "metadata": {},
     "output_type": "display_data"
    }
   ],
   "source": [
    "round(pnorm(1.03),4)"
   ]
  },
  {
   "cell_type": "markdown",
   "metadata": {},
   "source": [
    "(f)    P(−1.25 ≤ Z)"
   ]
  },
  {
   "cell_type": "code",
   "execution_count": 91,
   "metadata": {},
   "outputs": [
    {
     "data": {
      "text/html": [
       "0.8944"
      ],
      "text/latex": [
       "0.8944"
      ],
      "text/markdown": [
       "0.8944"
      ],
      "text/plain": [
       "[1] 0.8944"
      ]
     },
     "metadata": {},
     "output_type": "display_data"
    }
   ],
   "source": [
    "round(1-pnorm(-1.25),4)"
   ]
  },
  {
   "cell_type": "markdown",
   "metadata": {},
   "source": [
    "(g)    P(−1.40 ≤ Z ≤ 2.00)"
   ]
  },
  {
   "cell_type": "code",
   "execution_count": 92,
   "metadata": {},
   "outputs": [
    {
     "data": {
      "text/html": [
       "0.8965"
      ],
      "text/latex": [
       "0.8965"
      ],
      "text/markdown": [
       "0.8965"
      ],
      "text/plain": [
       "[1] 0.8965"
      ]
     },
     "metadata": {},
     "output_type": "display_data"
    }
   ],
   "source": [
    "round(pnorm(2)-pnorm(-1.4),4)"
   ]
  },
  {
   "cell_type": "markdown",
   "metadata": {},
   "source": [
    "(h)    P(1.03 ≤ Z ≤ 2.50)"
   ]
  },
  {
   "cell_type": "code",
   "execution_count": 93,
   "metadata": {},
   "outputs": [
    {
     "data": {
      "text/html": [
       "0.1453"
      ],
      "text/latex": [
       "0.1453"
      ],
      "text/markdown": [
       "0.1453"
      ],
      "text/plain": [
       "[1] 0.1453"
      ]
     },
     "metadata": {},
     "output_type": "display_data"
    }
   ],
   "source": [
    "round(pnorm(2.5)-pnorm(1.03),4)"
   ]
  },
  {
   "cell_type": "markdown",
   "metadata": {},
   "source": [
    "(i)    P(1.40 ≤ Z)"
   ]
  },
  {
   "cell_type": "code",
   "execution_count": 94,
   "metadata": {},
   "outputs": [
    {
     "data": {
      "text/html": [
       "0.0808"
      ],
      "text/latex": [
       "0.0808"
      ],
      "text/markdown": [
       "0.0808"
      ],
      "text/plain": [
       "[1] 0.0808"
      ]
     },
     "metadata": {},
     "output_type": "display_data"
    }
   ],
   "source": [
    "round(1-pnorm(1.4),4)"
   ]
  },
  {
   "cell_type": "markdown",
   "metadata": {},
   "source": [
    "(j)    P(|Z| ≤ 2.50)"
   ]
  },
  {
   "cell_type": "code",
   "execution_count": 95,
   "metadata": {},
   "outputs": [
    {
     "data": {
      "text/html": [
       "0.9876"
      ],
      "text/latex": [
       "0.9876"
      ],
      "text/markdown": [
       "0.9876"
      ],
      "text/plain": [
       "[1] 0.9876"
      ]
     },
     "metadata": {},
     "output_type": "display_data"
    }
   ],
   "source": [
    "round(pnorm(2.5)-pnorm(-2.5),4)"
   ]
  },
  {
   "cell_type": "markdown",
   "metadata": {},
   "source": [
    "In each case, determine the value of the constant c that makes the probability statement correct. (Round your answers to two decimal places.)"
   ]
  },
  {
   "cell_type": "markdown",
   "metadata": {},
   "source": [
    "(a)    Φ(c) = 0.9838"
   ]
  },
  {
   "cell_type": "code",
   "execution_count": 99,
   "metadata": {},
   "outputs": [
    {
     "data": {
      "text/html": [
       "2.14"
      ],
      "text/latex": [
       "2.14"
      ],
      "text/markdown": [
       "2.14"
      ],
      "text/plain": [
       "[1] 2.14"
      ]
     },
     "metadata": {},
     "output_type": "display_data"
    }
   ],
   "source": [
    "round(qnorm(0.9838),2)"
   ]
  },
  {
   "cell_type": "markdown",
   "metadata": {},
   "source": [
    "(b)    P(0 ≤ Z ≤ c) = 0.2967"
   ]
  },
  {
   "cell_type": "code",
   "execution_count": 100,
   "metadata": {},
   "outputs": [
    {
     "data": {
      "text/html": [
       "0.83"
      ],
      "text/latex": [
       "0.83"
      ],
      "text/markdown": [
       "0.83"
      ],
      "text/plain": [
       "[1] 0.83"
      ]
     },
     "metadata": {},
     "output_type": "display_data"
    }
   ],
   "source": [
    "round(qnorm(0.2967+pnorm(0)),2)"
   ]
  },
  {
   "cell_type": "markdown",
   "metadata": {},
   "source": [
    "(c)    P(c ≤ Z) = 0.1170"
   ]
  },
  {
   "cell_type": "code",
   "execution_count": 101,
   "metadata": {},
   "outputs": [
    {
     "data": {
      "text/html": [
       "1.19"
      ],
      "text/latex": [
       "1.19"
      ],
      "text/markdown": [
       "1.19"
      ],
      "text/plain": [
       "[1] 1.19"
      ]
     },
     "metadata": {},
     "output_type": "display_data"
    }
   ],
   "source": [
    "round(qnorm(1-0.1170),2)"
   ]
  },
  {
   "cell_type": "markdown",
   "metadata": {},
   "source": [
    "(d)    P(−c ≤ Z ≤ c) = 0.6372"
   ]
  },
  {
   "cell_type": "code",
   "execution_count": 112,
   "metadata": {},
   "outputs": [
    {
     "data": {
      "text/html": [
       "0.91"
      ],
      "text/latex": [
       "0.91"
      ],
      "text/markdown": [
       "0.91"
      ],
      "text/plain": [
       "[1] 0.91"
      ]
     },
     "metadata": {},
     "output_type": "display_data"
    }
   ],
   "source": [
    "round(qnorm(0.6372/2+pnorm(0)),2)"
   ]
  },
  {
   "cell_type": "markdown",
   "metadata": {},
   "source": [
    "(e)    P(c ≤ |Z|) = 0.0160"
   ]
  },
  {
   "cell_type": "code",
   "execution_count": 108,
   "metadata": {},
   "outputs": [
    {
     "data": {
      "text/html": [
       "2.41"
      ],
      "text/latex": [
       "2.41"
      ],
      "text/markdown": [
       "2.41"
      ],
      "text/plain": [
       "[1] 2.41"
      ]
     },
     "metadata": {},
     "output_type": "display_data"
    }
   ],
   "source": [
    "round(qnorm(1-0.0160/2),2)"
   ]
  },
  {
   "cell_type": "markdown",
   "metadata": {},
   "source": [
    "# Independence\n",
    "An oil exploration company currently has two active projects, one in Asia and the other in Europe. Let A be the event that the Asian project is successful and B be the event that the European project is successful. Suppose that A and B are independent events with P(A) = 0.2 and P(B) = 0.8."
   ]
  },
  {
   "cell_type": "markdown",
   "metadata": {},
   "source": [
    "(a) If the Asian project is not successful, what is the probability that the European project is also not successful?\n",
    "\n",
    "P(B')=1-P(B)=1-0.8=0.2\n",
    "\n",
    "Explain your reasoning.\n",
    "Since the events are independent, then A' and B' are independent. "
   ]
  },
  {
   "cell_type": "markdown",
   "metadata": {},
   "source": [
    "(b) What is the probability that at least one of the two projects will be successful?\n",
    "\n",
    "$P(A \\cup B)=1-P(A' \\cap B')$"
   ]
  },
  {
   "cell_type": "code",
   "execution_count": 116,
   "metadata": {},
   "outputs": [
    {
     "data": {
      "text/html": [
       "0.84"
      ],
      "text/latex": [
       "0.84"
      ],
      "text/markdown": [
       "0.84"
      ],
      "text/plain": [
       "[1] 0.84"
      ]
     },
     "metadata": {},
     "output_type": "display_data"
    }
   ],
   "source": [
    "1-(0.2*0.8)"
   ]
  },
  {
   "cell_type": "markdown",
   "metadata": {},
   "source": [
    "(c) Given that at least one of the two projects is successful, what is the probability that only the Asian project is successful? (Round your answer to three decimal places.)\n",
    "\n",
    "$P(A|A\\cup B)=\\frac{P(A)-P(A\\cap B)}{P(A\\cup B)}$"
   ]
  },
  {
   "cell_type": "code",
   "execution_count": 118,
   "metadata": {},
   "outputs": [
    {
     "data": {
      "text/html": [
       "0.0476190476190476"
      ],
      "text/latex": [
       "0.0476190476190476"
      ],
      "text/markdown": [
       "0.0476190476190476"
      ],
      "text/plain": [
       "[1] 0.04761905"
      ]
     },
     "metadata": {},
     "output_type": "display_data"
    }
   ],
   "source": [
    "(0.2-(0.2*0.8))/(1-(0.2*0.8))"
   ]
  },
  {
   "cell_type": "markdown",
   "metadata": {},
   "source": [
    "A company that manufactures video cameras produces a basic model and a deluxe model. Over the past year, 32% of the cameras sold have been of the basic model. Of those buying the basic model, 30% purchase an extended warranty, whereas 35% of all deluxe purchasers do so. If you learn that a randomly selected purchaser has an extended warranty, how likely is it that he or she has a basic model? (Round your answer to four decimal places.)\n",
    "\n",
    "Let B represent basic model cameras\n",
    "Let W represent Warrantied cameras\n",
    "\n",
    "|Camera\\Warranty|With Warranty|Without Warranty|Row Sum|\n",
    "|---------------|--------|-----------|---|\n",
    "|Basic   |$0.3\\cdot0.32     $               |$(1-0.3)\\cdot0.32$                           |$0.32$|\n",
    "|Deluxe  |$0.35\\cdot(1-0.32)$               |$(1-0.35)\\cdot(1-0.32)$                      |$1-0.32$|\n",
    "|Col Sum |$(0.3\\cdot0.32)+0.35\\cdot(1-0.32)$|$((1-0.3)\\cdot0.32)+((1-0.35)\\cdot(1-0.32)) $|$1$ |\n",
    "\n",
    "\n",
    "|Camera\\Warranty|With Warranty|Without Warranty|Row Sum|\n",
    "|---------------|-------------|----------------|-------|\n",
    "|Basic          |$0.096$      |$0.224$         |$0.32$ |\n",
    "|Deluxe         |$0.238$      |$0.442$         |$0.68$ |\n",
    "|Col Sum        |$0.334$      |$0.666$         |$1$    |"
   ]
  },
  {
   "cell_type": "code",
   "execution_count": 135,
   "metadata": {},
   "outputs": [
    {
     "data": {
      "text/html": [
       "0.287425149700599"
      ],
      "text/latex": [
       "0.287425149700599"
      ],
      "text/markdown": [
       "0.287425149700599"
      ],
      "text/plain": [
       "[1] 0.2874251"
      ]
     },
     "metadata": {},
     "output_type": "display_data"
    }
   ],
   "source": [
    "(0.3*0.32)/((0.35*(1-0.32))+(0.3*0.32))"
   ]
  },
  {
   "cell_type": "markdown",
   "metadata": {},
   "source": [
    "# 2.2: Axioms, Interpretations, and Properties of Probability\n",
    "\n",
    "An academic department with five faculty members—Anderson, Box, Cox, Cramer, and Fisher—must select two of its members to serve on a personnel review committee. Because the work will be time-consuming, no one is anxious to serve, so it is decided that the representative will be selected by putting the names on identical pieces of paper and then randomly selecting two."
   ]
  },
  {
   "cell_type": "code",
   "execution_count": 160,
   "metadata": {
    "collapsed": true,
    "jupyter": {
     "outputs_hidden": true
    }
   },
   "outputs": [],
   "source": [
    "names=c('Anderson',\"Box\",\"Cox\",\"Cramer\",\"Fisher\")\n",
    "experience=c(3,6,7,10,14)"
   ]
  },
  {
   "cell_type": "markdown",
   "metadata": {},
   "source": [
    "(a) What is the probability that both Anderson and Box will be selected? [Hint: List the equally likely outcomes.]"
   ]
  },
  {
   "cell_type": "code",
   "execution_count": 174,
   "metadata": {},
   "outputs": [
    {
     "data": {
      "text/html": [
       "<ol class=list-inline>\n",
       "\t<li>20</li>\n",
       "\t<li>2</li>\n",
       "</ol>\n"
      ],
      "text/latex": [
       "\\begin{enumerate*}\n",
       "\\item 20\n",
       "\\item 2\n",
       "\\end{enumerate*}\n"
      ],
      "text/markdown": [
       "1. 20\n",
       "2. 2\n",
       "\n",
       "\n"
      ],
      "text/plain": [
       "[1] 20  2"
      ]
     },
     "metadata": {},
     "output_type": "display_data"
    },
    {
     "data": {
      "text/html": [
       "<table>\n",
       "<thead><tr><th></th><th scope=col>Var1</th><th scope=col>Var2</th></tr></thead>\n",
       "<tbody>\n",
       "\t<tr><th scope=row>2</th><td>Box     </td><td>Anderson</td></tr>\n",
       "\t<tr><th scope=row>3</th><td>Cox     </td><td>Anderson</td></tr>\n",
       "\t<tr><th scope=row>4</th><td>Cramer  </td><td>Anderson</td></tr>\n",
       "\t<tr><th scope=row>5</th><td>Fisher  </td><td>Anderson</td></tr>\n",
       "\t<tr><th scope=row>6</th><td>Anderson</td><td>Box     </td></tr>\n",
       "\t<tr><th scope=row>8</th><td>Cox     </td><td>Box     </td></tr>\n",
       "\t<tr><th scope=row>9</th><td>Cramer  </td><td>Box     </td></tr>\n",
       "\t<tr><th scope=row>10</th><td>Fisher  </td><td>Box     </td></tr>\n",
       "\t<tr><th scope=row>11</th><td>Anderson</td><td>Cox     </td></tr>\n",
       "\t<tr><th scope=row>12</th><td>Box     </td><td>Cox     </td></tr>\n",
       "\t<tr><th scope=row>14</th><td>Cramer  </td><td>Cox     </td></tr>\n",
       "\t<tr><th scope=row>15</th><td>Fisher  </td><td>Cox     </td></tr>\n",
       "\t<tr><th scope=row>16</th><td>Anderson</td><td>Cramer  </td></tr>\n",
       "\t<tr><th scope=row>17</th><td>Box     </td><td>Cramer  </td></tr>\n",
       "\t<tr><th scope=row>18</th><td>Cox     </td><td>Cramer  </td></tr>\n",
       "\t<tr><th scope=row>20</th><td>Fisher  </td><td>Cramer  </td></tr>\n",
       "\t<tr><th scope=row>21</th><td>Anderson</td><td>Fisher  </td></tr>\n",
       "\t<tr><th scope=row>22</th><td>Box     </td><td>Fisher  </td></tr>\n",
       "\t<tr><th scope=row>23</th><td>Cox     </td><td>Fisher  </td></tr>\n",
       "\t<tr><th scope=row>24</th><td>Cramer  </td><td>Fisher  </td></tr>\n",
       "</tbody>\n",
       "</table>\n"
      ],
      "text/latex": [
       "\\begin{tabular}{r|ll}\n",
       "  & Var1 & Var2\\\\\n",
       "\\hline\n",
       "\t2 & Box      & Anderson\\\\\n",
       "\t3 & Cox      & Anderson\\\\\n",
       "\t4 & Cramer   & Anderson\\\\\n",
       "\t5 & Fisher   & Anderson\\\\\n",
       "\t6 & Anderson & Box     \\\\\n",
       "\t8 & Cox      & Box     \\\\\n",
       "\t9 & Cramer   & Box     \\\\\n",
       "\t10 & Fisher   & Box     \\\\\n",
       "\t11 & Anderson & Cox     \\\\\n",
       "\t12 & Box      & Cox     \\\\\n",
       "\t14 & Cramer   & Cox     \\\\\n",
       "\t15 & Fisher   & Cox     \\\\\n",
       "\t16 & Anderson & Cramer  \\\\\n",
       "\t17 & Box      & Cramer  \\\\\n",
       "\t18 & Cox      & Cramer  \\\\\n",
       "\t20 & Fisher   & Cramer  \\\\\n",
       "\t21 & Anderson & Fisher  \\\\\n",
       "\t22 & Box      & Fisher  \\\\\n",
       "\t23 & Cox      & Fisher  \\\\\n",
       "\t24 & Cramer   & Fisher  \\\\\n",
       "\\end{tabular}\n"
      ],
      "text/markdown": [
       "\n",
       "| <!--/--> | Var1 | Var2 | \n",
       "|---|---|---|---|---|---|---|---|---|---|---|---|---|---|---|---|---|---|---|---|\n",
       "| 2 | Box      | Anderson | \n",
       "| 3 | Cox      | Anderson | \n",
       "| 4 | Cramer   | Anderson | \n",
       "| 5 | Fisher   | Anderson | \n",
       "| 6 | Anderson | Box      | \n",
       "| 8 | Cox      | Box      | \n",
       "| 9 | Cramer   | Box      | \n",
       "| 10 | Fisher   | Box      | \n",
       "| 11 | Anderson | Cox      | \n",
       "| 12 | Box      | Cox      | \n",
       "| 14 | Cramer   | Cox      | \n",
       "| 15 | Fisher   | Cox      | \n",
       "| 16 | Anderson | Cramer   | \n",
       "| 17 | Box      | Cramer   | \n",
       "| 18 | Cox      | Cramer   | \n",
       "| 20 | Fisher   | Cramer   | \n",
       "| 21 | Anderson | Fisher   | \n",
       "| 22 | Box      | Fisher   | \n",
       "| 23 | Cox      | Fisher   | \n",
       "| 24 | Cramer   | Fisher   | \n",
       "\n",
       "\n"
      ],
      "text/plain": [
       "   Var1     Var2    \n",
       "2  Box      Anderson\n",
       "3  Cox      Anderson\n",
       "4  Cramer   Anderson\n",
       "5  Fisher   Anderson\n",
       "6  Anderson Box     \n",
       "8  Cox      Box     \n",
       "9  Cramer   Box     \n",
       "10 Fisher   Box     \n",
       "11 Anderson Cox     \n",
       "12 Box      Cox     \n",
       "14 Cramer   Cox     \n",
       "15 Fisher   Cox     \n",
       "16 Anderson Cramer  \n",
       "17 Box      Cramer  \n",
       "18 Cox      Cramer  \n",
       "20 Fisher   Cramer  \n",
       "21 Anderson Fisher  \n",
       "22 Box      Fisher  \n",
       "23 Cox      Fisher  \n",
       "24 Cramer   Fisher  "
      ]
     },
     "metadata": {},
     "output_type": "display_data"
    }
   ],
   "source": [
    "omega=expand.grid(names,names)\n",
    "omega=omega[omega$Var1!=omega$Var2,]\n",
    "dim(omega)\n",
    "omega"
   ]
  },
  {
   "cell_type": "markdown",
   "metadata": {},
   "source": [
    "(b) What is the probability that at least one of the two members whose name begins with C is selected?"
   ]
  },
  {
   "cell_type": "markdown",
   "metadata": {},
   "source": [
    "(c) If the five faculty members have taught for 3, 6, 7, 10, and 14 years, respectively, at the university, what is the probability that the two chosen representatives have a total of at least 18 years teaching experience there?"
   ]
  },
  {
   "cell_type": "markdown",
   "metadata": {},
   "source": [
    "Computer keyboard failures can be attributed to electrical defects or mechanical defects. A repair facility currently has 25 failed keyboards, 13 of which have electrical defects and 12 of which have mechanical defects.\n",
    "\n",
    "|       |  electric |mechanical | row sum |\n",
    "|-------|-----------|-----------|---------|\n",
    "|failed |     13    |   12      |      25 |\n",
    "|good   |           |           |         |\n",
    "|col sum|           |           |         |"
   ]
  },
  {
   "cell_type": "markdown",
   "metadata": {},
   "source": [
    "(a)\n",
    "How many ways are there to randomly select 7 of these keyboards for a thorough inspection (without regard to order)?\n",
    "ways"
   ]
  },
  {
   "cell_type": "code",
   "execution_count": 175,
   "metadata": {},
   "outputs": [
    {
     "data": {
      "text/html": [
       "480700"
      ],
      "text/latex": [
       "480700"
      ],
      "text/markdown": [
       "480700"
      ],
      "text/plain": [
       "[1] 480700"
      ]
     },
     "metadata": {},
     "output_type": "display_data"
    }
   ],
   "source": [
    "choose(25,7)"
   ]
  },
  {
   "cell_type": "markdown",
   "metadata": {},
   "source": [
    "(b)\n",
    "In how many ways can a sample of 7 keyboards be selected so that exactly two have an electrical defect?\n",
    "ways"
   ]
  },
  {
   "cell_type": "code",
   "execution_count": 177,
   "metadata": {},
   "outputs": [
    {
     "data": {
      "text/html": [
       "61776"
      ],
      "text/latex": [
       "61776"
      ],
      "text/markdown": [
       "61776"
      ],
      "text/plain": [
       "[1] 61776"
      ]
     },
     "metadata": {},
     "output_type": "display_data"
    }
   ],
   "source": [
    "choose(13,2)*choose(12,5)"
   ]
  },
  {
   "cell_type": "markdown",
   "metadata": {},
   "source": [
    "(c)\n",
    "If a sample of 7 keyboards is randomly selected, what is the probability that at least 6 of these will have a mechanical defect? (Round your answer to four decimal places.) "
   ]
  },
  {
   "cell_type": "code",
   "execution_count": 184,
   "metadata": {},
   "outputs": [
    {
     "data": {
      "text/html": [
       "0.0266361556064073"
      ],
      "text/latex": [
       "0.0266361556064073"
      ],
      "text/markdown": [
       "0.0266361556064073"
      ],
      "text/plain": [
       "[1] 0.02663616"
      ]
     },
     "metadata": {},
     "output_type": "display_data"
    }
   ],
   "source": [
    "(choose(12,6)*choose(13,1)+choose(12,7)*choose(13,0))/choose(25,7)"
   ]
  },
  {
   "cell_type": "markdown",
   "metadata": {},
   "source": [
    "The route used by a certain motorist in commuting to work contains two intersections with traffic signals. The probability that he must stop at the first signal is 0.35, the analogous probability for the second signal is 0.45, and the probability that he must stop at at least one of the two signals is 0.7.\n",
    "\n",
    "Let A be the event of stopping at the first sign\n",
    "Let B be the even of stopping at the second sign\n",
    "\n",
    "$P(A)=0.35$\n",
    "\n",
    "$P(B)=0.45$\n",
    "\n",
    "$P(A\\cup B)=0.7$\n",
    "\n",
    "$P(A \\cap B)=P(A)+P(B)-P(A\\cup B)$"
   ]
  },
  {
   "cell_type": "markdown",
   "metadata": {},
   "source": [
    "(a) What is the probability that he must stop at both signals?"
   ]
  },
  {
   "cell_type": "code",
   "execution_count": 193,
   "metadata": {},
   "outputs": [
    {
     "data": {
      "text/html": [
       "0.1"
      ],
      "text/latex": [
       "0.1"
      ],
      "text/markdown": [
       "0.1"
      ],
      "text/plain": [
       "[1] 0.1"
      ]
     },
     "metadata": {},
     "output_type": "display_data"
    }
   ],
   "source": [
    "0.35+0.45-0.7"
   ]
  },
  {
   "cell_type": "markdown",
   "metadata": {},
   "source": [
    "(b) What is the probability that he must stop at the first signal but not at the second one?\n",
    "\n",
    "$P(A \\cap B')= P(A) - P(A \\cap B)$"
   ]
  },
  {
   "cell_type": "code",
   "execution_count": 194,
   "metadata": {},
   "outputs": [
    {
     "data": {
      "text/html": [
       "0.25"
      ],
      "text/latex": [
       "0.25"
      ],
      "text/markdown": [
       "0.25"
      ],
      "text/plain": [
       "[1] 0.25"
      ]
     },
     "metadata": {},
     "output_type": "display_data"
    }
   ],
   "source": [
    "0.35-0.1"
   ]
  },
  {
   "cell_type": "markdown",
   "metadata": {},
   "source": [
    "(c) What is the probability that he must stop at exactly one signal? "
   ]
  },
  {
   "cell_type": "code",
   "execution_count": 196,
   "metadata": {},
   "outputs": [
    {
     "data": {
      "text/html": [
       "0.6"
      ],
      "text/latex": [
       "0.6"
      ],
      "text/markdown": [
       "0.6"
      ],
      "text/plain": [
       "[1] 0.6"
      ]
     },
     "metadata": {},
     "output_type": "display_data"
    }
   ],
   "source": [
    "0.7-0.1"
   ]
  },
  {
   "cell_type": "markdown",
   "metadata": {},
   "source": [
    "# Goodness of fit"
   ]
  },
  {
   "cell_type": "markdown",
   "metadata": {},
   "source": [
    "Consider the accompanying 2 × 3 table displaying the sample proportions that fell in the various combinations of categories (e.g., 12% of those in the sample were in the first category of both factors).\n",
    "\n",
    "| |1     | 2   | 3  |\n",
    "|-|------|-----|----|\n",
    "|1|\t0.12 |0.20 |0.28|\n",
    "|2|\t0.07 |0.11 |0.22|"
   ]
  },
  {
   "cell_type": "markdown",
   "metadata": {},
   "source": [
    "(a) Suppose the sample consisted of n = 100 people. Use the chi-squared test for independence with significance level 0.10. \n",
    "\n",
    "State the appropriate hypotheses.\n",
    "H0: pij = pi · pj\n",
    "for every pair (i, j)\n",
    "Ha: at least one pij ≠ pi · pj"
   ]
  },
  {
   "cell_type": "markdown",
   "metadata": {},
   "source": [
    "Calculate the test statistic. (Round your answer to two decimal places.)\n",
    "χ2 ="
   ]
  },
  {
   "cell_type": "code",
   "execution_count": 199,
   "metadata": {},
   "outputs": [
    {
     "data": {
      "text/html": [
       "0.675721561969439"
      ],
      "text/latex": [
       "0.675721561969439"
      ],
      "text/markdown": [
       "0.675721561969439"
      ],
      "text/plain": [
       "[1] 0.6757216"
      ]
     },
     "metadata": {},
     "output_type": "display_data"
    }
   ],
   "source": [
    "n=100\n",
    "observed_proportion <- rbind(c(0.12,0.20,0.28),c(0.07,0.11,0.22))\n",
    "df <- prod(dim(observed_proportion)-1)\n",
    "expected_proportion <- outer(rowSums(observed_proportion),colSums(observed_proportion))\n",
    "observed_frequency  <- observed_proportion*n \n",
    "expected_frequency  <- expected_proportion*n\n",
    "stat <- sum((observed_frequency-expected_frequency)^2/expected_frequency)\n",
    "stat"
   ]
  },
  {
   "cell_type": "markdown",
   "metadata": {},
   "source": [
    "What can be said about the P-value for the test?\n",
    "P-value < 0.005 0.005 < P-value < 0.01     0.01 < P-value < 0.025 0.025 < P-value < 0.05 0.05 < P-value < 0.10 P-value > 0.10"
   ]
  },
  {
   "cell_type": "code",
   "execution_count": 200,
   "metadata": {},
   "outputs": [
    {
     "data": {
      "text/html": [
       "0.713294585155839"
      ],
      "text/latex": [
       "0.713294585155839"
      ],
      "text/markdown": [
       "0.713294585155839"
      ],
      "text/plain": [
       "[1] 0.7132946"
      ]
     },
     "metadata": {},
     "output_type": "display_data"
    }
   ],
   "source": [
    "p_value  <- 1-pchisq(stat,df)\n",
    "p_value"
   ]
  },
  {
   "cell_type": "markdown",
   "metadata": {},
   "source": [
    "State the conclusion in the problem context.\n",
    "Fail to reject H0. An individual's category with respect to factor 1 is independent of the category with respect to factor 2.     "
   ]
  },
  {
   "cell_type": "markdown",
   "metadata": {},
   "source": [
    "(b) Suppose the sample consisted of n = 1000 people. Use the chi-squared test for independence with significance level 0.10.\n",
    "Calculate the test statistic. (Round your answer to two decimal places.)\n",
    "χ2 ="
   ]
  },
  {
   "cell_type": "code",
   "execution_count": 201,
   "metadata": {},
   "outputs": [
    {
     "data": {
      "text/html": [
       "6.7572156196944"
      ],
      "text/latex": [
       "6.7572156196944"
      ],
      "text/markdown": [
       "6.7572156196944"
      ],
      "text/plain": [
       "[1] 6.757216"
      ]
     },
     "metadata": {},
     "output_type": "display_data"
    }
   ],
   "source": [
    "n=1000\n",
    "expected_proportion <- outer(rowSums(observed_proportion),colSums(observed_proportion))\n",
    "observed_frequency  <- observed_proportion*n \n",
    "expected_frequency  <- expected_proportion*n\n",
    "stat <- sum((observed_frequency-expected_frequency)^2/expected_frequency)\n",
    "stat"
   ]
  },
  {
   "cell_type": "markdown",
   "metadata": {},
   "source": [
    "What can be said about the P-value for the test?\n",
    "P-value < 0.005 0.005 < P-value < 0.01     0.01 < P-value < 0.025 0.025 < P-value < 0.05 0.05 < P-value < 0.10 P-value > 0.10"
   ]
  },
  {
   "cell_type": "code",
   "execution_count": 202,
   "metadata": {},
   "outputs": [
    {
     "data": {
      "text/html": [
       "0.0340948882764024"
      ],
      "text/latex": [
       "0.0340948882764024"
      ],
      "text/markdown": [
       "0.0340948882764024"
      ],
      "text/plain": [
       "[1] 0.03409489"
      ]
     },
     "metadata": {},
     "output_type": "display_data"
    }
   ],
   "source": [
    "p_value  <- 1-pchisq(stat,df)\n",
    "p_value"
   ]
  },
  {
   "cell_type": "markdown",
   "metadata": {},
   "source": [
    "State the conclusion in the problem context.\n",
    "\n",
    "Reject H0. An individual's category with respect to factor 1 is not independent of the category with respect to factor 2."
   ]
  },
  {
   "cell_type": "markdown",
   "metadata": {},
   "source": [
    "(c) What is the smallest sample size n for which these observed proportions would result in rejection of the independence hypothesis? (Round your answer up to the next whole number.)\n",
    "n = "
   ]
  },
  {
   "cell_type": "code",
   "execution_count": 205,
   "metadata": {},
   "outputs": [
    {
     "data": {
      "text/html": [
       "682"
      ],
      "text/latex": [
       "682"
      ],
      "text/markdown": [
       "682"
      ],
      "text/plain": [
       "[1] 682"
      ]
     },
     "metadata": {},
     "output_type": "display_data"
    }
   ],
   "source": [
    "alpha=0.1\n",
    "critical_stat <-  qchisq(1-alpha,df)\n",
    "n=critical_stat/sum((observed_proportion-expected_proportion)^2/expected_proportion)\n",
    "ceiling(n)"
   ]
  },
  {
   "cell_type": "markdown",
   "metadata": {},
   "source": [
    "# Practice Problems\n",
    "An article considered regressing\n",
    "y = 28-day standard-cured strength (psi)\n",
    "against\n",
    "x = accelerated strength (psi).\n",
    "Suppose the equation of the true regression line is\n",
    "y = 1900 + 1.3x,\n",
    "and that the standard deviation of the random deviation ϵ is 350 psi."
   ]
  },
  {
   "cell_type": "code",
   "execution_count": 1,
   "metadata": {
    "collapsed": true,
    "jupyter": {
     "outputs_hidden": true
    }
   },
   "outputs": [],
   "source": [
    "B0=1900\n",
    "B1=1.3\n",
    "s=350"
   ]
  },
  {
   "cell_type": "markdown",
   "metadata": {},
   "source": [
    "(a)\n",
    "What is the probability that the observed value of 28-day strength will exceed 5000 psi when the value of accelerated strength is 2000? (Round your answer to four decimal places.)\n",
    "(No Response)"
   ]
  },
  {
   "cell_type": "code",
   "execution_count": 5,
   "metadata": {},
   "outputs": [
    {
     "data": {
      "text/html": [
       "0.0766"
      ],
      "text/latex": [
       "0.0766"
      ],
      "text/markdown": [
       "0.0766"
      ],
      "text/plain": [
       "[1] 0.0766"
      ]
     },
     "metadata": {},
     "output_type": "display_data"
    }
   ],
   "source": [
    "y_2000=B0+B1*2000\n",
    "round(1-pnorm(5000,y_2000,s),4)"
   ]
  },
  {
   "cell_type": "markdown",
   "metadata": {},
   "source": [
    "(b)\n",
    "What is the probability that the observed value of 28-day strength will exceed 5000 psi when the value of accelerated strength is 2500? (Round your answer to four decimal places.)\n",
    "(No Response)"
   ]
  },
  {
   "cell_type": "code",
   "execution_count": 6,
   "metadata": {},
   "outputs": [
    {
     "data": {
      "text/html": [
       "0.6659"
      ],
      "text/latex": [
       "0.6659"
      ],
      "text/markdown": [
       "0.6659"
      ],
      "text/plain": [
       "[1] 0.6659"
      ]
     },
     "metadata": {},
     "output_type": "display_data"
    }
   ],
   "source": [
    "y_2500=B0+B1*2500\n",
    "round(1-pnorm(5000,y_2500,s),4)"
   ]
  },
  {
   "cell_type": "markdown",
   "metadata": {},
   "source": [
    "(c)\n",
    "Consider making two independent observations on 28-day strength, the first for an accelerated strength of 2000 and the second for\n",
    "x = 2500.\n",
    "What is the probability that the second observation will exceed the first by more than 1000 psi? (Round your answer to four decimal places.)"
   ]
  },
  {
   "cell_type": "code",
   "execution_count": 7,
   "metadata": {},
   "outputs": [
    {
     "data": {
      "text/html": [
       "0.2398"
      ],
      "text/latex": [
       "0.2398"
      ],
      "text/markdown": [
       "0.2398"
      ],
      "text/plain": [
       "[1] 0.2398"
      ]
     },
     "metadata": {},
     "output_type": "display_data"
    }
   ],
   "source": [
    "s_diff=sqrt(s^2+s^2)\n",
    "y_diff=B1*(2500-2000)\n",
    "round(1-pnorm(1000,y_diff,s_diff),4)"
   ]
  },
  {
   "cell_type": "markdown",
   "metadata": {},
   "source": [
    "(d) \n",
    "Let Y1 and Y2 denote observations on 28-day strength when\n",
    "x = x1\n",
    "and\n",
    "x = x2,\n",
    "respectively. By how much would\n",
    "x2\n",
    "have to exceed\n",
    "x1\n",
    "in order that\n",
    "P(Y2 > Y1) = 0.95?\n",
    "(Round your answer to two decimal places.)\n",
    "\n",
    "$(Y2-Y1) \\sim N(0,s_{diff}/B1)$"
   ]
  },
  {
   "cell_type": "code",
   "execution_count": 20,
   "metadata": {},
   "outputs": [
    {
     "data": {
      "text/html": [
       "626.28"
      ],
      "text/latex": [
       "626.28"
      ],
      "text/markdown": [
       "626.28"
      ],
      "text/plain": [
       "[1] 626.28"
      ]
     },
     "metadata": {},
     "output_type": "display_data"
    }
   ],
   "source": [
    "round(qnorm(0.95,0,s_diff/B1),2)"
   ]
  },
  {
   "cell_type": "markdown",
   "metadata": {},
   "source": [
    "# 2. \n",
    "An article reported that for a sample of 47 kitchens with gas cooking appliances monitored during a one-week period, the sample mean CO2 level (ppm) was 654.16, and the sample standard deviation \n",
    "was 166.08.\n",
    "\n",
    "\n",
    "(a) Calculate and interpret a 95% (two-sided) confidence interval for true average CO2 level in the population of all homes from which the sample was selected. (Round your answers to two decimal places.)"
   ]
  },
  {
   "cell_type": "code",
   "execution_count": 22,
   "metadata": {},
   "outputs": [
    {
     "data": {
      "text/html": [
       "<ol class=list-inline>\n",
       "\t<li>606.68</li>\n",
       "\t<li>701.64</li>\n",
       "</ol>\n"
      ],
      "text/latex": [
       "\\begin{enumerate*}\n",
       "\\item 606.68\n",
       "\\item 701.64\n",
       "\\end{enumerate*}\n"
      ],
      "text/markdown": [
       "1. 606.68\n",
       "2. 701.64\n",
       "\n",
       "\n"
      ],
      "text/plain": [
       "[1] 606.68 701.64"
      ]
     },
     "metadata": {},
     "output_type": "display_data"
    }
   ],
   "source": [
    "n=47\n",
    "mu=654.16\n",
    "s=166.08\n",
    "SE=s/sqrt(n)\n",
    "\n",
    "alpha=1-0.95\n",
    "z=qnorm(1-alpha/2)\n",
    "error=z*SE\n",
    "\n",
    "round(c(mu-error,mu+error),2)"
   ]
  },
  {
   "cell_type": "markdown",
   "metadata": {},
   "source": [
    "Interpret the resulting interval.\n",
    "\n",
    "We are 95% confident that this interval contains the true population mean."
   ]
  },
  {
   "cell_type": "markdown",
   "metadata": {},
   "source": [
    "(b) Suppose the investigators had made a rough guess of 169 for the value of s before collecting data. What sample size would be necessary to obtain an interval width of 52 ppm for a confidence level of 95%? (Round your answer up to the nearest whole number.)\n",
    " kitchens"
   ]
  },
  {
   "cell_type": "code",
   "execution_count": 47,
   "metadata": {},
   "outputs": [
    {
     "data": {
      "text/html": [
       "163"
      ],
      "text/latex": [
       "163"
      ],
      "text/markdown": [
       "163"
      ],
      "text/plain": [
       "[1] 163"
      ]
     },
     "metadata": {},
     "output_type": "display_data"
    }
   ],
   "source": [
    "width=52\n",
    "alpha=1-0.95\n",
    "z=qnorm(1-alpha/2)\n",
    "s=169\n",
    "n=ceiling((2*s*z/width)^2)\n",
    "n"
   ]
  },
  {
   "cell_type": "markdown",
   "metadata": {},
   "source": [
    "# 3. –/5 points DevoreStat9 8.E.033.\n",
    "An article described an investigation into the coating weights for large pipes resulting from a galvanized coating process. Production standards call for a true average weight of 200 lb per pipe. The accompanying descriptive summary and boxplot are from Minitab.\n",
    "\n",
    "|Variable|N|Mean|Median|TrMean|StDev|SEMean|Min|Max|Q1|Q3|\n",
    "|--------|-|----|------|------|-----|------|---|---|--|--|\n",
    "|ctg wt|30|206.48|206.00|206.81|6.35|1.16|193.00|218.00|202.75|212.00|\n",
    "\n",
    "\n"
   ]
  },
  {
   "cell_type": "markdown",
   "metadata": {},
   "source": [
    "(a) What does the boxplot suggest about the status of the specification for true average coating weight?\n",
    "\n",
    "It appears that the true average weight could be significantly off from the production specification of 200 lb per pipe."
   ]
  },
  {
   "cell_type": "markdown",
   "metadata": {},
   "source": [
    "(b) A normal probability plot of the data was quite straight. Use the descriptive output to test the appropriate hypotheses. (Use α = 0.05.)\n",
    "State the appropriate hypotheses.\n",
    "\n",
    "H0: μ = 200\n",
    "Ha: μ ≠ 200\n",
    "\n",
    "Calculate the test statistic and determine the P-value. (Round your test statistic to two decimal places and your P-value to three decimal places.)"
   ]
  },
  {
   "cell_type": "code",
   "execution_count": 26,
   "metadata": {},
   "outputs": [
    {
     "data": {
      "text/html": [
       "5.59"
      ],
      "text/latex": [
       "5.59"
      ],
      "text/markdown": [
       "5.59"
      ],
      "text/plain": [
       "[1] 5.59"
      ]
     },
     "metadata": {},
     "output_type": "display_data"
    },
    {
     "data": {
      "text/html": [
       "0"
      ],
      "text/latex": [
       "0"
      ],
      "text/markdown": [
       "0"
      ],
      "text/plain": [
       "[1] 0"
      ]
     },
     "metadata": {},
     "output_type": "display_data"
    }
   ],
   "source": [
    "alpha=0.05\n",
    "x_bar=206.48\n",
    "x_0=200\n",
    "s=6.35\n",
    "n=30\n",
    "df=n-1\n",
    "SE=s/sqrt(n)\n",
    "t=(x_bar-x_0)/SE\n",
    "round(t,2)\n",
    "p_value=1-pt(t,df)\n",
    "round(p_value,3)"
   ]
  },
  {
   "cell_type": "markdown",
   "metadata": {},
   "source": [
    "What can you conclude?\n",
    "\n",
    "Reject the null hypothesis. There is sufficient evidence to conclude that the true average weight differs from 200 lb per pipe."
   ]
  },
  {
   "cell_type": "code",
   "execution_count": 28,
   "metadata": {},
   "outputs": [
    {
     "name": "stdout",
     "output_type": "stream",
     "text": [
      "[1] \"reject H0\"\n"
     ]
    }
   ],
   "source": [
    "if(p_value<alpha) {print(\"reject H0\")} else {print(\"do not reject H0\")}"
   ]
  },
  {
   "cell_type": "markdown",
   "metadata": {},
   "source": [
    "# 4.\n",
    "In an investigation of alcohol use among college students, each male student in a sample was categorized both according to age group and according to the number of heavy drinking episodes during the previous 30 days.\n",
    "\n",
    "|Episodes\\Age Group| 18–20 | 21–23| ≥24 |\n",
    "|------------------|-------|------|-----|\n",
    "| None             | 354   | 293  | 592 |\n",
    "| 1–2              | 218   | 288  | 354 |\n",
    "| 3–4              | 182   | 218  | 185 |\n",
    "| ≥ 5              | 328   | 331  | 147 |"
   ]
  },
  {
   "cell_type": "code",
   "execution_count": 30,
   "metadata": {},
   "outputs": [
    {
     "data": {
      "text/html": [
       "<table>\n",
       "<tbody>\n",
       "\t<tr><td>354</td><td>293</td><td>592</td></tr>\n",
       "\t<tr><td>218</td><td>288</td><td>354</td></tr>\n",
       "\t<tr><td>182</td><td>218</td><td>185</td></tr>\n",
       "\t<tr><td>328</td><td>331</td><td>147</td></tr>\n",
       "</tbody>\n",
       "</table>\n"
      ],
      "text/latex": [
       "\\begin{tabular}{lll}\n",
       "\t 354 & 293 & 592\\\\\n",
       "\t 218 & 288 & 354\\\\\n",
       "\t 182 & 218 & 185\\\\\n",
       "\t 328 & 331 & 147\\\\\n",
       "\\end{tabular}\n"
      ],
      "text/markdown": [
       "\n",
       "| 354 | 293 | 592 | \n",
       "| 218 | 288 | 354 | \n",
       "| 182 | 218 | 185 | \n",
       "| 328 | 331 | 147 | \n",
       "\n",
       "\n"
      ],
      "text/plain": [
       "     [,1] [,2] [,3]\n",
       "[1,] 354  293  592 \n",
       "[2,] 218  288  354 \n",
       "[3,] 182  218  185 \n",
       "[4,] 328  331  147 "
      ]
     },
     "metadata": {},
     "output_type": "display_data"
    }
   ],
   "source": [
    "observed_frequency=cbind(c(354,218,182,328),c(293,288,218,331),c(592,354,185,147))\n",
    "observed_frequency"
   ]
  },
  {
   "cell_type": "markdown",
   "metadata": {},
   "source": [
    "Does there appear to be an association between extent of binge drinking and age group in the population from which the sample was selected? Carry out a test of hypotheses at significance level 0.01.\n",
    "\n",
    "State the appropriate hypotheses.\n",
    "\n",
    "H0: pij =  pi·pj\n",
    "    i = 1, 2, 3, 4; j = 1, 2, 3\n",
    "\n",
    "Ha: at least one pij ≠ pi·pj"
   ]
  },
  {
   "cell_type": "markdown",
   "metadata": {},
   "source": [
    "Compute the test statistic value. (Round your answer to three decimal places.)"
   ]
  },
  {
   "cell_type": "code",
   "execution_count": 33,
   "metadata": {},
   "outputs": [
    {
     "data": {
      "text/html": [
       "213.602"
      ],
      "text/latex": [
       "213.602"
      ],
      "text/markdown": [
       "213.602"
      ],
      "text/plain": [
       "[1] 213.602"
      ]
     },
     "metadata": {},
     "output_type": "display_data"
    }
   ],
   "source": [
    "expected_frequency=outer(rowSums(observed_frequency),colSums(observed_frequency))/sum(observed_frequency)\n",
    "stat=sum((observed_frequency-expected_frequency)^2/(expected_frequency))\n",
    "round(stat,3)"
   ]
  },
  {
   "cell_type": "markdown",
   "metadata": {},
   "source": [
    "What can you say about the P-value?\n",
    "P-value < 0.005 0.005 < P-value < 0.01     0.01 < P-value < 0.025 0.025 < P-value < 0.05 0.05 < P-value < 0.10 P-value > 0.10"
   ]
  },
  {
   "cell_type": "code",
   "execution_count": 36,
   "metadata": {},
   "outputs": [
    {
     "data": {
      "text/html": [
       "0"
      ],
      "text/latex": [
       "0"
      ],
      "text/markdown": [
       "0"
      ],
      "text/plain": [
       "[1] 0"
      ]
     },
     "metadata": {},
     "output_type": "display_data"
    }
   ],
   "source": [
    "df=prod(dim(observed_frequency)-1)\n",
    "p_value=1-pchisq(stat,df)\n",
    "p_value"
   ]
  },
  {
   "cell_type": "code",
   "execution_count": 50,
   "metadata": {},
   "outputs": [
    {
     "data": {
      "text/html": [
       "4.50477590007347"
      ],
      "text/latex": [
       "4.50477590007347"
      ],
      "text/markdown": [
       "4.50477590007347"
      ],
      "text/plain": [
       "[1] 4.504776"
      ]
     },
     "metadata": {},
     "output_type": "display_data"
    },
    {
     "data": {
      "text/html": [
       "0.211864683375608"
      ],
      "text/latex": [
       "0.211864683375608"
      ],
      "text/markdown": [
       "0.211864683375608"
      ],
      "text/plain": [
       "[1] 0.2118647"
      ]
     },
     "metadata": {},
     "output_type": "display_data"
    }
   ],
   "source": [
    "n=1361\n",
    "observed_frequency=c(330,331,374,326)\n",
    "expected_frequency=rep(n/4,4)\n",
    "stat=sum((observed_frequency-expected_frequency)^2/expected_frequency)\n",
    "stat\n",
    "1-pchisq(stat,length(observed_frequency)-1)"
   ]
  },
  {
   "cell_type": "markdown",
   "metadata": {},
   "source": [
    "State the conclusion in the problem context.\n",
    "Reject H0. There is evidence of a significant association between binge drinking and age group."
   ]
  },
  {
   "cell_type": "markdown",
   "metadata": {},
   "source": [
    "The bond behavior of reinforcing bars is an important determinant of strength and stability. The article \"Experimental Study on the Bond Behavior of Reinforcing Bars Embedded in Concrete Subjected to Lateral Pressure\"† reported the results of one experiment in which varying levels of lateral pressure were applied to 21 concrete cube specimens, each with an embedded 16 mm plain steel round bar, and the corresponding bond capacity was determined. Due to differing concrete cube strengths\n",
    "(fcu,\n",
    "in MPa), the applied lateral pressure was equivalent to a fixed proportion of the specimen's\n",
    "fcu\n",
    "(0, 0.1fcu,   , 0.6fcu).\n",
    "Also, since bond strength can be heavily influenced by the specimen's\n",
    "fcu,\n",
    "bond capacity was expressed as the ratio of bond strength (MPa) to\n",
    "\tfcu\n",
    "."
   ]
  },
  {
   "cell_type": "code",
   "execution_count": 52,
   "metadata": {},
   "outputs": [
    {
     "data": {
      "image/png": "[encoded data removed]",
      "text/plain": [
       "plot without title"
      ]
     },
     "metadata": {},
     "output_type": "display_data"
    }
   ],
   "source": [
    "x <- c(0 ,0 ,0 ,0.1 ,0.1 ,0.1 ,0.2 ,0.2 ,0.2 ,0.3 ,0.3 ,0.3 ,0.4,0.4 ,0.4 ,0.5 ,0.5 ,0.5 ,0.6 ,0.6 ,0.6)\n",
    "y <- c(0.123 ,0.100 ,0.101 ,0.172 ,0.133 ,0.107 ,0.217 ,0.172 ,0.151 ,0.263 ,0.227 ,0.252 ,0.310 ,0.365 ,0.239 ,0.365 ,0.319 ,0.312 ,0.394 ,0.386 ,0.320)\n",
    "plot(x,y)"
   ]
  },
  {
   "cell_type": "markdown",
   "metadata": {},
   "source": [
    "(a)\n",
    "Does a scatterplot of the data support the use of the simple linear regression model?\n",
    "A scatterplot of the data shows a weak, positive, \n",
    "\n",
    "A scatterplot of the data shows a reasonably strong, positive, linear relationship between pressure and the bond capacity ratio and supports the use of a simple linear regression model.     "
   ]
  },
  {
   "cell_type": "markdown",
   "metadata": {},
   "source": [
    "(b)\n",
    "Use the accompanying Minitab output to give point estimates of the slope and intercept of the population regression line. (Enter your answers to five decimal places.)\n",
    "\n",
    "The regression equation is Ratio = 0.101 + 0.461 Pressure\n",
    "\n",
    "Predictor \tCoef \tSE Coef \tT \tP\n",
    "Constant \t0.10121 \t0.01308 \t7.74 \t0.000\n",
    "Pressure \t0.46071 \t0.03627 \t12.70 \t0.000\n",
    "S = 0.0332397    R-Sq = 89.5%    R-Sq(adj) = 88.9%\n",
    "\n",
    "Analysis of Variance Source \tDF \tSS \tMS \tF \tP\n",
    "Regression \t1 \t0.17830 \t0.17830 \t161.37 \t0.000\n",
    "Residual Error \t19 \t0.02099 \t0.00110 \t\t\n",
    "Total \t20 \t0.19929 \t\t\t\n",
    "slope intercept"
   ]
  },
  {
   "cell_type": "code",
   "execution_count": 53,
   "metadata": {
    "collapsed": true,
    "jupyter": {
     "outputs_hidden": true
    }
   },
   "outputs": [],
   "source": [
    "B0=0.10121\n",
    "B1=0.46071"
   ]
  },
  {
   "cell_type": "markdown",
   "metadata": {},
   "source": [
    "(c)\n",
    "Calculate a point estimate of the true average bond capacity when lateral pressure is\n",
    "0.16fcu.\n",
    "(Round your answer to four decimal places.)"
   ]
  },
  {
   "cell_type": "code",
   "execution_count": 54,
   "metadata": {},
   "outputs": [
    {
     "data": {
      "text/html": [
       "0.1749236"
      ],
      "text/latex": [
       "0.1749236"
      ],
      "text/markdown": [
       "0.1749236"
      ],
      "text/plain": [
       "[1] 0.1749236"
      ]
     },
     "metadata": {},
     "output_type": "display_data"
    }
   ],
   "source": [
    "B0+B1*0.16"
   ]
  },
  {
   "cell_type": "markdown",
   "metadata": {},
   "source": [
    "(d)\n",
    "What is a point estimate of the error standard deviation σ? (Enter your answer to seven decimal places.)\n",
    "\n",
    "How would you interpret the point estimate of the error standard deviation σ?\n",
    "\n",
    "This represents the typical difference between a concrete specimen's actual bond capacity ratio and the ratio predicted by the least squares regression line."
   ]
  },
  {
   "cell_type": "code",
   "execution_count": 59,
   "metadata": {},
   "outputs": [
    {
     "data": {
      "text/html": [
       "0.0332397307336886"
      ],
      "text/latex": [
       "0.0332397307336886"
      ],
      "text/markdown": [
       "0.0332397307336886"
      ],
      "text/plain": [
       "[1] 0.03323973"
      ]
     },
     "metadata": {},
     "output_type": "display_data"
    }
   ],
   "source": [
    "n <- length(x)\n",
    "df <- n-2\n",
    "sxx   <- sum((x-mean(x))^2) \n",
    "syy   <- sum((y-mean(y))^2)\n",
    "sxy   <- sum((x-mean(x))*(y-mean(y)))\n",
    "B1    <- sxy/sxx\n",
    "B0    <- mean(y)-B1*mean(x)\n",
    "predict_y <- B0+B1*x\n",
    "sse <- sum((y-predict_y)^2)\n",
    "s <- sqrt(sse/df)\n",
    "s\n",
    "s_B1 <- s/sqrt(sxx) \n",
    "B1_0 <- 0 #null hypothesis\n",
    "t <- (B1-B1_0)/s_B1\n",
    "p_value <- pt(-abs(t),df)+(1-pt(abs(t),df)) #two-tails\n",
    "\n",
    "#paste(\"y=\",B0,\"+\",B1,\"*x\")\n",
    "#r_squared <- (syy-sse)/syy\n",
    "#round(r_squared,3)\n",
    "#paste(\"t=\",round(t,2),\";\",\"p_value=\",round(p_value,4))"
   ]
  },
  {
   "cell_type": "markdown",
   "metadata": {},
   "source": [
    "(e)\n",
    "What is the value of total variation? (Enter your answer to five decimal places.)\n",
    "What percentage of it can be explained by the model relationship? (Enter your answer to one decimal place.) "
   ]
  },
  {
   "cell_type": "code",
   "execution_count": 57,
   "metadata": {},
   "outputs": [
    {
     "data": {
      "text/html": [
       "0.199289142857143"
      ],
      "text/latex": [
       "0.199289142857143"
      ],
      "text/markdown": [
       "0.199289142857143"
      ],
      "text/plain": [
       "[1] 0.1992891"
      ]
     },
     "metadata": {},
     "output_type": "display_data"
    }
   ],
   "source": [
    "syy"
   ]
  },
  {
   "cell_type": "code",
   "execution_count": 58,
   "metadata": {},
   "outputs": [
    {
     "data": {
      "text/html": [
       "0.89466202731996"
      ],
      "text/latex": [
       "0.89466202731996"
      ],
      "text/markdown": [
       "0.89466202731996"
      ],
      "text/plain": [
       "[1] 0.894662"
      ]
     },
     "metadata": {},
     "output_type": "display_data"
    }
   ],
   "source": [
    "r_squared"
   ]
  },
  {
   "cell_type": "code",
   "execution_count": null,
   "metadata": {
    "collapsed": true,
    "jupyter": {
     "outputs_hidden": true
    }
   },
   "outputs": [],
   "source": []
  }
 ],
 "metadata": {
  "kernelspec": {
   "display_name": "R",
   "language": "R",
   "name": "ir"
  },
  "language_info": {
   "codemirror_mode": "r",
   "file_extension": ".r",
   "mimetype": "text/x-r-source",
   "name": "R",
   "pygments_lexer": "r",
   "version": "4.2.2"
  }
 },
 "nbformat": 4,
 "nbformat_minor": 4
}
