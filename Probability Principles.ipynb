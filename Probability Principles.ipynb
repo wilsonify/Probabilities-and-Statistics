{
 "cells": [
  {
   "cell_type": "markdown",
   "metadata": {},
   "source": [
    "# First axiom\n",
    "The probability of an outcome of an event is a non-negative real number:\n",
    "\n",
    "$P(E) >= 0 $"
   ]
  },
  {
   "cell_type": "markdown",
   "metadata": {},
   "source": [
    "# Second axiom\n",
    "The probability of at least one outcome out of all possible outcomes for an event is 1.\n",
    "\n",
    "$P(\\Omega) = 1$"
   ]
  },
  {
   "cell_type": "markdown",
   "metadata": {},
   "source": [
    "# Third axiom\n",
    "The probability of the union of mutually exclusive events is the sum of the probabilities of each event.\n",
    "\n",
    "given A and B are mutually exclusive:\n",
    "$P(A \\cup B) = P(A) + P(B)$"
   ]
  },
  {
   "cell_type": "markdown",
   "metadata": {},
   "source": [
    "# The probability of the empty set is 0 \n",
    "\n",
    "$P(\\emptyset) = 0$"
   ]
  },
  {
   "cell_type": "markdown",
   "metadata": {},
   "source": [
    "# The probability of the union of events\n",
    "\n",
    "$ P(A \\cup B) =  P(A) + P(B) - P(A \\cap B)$"
   ]
  },
  {
   "cell_type": "markdown",
   "metadata": {},
   "source": [
    "# Definition of Complementary Probability\n",
    "The probability of not A is 1 minus probability of A\n",
    "\n",
    "$ P(A') = 1 - P(A) $"
   ]
  },
  {
   "cell_type": "markdown",
   "metadata": {},
   "source": [
    "# Definition of Conditional Probability\n",
    "\n",
    "The Probability of A given B is the Probability of A intersect B divided by the probability of B.\n",
    "\n",
    "$P(A|B) = \\frac{P(A \\cap B)}{P(B)}$\n"
   ]
  },
  {
   "cell_type": "markdown",
   "metadata": {},
   "source": [
    "# Definition of Independent Events\n",
    "\n",
    "A and B are independent if: $P(A|B) = P(A)$"
   ]
  },
  {
   "cell_type": "markdown",
   "metadata": {},
   "source": [
    "# Bayes Theorem\n",
    "\n",
    "$P(A|B) = \\frac{P(B|A)P(A)}{P(B)}$"
   ]
  },
  {
   "cell_type": "markdown",
   "metadata": {},
   "source": [
    "# Partition\n",
    "\n",
    "$P(B) = P(B|A)P(A) + P(B|A')P(A')$"
   ]
  },
  {
   "cell_type": "markdown",
   "metadata": {},
   "source": [
    "# Shortcut Formula For Variance\n",
    "\n",
    "$  \\sigma^2 = \\frac{\\sum{(y_i - \\bar{y})^2}}{n-1} $ \n",
    "\n",
    "$ = \\frac{\\sum{(y_i^2 - 2 \\bar{y} y_i + \\bar{y}^2)}}{n-1} $\n",
    "\n",
    "$ = \\frac{\\sum{y_i^2} - \\sum{2 \\bar{y} y_i} + \\sum{\\bar{y}^2}}{n-1} $\n",
    "\n",
    "$ = \\frac{\\sum{y_i^2} - 2 \\bar{y} \\sum{y_i} + \\bar{y}^2 \\sum{1}}{n-1} $\n",
    "\n",
    "$ = \\frac{\\sum{y_i^2} - 2 (\\frac{\\sum{y_i}}{n}) \\sum{y_i} + (\\frac{\\sum{y_i}}{n})^2 \\sum{1}}{n-1} $\n",
    "\n",
    "$ = \\frac{\\sum{y_i^2} - 2 (\\frac{(\\sum{y_i})^2}{n}) + \\frac{(\\sum{y_i})^2}{n} }{n-1} $\n",
    "\n",
    "$ = \\frac{\\sum{y^2_i} - \\frac{(\\sum{y_i})^2}{n}}{n-1} $"
   ]
  },
  {
   "cell_type": "code",
   "execution_count": null,
   "metadata": {},
   "outputs": [],
   "source": []
  }
 ],
 "metadata": {
  "kernelspec": {
   "display_name": "R",
   "language": "R",
   "name": "ir"
  },
  "language_info": {
   "codemirror_mode": "r",
   "file_extension": ".r",
   "mimetype": "text/x-r-source",
   "name": "R",
   "pygments_lexer": "r",
   "version": "3.5.1"
  }
 },
 "nbformat": 4,
 "nbformat_minor": 2
}
