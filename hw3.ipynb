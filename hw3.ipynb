{
 "cells": [
  {
   "cell_type": "code",
   "execution_count": 147,
   "metadata": {
    "collapsed": true
   },
   "outputs": [],
   "source": [
    "library('tidyverse','MASS')"
   ]
  },
  {
   "cell_type": "markdown",
   "metadata": {},
   "source": [
    "# Homework 3\n",
    "\n",
    "## Problem 1"
   ]
  },
  {
   "cell_type": "markdown",
   "metadata": {},
   "source": [
    "Give three examples of Bernoulli rv's (other than those in the text). (Select all that apply.) \n",
    "\n",
    "X = 1 if a randomly selected driver has automoble insurance and X = 0 otherwise.\n",
    "\n",
    "X = 1 if a randomly selected lightbulb needs to be replaced and X = 0 otherwise.\n",
    "\n",
    "X = 1 if a randomly selected book is non-fiction and X = 0 otherwise."
   ]
  },
  {
   "cell_type": "markdown",
   "metadata": {},
   "source": [
    "## Problem 2\n",
    "\n",
    "Two fair six-sided dice are tossed independently. Let M = the maximum of the two tosses (so M(1,5) = 5, M(3,3) = 3, etc.)."
   ]
  },
  {
   "cell_type": "code",
   "execution_count": 26,
   "metadata": {
    "collapsed": false
   },
   "outputs": [
    {
     "data": {
      "text/html": [
       "<table>\n",
       "<thead><tr><th scope=col>Var1</th><th scope=col>Freq</th><th scope=col>cumsum</th><th scope=col>n</th><th scope=col>pmf</th><th scope=col>cdf</th></tr></thead>\n",
       "<tbody>\n",
       "\t<tr><td>1         </td><td> 1        </td><td> 1        </td><td>36        </td><td>0.02777778</td><td>0.02777778</td></tr>\n",
       "\t<tr><td>2         </td><td> 3        </td><td> 4        </td><td>36        </td><td>0.08333333</td><td>0.11111111</td></tr>\n",
       "\t<tr><td>3         </td><td> 5        </td><td> 9        </td><td>36        </td><td>0.13888889</td><td>0.25000000</td></tr>\n",
       "\t<tr><td>4         </td><td> 7        </td><td>16        </td><td>36        </td><td>0.19444444</td><td>0.44444444</td></tr>\n",
       "\t<tr><td>5         </td><td> 9        </td><td>25        </td><td>36        </td><td>0.25000000</td><td>0.69444444</td></tr>\n",
       "\t<tr><td>6         </td><td>11        </td><td>36        </td><td>36        </td><td>0.30555556</td><td>1.00000000</td></tr>\n",
       "</tbody>\n",
       "</table>\n"
      ],
      "text/latex": [
       "\\begin{tabular}{r|llllll}\n",
       " Var1 & Freq & cumsum & n & pmf & cdf\\\\\n",
       "\\hline\n",
       "\t 1          &  1         &  1         & 36         & 0.02777778 & 0.02777778\\\\\n",
       "\t 2          &  3         &  4         & 36         & 0.08333333 & 0.11111111\\\\\n",
       "\t 3          &  5         &  9         & 36         & 0.13888889 & 0.25000000\\\\\n",
       "\t 4          &  7         & 16         & 36         & 0.19444444 & 0.44444444\\\\\n",
       "\t 5          &  9         & 25         & 36         & 0.25000000 & 0.69444444\\\\\n",
       "\t 6          & 11         & 36         & 36         & 0.30555556 & 1.00000000\\\\\n",
       "\\end{tabular}\n"
      ],
      "text/markdown": [
       "\n",
       "Var1 | Freq | cumsum | n | pmf | cdf | \n",
       "|---|---|---|---|---|---|\n",
       "| 1          |  1         |  1         | 36         | 0.02777778 | 0.02777778 | \n",
       "| 2          |  3         |  4         | 36         | 0.08333333 | 0.11111111 | \n",
       "| 3          |  5         |  9         | 36         | 0.13888889 | 0.25000000 | \n",
       "| 4          |  7         | 16         | 36         | 0.19444444 | 0.44444444 | \n",
       "| 5          |  9         | 25         | 36         | 0.25000000 | 0.69444444 | \n",
       "| 6          | 11         | 36         | 36         | 0.30555556 | 1.00000000 | \n",
       "\n",
       "\n"
      ],
      "text/plain": [
       "  Var1 Freq cumsum n  pmf        cdf       \n",
       "1 1     1    1     36 0.02777778 0.02777778\n",
       "2 2     3    4     36 0.08333333 0.11111111\n",
       "3 3     5    9     36 0.13888889 0.25000000\n",
       "4 4     7   16     36 0.19444444 0.44444444\n",
       "5 5     9   25     36 0.25000000 0.69444444\n",
       "6 6    11   36     36 0.30555556 1.00000000"
      ]
     },
     "metadata": {},
     "output_type": "display_data"
    }
   ],
   "source": [
    "die <- c(1:6)\n",
    "two_die <- expand.grid(die,die)\n",
    "two_die$M <- apply(two_die,1,max)\n",
    "freq_M <- as.data.frame(table(two_die$M))\n",
    "freq_M$cumsum <- cumsum(freq_M$Freq)\n",
    "freq_M$n <- dim(two_die)[1]\n",
    "freq_M$pmf <- freq_M$Freq/freq_M$n\n",
    "freq_M$cdf <- freq_M$cumsum/freq_M$n\n",
    "freq_M"
   ]
  },
  {
   "cell_type": "markdown",
   "metadata": {},
   "source": [
    "(a) What is the pmf of M? [Hint: First determine p(1), then p(2), and so on.] (Enter your answers as fractions.)"
   ]
  },
  {
   "cell_type": "code",
   "execution_count": 35,
   "metadata": {
    "collapsed": false
   },
   "outputs": [
    {
     "name": "stdout",
     "output_type": "stream",
     "text": [
      "pmf"
     ]
    },
    {
     "data": {
      "text/html": [
       "<ol class=list-inline>\n",
       "\t<li>1/36</li>\n",
       "\t<li>1/12</li>\n",
       "\t<li>5/36</li>\n",
       "\t<li>7/36</li>\n",
       "\t<li>1/4</li>\n",
       "\t<li>11/36</li>\n",
       "</ol>\n"
      ],
      "text/latex": [
       "\\begin{enumerate*}\n",
       "\\item 1/36\n",
       "\\item 1/12\n",
       "\\item 5/36\n",
       "\\item 7/36\n",
       "\\item 1/4\n",
       "\\item 11/36\n",
       "\\end{enumerate*}\n"
      ],
      "text/markdown": [
       "1. 1/36\n",
       "2. 1/12\n",
       "3. 5/36\n",
       "4. 7/36\n",
       "5. 1/4\n",
       "6. 11/36\n",
       "\n",
       "\n"
      ],
      "text/plain": [
       "[1]  1/36  1/12  5/36  7/36   1/4 11/36"
      ]
     },
     "metadata": {},
     "output_type": "display_data"
    }
   ],
   "source": [
    "cat('pmf') \n",
    "MASS::fractions(freq_M$pmf,max.denominator = 40)"
   ]
  },
  {
   "cell_type": "markdown",
   "metadata": {},
   "source": [
    "(b) Determine the cdf of M. (Enter your answers as fractions.) F(m) = "
   ]
  },
  {
   "cell_type": "code",
   "execution_count": 36,
   "metadata": {
    "collapsed": false
   },
   "outputs": [
    {
     "name": "stdout",
     "output_type": "stream",
     "text": [
      "cdf"
     ]
    },
    {
     "data": {
      "text/html": [
       "<ol class=list-inline>\n",
       "\t<li>1/36</li>\n",
       "\t<li>1/9</li>\n",
       "\t<li>1/4</li>\n",
       "\t<li>4/9</li>\n",
       "\t<li>25/36</li>\n",
       "\t<li>1</li>\n",
       "</ol>\n"
      ],
      "text/latex": [
       "\\begin{enumerate*}\n",
       "\\item 1/36\n",
       "\\item 1/9\n",
       "\\item 1/4\n",
       "\\item 4/9\n",
       "\\item 25/36\n",
       "\\item 1\n",
       "\\end{enumerate*}\n"
      ],
      "text/markdown": [
       "1. 1/36\n",
       "2. 1/9\n",
       "3. 1/4\n",
       "4. 4/9\n",
       "5. 25/36\n",
       "6. 1\n",
       "\n",
       "\n"
      ],
      "text/plain": [
       "[1]  1/36   1/9   1/4   4/9 25/36     1"
      ]
     },
     "metadata": {},
     "output_type": "display_data"
    }
   ],
   "source": [
    "cat('cdf')\n",
    "MASS::fractions(freq_M$cdf,max.denominator = 40)"
   ]
  },
  {
   "cell_type": "markdown",
   "metadata": {},
   "source": [
    "Graph the cdf of M.\n",
    "![image.png](attachment:image.png)"
   ]
  },
  {
   "cell_type": "code",
   "execution_count": 44,
   "metadata": {
    "collapsed": false
   },
   "outputs": [
    {
     "data": {},
     "metadata": {},
     "output_type": "display_data"
    },
    {
     "data": {
      "image/png": "[encoded data removed]",
      "text/plain": [
       "plot without title"
      ]
     },
     "metadata": {},
     "output_type": "display_data"
    }
   ],
   "source": [
    "ggplot(freq_M,aes(x =Var1 ,y = cdf)) +\n",
    "geom_col( position = position_nudge(x = 0.5)) "
   ]
  },
  {
   "cell_type": "markdown",
   "metadata": {},
   "source": [
    "## Problem 3\n",
    "The pmf of the amount of memory X (GB) in a purchased flash drive is given as the following.\n",
    "\n",
    "|x   |1   |2   |4   |8   |16  |\n",
    "|----|----|----|----|----|----|\n",
    "|p(x)|0.05|0.10|0.35|0.45|0.05|"
   ]
  },
  {
   "cell_type": "code",
   "execution_count": 88,
   "metadata": {
    "collapsed": true
   },
   "outputs": [],
   "source": [
    "x <-   c(1   ,2   ,4   ,8   ,16  )\n",
    "p_x <- c(0.05,0.10,0.35,0.45,0.05)\n",
    "x_p <- as.data.frame(cbind(x,p_x))\n",
    "x_p$xp <- apply(x_p,1,prod)\n",
    "x_p$dev  <- x_p$x-sum(xp)\n",
    "x_p$dev_sq<- x_p$dev^2\n",
    "x_p$dev_sq_p_x <- x_p$dev_sq*x_p$p_x\n",
    "x_p$x_sq <- x^2\n"
   ]
  },
  {
   "cell_type": "markdown",
   "metadata": {},
   "source": [
    "(a) Compute E(X). (Enter your answer to two decimal places.)"
   ]
  },
  {
   "cell_type": "code",
   "execution_count": 89,
   "metadata": {
    "collapsed": false
   },
   "outputs": [
    {
     "data": {
      "text/html": [
       "6.05"
      ],
      "text/latex": [
       "6.05"
      ],
      "text/markdown": [
       "6.05"
      ],
      "text/plain": [
       "[1] 6.05"
      ]
     },
     "metadata": {},
     "output_type": "display_data"
    }
   ],
   "source": [
    "sum(xp)"
   ]
  },
  {
   "cell_type": "markdown",
   "metadata": {},
   "source": [
    "(b) Compute V(X) directly from the definition. (Enter your answer to four decimal places.)"
   ]
  },
  {
   "cell_type": "code",
   "execution_count": 90,
   "metadata": {
    "collapsed": false
   },
   "outputs": [
    {
     "data": {
      "text/html": [
       "11.0475"
      ],
      "text/latex": [
       "11.0475"
      ],
      "text/markdown": [
       "11.0475"
      ],
      "text/plain": [
       "[1] 11.0475"
      ]
     },
     "metadata": {},
     "output_type": "display_data"
    }
   ],
   "source": [
    "var_x <- sum(x_p$dev_sq_p_x)\n",
    "var_x"
   ]
  },
  {
   "cell_type": "markdown",
   "metadata": {},
   "source": [
    "(c) Compute the standard deviation of X. (Round your answer to three decimal places.)"
   ]
  },
  {
   "cell_type": "code",
   "execution_count": 91,
   "metadata": {
    "collapsed": false
   },
   "outputs": [
    {
     "data": {
      "text/html": [
       "3.324"
      ],
      "text/latex": [
       "3.324"
      ],
      "text/markdown": [
       "3.324"
      ],
      "text/plain": [
       "[1] 3.324"
      ]
     },
     "metadata": {},
     "output_type": "display_data"
    }
   ],
   "source": [
    "sd_x <- sqrt(var_x)\n",
    "round(sd_x,3)"
   ]
  },
  {
   "cell_type": "markdown",
   "metadata": {},
   "source": [
    "(d) Compute V(X) using the shortcut formula. (Enter your answer to four decimal places.)\n",
    "\n",
    "$V(X)= \\sigma ^2 = \\left[ {\\sum{x^2 \\cdot p(x)}}  \\right] - \\mu ^2 = E(X^2)-[E(X)]^2$"
   ]
  },
  {
   "cell_type": "code",
   "execution_count": 103,
   "metadata": {
    "collapsed": false
   },
   "outputs": [
    {
     "data": {
      "text/html": [
       "11.0475"
      ],
      "text/latex": [
       "11.0475"
      ],
      "text/markdown": [
       "11.0475"
      ],
      "text/plain": [
       "[1] 11.0475"
      ]
     },
     "metadata": {},
     "output_type": "display_data"
    }
   ],
   "source": [
    "expected_square <- sum(x^2*p_x) \n",
    "square_of_expected  <- sum(x*p_x)^2\n",
    "ss_var_x <- expected_square - square_of_expected\n",
    "ss_var_x"
   ]
  },
  {
   "cell_type": "markdown",
   "metadata": {},
   "source": [
    "## Problem 4\n",
    "Compute the following binomial probabilities directly from the formula for b(x; n, p). (Round your answers to three decimal places.)"
   ]
  },
  {
   "cell_type": "markdown",
   "metadata": {},
   "source": [
    "(a)    b(3; 8, 0.3)"
   ]
  },
  {
   "cell_type": "code",
   "execution_count": 108,
   "metadata": {
    "collapsed": false
   },
   "outputs": [
    {
     "data": {
      "text/html": [
       "0.254"
      ],
      "text/latex": [
       "0.254"
      ],
      "text/markdown": [
       "0.254"
      ],
      "text/plain": [
       "[1] 0.254"
      ]
     },
     "metadata": {},
     "output_type": "display_data"
    }
   ],
   "source": [
    "round(dbinom(3,size = 8,prob = 0.3),3)"
   ]
  },
  {
   "cell_type": "markdown",
   "metadata": {},
   "source": [
    "(b)    b(6; 8, 0.6)"
   ]
  },
  {
   "cell_type": "code",
   "execution_count": 110,
   "metadata": {
    "collapsed": false
   },
   "outputs": [
    {
     "data": {
      "text/html": [
       "0.209"
      ],
      "text/latex": [
       "0.209"
      ],
      "text/markdown": [
       "0.209"
      ],
      "text/plain": [
       "[1] 0.209"
      ]
     },
     "metadata": {},
     "output_type": "display_data"
    }
   ],
   "source": [
    "round(dbinom(6,8,0.6),3)"
   ]
  },
  {
   "cell_type": "markdown",
   "metadata": {},
   "source": [
    "(c)    P(3 ≤ X ≤ 5)\n",
    "when n = 7 and p = 0.6"
   ]
  },
  {
   "cell_type": "code",
   "execution_count": 118,
   "metadata": {
    "collapsed": false
   },
   "outputs": [
    {
     "data": {
      "text/html": [
       "0.745"
      ],
      "text/latex": [
       "0.745"
      ],
      "text/markdown": [
       "0.745"
      ],
      "text/plain": [
       "[1] 0.745"
      ]
     },
     "metadata": {},
     "output_type": "display_data"
    }
   ],
   "source": [
    "round(pbinom(5,7,0.6)-pbinom(3-1,7,0.6),3)"
   ]
  },
  {
   "cell_type": "markdown",
   "metadata": {},
   "source": [
    "(d)    P(1 ≤ X)\n",
    "when n = 9 and p = 0.1\n",
    "\n",
    "P(1 ≤ X) = 1-P(X>0)"
   ]
  },
  {
   "cell_type": "code",
   "execution_count": 125,
   "metadata": {
    "collapsed": false
   },
   "outputs": [
    {
     "data": {
      "text/html": [
       "0.613"
      ],
      "text/latex": [
       "0.613"
      ],
      "text/markdown": [
       "0.613"
      ],
      "text/plain": [
       "[1] 0.613"
      ]
     },
     "metadata": {},
     "output_type": "display_data"
    }
   ],
   "source": [
    "round(1-pbinom(0,9,0.1),3)"
   ]
  },
  {
   "cell_type": "markdown",
   "metadata": {},
   "source": [
    "## Problem 5\n",
    "NBC News reported on May 2, 2013, that 1 in 20 children in the United States have a food allergy of some sort. Consider selecting a random sample of 15 children and let X be the number in the sample who have a food allergy. Then X ~ Bin(15, 0.05). (Round your probabilities to three decimal places.)"
   ]
  },
  {
   "cell_type": "code",
   "execution_count": 140,
   "metadata": {
    "collapsed": true
   },
   "outputs": [],
   "source": [
    "n <- 15\n",
    "p <- 0.05"
   ]
  },
  {
   "cell_type": "markdown",
   "metadata": {},
   "source": [
    "(a) Determine both P(X ≤ 3) and P(X < 3).\n",
    "\n",
    "P(X < 3) = P(X<=3) - P(X==3)"
   ]
  },
  {
   "cell_type": "code",
   "execution_count": 141,
   "metadata": {
    "collapsed": false
   },
   "outputs": [
    {
     "data": {
      "text/html": [
       "0.995"
      ],
      "text/latex": [
       "0.995"
      ],
      "text/markdown": [
       "0.995"
      ],
      "text/plain": [
       "[1] 0.995"
      ]
     },
     "metadata": {},
     "output_type": "display_data"
    },
    {
     "data": {
      "text/html": [
       "0.964"
      ],
      "text/latex": [
       "0.964"
      ],
      "text/markdown": [
       "0.964"
      ],
      "text/plain": [
       "[1] 0.964"
      ]
     },
     "metadata": {},
     "output_type": "display_data"
    }
   ],
   "source": [
    "round(pbinom(3,n,p),3)\n",
    "round(pbinom(3,n,p)-dbinom(3,n,p),3)"
   ]
  },
  {
   "cell_type": "markdown",
   "metadata": {},
   "source": [
    "(b) Determine P(X ≥ 4) = 1 - P(X <= 3)"
   ]
  },
  {
   "cell_type": "code",
   "execution_count": 142,
   "metadata": {
    "collapsed": false
   },
   "outputs": [
    {
     "data": {
      "text/html": [
       "0.005"
      ],
      "text/latex": [
       "0.005"
      ],
      "text/markdown": [
       "0.005"
      ],
      "text/plain": [
       "[1] 0.005"
      ]
     },
     "metadata": {},
     "output_type": "display_data"
    }
   ],
   "source": [
    "round(1-pbinom(3,n,p),3)"
   ]
  },
  {
   "cell_type": "markdown",
   "metadata": {},
   "source": [
    "(c) Determine P(1 ≤ X ≤ 3) = P(X <= 3) - P(X <= 0)"
   ]
  },
  {
   "cell_type": "code",
   "execution_count": 143,
   "metadata": {
    "collapsed": false
   },
   "outputs": [
    {
     "data": {
      "text/html": [
       "0.531"
      ],
      "text/latex": [
       "0.531"
      ],
      "text/markdown": [
       "0.531"
      ],
      "text/plain": [
       "[1] 0.531"
      ]
     },
     "metadata": {},
     "output_type": "display_data"
    }
   ],
   "source": [
    "round(pbinom(3,n,p)-pbinom(0,n,p),3)"
   ]
  },
  {
   "cell_type": "markdown",
   "metadata": {},
   "source": [
    "(d) What are E(X) and σX? (Round your answers to two decimal places.)\n",
    "\n",
    "$E(X) = np$ \n",
    "\n",
    "$V(X)= npq =np(1-p)$\n",
    "\n",
    "$\\sigma_x = \\sqrt{npq} = \\sqrt{np(1-p)}$"
   ]
  },
  {
   "cell_type": "code",
   "execution_count": 144,
   "metadata": {
    "collapsed": false
   },
   "outputs": [
    {
     "data": {
      "text/html": [
       "0.75"
      ],
      "text/latex": [
       "0.75"
      ],
      "text/markdown": [
       "0.75"
      ],
      "text/plain": [
       "[1] 0.75"
      ]
     },
     "metadata": {},
     "output_type": "display_data"
    },
    {
     "data": {
      "text/html": [
       "0.84"
      ],
      "text/latex": [
       "0.84"
      ],
      "text/markdown": [
       "0.84"
      ],
      "text/plain": [
       "[1] 0.84"
      ]
     },
     "metadata": {},
     "output_type": "display_data"
    }
   ],
   "source": [
    "n*p\n",
    "round(sqrt(n*p*(1-p)),2)"
   ]
  },
  {
   "cell_type": "markdown",
   "metadata": {},
   "source": [
    "(e) In a sample of 80 children, what is the probability that none has a food allergy?"
   ]
  },
  {
   "cell_type": "code",
   "execution_count": 146,
   "metadata": {
    "collapsed": false
   },
   "outputs": [
    {
     "data": {
      "text/html": [
       "0.017"
      ],
      "text/latex": [
       "0.017"
      ],
      "text/markdown": [
       "0.017"
      ],
      "text/plain": [
       "[1] 0.017"
      ]
     },
     "metadata": {},
     "output_type": "display_data"
    }
   ],
   "source": [
    "n <- 80\n",
    "round(pbinom(0,n,p),3)"
   ]
  },
  {
   "cell_type": "markdown",
   "metadata": {},
   "source": [
    "## Problem 6\n",
    "A particular telephone number is used to receive both voice calls and fax messages. Suppose that 20% of the incoming calls involve fax messages, and consider a sample of 20 incoming calls. (Round your answers to three decimal places.)"
   ]
  },
  {
   "cell_type": "code",
   "execution_count": 148,
   "metadata": {
    "collapsed": true
   },
   "outputs": [],
   "source": [
    "n <- 20\n",
    "p <- 0.2"
   ]
  },
  {
   "cell_type": "markdown",
   "metadata": {},
   "source": [
    "(a) What is the probability that at most 6 of the calls involve a fax message?"
   ]
  },
  {
   "cell_type": "code",
   "execution_count": 150,
   "metadata": {
    "collapsed": false
   },
   "outputs": [
    {
     "data": {
      "text/html": [
       "0.913"
      ],
      "text/latex": [
       "0.913"
      ],
      "text/markdown": [
       "0.913"
      ],
      "text/plain": [
       "[1] 0.913"
      ]
     },
     "metadata": {},
     "output_type": "display_data"
    }
   ],
   "source": [
    "pbinom(6,n,p) %>% round(3)"
   ]
  },
  {
   "cell_type": "markdown",
   "metadata": {},
   "source": [
    "(b) What is the probability that exactly 6 of the calls involve a fax message?"
   ]
  },
  {
   "cell_type": "code",
   "execution_count": 153,
   "metadata": {
    "collapsed": false
   },
   "outputs": [
    {
     "data": {
      "text/html": [
       "0.109"
      ],
      "text/latex": [
       "0.109"
      ],
      "text/markdown": [
       "0.109"
      ],
      "text/plain": [
       "[1] 0.109"
      ]
     },
     "metadata": {},
     "output_type": "display_data"
    }
   ],
   "source": [
    "(pbinom(6,n,p)-pbinom(5,n,p)) %>% round(3)"
   ]
  },
  {
   "cell_type": "markdown",
   "metadata": {},
   "source": [
    "(c) What is the probability that at least 6 of the calls involve a fax message?"
   ]
  },
  {
   "cell_type": "code",
   "execution_count": 155,
   "metadata": {
    "collapsed": false
   },
   "outputs": [
    {
     "data": {
      "text/html": [
       "0.196"
      ],
      "text/latex": [
       "0.196"
      ],
      "text/markdown": [
       "0.196"
      ],
      "text/plain": [
       "[1] 0.196"
      ]
     },
     "metadata": {},
     "output_type": "display_data"
    }
   ],
   "source": [
    "(pbinom(20,n,p)-pbinom(5,n,p)) %>% round(3)"
   ]
  },
  {
   "cell_type": "markdown",
   "metadata": {},
   "source": [
    "(d) What is the probability that more than 6 of the calls involve a fax message?"
   ]
  },
  {
   "cell_type": "code",
   "execution_count": 156,
   "metadata": {
    "collapsed": false
   },
   "outputs": [
    {
     "data": {
      "text/html": [
       "0.087"
      ],
      "text/latex": [
       "0.087"
      ],
      "text/markdown": [
       "0.087"
      ],
      "text/plain": [
       "[1] 0.087"
      ]
     },
     "metadata": {},
     "output_type": "display_data"
    }
   ],
   "source": [
    "(pbinom(20,n,p)-pbinom(6,n,p)) %>% round(3)"
   ]
  },
  {
   "cell_type": "markdown",
   "metadata": {},
   "source": [
    "## Problem 7\n",
    "Twenty percent of all telephones of a certain type are submitted for service while under warranty. Of these, 70% can be repaired, whereas the other 30% must be replaced with new units. If a company purchases ten of these telephones, what is the probability that exactly four will end up being replaced under warranty? (Round your answer to three decimal places.)"
   ]
  },
  {
   "cell_type": "code",
   "execution_count": 161,
   "metadata": {
    "collapsed": false
   },
   "outputs": [
    {
     "data": {
      "text/html": [
       "0.002"
      ],
      "text/latex": [
       "0.002"
      ],
      "text/markdown": [
       "0.002"
      ],
      "text/plain": [
       "[1] 0.002"
      ]
     },
     "metadata": {},
     "output_type": "display_data"
    }
   ],
   "source": [
    "n=10\n",
    "p=0.2*0.3 # intersection of submitted and replaced\n",
    "(pbinom(4,n,p)-pbinom(3,n,p)) %>% round(3)"
   ]
  },
  {
   "cell_type": "markdown",
   "metadata": {},
   "source": [
    "## Problem 8\n",
    "A toll bridge charges \\$1.00 for passenger cars and \\$2.50 for other vehicles. Suppose that during daytime hours, 55% of all vehicles are passenger cars. If 30 vehicles cross the bridge during a particular daytime period, what is the resulting expected toll revenue? [Hint: Let X = the number of passenger cars; then the toll revenue h(X) is a linear function of X.]"
   ]
  },
  {
   "cell_type": "code",
   "execution_count": 165,
   "metadata": {
    "collapsed": false
   },
   "outputs": [
    {
     "data": {
      "text/html": [
       "50.25"
      ],
      "text/latex": [
       "50.25"
      ],
      "text/markdown": [
       "50.25"
      ],
      "text/plain": [
       "[1] 50.25"
      ]
     },
     "metadata": {},
     "output_type": "display_data"
    }
   ],
   "source": [
    "p_x  <- 0.55\n",
    "p_ov <- 1-p_x\n",
    "x <- 1\n",
    "ov <- 2.5\n",
    "30*(p_x*x+p_ov*ov)"
   ]
  },
  {
   "cell_type": "markdown",
   "metadata": {},
   "source": [
    "## Problem 9\n",
    "Let X be a binomial rv based on n trials with success probability p. That is, X ~ Bin(n, p)."
   ]
  },
  {
   "cell_type": "markdown",
   "metadata": {},
   "source": [
    "(a) For fixed n, are there values of\n",
    "p (0 ≤ p ≤ 1) for which V(X) = 0?\n",
    "\n",
    "0,1"
   ]
  },
  {
   "cell_type": "markdown",
   "metadata": {},
   "source": [
    "Explain why this is so. (Select all that apply.)\n",
    "\n",
    "When every trial will be a success, there is no variability in X. \n",
    "\n",
    "When every trial will be a failure, there is no variability in X. "
   ]
  },
  {
   "cell_type": "markdown",
   "metadata": {},
   "source": [
    "(b)\n",
    "For what value of p is V(X) maximized? [Hint: Either graph V(X) as a function of p or else take a derivative.]\n",
    "\n",
    "$V(X)=np(1-p) = n(p-p^2)$\n",
    "\n",
    "$\\frac{dV(X)}{dp} = n(1-2p)$\n",
    "\n",
    "optimum occurs where $\\frac{dV(X)}{dp}=0$\n",
    "\n",
    "$n(1-2p)=0 \\implies 2p=1 \\implies p=\\frac{1}{2}$\n"
   ]
  },
  {
   "cell_type": "code",
   "execution_count": 176,
   "metadata": {
    "collapsed": true
   },
   "outputs": [],
   "source": [
    "p <- seq(0.1,0.9,0.01)\n",
    "v_over_n <- p-p^2\n",
    "x <- as.data.frame(cbind(p,v))"
   ]
  },
  {
   "cell_type": "code",
   "execution_count": 177,
   "metadata": {
    "collapsed": false
   },
   "outputs": [
    {
     "data": {},
     "metadata": {},
     "output_type": "display_data"
    },
    {
     "data": {
      "image/png": "[encoded data removed]",
      "text/plain": [
       "plot without title"
      ]
     },
     "metadata": {},
     "output_type": "display_data"
    }
   ],
   "source": [
    "ggplot(x,aes(p,v_over_n)) +\n",
    "geom_line()"
   ]
  },
  {
   "cell_type": "code",
   "execution_count": null,
   "metadata": {
    "collapsed": true
   },
   "outputs": [],
   "source": []
  },
  {
   "cell_type": "code",
   "execution_count": null,
   "metadata": {
    "collapsed": true
   },
   "outputs": [],
   "source": []
  }
 ],
 "metadata": {
  "kernelspec": {
   "display_name": "R",
   "language": "R",
   "name": "ir"
  },
  "language_info": {
   "codemirror_mode": "r",
   "file_extension": ".r",
   "mimetype": "text/x-r-source",
   "name": "R",
   "pygments_lexer": "r",
   "version": "3.4.2"
  }
 },
 "nbformat": 4,
 "nbformat_minor": 2
}
