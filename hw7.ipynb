{
 "cells": [
  {
   "cell_type": "code",
   "execution_count": 5,
   "metadata": {},
   "outputs": [],
   "source": [
    "library(tidyverse)"
   ]
  },
  {
   "cell_type": "markdown",
   "metadata": {},
   "source": [
    "Suppose that an accounting firm does a study to determine the time needed to complete one person's tax forms. \n",
    "\n",
    "It randomly surveys 150 people. \n",
    "\n",
    "The sample mean is 22.3 hours. \n",
    "\n",
    "There is a known population standard deviation of 6.8 hours. \n",
    "\n",
    "The population distribution is assumed to be normal."
   ]
  },
  {
   "cell_type": "markdown",
   "metadata": {},
   "source": [
    "Part (a)\n",
    "\n",
    "Find $\\bar{x}$,$\\sigma$,n. (Enter exact numbers as integers, fractions, or decimals.)"
   ]
  },
  {
   "cell_type": "code",
   "execution_count": 6,
   "metadata": {
    "collapsed": true
   },
   "outputs": [],
   "source": [
    "x_bar=22.3\n",
    "sigma=6.8\n",
    "n=150"
   ]
  },
  {
   "cell_type": "markdown",
   "metadata": {},
   "source": [
    "Part (b)\n",
    "In words, define the random variables X and $\\bar{X}$\n",
    "\n",
    "\n",
    "X is the time needed to complete one person's tax forms, and $\\bar{X}$ is the mean time needed to complete tax forms from a sample of 150 customers. "
   ]
  },
  {
   "cell_type": "markdown",
   "metadata": {},
   "source": [
    "Part (c)\n",
    "Which distribution should you use for this problem? (Round your answers to two decimal places.)\n",
    "X ~\n",
    "Explain your choice.\n",
    "\n",
    "The standard normal distribution should be used because the population standard deviation is known. "
   ]
  },
  {
   "cell_type": "code",
   "execution_count": 8,
   "metadata": {},
   "outputs": [
    {
     "data": {
      "text/html": [
       "0.56"
      ],
      "text/latex": [
       "0.56"
      ],
      "text/markdown": [
       "0.56"
      ],
      "text/plain": [
       "[1] 0.56"
      ]
     },
     "metadata": {},
     "output_type": "display_data"
    }
   ],
   "source": [
    "(sigma/sqrt(n)) %>% round(2)"
   ]
  },
  {
   "cell_type": "markdown",
   "metadata": {},
   "source": [
    "Part (d)\n",
    "\n",
    "Construct a 90% confidence interval for the population mean time to complete the tax forms.\n",
    "(i) State the confidence interval. (Round your answers to two decimal places.)"
   ]
  },
  {
   "cell_type": "code",
   "execution_count": 12,
   "metadata": {},
   "outputs": [
    {
     "data": {
      "text/html": [
       "0.05"
      ],
      "text/latex": [
       "0.05"
      ],
      "text/markdown": [
       "0.05"
      ],
      "text/plain": [
       "[1] 0.05"
      ]
     },
     "metadata": {},
     "output_type": "display_data"
    },
    {
     "data": {
      "text/html": [
       "21.39"
      ],
      "text/latex": [
       "21.39"
      ],
      "text/markdown": [
       "21.39"
      ],
      "text/plain": [
       "[1] 21.39"
      ]
     },
     "metadata": {},
     "output_type": "display_data"
    },
    {
     "data": {
      "text/html": [
       "23.21"
      ],
      "text/latex": [
       "23.21"
      ],
      "text/markdown": [
       "23.21"
      ],
      "text/plain": [
       "[1] 23.21"
      ]
     },
     "metadata": {},
     "output_type": "display_data"
    },
    {
     "data": {
      "text/html": [
       "0.91"
      ],
      "text/latex": [
       "0.91"
      ],
      "text/markdown": [
       "0.91"
      ],
      "text/plain": [
       "[1] 0.91"
      ]
     },
     "metadata": {},
     "output_type": "display_data"
    }
   ],
   "source": [
    "CL=0.90\n",
    "alpha=1-CL\n",
    "half_alpha=alpha/2\n",
    "half_alpha\n",
    "z=qnorm(1-half_alpha)\n",
    "error_bound=z*sigma/sqrt(n)\n",
    "x_bar-error_bound %>% round(2)\n",
    "x_bar+error_bound %>% round(2)\n",
    "error_bound %>% round(2)"
   ]
  },
  {
   "cell_type": "markdown",
   "metadata": {},
   "source": [
    "(ii) Sketch the graph. (Round your answers to two decimal places.)"
   ]
  },
  {
   "cell_type": "code",
   "execution_count": 19,
   "metadata": {},
   "outputs": [
    {
     "data": {
      "image/png": "[encoded data removed]",
      "text/plain": [
       "plot without title"
      ]
     },
     "metadata": {},
     "output_type": "display_data"
    }
   ],
   "source": [
    "curve(dnorm(x,x_bar,sigma/sqrt(n)),from = x_bar-3*sigma/sqrt(n),to =x_bar+3*sigma/sqrt(n) )\n",
    "abline(v =x_bar-error_bound)\n",
    "abline(v=x_bar+error_bound)"
   ]
  },
  {
   "cell_type": "markdown",
   "metadata": {},
   "source": [
    "(iii) Calculate the error bound. (Round your answer to two decimal places.)"
   ]
  },
  {
   "cell_type": "code",
   "execution_count": 20,
   "metadata": {},
   "outputs": [
    {
     "data": {
      "text/html": [
       "0.91"
      ],
      "text/latex": [
       "0.91"
      ],
      "text/markdown": [
       "0.91"
      ],
      "text/plain": [
       "[1] 0.91"
      ]
     },
     "metadata": {},
     "output_type": "display_data"
    }
   ],
   "source": [
    "error_bound=z*sigma/sqrt(n)\n",
    "error_bound %>% round(2)"
   ]
  },
  {
   "cell_type": "markdown",
   "metadata": {},
   "source": [
    "Part (e)\n",
    "\n",
    "If the firm wished to increase its level of confidence and keep the error bound the same by taking another survey, what change should it make?\n",
    "\n",
    "It should increase the number of people surveyed. "
   ]
  },
  {
   "cell_type": "markdown",
   "metadata": {},
   "source": [
    "Part (f)\n",
    "\n",
    "If the firm did another survey, kept the error bound the same, and only surveyed 49 people, what would happen to the level of confidence? Why?\n",
    "\n",
    "The level of confidence would be smaller because we have collected a smaller sample, obtaining less accurate information. "
   ]
  },
  {
   "cell_type": "markdown",
   "metadata": {},
   "source": [
    "Part (g)\n",
    "Suppose that the firm decided that it needed to be at least 96% confident of the population mean length of time to within one hour. \n",
    "\n",
    "How would the number of people the firm surveys change? Why?\n",
    "\n",
    "The number of people surveyed would increase because more accurate information requires a larger sample."
   ]
  },
  {
   "cell_type": "code",
   "execution_count": null,
   "metadata": {
    "collapsed": true
   },
   "outputs": [],
   "source": []
  }
 ],
 "metadata": {
  "kernelspec": {
   "display_name": "R",
   "language": "R",
   "name": "ir"
  },
  "language_info": {
   "codemirror_mode": "r",
   "file_extension": ".r",
   "mimetype": "text/x-r-source",
   "name": "R",
   "pygments_lexer": "r",
   "version": "3.3.2"
  }
 },
 "nbformat": 4,
 "nbformat_minor": 2
}
