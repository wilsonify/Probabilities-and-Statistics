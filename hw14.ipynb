{
 "cells": [
  {
   "cell_type": "markdown",
   "metadata": {},
   "source": [
    "# Homework 14\n",
    "## 1.\n",
    "What conclusion would be appropriate for an upper-tailed chi-squared test in each of the following situations?"
   ]
  },
  {
   "cell_type": "markdown",
   "metadata": {},
   "source": [
    "(a)    α = 0.05, df = 4, χ2 = 11.25\n",
    "We would reject H0. "
   ]
  },
  {
   "cell_type": "code",
   "execution_count": 290,
   "metadata": {},
   "outputs": [
    {
     "data": {
      "text/html": [
       "0.0238934807761042"
      ],
      "text/latex": [
       "0.0238934807761042"
      ],
      "text/markdown": [
       "0.0238934807761042"
      ],
      "text/plain": [
       "[1] 0.02389348"
      ]
     },
     "metadata": {},
     "output_type": "display_data"
    },
    {
     "name": "stdout",
     "output_type": "stream",
     "text": [
      "[1] \"Reject H0\"\n"
     ]
    }
   ],
   "source": [
    "alpha <- 0.05\n",
    "df <- 4\n",
    "stat <- 11.25\n",
    "\n",
    "p_value <- 1-pchisq(stat,df)\n",
    "p_value\n",
    "if ( p_value<alpha ){print(\"Reject H0\")} else {print(\"Fail to Reject H0\")}"
   ]
  },
  {
   "cell_type": "markdown",
   "metadata": {},
   "source": [
    "(b)    α = 0.01, df = 3, χ2 = 8.53\n",
    "We would fail to reject H0.     "
   ]
  },
  {
   "cell_type": "code",
   "execution_count": 291,
   "metadata": {},
   "outputs": [
    {
     "data": {
      "text/html": [
       "0.036238669714688"
      ],
      "text/latex": [
       "0.036238669714688"
      ],
      "text/markdown": [
       "0.036238669714688"
      ],
      "text/plain": [
       "[1] 0.03623867"
      ]
     },
     "metadata": {},
     "output_type": "display_data"
    },
    {
     "name": "stdout",
     "output_type": "stream",
     "text": [
      "[1] \"Fail to Reject H0\"\n"
     ]
    }
   ],
   "source": [
    "alpha <- 0.01\n",
    "df <- 3\n",
    "stat <- 8.53\n",
    "p_value <- 1-pchisq(stat,df)\n",
    "p_value\n",
    "if ( p_value<alpha ){\n",
    "    print(\"Reject H0\")\n",
    "} else {\n",
    "    print(\"Fail to Reject H0\")\n",
    "}"
   ]
  },
  {
   "cell_type": "markdown",
   "metadata": {},
   "source": [
    "(c)    α = 0.10, df = 2, χ2 = 4.06\n",
    "We would fail to reject H0.     "
   ]
  },
  {
   "cell_type": "code",
   "execution_count": 292,
   "metadata": {},
   "outputs": [
    {
     "data": {
      "text/html": [
       "0.131335521148493"
      ],
      "text/latex": [
       "0.131335521148493"
      ],
      "text/markdown": [
       "0.131335521148493"
      ],
      "text/plain": [
       "[1] 0.1313355"
      ]
     },
     "metadata": {},
     "output_type": "display_data"
    },
    {
     "name": "stdout",
     "output_type": "stream",
     "text": [
      "[1] \"Fail to Reject H0\"\n"
     ]
    }
   ],
   "source": [
    "alpha <- 0.01\n",
    "df <- 2\n",
    "stat <- 4.06\n",
    "p_value <- 1-pchisq(stat,df)\n",
    "p_value\n",
    "if ( p_value<alpha ){\n",
    "    print(\"Reject H0\")\n",
    "} else {\n",
    "    print(\"Fail to Reject H0\")\n",
    "}"
   ]
  },
  {
   "cell_type": "markdown",
   "metadata": {},
   "source": [
    "(d)    α = 0.01, k = 6, χ2 = 12.50\n",
    "We would fail to reject H0.     "
   ]
  },
  {
   "cell_type": "code",
   "execution_count": 293,
   "metadata": {},
   "outputs": [
    {
     "data": {
      "text/html": [
       "0.0285431233261675"
      ],
      "text/latex": [
       "0.0285431233261675"
      ],
      "text/markdown": [
       "0.0285431233261675"
      ],
      "text/plain": [
       "[1] 0.02854312"
      ]
     },
     "metadata": {},
     "output_type": "display_data"
    },
    {
     "name": "stdout",
     "output_type": "stream",
     "text": [
      "[1] \"Fail to Reject H0\"\n"
     ]
    }
   ],
   "source": [
    "alpha <- 0.01\n",
    "k <- 6\n",
    "df <- k-1\n",
    "stat <- 12.5\n",
    "p_value <- 1-pchisq(stat,df)\n",
    "p_value\n",
    "if ( p_value<alpha ){\n",
    "    print(\"Reject H0\")\n",
    "} else {\n",
    "    print(\"Fail to Reject H0\")\n",
    "}"
   ]
  },
  {
   "cell_type": "markdown",
   "metadata": {},
   "source": [
    "## 2.\n",
    "A six-sided die is rolled 120 times. Fill in the expected frequency column. Then, conduct a hypothesis test at the 5% level to determine if the die is fair. The data below are the result of the 120 rolls. (Enter exact numbers as integers, fractions, or decimals.)\n",
    "\n",
    "|Value | \tFrequency | \tExpected Frequency|\n",
    "|------|------------|---------------------|\n",
    "|1 |\t14 |\t120*1/6=20|\n",
    "|2 |\t32 |\t120*1/6=20|\n",
    "|3 |\t15 |\t120*1/6=20|\n",
    "|4 |\t14 |\t120*1/6=20|\n",
    "|5 |\t30 |\t120*1/6=20|\n",
    "|6 |\t15 |\t120*1/6=20|"
   ]
  },
  {
   "cell_type": "code",
   "execution_count": 294,
   "metadata": {
    "collapsed": true
   },
   "outputs": [],
   "source": [
    "observed_frequency <- c(14,32,15,14,30,15)\n",
    "expected_frequency <- c(20,20,20,20,20,20)"
   ]
  },
  {
   "cell_type": "markdown",
   "metadata": {},
   "source": [
    "Part (a)\n",
    "State the null hypothesis.\n",
    "\n",
    "The data fit the distribution for a fair six-sided die.     "
   ]
  },
  {
   "cell_type": "markdown",
   "metadata": {},
   "source": [
    "Part (b)\n",
    "State the alternative hypothesis.\n",
    "\n",
    "The data do not fit the distribution for a fair six-sided die. "
   ]
  },
  {
   "cell_type": "markdown",
   "metadata": {},
   "source": [
    "Part (c)\n",
    "What are the degrees of freedom? (Enter an exact number as an integer, fraction, or decimal.)\n",
    "\n",
    "$\\nu = 6-1 = 5$"
   ]
  },
  {
   "cell_type": "code",
   "execution_count": 295,
   "metadata": {},
   "outputs": [
    {
     "data": {
      "text/html": [
       "5"
      ],
      "text/latex": [
       "5"
      ],
      "text/markdown": [
       "5"
      ],
      "text/plain": [
       "[1] 5"
      ]
     },
     "metadata": {},
     "output_type": "display_data"
    }
   ],
   "source": [
    "df <- length(observed_frequency)-1\n",
    "df"
   ]
  },
  {
   "cell_type": "markdown",
   "metadata": {},
   "source": [
    "Part (d)\n",
    "State the distribution to use for the test.\n",
    "\n",
    "$\\chi^2_5$"
   ]
  },
  {
   "cell_type": "markdown",
   "metadata": {},
   "source": [
    "Part (e)\n",
    "What is the test statistic? (Round your answer to two decimal places.)"
   ]
  },
  {
   "cell_type": "code",
   "execution_count": 296,
   "metadata": {},
   "outputs": [
    {
     "data": {
      "text/html": [
       "18.3"
      ],
      "text/latex": [
       "18.3"
      ],
      "text/markdown": [
       "18.3"
      ],
      "text/plain": [
       "[1] 18.3"
      ]
     },
     "metadata": {},
     "output_type": "display_data"
    }
   ],
   "source": [
    "stat <- sum((observed_frequency-expected_frequency)^2/expected_frequency)\n",
    "stat"
   ]
  },
  {
   "cell_type": "markdown",
   "metadata": {},
   "source": [
    "Part (f)\n",
    "What is the p-value? (Round your answer to four decimal places.)"
   ]
  },
  {
   "cell_type": "code",
   "execution_count": 297,
   "metadata": {},
   "outputs": [
    {
     "data": {
      "text/html": [
       "0.0026"
      ],
      "text/latex": [
       "0.0026"
      ],
      "text/markdown": [
       "0.0026"
      ],
      "text/plain": [
       "[1] 0.0026"
      ]
     },
     "metadata": {},
     "output_type": "display_data"
    }
   ],
   "source": [
    "p_value <- 1 - pchisq(stat,df)\n",
    "round(p_value,4)"
   ]
  },
  {
   "cell_type": "markdown",
   "metadata": {},
   "source": [
    "Explain what the p-value means for this problem.\n",
    "\n",
    "If H0 is true, then there is a chance equal to the p-value that the value of the test statistic will be equal to or greater than the calculated value. "
   ]
  },
  {
   "cell_type": "markdown",
   "metadata": {},
   "source": [
    "Part (g)\n",
    "Sketch a picture of this situation. Label and scale the horizontal axis, and shade the region(s) corresponding to the p-value."
   ]
  },
  {
   "cell_type": "code",
   "execution_count": 9,
   "metadata": {},
   "outputs": [
    {
     "data": {
      "image/png": "[encoded data removed]",
      "text/plain": [
       "plot without title"
      ]
     },
     "metadata": {},
     "output_type": "display_data"
    }
   ],
   "source": [
    "curve(dchisq(x,df),from = 0,to = 4*df)\n",
    "abline(v=stat)"
   ]
  },
  {
   "cell_type": "markdown",
   "metadata": {},
   "source": [
    "Part (h)\n",
    "Indicate the correct decision (\"reject\" or \"do not reject\" the null hypothesis), the reason for it, and write the appropriate conclusion."
   ]
  },
  {
   "cell_type": "markdown",
   "metadata": {},
   "source": [
    "(i) Alpha (Enter an exact number as an integer, fraction, or decimal.)\n",
    "α = 0.05"
   ]
  },
  {
   "cell_type": "code",
   "execution_count": 10,
   "metadata": {
    "collapsed": true
   },
   "outputs": [],
   "source": [
    "alpha <- 0.05 "
   ]
  },
  {
   "cell_type": "markdown",
   "metadata": {},
   "source": [
    "(ii) Decision:\n",
    "reject the null hypothesis "
   ]
  },
  {
   "cell_type": "code",
   "execution_count": 11,
   "metadata": {},
   "outputs": [
    {
     "name": "stdout",
     "output_type": "stream",
     "text": [
      "[1] \"Reject H0\"\n"
     ]
    }
   ],
   "source": [
    "if ( p_value<alpha ){\n",
    "    print(\"Reject H0\")\n",
    "} else {\n",
    "    print(\"Fail to Reject H0\")\n",
    "}"
   ]
  },
  {
   "cell_type": "markdown",
   "metadata": {},
   "source": [
    "(iii) Reason for decision:\n",
    "Since α > p-value, we reject the null hypothesis. "
   ]
  },
  {
   "cell_type": "markdown",
   "metadata": {},
   "source": [
    "(iv) Conclusion:\n",
    "There is sufficient evidence to conclude that the data do not fit the distribution for a fair six-sided die. "
   ]
  },
  {
   "cell_type": "code",
   "execution_count": 312,
   "metadata": {},
   "outputs": [
    {
     "data": {
      "text/plain": [
       "\n",
       "\tChi-squared test for given probabilities\n",
       "\n",
       "data:  observed_frequency\n",
       "X-squared = 18.3, df = 5, p-value = 0.002593\n"
      ]
     },
     "metadata": {},
     "output_type": "display_data"
    }
   ],
   "source": [
    "#check answer\n",
    "chisq.test(x = observed_frequency,p = rep(1/6,6)) #for goodness of fit, use x=observed_frequency and p=expected_proportion"
   ]
  },
  {
   "cell_type": "markdown",
   "metadata": {},
   "source": [
    "## 3.\n",
    "The marital status distribution of the U.S. male population, age 15 and older, is as shown below.\n",
    "\n",
    "|Marital Status| \tPercent|\n",
    "|--------------|---------|\n",
    "|never married |     31.3|\n",
    "|married       |     56.1|\n",
    "|widowed       |     2.5 |\n",
    "|divorced\\separated| 10.1|\n",
    "\n",
    "Suppose that a random sample of 400 U.S. young adult males, 18 to 24 years old, yielded the following frequency distribution. We are interested in whether this age group of males fits the distribution of the U.S. adult population at the 5% level. Calculate the frequency one would expect when surveying 400 people. Fill in the table below, rounding to two decimal places.\n",
    "\n",
    "|Marital Status    | \tFrequency | Expected Frequency |\n",
    "|------------------|------------|--------------------|\n",
    "|never married     | 137 \t      |125.2|\n",
    "|married \t         | 241 \t      |224.4|\n",
    "|widowed \t         | 2 \t        |10   |\n",
    "|divorced/separated| 20 \t      |40.4 |"
   ]
  },
  {
   "cell_type": "code",
   "execution_count": 319,
   "metadata": {
    "collapsed": true
   },
   "outputs": [],
   "source": [
    "expected_proportion <- c(31.3,56.1,2.5,10.1)/100\n",
    "n <- 400\n",
    "expected_frequency <- n*expected_proportion\n",
    "observed_frequency <- c(137,241,2,20) "
   ]
  },
  {
   "cell_type": "markdown",
   "metadata": {},
   "source": [
    "Part (a)\n",
    "State the null hypothesis.\n",
    "\n",
    "The data fit the distribution of marital status for the U.S. adult population. "
   ]
  },
  {
   "cell_type": "markdown",
   "metadata": {},
   "source": [
    "Part (b)\n",
    "State the alternative hypothesis.\n",
    "\n",
    "The data do not fit the distribution of marital status for the U.S. adult population.     "
   ]
  },
  {
   "cell_type": "markdown",
   "metadata": {},
   "source": [
    "Part (c)\n",
    "What are the degrees of freedom? (Enter an exact number as an integer, fraction, or decimal.)\n",
    "$\\nu=4-1=3$"
   ]
  },
  {
   "cell_type": "code",
   "execution_count": 320,
   "metadata": {
    "collapsed": true
   },
   "outputs": [],
   "source": [
    "df <- length(observed_frequency) - 1"
   ]
  },
  {
   "cell_type": "markdown",
   "metadata": {},
   "source": [
    "Part (d)\n",
    "State the distribution to use for the test.\n",
    "\n",
    "$\\chi^2_3$"
   ]
  },
  {
   "cell_type": "markdown",
   "metadata": {},
   "source": [
    "Part (e)\n",
    "What is the test statistic? (Round your answer to two decimal places.)"
   ]
  },
  {
   "cell_type": "code",
   "execution_count": 321,
   "metadata": {},
   "outputs": [
    {
     "data": {
      "text/html": [
       "19.04"
      ],
      "text/latex": [
       "19.04"
      ],
      "text/markdown": [
       "19.04"
      ],
      "text/plain": [
       "[1] 19.04"
      ]
     },
     "metadata": {},
     "output_type": "display_data"
    }
   ],
   "source": [
    "stat <- sum((observed_frequency-expected_frequency)^2/expected_frequency)\n",
    "round(stat,2)"
   ]
  },
  {
   "cell_type": "markdown",
   "metadata": {},
   "source": [
    "Part (f)\n",
    "What is the p-value? (Round your answer to four decimal places.)"
   ]
  },
  {
   "cell_type": "code",
   "execution_count": 322,
   "metadata": {},
   "outputs": [
    {
     "data": {
      "text/html": [
       "3e-04"
      ],
      "text/latex": [
       "3e-04"
      ],
      "text/markdown": [
       "3e-04"
      ],
      "text/plain": [
       "[1] 3e-04"
      ]
     },
     "metadata": {},
     "output_type": "display_data"
    }
   ],
   "source": [
    "p_value <- 1-pchisq(stat,df)\n",
    "round(p_value,4)"
   ]
  },
  {
   "cell_type": "markdown",
   "metadata": {},
   "source": [
    "Explain what the p-value means for this problem.\n",
    "\n",
    "If H0 is true, then there is a chance equal to the p-value that the value of the test statistic will be equal to or greater than the calculated value."
   ]
  },
  {
   "cell_type": "markdown",
   "metadata": {},
   "source": [
    "Part (g)\n",
    "Sketch a picture of this situation. Label and scale the horizontal axis, and shade the region(s) corresponding to the p-value."
   ]
  },
  {
   "cell_type": "code",
   "execution_count": 323,
   "metadata": {},
   "outputs": [
    {
     "data": {
      "image/png": "[encoded data removed]",
      "text/plain": [
       "plot without title"
      ]
     },
     "metadata": {},
     "output_type": "display_data"
    }
   ],
   "source": [
    "curve(dchisq(x,df),from = 0,to = 10*df)\n",
    "abline(v=stat)"
   ]
  },
  {
   "cell_type": "markdown",
   "metadata": {},
   "source": [
    "Part (h)\n",
    "Indicate the correct decision (\"reject\" or \"do not reject\" the null hypothesis), the reason for it, and write the appropriate conclusion."
   ]
  },
  {
   "cell_type": "code",
   "execution_count": 324,
   "metadata": {},
   "outputs": [
    {
     "name": "stdout",
     "output_type": "stream",
     "text": [
      "[1] \"Reject H0\"\n"
     ]
    }
   ],
   "source": [
    "if ( p_value<alpha ){\n",
    "    print(\"Reject H0\")\n",
    "} else {\n",
    "    print(\"Fail to Reject H0\")\n",
    "}"
   ]
  },
  {
   "cell_type": "markdown",
   "metadata": {},
   "source": [
    "(i) Alpha (Enter an exact number as an integer, fraction, or decimal.)\n",
    "α = 0.05"
   ]
  },
  {
   "cell_type": "code",
   "execution_count": 325,
   "metadata": {
    "collapsed": true
   },
   "outputs": [],
   "source": [
    "alpha <- 0.05"
   ]
  },
  {
   "cell_type": "markdown",
   "metadata": {},
   "source": [
    "(ii) Decision:\n",
    "reject the null hypothesis "
   ]
  },
  {
   "cell_type": "markdown",
   "metadata": {},
   "source": [
    "(iii) Reason for decision:\n",
    "Since α > p-value, we reject the null hypothesis."
   ]
  },
  {
   "cell_type": "markdown",
   "metadata": {},
   "source": [
    "(iv) Conclusion:\n",
    "There is sufficient evidence to conclude that the data do not fit the distribution of marital status for the U.S. adult population. "
   ]
  },
  {
   "cell_type": "code",
   "execution_count": 330,
   "metadata": {},
   "outputs": [
    {
     "data": {
      "text/plain": [
       "\n",
       "\tChi-squared test for given probabilities\n",
       "\n",
       "data:  observed_frequency\n",
       "X-squared = 19.041, df = 3, p-value = 0.0002681\n"
      ]
     },
     "metadata": {},
     "output_type": "display_data"
    }
   ],
   "source": [
    "#check answer\n",
    "chisq.test(x = observed_frequency,p = expected_proportion)"
   ]
  },
  {
   "cell_type": "markdown",
   "metadata": {},
   "source": [
    "## 4.\n",
    "A university conducted a survey of more than 263,000 college freshmen from 385 colleges in a particular year. The results of student expected majors by gender were reported. Suppose a survey of 5000 graduating females and 5000 graduating males was done as a follow-up to determine what their actual majors were. The second column in the table does not add to 100% because of rounding.\n",
    "\n",
    "Conduct a goodness of fit test at the 5% level to determine if the male distribution fits the female distribution.\n",
    "\n",
    "|Major               | \tWomen |\tMen |\n",
    "|--------------------|--------|-----|\n",
    "|Arts & Humanities   |14.0% \t|11.3%|\n",
    "|Biological Sciences |8.4% \t  |6.7% |\n",
    "|Business \t         |13.1% \t|23.9%|\n",
    "|Education \t         |13.0% \t|5.7% |\n",
    "|Engineering \t       |2.6% \t  |15.5%|\n",
    "|Physical Sciences \t |2.6% \t  |3.7% |\n",
    "|Professional \t     |18.9% \t|9.3% |\n",
    "|Social Sciences \t   |13.0% \t|7.5% |\n",
    "|Technical \t         |0.4% \t  |1.8% |\n",
    "|Other \t             |5.8% \t  |8.1% |\n",
    "|Undecided \t         |8.0%    |6.5% |"
   ]
  },
  {
   "cell_type": "code",
   "execution_count": 2,
   "metadata": {
    "collapsed": true
   },
   "outputs": [],
   "source": [
    "n <- 5000\n",
    "expected_proportion <- c(14.0,8.4,13.1,13.0,2.6,2.6,18.9,13.0,0.4,5.8,8.0)/100 #women\n",
    "observed_proportion <- c(11.3,6.7,23.9,5.7,15.5,3.7,9.3,7.5,1.8,8.1,6.5)/100 #men\n",
    "expected_frequency  <- n*expected_proportion\n",
    "observed_frequency  <- n*observed_proportion"
   ]
  },
  {
   "cell_type": "markdown",
   "metadata": {},
   "source": [
    "Part (a)\n",
    "State the null hypothesis.\n",
    "\n",
    "The male distribution fits the female distribution.     "
   ]
  },
  {
   "cell_type": "markdown",
   "metadata": {},
   "source": [
    "Part (b)\n",
    "State the alternative hypothesis.\n",
    "\n",
    "The male distribution does not fit the female distribution. "
   ]
  },
  {
   "cell_type": "markdown",
   "metadata": {},
   "source": [
    "Part (c)\n",
    "What are the degrees of freedom?\n",
    "$\\nu=11-1=10$"
   ]
  },
  {
   "cell_type": "code",
   "execution_count": 3,
   "metadata": {},
   "outputs": [
    {
     "data": {
      "text/html": [
       "10"
      ],
      "text/latex": [
       "10"
      ],
      "text/markdown": [
       "10"
      ],
      "text/plain": [
       "[1] 10"
      ]
     },
     "metadata": {},
     "output_type": "display_data"
    }
   ],
   "source": [
    "df <- length(observed_frequency)-1\n",
    "df"
   ]
  },
  {
   "cell_type": "markdown",
   "metadata": {},
   "source": [
    "Part (d)\n",
    "State the distribution to use for the test.\n",
    "\n",
    "$\\chi^2_{10}$"
   ]
  },
  {
   "cell_type": "markdown",
   "metadata": {},
   "source": [
    "Part (e)\n",
    "What is the test statistic? "
   ]
  },
  {
   "cell_type": "code",
   "execution_count": 4,
   "metadata": {},
   "outputs": [
    {
     "data": {
      "text/html": [
       "4581.67"
      ],
      "text/latex": [
       "4581.67"
      ],
      "text/markdown": [
       "4581.67"
      ],
      "text/plain": [
       "[1] 4581.67"
      ]
     },
     "metadata": {},
     "output_type": "display_data"
    }
   ],
   "source": [
    "stat <- sum((observed_frequency-expected_frequency)^2/expected_frequency)\n",
    "round(stat,2)"
   ]
  },
  {
   "cell_type": "markdown",
   "metadata": {},
   "source": [
    "Part (f)\n",
    "What is the p-value? (Round your answer to four decimal places.)"
   ]
  },
  {
   "cell_type": "code",
   "execution_count": 5,
   "metadata": {},
   "outputs": [
    {
     "data": {
      "text/html": [
       "0"
      ],
      "text/latex": [
       "0"
      ],
      "text/markdown": [
       "0"
      ],
      "text/plain": [
       "[1] 0"
      ]
     },
     "metadata": {},
     "output_type": "display_data"
    }
   ],
   "source": [
    "p_value <- 1-pchisq(stat,df)\n",
    "round(p_value,4)"
   ]
  },
  {
   "cell_type": "markdown",
   "metadata": {},
   "source": [
    "Explain what the p-value means for this problem.\n",
    "\n",
    "If H0 is true, then there is a chance equal to the p-value that the value of the test statistic will be equal to or greater than the calculated value. "
   ]
  },
  {
   "cell_type": "markdown",
   "metadata": {},
   "source": [
    "Part (g)\n",
    "Sketch a picture of this situation. Label and scale the horizontal axis, and shade the region(s) corresponding to the p-value. (Upload your file below.)"
   ]
  },
  {
   "cell_type": "code",
   "execution_count": 7,
   "metadata": {},
   "outputs": [
    {
     "data": {
      "image/png": "[encoded data removed]",
      "text/plain": [
       "plot without title"
      ]
     },
     "metadata": {},
     "output_type": "display_data"
    }
   ],
   "source": [
    "curve(dchisq(x,df),from=0,to=5000)\n",
    "abline(v=stat)"
   ]
  },
  {
   "cell_type": "markdown",
   "metadata": {},
   "source": [
    "Part (h)\n",
    "Indicate the correct decision (\"reject\" or \"do not reject\" the null hypothesis) and write the appropriate conclusion."
   ]
  },
  {
   "cell_type": "code",
   "execution_count": 385,
   "metadata": {},
   "outputs": [
    {
     "name": "stdout",
     "output_type": "stream",
     "text": [
      "[1] \"Reject H0\"\n"
     ]
    }
   ],
   "source": [
    "if ( p_value<alpha ){\n",
    "    print(\"Reject H0\")\n",
    "} else {\n",
    "    print(\"Fail to Reject H0\")\n",
    "}"
   ]
  },
  {
   "cell_type": "markdown",
   "metadata": {},
   "source": [
    "(i) Alpha:\n",
    "α = 0.05"
   ]
  },
  {
   "cell_type": "code",
   "execution_count": 386,
   "metadata": {
    "collapsed": true
   },
   "outputs": [],
   "source": [
    "alpha <- 0.05"
   ]
  },
  {
   "cell_type": "markdown",
   "metadata": {},
   "source": [
    "(ii) Decision:\n",
    "reject the null hypothesis"
   ]
  },
  {
   "cell_type": "markdown",
   "metadata": {},
   "source": [
    "(iii) Reason for decision:\n",
    "Since α > p-value, we reject the null hypothesis. "
   ]
  },
  {
   "cell_type": "markdown",
   "metadata": {},
   "source": [
    "(iv) Conclusion:\n",
    "There is sufficient evidence to conclude that the male distribution does not fit the female distribution."
   ]
  },
  {
   "cell_type": "code",
   "execution_count": 389,
   "metadata": {},
   "outputs": [
    {
     "data": {
      "text/plain": [
       "\n",
       "\tChi-squared test for given probabilities\n",
       "\n",
       "data:  observed_frequency\n",
       "X-squared = 4572.5, df = 10, p-value < 2.2e-16\n"
      ]
     },
     "metadata": {},
     "output_type": "display_data"
    }
   ],
   "source": [
    "#check answer\n",
    "adjusted_expected_proportion=expected_frequency/sum(expected_frequency) # force expected proportion to add up to 1\n",
    "chisq.test(observed_frequency,p=adjusted_expected_proportion)"
   ]
  },
  {
   "cell_type": "markdown",
   "metadata": {},
   "source": [
    "## 5.\n",
    "Read the statement and decide whether it is true or false.\n",
    "In a goodness-of-fit test, the expected values are the values we would expect if the null hypothesis were true.\n",
    "True"
   ]
  },
  {
   "cell_type": "markdown",
   "metadata": {},
   "source": [
    "## 6.\n",
    "Read the statement and decide whether it is true or false.\n",
    "In general, if the observed values and expected values of a goodness-of-fit test are not close together, then the test statistic can get very large and on a graph will be way out in the right tail.\n",
    "True"
   ]
  },
  {
   "cell_type": "markdown",
   "metadata": {},
   "source": [
    "## 7.\n",
    "Read the statement and decide whether it is true or false.\n",
    "The test to use to determine if a six-sided die is fair is a goodness-of-fit test.\n",
    "True "
   ]
  },
  {
   "cell_type": "markdown",
   "metadata": {},
   "source": [
    "## 8.\n",
    "Read the statement and decide whether it is true or false.\n",
    "In a goodness-of fit test, if the p-value is 0.0113, do not reject the null hypothesis. (Use a significance level of 0.05.)\n",
    "False     "
   ]
  },
  {
   "cell_type": "markdown",
   "metadata": {},
   "source": [
    "## 9.\n",
    "College students may be interested in whether or not their majors have any effect on starting salaries after graduation. Suppose that 296 recent graduates were surveyed as to their majors in college and their starting salaries after graduation. Below are the data. Conduct a test of independence. (Use a significance level of 0.05.)\n",
    "\n",
    "|Major       |<\\$50,000|\\$50,000-\\$68,999|=>\\$69,000|\n",
    "|------------|--------|---------------|---------|\n",
    "|English     |4 \t    |20 \t          |4\n",
    "|Engineering |9 \t    |31 \t          |60\n",
    "|Nursing     |9 \t    |15 \t          |14\n",
    "|Business    |9 \t    |20 \t          |30\n",
    "|Psychology  |21 \t    |29 \t          |21"
   ]
  },
  {
   "cell_type": "code",
   "execution_count": 390,
   "metadata": {},
   "outputs": [
    {
     "data": {
      "text/html": [
       "<table>\n",
       "<tbody>\n",
       "\t<tr><td> 4</td><td>20</td><td> 4</td></tr>\n",
       "\t<tr><td> 9</td><td>31</td><td>60</td></tr>\n",
       "\t<tr><td> 9</td><td>15</td><td>14</td></tr>\n",
       "\t<tr><td> 9</td><td>20</td><td>30</td></tr>\n",
       "\t<tr><td>21</td><td>29</td><td>21</td></tr>\n",
       "</tbody>\n",
       "</table>\n"
      ],
      "text/latex": [
       "\\begin{tabular}{lll}\n",
       "\t  4 & 20 &  4\\\\\n",
       "\t  9 & 31 & 60\\\\\n",
       "\t  9 & 15 & 14\\\\\n",
       "\t  9 & 20 & 30\\\\\n",
       "\t 21 & 29 & 21\\\\\n",
       "\\end{tabular}\n"
      ],
      "text/markdown": [
       "\n",
       "|  4 | 20 |  4 | \n",
       "|  9 | 31 | 60 | \n",
       "|  9 | 15 | 14 | \n",
       "|  9 | 20 | 30 | \n",
       "| 21 | 29 | 21 | \n",
       "\n",
       "\n"
      ],
      "text/plain": [
       "     [,1] [,2] [,3]\n",
       "[1,]  4   20    4  \n",
       "[2,]  9   31   60  \n",
       "[3,]  9   15   14  \n",
       "[4,]  9   20   30  \n",
       "[5,] 21   29   21  "
      ]
     },
     "metadata": {},
     "output_type": "display_data"
    }
   ],
   "source": [
    "observed_frequency <- cbind(c(4,9,9,9,21),c(20,31,15,20,29),c(4,60,14,30,21))\n",
    "observed_frequency"
   ]
  },
  {
   "cell_type": "markdown",
   "metadata": {},
   "source": [
    "Part (a)\n",
    "State the null hypothesis.\n",
    "An individual's starting salary after graduation is independent of that individual's major in college. "
   ]
  },
  {
   "cell_type": "markdown",
   "metadata": {},
   "source": [
    "Part (b)\n",
    "State the alternative hypothesis.\n",
    "An individual's starting salary after graduation is dependent of that individual's major in college.     "
   ]
  },
  {
   "cell_type": "markdown",
   "metadata": {},
   "source": [
    "Part (c)\n",
    "What are the degrees of freedom? (Enter an exact number as an integer, fraction, or decimal.)\n",
    "$\\nu=(5-1)*(3-1)=8$"
   ]
  },
  {
   "cell_type": "code",
   "execution_count": 393,
   "metadata": {},
   "outputs": [
    {
     "data": {
      "text/html": [
       "8"
      ],
      "text/latex": [
       "8"
      ],
      "text/markdown": [
       "8"
      ],
      "text/plain": [
       "[1] 8"
      ]
     },
     "metadata": {},
     "output_type": "display_data"
    }
   ],
   "source": [
    "df <- prod(dim(observed_frequency)-1)\n",
    "df"
   ]
  },
  {
   "cell_type": "markdown",
   "metadata": {},
   "source": [
    "Part (d)\n",
    "State the distribution to use for the test.\n",
    "$\\chi^2_8$"
   ]
  },
  {
   "cell_type": "markdown",
   "metadata": {},
   "source": [
    "Part (e)\n",
    "What is the test statistic? (Round your answer to two decimal places.)"
   ]
  },
  {
   "cell_type": "code",
   "execution_count": 394,
   "metadata": {},
   "outputs": [
    {
     "data": {
      "text/html": [
       "36.86"
      ],
      "text/latex": [
       "36.86"
      ],
      "text/markdown": [
       "36.86"
      ],
      "text/plain": [
       "[1] 36.86"
      ]
     },
     "metadata": {},
     "output_type": "display_data"
    }
   ],
   "source": [
    "expected_frequency <- outer(rowSums(observed_frequency),colSums(observed_frequency))/sum(observed_frequency)\n",
    "stat <- sum((observed_frequency-expected_frequency)^2/expected_frequency)\n",
    "round(stat,2)"
   ]
  },
  {
   "cell_type": "markdown",
   "metadata": {},
   "source": [
    "Part (f)\n",
    "What is the p-value? (Round your answer to four decimal places.)"
   ]
  },
  {
   "cell_type": "code",
   "execution_count": 396,
   "metadata": {},
   "outputs": [
    {
     "data": {
      "text/html": [
       "0"
      ],
      "text/latex": [
       "0"
      ],
      "text/markdown": [
       "0"
      ],
      "text/plain": [
       "[1] 0"
      ]
     },
     "metadata": {},
     "output_type": "display_data"
    }
   ],
   "source": [
    "p_value <- 1-pchisq(stat,df)\n",
    "round(p_value,4)"
   ]
  },
  {
   "cell_type": "markdown",
   "metadata": {},
   "source": [
    "Explain what the p-value means for this problem.\n",
    "If H0 is true, then there is a chance equal to the p-value that the value of the test statistic will be equal to or greater than the calculated value."
   ]
  },
  {
   "cell_type": "markdown",
   "metadata": {},
   "source": [
    "Part (g)\n",
    "Sketch a picture of this situation. Label and scale the horizontal axis, and shade the region(s) corresponding to the p-value."
   ]
  },
  {
   "cell_type": "code",
   "execution_count": 399,
   "metadata": {},
   "outputs": [
    {
     "data": {
      "image/png": "[encoded data removed]",
      "text/plain": [
       "plot without title"
      ]
     },
     "metadata": {},
     "output_type": "display_data"
    }
   ],
   "source": [
    "curve(dchisq(x,df),from = 0,to = 5*df)\n",
    "abline(v=stat)"
   ]
  },
  {
   "cell_type": "markdown",
   "metadata": {},
   "source": [
    "Part (h)\n",
    "Indicate the correct decision (\"reject\" or \"do not reject\" the null hypothesis) and write the appropriate conclusion."
   ]
  },
  {
   "cell_type": "markdown",
   "metadata": {},
   "source": [
    "(i) Alpha (Enter an exact number as an integer, fraction, or decimal.)\n",
    "α = 0.05"
   ]
  },
  {
   "cell_type": "code",
   "execution_count": 401,
   "metadata": {
    "collapsed": true
   },
   "outputs": [],
   "source": [
    "alpha <- 0.05"
   ]
  },
  {
   "cell_type": "markdown",
   "metadata": {},
   "source": [
    "(ii) Decision:\n",
    "reject the null hypothesis "
   ]
  },
  {
   "cell_type": "code",
   "execution_count": 402,
   "metadata": {},
   "outputs": [
    {
     "name": "stdout",
     "output_type": "stream",
     "text": [
      "[1] \"Reject H0\"\n"
     ]
    }
   ],
   "source": [
    "if ( p_value<alpha ){\n",
    "    print(\"Reject H0\")\n",
    "} else {\n",
    "    print(\"Fail to Reject H0\")\n",
    "}"
   ]
  },
  {
   "cell_type": "markdown",
   "metadata": {},
   "source": [
    "(iii) Reason for decision:\n",
    "Since α > p-value, we reject the null hypothesis. "
   ]
  },
  {
   "cell_type": "markdown",
   "metadata": {},
   "source": [
    "(iv) Conclusion:\n",
    "There is sufficient evidence to conclude that an individual's starting salary after graduation is dependent on that individual's major in college. "
   ]
  },
  {
   "cell_type": "code",
   "execution_count": 403,
   "metadata": {},
   "outputs": [
    {
     "name": "stderr",
     "output_type": "stream",
     "text": [
      "Warning message in chisq.test(observed_frequency):\n",
      "“Chi-squared approximation may be incorrect”"
     ]
    },
    {
     "data": {
      "text/plain": [
       "\n",
       "\tPearson's Chi-squared test\n",
       "\n",
       "data:  observed_frequency\n",
       "X-squared = 36.858, df = 8, p-value = 1.222e-05\n"
      ]
     },
     "metadata": {},
     "output_type": "display_data"
    }
   ],
   "source": [
    "#check answer\n",
    "chisq.test(observed_frequency)"
   ]
  },
  {
   "cell_type": "markdown",
   "metadata": {},
   "source": [
    "## 10.\n",
    "Some travel agents claim that honeymoon hot spots vary according to the age of the bride. Suppose that 277 recent brides were interviewed as to where they spent their honeymoons. The information is given below. Conduct a test of independence at the 5% level.\n",
    "\n",
    "|Location      | \t20 – 29| \t30 – 39| \t40 – 49| \t50 and over|\n",
    "|--------------|---------|---------|---------|-------------|\n",
    "|Niagara Falls |14 \t     |25 \t     |24 \t     |19           |\n",
    "|Poconos \t     |16 \t     |25 \t     |24 \t     |10           |\n",
    "|Europe \t     |9 \t     |24 \t     |15 \t     |5            |\n",
    "|Virgin Islands|21 \t     |24 \t     |16 \t     |6            |"
   ]
  },
  {
   "cell_type": "code",
   "execution_count": 404,
   "metadata": {},
   "outputs": [
    {
     "data": {
      "text/html": [
       "<table>\n",
       "<tbody>\n",
       "\t<tr><td>14</td><td>25</td><td>24</td><td>19</td></tr>\n",
       "\t<tr><td>16</td><td>25</td><td>24</td><td>10</td></tr>\n",
       "\t<tr><td> 9</td><td>24</td><td>15</td><td> 5</td></tr>\n",
       "\t<tr><td>21</td><td>24</td><td>16</td><td> 6</td></tr>\n",
       "</tbody>\n",
       "</table>\n"
      ],
      "text/latex": [
       "\\begin{tabular}{llll}\n",
       "\t 14 & 25 & 24 & 19\\\\\n",
       "\t 16 & 25 & 24 & 10\\\\\n",
       "\t  9 & 24 & 15 &  5\\\\\n",
       "\t 21 & 24 & 16 &  6\\\\\n",
       "\\end{tabular}\n"
      ],
      "text/markdown": [
       "\n",
       "| 14 | 25 | 24 | 19 | \n",
       "| 16 | 25 | 24 | 10 | \n",
       "|  9 | 24 | 15 |  5 | \n",
       "| 21 | 24 | 16 |  6 | \n",
       "\n",
       "\n"
      ],
      "text/plain": [
       "     [,1] [,2] [,3] [,4]\n",
       "[1,] 14   25   24   19  \n",
       "[2,] 16   25   24   10  \n",
       "[3,]  9   24   15    5  \n",
       "[4,] 21   24   16    6  "
      ]
     },
     "metadata": {},
     "output_type": "display_data"
    }
   ],
   "source": [
    "observed_frequency <- rbind(c(14,25,24,19),c(16,25,24,10),c(9,24,15,5),c(21,24,16,6))\n",
    "observed_frequency"
   ]
  },
  {
   "cell_type": "markdown",
   "metadata": {},
   "source": [
    "Part (a)\n",
    "State the null hypothesis.\n",
    "The honeymoon location is independent of the age of the bride. "
   ]
  },
  {
   "cell_type": "markdown",
   "metadata": {},
   "source": [
    "Part (b)\n",
    "State the alternative hypothesis.\n",
    "The honeymoon location is dependent on the age of the bride.     "
   ]
  },
  {
   "cell_type": "markdown",
   "metadata": {},
   "source": [
    "Part (c)\n",
    "What are the degrees of freedom? (Enter an exact number as an integer, fraction, or decimal.)\n",
    "$\\nu=(4-1)*(4-1)=9$"
   ]
  },
  {
   "cell_type": "code",
   "execution_count": 406,
   "metadata": {},
   "outputs": [
    {
     "data": {
      "text/html": [
       "9"
      ],
      "text/latex": [
       "9"
      ],
      "text/markdown": [
       "9"
      ],
      "text/plain": [
       "[1] 9"
      ]
     },
     "metadata": {},
     "output_type": "display_data"
    }
   ],
   "source": [
    "df <- prod(dim(observed_frequency)-1)\n",
    "df"
   ]
  },
  {
   "cell_type": "markdown",
   "metadata": {},
   "source": [
    "Part (d)\n",
    "State the distribution to use for the test.\n",
    "$\\chi^2_9$"
   ]
  },
  {
   "cell_type": "markdown",
   "metadata": {},
   "source": [
    "Part (e)\n",
    "What is the test statistic? (Round your answer to two decimal places.)"
   ]
  },
  {
   "cell_type": "code",
   "execution_count": 407,
   "metadata": {},
   "outputs": [
    {
     "data": {
      "text/html": [
       "13.9"
      ],
      "text/latex": [
       "13.9"
      ],
      "text/markdown": [
       "13.9"
      ],
      "text/plain": [
       "[1] 13.9"
      ]
     },
     "metadata": {},
     "output_type": "display_data"
    }
   ],
   "source": [
    "expected_frequency <- outer(rowSums(observed_frequency),colSums(observed_frequency))/sum(observed_frequency)\n",
    "stat <- sum((observed_frequency-expected_frequency)^2/expected_frequency)\n",
    "round(stat,2)"
   ]
  },
  {
   "cell_type": "markdown",
   "metadata": {},
   "source": [
    "Part (f)\n",
    "What is the p-value? (Round your answer to four decimal places.)"
   ]
  },
  {
   "cell_type": "code",
   "execution_count": 408,
   "metadata": {},
   "outputs": [
    {
     "data": {
      "text/html": [
       "0.1259"
      ],
      "text/latex": [
       "0.1259"
      ],
      "text/markdown": [
       "0.1259"
      ],
      "text/plain": [
       "[1] 0.1259"
      ]
     },
     "metadata": {},
     "output_type": "display_data"
    }
   ],
   "source": [
    "p_value <- 1-pchisq(stat,df)\n",
    "round(p_value,4)"
   ]
  },
  {
   "cell_type": "markdown",
   "metadata": {},
   "source": [
    "Explain what the p-value means for this problem.\n",
    "\n",
    "If H0 is true, then there is a chance equal to the p-value that the value of the test statistic will be equal to or greater than the calculated value. "
   ]
  },
  {
   "cell_type": "markdown",
   "metadata": {},
   "source": [
    "Part (g)\n",
    "Sketch a picture of this situation. Label and scale the horizontal axis, and shade the region(s) corresponding to the p-value."
   ]
  },
  {
   "cell_type": "code",
   "execution_count": 409,
   "metadata": {},
   "outputs": [
    {
     "data": {
      "image/png": "[encoded data removed]",
      "text/plain": [
       "plot without title"
      ]
     },
     "metadata": {},
     "output_type": "display_data"
    }
   ],
   "source": [
    "curve(dchisq(x,df),from = 0,to = 3*df)\n",
    "abline(v=stat)"
   ]
  },
  {
   "cell_type": "markdown",
   "metadata": {},
   "source": [
    "Part (h)\n",
    "Indicate the correct decision (\"reject\" or \"do not reject\" the null hypothesis), the reason for it, and write the appropriate conclusion."
   ]
  },
  {
   "cell_type": "markdown",
   "metadata": {},
   "source": [
    "(i) Alpha (Enter an exact number as an integer, fraction, or decimal.)\n",
    "α = 0.05"
   ]
  },
  {
   "cell_type": "code",
   "execution_count": 410,
   "metadata": {
    "collapsed": true
   },
   "outputs": [],
   "source": [
    "alpha <- 0.05"
   ]
  },
  {
   "cell_type": "markdown",
   "metadata": {},
   "source": [
    "(ii) Decision:\n",
    "do not reject the null hypothesis     "
   ]
  },
  {
   "cell_type": "code",
   "execution_count": 413,
   "metadata": {},
   "outputs": [
    {
     "name": "stdout",
     "output_type": "stream",
     "text": [
      "[1] \"Fail to Reject H0\"\n"
     ]
    }
   ],
   "source": [
    "if ( p_value<alpha ){\n",
    "    print(\"Reject H0\")\n",
    "} else {\n",
    "    print(\"Fail to Reject H0\")\n",
    "}"
   ]
  },
  {
   "cell_type": "markdown",
   "metadata": {},
   "source": [
    "(iii) Reason for decision:\n",
    "Since α < p-value, we do not reject the null hypothesis. "
   ]
  },
  {
   "cell_type": "markdown",
   "metadata": {},
   "source": [
    "(iv) Conclusion:\n",
    "There is not sufficient evidence to conclude that the honeymoon location is dependent on the age of the bride.     "
   ]
  },
  {
   "cell_type": "code",
   "execution_count": 415,
   "metadata": {},
   "outputs": [
    {
     "data": {
      "text/plain": [
       "\n",
       "\tPearson's Chi-squared test\n",
       "\n",
       "data:  observed_frequency\n",
       "X-squared = 13.901, df = 9, p-value = 0.1259\n"
      ]
     },
     "metadata": {},
     "output_type": "display_data"
    }
   ],
   "source": [
    "#check answer\n",
    "chisq.test(observed_frequency)"
   ]
  },
  {
   "cell_type": "markdown",
   "metadata": {},
   "source": [
    "## 11.\n",
    "Suppose that 590 30-year-olds were surveyed to determine whether or not there is a relationship between the level of education an individual has and salary. Conduct a test of independence at the 5% level.\n",
    "\n",
    "|Annual Salary          |Not a high school graduate |\tHigh school graduate | College graduate |\tMasters or doctorate |\n",
    "|-----------------------|---------------------------|----------------------|------------------|----------------------|\n",
    "|< \\$30,000 \t            |10                         |  20                  | \t10              | \t5                  |\n",
    "|\\$30,000 – \\$40,000 \t    |25                         |  40                  | \t70              | \t30                 |\n",
    "|\\$40,000 – \\$50,000 \t    |5                          |  10                  | \t35              | \t55                 |\n",
    "|\\$50,000 – \\$60,000 \t    |10                         |  10                  | \t20              | \t65                 |\n",
    "|\\$60,000+ \t            |0                          |  10                  | \t10              | \t150                |"
   ]
  },
  {
   "cell_type": "code",
   "execution_count": 416,
   "metadata": {},
   "outputs": [
    {
     "data": {
      "text/html": [
       "<table>\n",
       "<tbody>\n",
       "\t<tr><td>10 </td><td>20 </td><td>10 </td><td>  5</td></tr>\n",
       "\t<tr><td>25 </td><td>40 </td><td>70 </td><td> 30</td></tr>\n",
       "\t<tr><td> 5 </td><td>10 </td><td>35 </td><td> 55</td></tr>\n",
       "\t<tr><td>10 </td><td>10 </td><td>20 </td><td> 65</td></tr>\n",
       "\t<tr><td> 0 </td><td>10 </td><td>10 </td><td>150</td></tr>\n",
       "</tbody>\n",
       "</table>\n"
      ],
      "text/latex": [
       "\\begin{tabular}{llll}\n",
       "\t 10  & 20  & 10  &   5\\\\\n",
       "\t 25  & 40  & 70  &  30\\\\\n",
       "\t  5  & 10  & 35  &  55\\\\\n",
       "\t 10  & 10  & 20  &  65\\\\\n",
       "\t  0  & 10  & 10  & 150\\\\\n",
       "\\end{tabular}\n"
      ],
      "text/markdown": [
       "\n",
       "| 10  | 20  | 10  |   5 | \n",
       "| 25  | 40  | 70  |  30 | \n",
       "|  5  | 10  | 35  |  55 | \n",
       "| 10  | 10  | 20  |  65 | \n",
       "|  0  | 10  | 10  | 150 | \n",
       "\n",
       "\n"
      ],
      "text/plain": [
       "     [,1] [,2] [,3] [,4]\n",
       "[1,] 10   20   10     5 \n",
       "[2,] 25   40   70    30 \n",
       "[3,]  5   10   35    55 \n",
       "[4,] 10   10   20    65 \n",
       "[5,]  0   10   10   150 "
      ]
     },
     "metadata": {},
     "output_type": "display_data"
    }
   ],
   "source": [
    "observed_frequency <- cbind(c(10,25,5,10,0),c(20,40,10,10,10),c(10,70,35,20,10),c(5,30,55,65,150))\n",
    "observed_frequency"
   ]
  },
  {
   "cell_type": "markdown",
   "metadata": {},
   "source": [
    "Part (a)\n",
    "State the null hypothesis.\n",
    "The annual salary of the 30-year-old is independent of the level of education that the individual obtained.\n",
    "     "
   ]
  },
  {
   "cell_type": "markdown",
   "metadata": {},
   "source": [
    "Part (b)\n",
    "State the alternative hypothesis.\n",
    "The annual salary of the 30-year-old is dependent of the level of education that the individual obtained.     "
   ]
  },
  {
   "cell_type": "markdown",
   "metadata": {},
   "source": [
    "Part (c)\n",
    "What are the degrees of freedom? (Enter an exact number as an integer, fraction, or decimal.)\n",
    "$\\nu=(5-1)*(4-1)=12$"
   ]
  },
  {
   "cell_type": "code",
   "execution_count": 417,
   "metadata": {},
   "outputs": [
    {
     "data": {
      "text/html": [
       "12"
      ],
      "text/latex": [
       "12"
      ],
      "text/markdown": [
       "12"
      ],
      "text/plain": [
       "[1] 12"
      ]
     },
     "metadata": {},
     "output_type": "display_data"
    }
   ],
   "source": [
    "df <- prod(dim(observed_frequency)-1)\n",
    "df"
   ]
  },
  {
   "cell_type": "markdown",
   "metadata": {},
   "source": [
    "Part (d)\n",
    "State the distribution to use for the test.\n",
    "$\\chi^2_12$"
   ]
  },
  {
   "cell_type": "markdown",
   "metadata": {},
   "source": [
    "Part (e)\n",
    "What is the test statistic? (Round your answer to two decimal places.)"
   ]
  },
  {
   "cell_type": "code",
   "execution_count": 418,
   "metadata": {},
   "outputs": [
    {
     "data": {
      "text/html": [
       "229.61"
      ],
      "text/latex": [
       "229.61"
      ],
      "text/markdown": [
       "229.61"
      ],
      "text/plain": [
       "[1] 229.61"
      ]
     },
     "metadata": {},
     "output_type": "display_data"
    }
   ],
   "source": [
    "expected_frequency <- outer(rowSums(observed_frequency),colSums(observed_frequency))/sum(observed_frequency)\n",
    "stat <- sum((observed_frequency-expected_frequency)^2/expected_frequency)\n",
    "round(stat,2)"
   ]
  },
  {
   "cell_type": "markdown",
   "metadata": {},
   "source": [
    "Part (f)\n",
    "What is the p-value? (Round your answer to four decimal places.)"
   ]
  },
  {
   "cell_type": "code",
   "execution_count": 425,
   "metadata": {},
   "outputs": [
    {
     "data": {
      "text/html": [
       "0"
      ],
      "text/latex": [
       "0"
      ],
      "text/markdown": [
       "0"
      ],
      "text/plain": [
       "[1] 0"
      ]
     },
     "metadata": {},
     "output_type": "display_data"
    }
   ],
   "source": [
    "p_value <- 1-pchisq(stat,df)\n",
    "round(p_value,4)"
   ]
  },
  {
   "cell_type": "markdown",
   "metadata": {},
   "source": [
    "Explain what the p-value means for this problem.\n",
    "\n",
    "If H0 is true, then there is a chance equal to the p-value that the value of the test statistic will be equal to or greater than the calculated value."
   ]
  },
  {
   "cell_type": "markdown",
   "metadata": {},
   "source": [
    "Part (g)\n",
    "Sketch a picture of this situation. Label and scale the horizontal axis, and shade the region(s) corresponding to the p-value."
   ]
  },
  {
   "cell_type": "code",
   "execution_count": 426,
   "metadata": {},
   "outputs": [
    {
     "data": {
      "image/png": "[encoded data removed]",
      "text/plain": [
       "plot without title"
      ]
     },
     "metadata": {},
     "output_type": "display_data"
    }
   ],
   "source": [
    "curve(dchisq(x,df),from = 0,to = 20*df)\n",
    "abline(v=stat)"
   ]
  },
  {
   "cell_type": "markdown",
   "metadata": {},
   "source": [
    "Part (h)\n",
    "Indicate the correct decision (\"reject\" or \"do not reject\" the null hypothesis) and write the appropriate conclusion."
   ]
  },
  {
   "cell_type": "markdown",
   "metadata": {},
   "source": [
    "(i) Alpha (Enter an exact number as an integer, fraction, or decimal.)\n",
    "α = 0.05"
   ]
  },
  {
   "cell_type": "code",
   "execution_count": 427,
   "metadata": {
    "collapsed": true
   },
   "outputs": [],
   "source": [
    "alpha <- 0.05"
   ]
  },
  {
   "cell_type": "markdown",
   "metadata": {},
   "source": [
    "(ii) Decision:\n",
    "reject the null hypothesis "
   ]
  },
  {
   "cell_type": "code",
   "execution_count": 428,
   "metadata": {},
   "outputs": [
    {
     "name": "stdout",
     "output_type": "stream",
     "text": [
      "[1] \"Reject H0\"\n"
     ]
    }
   ],
   "source": [
    "if ( p_value<alpha ){\n",
    "    print(\"Reject H0\")\n",
    "} else {\n",
    "    print(\"Fail to Reject H0\")\n",
    "}"
   ]
  },
  {
   "cell_type": "markdown",
   "metadata": {},
   "source": [
    "(iii) Reason for decision:\n",
    "Since α > p-value, we reject the null hypothesis. "
   ]
  },
  {
   "cell_type": "markdown",
   "metadata": {},
   "source": [
    "(iv) Conclusion:\n",
    "There is sufficient evidence to conclude that the annual salary of the 30-year-old is dependent on the level of education that the individual obtained.    "
   ]
  },
  {
   "cell_type": "code",
   "execution_count": 429,
   "metadata": {},
   "outputs": [
    {
     "name": "stderr",
     "output_type": "stream",
     "text": [
      "Warning message in chisq.test(observed_frequency):\n",
      "“Chi-squared approximation may be incorrect”"
     ]
    },
    {
     "data": {
      "text/plain": [
       "\n",
       "\tPearson's Chi-squared test\n",
       "\n",
       "data:  observed_frequency\n",
       "X-squared = 229.61, df = 12, p-value < 2.2e-16\n"
      ]
     },
     "metadata": {},
     "output_type": "display_data"
    }
   ],
   "source": [
    "#check answer\n",
    "chisq.test(observed_frequency)"
   ]
  },
  {
   "cell_type": "markdown",
   "metadata": {},
   "source": [
    "## 12.\n",
    "A psychologist is interested in testing whether there is a difference in the distribution of personality types for business majors and social science majors. The results of the study are shown in the table below. Conduct a test of homogeneity. Test at a 5% level of significance.\n",
    "\n",
    "|Major          |Open |Conscientious |Extrovert |Agreeable |Neurotic|\n",
    "|---------------|-----|--------------|----------|----------|--------|\n",
    "|Business \t    |43 \t|53 \t         |45 \t      |61 \t     |59      |\n",
    "|Social Science |72 \t|75 \t         |65 \t      |80 \t     |66      |"
   ]
  },
  {
   "cell_type": "code",
   "execution_count": 430,
   "metadata": {},
   "outputs": [
    {
     "data": {
      "text/html": [
       "<table>\n",
       "<tbody>\n",
       "\t<tr><td>43</td><td>53</td><td>45</td><td>61</td><td>59</td></tr>\n",
       "\t<tr><td>72</td><td>75</td><td>65</td><td>80</td><td>66</td></tr>\n",
       "</tbody>\n",
       "</table>\n"
      ],
      "text/latex": [
       "\\begin{tabular}{lllll}\n",
       "\t 43 & 53 & 45 & 61 & 59\\\\\n",
       "\t 72 & 75 & 65 & 80 & 66\\\\\n",
       "\\end{tabular}\n"
      ],
      "text/markdown": [
       "\n",
       "| 43 | 53 | 45 | 61 | 59 | \n",
       "| 72 | 75 | 65 | 80 | 66 | \n",
       "\n",
       "\n"
      ],
      "text/plain": [
       "     [,1] [,2] [,3] [,4] [,5]\n",
       "[1,] 43   53   45   61   59  \n",
       "[2,] 72   75   65   80   66  "
      ]
     },
     "metadata": {},
     "output_type": "display_data"
    }
   ],
   "source": [
    "observed_frequency <- rbind(c(43,53,45,61,59),c(72,75,65,80,66))\n",
    "observed_frequency"
   ]
  },
  {
   "cell_type": "markdown",
   "metadata": {},
   "source": [
    "Part (a)\n",
    "State the null hypothesis.\n",
    "The distribution for personality types is the same for both majors. \n",
    "    "
   ]
  },
  {
   "cell_type": "markdown",
   "metadata": {},
   "source": [
    "Part (b)\n",
    "State the alternative hypothesis.\n",
    "The distribution for personality types is not the same for both majors. "
   ]
  },
  {
   "cell_type": "markdown",
   "metadata": {},
   "source": [
    "Part (c)\n",
    "What are the degrees of freedom? (Enter an exact number as an integer, fraction, or decimal.)\n",
    "$\\nu=(2-1)*(5-1)=4$"
   ]
  },
  {
   "cell_type": "code",
   "execution_count": 432,
   "metadata": {},
   "outputs": [
    {
     "data": {
      "text/html": [
       "4"
      ],
      "text/latex": [
       "4"
      ],
      "text/markdown": [
       "4"
      ],
      "text/plain": [
       "[1] 4"
      ]
     },
     "metadata": {},
     "output_type": "display_data"
    }
   ],
   "source": [
    "df <- prod(dim(observed_frequency)-1)\n",
    "df"
   ]
  },
  {
   "cell_type": "markdown",
   "metadata": {},
   "source": [
    "Part (d)\n",
    "State the distribution to use for the test.\n",
    "\n",
    "$\\chi^2_4$"
   ]
  },
  {
   "cell_type": "markdown",
   "metadata": {},
   "source": [
    "Part (e)\n",
    "What is the test statistic? (Round your answer to two decimal places.)"
   ]
  },
  {
   "cell_type": "code",
   "execution_count": 433,
   "metadata": {},
   "outputs": [
    {
     "data": {
      "text/html": [
       "2.55"
      ],
      "text/latex": [
       "2.55"
      ],
      "text/markdown": [
       "2.55"
      ],
      "text/plain": [
       "[1] 2.55"
      ]
     },
     "metadata": {},
     "output_type": "display_data"
    }
   ],
   "source": [
    "expected_frequency <- outer(rowSums(observed_frequency),colSums(observed_frequency))/sum(observed_frequency)\n",
    "stat <- sum((observed_frequency-expected_frequency)^2/expected_frequency)\n",
    "round(stat,2)"
   ]
  },
  {
   "cell_type": "markdown",
   "metadata": {},
   "source": [
    "Part (f)\n",
    "What is the p-value? (Round your answer to four decimal places.)"
   ]
  },
  {
   "cell_type": "code",
   "execution_count": 434,
   "metadata": {},
   "outputs": [
    {
     "data": {
      "text/html": [
       "0.6366"
      ],
      "text/latex": [
       "0.6366"
      ],
      "text/markdown": [
       "0.6366"
      ],
      "text/plain": [
       "[1] 0.6366"
      ]
     },
     "metadata": {},
     "output_type": "display_data"
    }
   ],
   "source": [
    "p_value <- 1-pchisq(stat,df)\n",
    "round(p_value,4)"
   ]
  },
  {
   "cell_type": "markdown",
   "metadata": {},
   "source": [
    "Explain what the p-value means for this problem.\n",
    "\n",
    "If H0 is true, then there is a chance equal to the p-value that the value of the test statistic will be equal to or greater than the calculated value. "
   ]
  },
  {
   "cell_type": "markdown",
   "metadata": {},
   "source": [
    "Part (g)\n",
    "Sketch a picture of this situation. Label and scale the horizontal axis, and shade the region(s) corresponding to the p-value."
   ]
  },
  {
   "cell_type": "code",
   "execution_count": 435,
   "metadata": {},
   "outputs": [
    {
     "data": {
      "image/png": "[encoded data removed]",
      "text/plain": [
       "plot without title"
      ]
     },
     "metadata": {},
     "output_type": "display_data"
    }
   ],
   "source": [
    "curve(dchisq(x,df),from = 0,to = 3*df)\n",
    "abline(v=stat)"
   ]
  },
  {
   "cell_type": "markdown",
   "metadata": {},
   "source": [
    "Part (h)\n",
    "Indicate the correct decision (\"reject\" or \"do not reject\" the null hypothesis) and write the appropriate conclusion."
   ]
  },
  {
   "cell_type": "markdown",
   "metadata": {},
   "source": [
    "(i) Alpha (Enter an exact number as an integer, fraction, or decimal.)\n",
    "α = 0.05"
   ]
  },
  {
   "cell_type": "code",
   "execution_count": null,
   "metadata": {
    "collapsed": true
   },
   "outputs": [],
   "source": [
    "alpha <- 0.05"
   ]
  },
  {
   "cell_type": "markdown",
   "metadata": {},
   "source": [
    "(ii) Decision:\n",
    "do not reject the null hypothesis     "
   ]
  },
  {
   "cell_type": "code",
   "execution_count": 436,
   "metadata": {},
   "outputs": [
    {
     "name": "stdout",
     "output_type": "stream",
     "text": [
      "[1] \"Fail to Reject H0\"\n"
     ]
    }
   ],
   "source": [
    "if ( p_value<alpha ){\n",
    "    print(\"Reject H0\")\n",
    "} else {\n",
    "    print(\"Fail to Reject H0\")\n",
    "}"
   ]
  },
  {
   "cell_type": "markdown",
   "metadata": {},
   "source": [
    "(iii) Reason for decision:\n",
    "Since α < p-value, we do not reject the null hypothesis. "
   ]
  },
  {
   "cell_type": "markdown",
   "metadata": {},
   "source": [
    "(iv) Conclusion:\n",
    "There is insufficient evidence to conclude that the distribution of personality types is different for business and social science majors.    "
   ]
  },
  {
   "cell_type": "code",
   "execution_count": 437,
   "metadata": {},
   "outputs": [
    {
     "data": {
      "text/plain": [
       "\n",
       "\tPearson's Chi-squared test\n",
       "\n",
       "data:  observed_frequency\n",
       "X-squared = 2.5451, df = 4, p-value = 0.6366\n"
      ]
     },
     "metadata": {},
     "output_type": "display_data"
    }
   ],
   "source": [
    "#check answer\n",
    "chisq.test(observed_frequency)"
   ]
  },
  {
   "cell_type": "markdown",
   "metadata": {},
   "source": [
    "## 13.\n",
    "A fisherman is interested in whether the distribution of fish caught in Green Valley Lake is the same as the distribution of fish caught in Echo Lake. Of the 186 randomly selected fish caught in Green Valley Lake, 104 were rainbow trout, 27 were other trout, 34 were bass, and 21 were catfish. Of the 293 randomly selected fish caught in Echo Lake, 118 were rainbow trout, 58 were other trout, 64 were bass, and 53 were catfish. Perform a test for homogeneity at a 5% level of significance.\n",
    "\n",
    "|Lake\\Fish  |Rainbow|Other Trout|Bass|Catfish|\n",
    "|-----------|-------|-----------|----|-------|\n",
    "|GreenValley|104    |27         |34  |21     |\n",
    "|Echo       |118    |58         |64  |53     |"
   ]
  },
  {
   "cell_type": "code",
   "execution_count": 438,
   "metadata": {},
   "outputs": [
    {
     "data": {
      "text/html": [
       "<table>\n",
       "<tbody>\n",
       "\t<tr><td>104</td><td>27 </td><td>34 </td><td>21 </td></tr>\n",
       "\t<tr><td>118</td><td>58 </td><td>64 </td><td>53 </td></tr>\n",
       "</tbody>\n",
       "</table>\n"
      ],
      "text/latex": [
       "\\begin{tabular}{llll}\n",
       "\t 104 & 27  & 34  & 21 \\\\\n",
       "\t 118 & 58  & 64  & 53 \\\\\n",
       "\\end{tabular}\n"
      ],
      "text/markdown": [
       "\n",
       "| 104 | 27  | 34  | 21  | \n",
       "| 118 | 58  | 64  | 53  | \n",
       "\n",
       "\n"
      ],
      "text/plain": [
       "     [,1] [,2] [,3] [,4]\n",
       "[1,] 104  27   34   21  \n",
       "[2,] 118  58   64   53  "
      ]
     },
     "metadata": {},
     "output_type": "display_data"
    }
   ],
   "source": [
    "observed_frequency <- rbind(c(104,27,34,21),c(118,58,64,53))\n",
    "observed_frequency"
   ]
  },
  {
   "cell_type": "markdown",
   "metadata": {},
   "source": [
    "Part (a)\n",
    "State the null hypothesis.\n",
    "\n",
    "The distribution for fish caught is the same in Green Valley Lake and in Echo Lake.     "
   ]
  },
  {
   "cell_type": "markdown",
   "metadata": {},
   "source": [
    "Part (b)\n",
    "State the alternative hypothesis.\n",
    "\n",
    "The distribution for fish caught is not the same in Green Valley Lake and in Echo Lake.     "
   ]
  },
  {
   "cell_type": "markdown",
   "metadata": {},
   "source": [
    "Part (c)\n",
    "What are the degrees of freedom? (Enter an exact number as an integer, fraction, or decimal.)\n",
    "$\\nu=()*()=3$"
   ]
  },
  {
   "cell_type": "code",
   "execution_count": 439,
   "metadata": {},
   "outputs": [
    {
     "data": {
      "text/html": [
       "3"
      ],
      "text/latex": [
       "3"
      ],
      "text/markdown": [
       "3"
      ],
      "text/plain": [
       "[1] 3"
      ]
     },
     "metadata": {},
     "output_type": "display_data"
    }
   ],
   "source": [
    "df <- (dim(observed_frequency)[1]-1)*(dim(observed_frequency)[2]-1)\n",
    "df"
   ]
  },
  {
   "cell_type": "markdown",
   "metadata": {},
   "source": [
    "Part (d)\n",
    "State the distribution to use for the test.\n",
    "\n",
    "$\\chi^2_3$"
   ]
  },
  {
   "cell_type": "markdown",
   "metadata": {},
   "source": [
    "Part (e)\n",
    "What is the test statistic? (Round your answer to two decimal places.)"
   ]
  },
  {
   "cell_type": "code",
   "execution_count": 442,
   "metadata": {},
   "outputs": [
    {
     "data": {
      "text/html": [
       "11.9"
      ],
      "text/latex": [
       "11.9"
      ],
      "text/markdown": [
       "11.9"
      ],
      "text/plain": [
       "[1] 11.9"
      ]
     },
     "metadata": {},
     "output_type": "display_data"
    }
   ],
   "source": [
    "expected_frequency <- outer(rowSums(observed_frequency),colSums(observed_frequency))/sum(observed_frequency) \n",
    "stat <- sum((observed_frequency-expected_frequency)^2/expected_frequency)\n",
    "round(stat,2)"
   ]
  },
  {
   "cell_type": "markdown",
   "metadata": {},
   "source": [
    "Part (f)\n",
    "What is the p-value? (Round your answer to four decimal places.)"
   ]
  },
  {
   "cell_type": "code",
   "execution_count": 443,
   "metadata": {},
   "outputs": [
    {
     "data": {
      "text/html": [
       "0.0077"
      ],
      "text/latex": [
       "0.0077"
      ],
      "text/markdown": [
       "0.0077"
      ],
      "text/plain": [
       "[1] 0.0077"
      ]
     },
     "metadata": {},
     "output_type": "display_data"
    }
   ],
   "source": [
    "p_value <- 1-pchisq(stat,df)\n",
    "round(p_value,4)"
   ]
  },
  {
   "cell_type": "code",
   "execution_count": 446,
   "metadata": {},
   "outputs": [
    {
     "data": {
      "text/plain": [
       "\n",
       "\tPearson's Chi-squared test\n",
       "\n",
       "data:  observed_frequency\n",
       "X-squared = 11.902, df = 3, p-value = 0.007725\n"
      ]
     },
     "metadata": {},
     "output_type": "display_data"
    }
   ],
   "source": [
    "#check answer\n",
    "chisq.test(observed_frequency) #check answer"
   ]
  },
  {
   "cell_type": "markdown",
   "metadata": {},
   "source": [
    "Explain what the p-value means for this problem.\n",
    "\n",
    "If H0 is true, then there is a chance equal to the p-value that the value of the test statistic will be equal to or greater than the calculated value. "
   ]
  },
  {
   "cell_type": "markdown",
   "metadata": {},
   "source": [
    "Part (g)\n",
    "Sketch a picture of this situation. Label and scale the horizontal axis, and shade the region(s) corresponding to the p-value."
   ]
  },
  {
   "cell_type": "code",
   "execution_count": 68,
   "metadata": {},
   "outputs": [
    {
     "data": {
      "image/png": "[encoded data removed]",
      "text/plain": [
       "plot without title"
      ]
     },
     "metadata": {},
     "output_type": "display_data"
    }
   ],
   "source": [
    "curve(dchisq(x,df),from = 0,to = 5*df)\n",
    "abline(v=stat)"
   ]
  },
  {
   "cell_type": "markdown",
   "metadata": {},
   "source": [
    "Part (h)\n",
    "Indicate the correct decision (\"reject\" or \"do not reject\" the null hypothesis) and write the appropriate conclusion."
   ]
  },
  {
   "cell_type": "code",
   "execution_count": 69,
   "metadata": {},
   "outputs": [
    {
     "name": "stdout",
     "output_type": "stream",
     "text": [
      "[1] \"Reject H0\"\n"
     ]
    }
   ],
   "source": [
    "if ( p_value<alpha ){\n",
    "    print(\"Reject H0\")\n",
    "} else {\n",
    "    print(\"Fail to Reject H0\")\n",
    "}"
   ]
  },
  {
   "cell_type": "markdown",
   "metadata": {},
   "source": [
    "(i) Alpha (Enter an exact number as an integer, fraction, or decimal.)\n",
    "α = 0.05"
   ]
  },
  {
   "cell_type": "code",
   "execution_count": 70,
   "metadata": {
    "collapsed": true
   },
   "outputs": [],
   "source": [
    "alpha <- 0.05"
   ]
  },
  {
   "cell_type": "markdown",
   "metadata": {},
   "source": [
    "(ii) Decision:\n",
    "reject the null hypothesis "
   ]
  },
  {
   "cell_type": "markdown",
   "metadata": {},
   "source": [
    "(iii) Reason for decision:\n",
    "Since α > p-value, we reject the null hypothesis. "
   ]
  },
  {
   "cell_type": "markdown",
   "metadata": {},
   "source": [
    "(iv) Conclusion:\n",
    "There is sufficient evidence to conclude that the distribution of fish caught is different in Green Valley Lake and in Echo Lake. "
   ]
  },
  {
   "cell_type": "code",
   "execution_count": 447,
   "metadata": {},
   "outputs": [
    {
     "data": {
      "text/plain": [
       "\n",
       "\tPearson's Chi-squared test\n",
       "\n",
       "data:  observed_frequency\n",
       "X-squared = 11.902, df = 3, p-value = 0.007725\n"
      ]
     },
     "metadata": {},
     "output_type": "display_data"
    }
   ],
   "source": [
    "#check answer again\n",
    "chisq.test(observed_frequency) #check answer"
   ]
  },
  {
   "cell_type": "markdown",
   "metadata": {},
   "source": [
    "## 14.\n",
    "Read the statement and decide whether it is true or false. \n",
    "If df = 2, the Chi-square distribution has a shape that reminds us of the exponential.\n",
    "True"
   ]
  },
  {
   "cell_type": "code",
   "execution_count": 448,
   "metadata": {},
   "outputs": [
    {
     "data": {
      "image/png": "[encoded data removed]",
      "text/plain": [
       "plot without title"
      ]
     },
     "metadata": {},
     "output_type": "display_data"
    }
   ],
   "source": [
    "df <- 2\n",
    "curve(dchisq(x,df),from = 0,to = 3*df)"
   ]
  },
  {
   "cell_type": "code",
   "execution_count": 449,
   "metadata": {},
   "outputs": [
    {
     "data": {
      "image/png": "[encoded data removed]",
      "text/plain": [
       "plot without title"
      ]
     },
     "metadata": {},
     "output_type": "display_data"
    }
   ],
   "source": [
    "curve(dexp(x),from=0,to=3*df)"
   ]
  },
  {
   "cell_type": "markdown",
   "metadata": {},
   "source": [
    "## 15.\n",
    "A plant manager is concerned her equipment may need recalibrating. It seems that the actual weight of the 15 oz. cereal boxes it fills has been fluctuating. The standard deviation should be at most 0.5 oz. In order to determine if the machine needs to be recalibrated, 83 randomly selected boxes of cereal from the next day's production were weighed. The standard deviation of the 83 boxes was 0.53. Does the machine need to be recalibrated? Conduct a hypothesis test at the 5% level."
   ]
  },
  {
   "cell_type": "code",
   "execution_count": 450,
   "metadata": {
    "collapsed": true
   },
   "outputs": [],
   "source": [
    "sigma_0 <- 0.5\n",
    "n <- 83\n",
    "s <- 0.53\n",
    "alpha <- 0.05"
   ]
  },
  {
   "cell_type": "markdown",
   "metadata": {},
   "source": [
    "Part (a)\n",
    "State the null hypothesis.\n",
    "H0: σ2 ≤ 0.5^2"
   ]
  },
  {
   "cell_type": "markdown",
   "metadata": {},
   "source": [
    "Part (b)\n",
    "State the alternative hypothesis.\n",
    "Ha: σ2 > 0.5^2 "
   ]
  },
  {
   "cell_type": "markdown",
   "metadata": {},
   "source": [
    "Part (c)\n",
    "What are the degrees of freedom? (Enter an exact number as an integer, fraction, or decimal.)\n",
    "$\\nu=n-1=82$"
   ]
  },
  {
   "cell_type": "code",
   "execution_count": 451,
   "metadata": {},
   "outputs": [
    {
     "data": {
      "text/html": [
       "82"
      ],
      "text/latex": [
       "82"
      ],
      "text/markdown": [
       "82"
      ],
      "text/plain": [
       "[1] 82"
      ]
     },
     "metadata": {},
     "output_type": "display_data"
    }
   ],
   "source": [
    "df <- n-1\n",
    "df"
   ]
  },
  {
   "cell_type": "markdown",
   "metadata": {},
   "source": [
    "Part (d)\n",
    "State the distribution to use for the test.\n",
    "\n",
    "$\\chi^2_{82}$"
   ]
  },
  {
   "cell_type": "markdown",
   "metadata": {},
   "source": [
    "Part (e)\n",
    "What is the test statistic? (Round your answer to two decimal places.)\n",
    "\n",
    "$\\nu \\frac{s^2}{sigma^2} \\sim \\chi^2_{\\nu}$"
   ]
  },
  {
   "cell_type": "code",
   "execution_count": 453,
   "metadata": {},
   "outputs": [
    {
     "data": {
      "text/html": [
       "92.14"
      ],
      "text/latex": [
       "92.14"
      ],
      "text/markdown": [
       "92.14"
      ],
      "text/plain": [
       "[1] 92.14"
      ]
     },
     "metadata": {},
     "output_type": "display_data"
    }
   ],
   "source": [
    "stat <- df*s^2/sigma_0^2\n",
    "round(stat,2)"
   ]
  },
  {
   "cell_type": "markdown",
   "metadata": {},
   "source": [
    "Part (f)\n",
    "What is the p-value? (Round your answer to four decimal places.)"
   ]
  },
  {
   "cell_type": "code",
   "execution_count": 454,
   "metadata": {},
   "outputs": [
    {
     "data": {
      "text/html": [
       "0.2082"
      ],
      "text/latex": [
       "0.2082"
      ],
      "text/markdown": [
       "0.2082"
      ],
      "text/plain": [
       "[1] 0.2082"
      ]
     },
     "metadata": {},
     "output_type": "display_data"
    }
   ],
   "source": [
    "p_value <- 1-pchisq(stat,df)\n",
    "round(p_value,4)"
   ]
  },
  {
   "cell_type": "markdown",
   "metadata": {},
   "source": [
    "Explain what the p-value means for this problem.\n",
    "\n",
    "If H0 is true, then there is a chance equal to the p-value of obtaining a sample standard deviation of 0.53 or more. "
   ]
  },
  {
   "cell_type": "markdown",
   "metadata": {},
   "source": [
    "Part (g)\n",
    "Sketch a picture of this situation. Label and scale the horizontal axis, and shade the region(s) corresponding to the p-value."
   ]
  },
  {
   "cell_type": "code",
   "execution_count": 455,
   "metadata": {},
   "outputs": [
    {
     "data": {
      "image/png": "[encoded data removed]",
      "text/plain": [
       "plot without title"
      ]
     },
     "metadata": {},
     "output_type": "display_data"
    }
   ],
   "source": [
    "curve(dchisq(x,df),from = 0,to = 2*df)\n",
    "abline(v=stat)"
   ]
  },
  {
   "cell_type": "markdown",
   "metadata": {},
   "source": [
    "Part (h)\n",
    "Indicate the correct decision (\"reject\" or \"do not reject\" the null hypothesis), the reason for it, and write the appropriate conclusion."
   ]
  },
  {
   "cell_type": "code",
   "execution_count": 456,
   "metadata": {},
   "outputs": [
    {
     "name": "stdout",
     "output_type": "stream",
     "text": [
      "[1] \"Fail to Reject H0\"\n"
     ]
    }
   ],
   "source": [
    "if ( p_value<alpha ){\n",
    "    print(\"Reject H0\")\n",
    "} else {\n",
    "    print(\"Fail to Reject H0\")\n",
    "}"
   ]
  },
  {
   "cell_type": "markdown",
   "metadata": {},
   "source": [
    "(i) Alpha (Enter an exact number as an integer, fraction, or decimal.)\n",
    "α = 0.05"
   ]
  },
  {
   "cell_type": "code",
   "execution_count": 457,
   "metadata": {
    "collapsed": true
   },
   "outputs": [],
   "source": [
    "alpha <- 0.05"
   ]
  },
  {
   "cell_type": "markdown",
   "metadata": {},
   "source": [
    "(ii) Decision:\n",
    "do not reject the null hypothesis     "
   ]
  },
  {
   "cell_type": "markdown",
   "metadata": {},
   "source": [
    "(iii) Reason for decision:\n",
    "Since α < p-value, we do not reject the null hypothesis. "
   ]
  },
  {
   "cell_type": "markdown",
   "metadata": {},
   "source": [
    "(iv) Conclusion:\n",
    "There is not sufficient evidence to conclude that the machine needs to be recalibrated.     "
   ]
  },
  {
   "cell_type": "markdown",
   "metadata": {},
   "source": [
    "## 16.\n",
    "Isabella, an accomplished Bay to Breakers runner, claims that the standard deviation for her time to run the 7.5 mile race is at most 3 minutes. To test her claim, Rupinder looks up 5 of her race times. They are 54 minutes, 61 minutes, 57 minutes, 62 minutes, and 58 minutes. Conduct a hypothesis test at the 5% level."
   ]
  },
  {
   "cell_type": "code",
   "execution_count": 459,
   "metadata": {},
   "outputs": [
    {
     "data": {
      "text/html": [
       "3.20936130717624"
      ],
      "text/latex": [
       "3.20936130717624"
      ],
      "text/markdown": [
       "3.20936130717624"
      ],
      "text/plain": [
       "[1] 3.209361"
      ]
     },
     "metadata": {},
     "output_type": "display_data"
    }
   ],
   "source": [
    "n <- 5\n",
    "s <- sd(c(54,61,57,62,58))\n",
    "s\n",
    "sigma_0 <- 3\n",
    "alpha <- 0.05"
   ]
  },
  {
   "cell_type": "markdown",
   "metadata": {},
   "source": [
    "Part (a)\n",
    "State the null hypothesis.\n",
    "H0: σ^2 ≤ 3^2"
   ]
  },
  {
   "cell_type": "markdown",
   "metadata": {},
   "source": [
    "Part (b)\n",
    "State the alternative hypothesis.\n",
    "Ha: σ^2 > 3^2"
   ]
  },
  {
   "cell_type": "markdown",
   "metadata": {},
   "source": [
    "Part (c)\n",
    "What are the degrees of freedom? (Enter an exact number as an integer, fraction, or decimal.)\n",
    "\n",
    "$\\nu=5-1=4$"
   ]
  },
  {
   "cell_type": "code",
   "execution_count": 460,
   "metadata": {},
   "outputs": [
    {
     "data": {
      "text/html": [
       "4"
      ],
      "text/latex": [
       "4"
      ],
      "text/markdown": [
       "4"
      ],
      "text/plain": [
       "[1] 4"
      ]
     },
     "metadata": {},
     "output_type": "display_data"
    }
   ],
   "source": [
    "n <- 5\n",
    "df <- n-1\n",
    "df"
   ]
  },
  {
   "cell_type": "markdown",
   "metadata": {},
   "source": [
    "Part (d)\n",
    "State the distribution to use for the test.\n",
    "\n",
    "$\\chi^2_4$"
   ]
  },
  {
   "cell_type": "markdown",
   "metadata": {},
   "source": [
    "Part (e)\n",
    "What is the test statistic? (Round your answer to two decimal places.)"
   ]
  },
  {
   "cell_type": "code",
   "execution_count": 461,
   "metadata": {},
   "outputs": [
    {
     "data": {
      "text/html": [
       "4.58"
      ],
      "text/latex": [
       "4.58"
      ],
      "text/markdown": [
       "4.58"
      ],
      "text/plain": [
       "[1] 4.58"
      ]
     },
     "metadata": {},
     "output_type": "display_data"
    }
   ],
   "source": [
    "stat <- df*s^2/sigma_0^2\n",
    "round(stat,2)"
   ]
  },
  {
   "cell_type": "markdown",
   "metadata": {},
   "source": [
    "Part (f)\n",
    "What is the p-value? (Round your answer to four decimal places.)"
   ]
  },
  {
   "cell_type": "code",
   "execution_count": 462,
   "metadata": {},
   "outputs": [
    {
     "data": {
      "text/html": [
       "0.3334"
      ],
      "text/latex": [
       "0.3334"
      ],
      "text/markdown": [
       "0.3334"
      ],
      "text/plain": [
       "[1] 0.3334"
      ]
     },
     "metadata": {},
     "output_type": "display_data"
    }
   ],
   "source": [
    "p_value <- 1-pchisq(stat,df)\n",
    "round(p_value,4)"
   ]
  },
  {
   "cell_type": "markdown",
   "metadata": {},
   "source": [
    "Explain what the p-value means for this problem.\n",
    "\n",
    "If H0 is true, then there is a chance equal to the p-value of obtaining a sample standard deviation equal to the one calculated here or more."
   ]
  },
  {
   "cell_type": "markdown",
   "metadata": {},
   "source": [
    "Part (g)\n",
    "Sketch a picture of this situation. Label and scale the horizontal axis, and shade the region(s) corresponding to the p-value."
   ]
  },
  {
   "cell_type": "code",
   "execution_count": 463,
   "metadata": {},
   "outputs": [
    {
     "data": {
      "image/png": "[encoded data removed]",
      "text/plain": [
       "plot without title"
      ]
     },
     "metadata": {},
     "output_type": "display_data"
    }
   ],
   "source": [
    "curve(dchisq(x,df),from = 0,to = 3*df)\n",
    "abline(v=stat)"
   ]
  },
  {
   "cell_type": "markdown",
   "metadata": {},
   "source": [
    "Part (h)\n",
    "Indicate the correct decision (\"reject\" or \"do not reject\" the null hypothesis), the reason for it, and write the appropriate conclusion."
   ]
  },
  {
   "cell_type": "markdown",
   "metadata": {},
   "source": [
    "(i) Alpha (Enter an exact number as an integer, fraction, or decimal.)\n",
    "α = 0.05"
   ]
  },
  {
   "cell_type": "code",
   "execution_count": 464,
   "metadata": {},
   "outputs": [
    {
     "name": "stdout",
     "output_type": "stream",
     "text": [
      "[1] \"Fail to Reject H0\"\n"
     ]
    }
   ],
   "source": [
    "if ( p_value<alpha ){\n",
    "    print(\"Reject H0\")\n",
    "} else {\n",
    "    print(\"Fail to Reject H0\")\n",
    "}"
   ]
  },
  {
   "cell_type": "markdown",
   "metadata": {},
   "source": [
    "(ii) Decision:\n",
    "do not reject the null hypothesis     "
   ]
  },
  {
   "cell_type": "markdown",
   "metadata": {},
   "source": [
    "(iii) Reason for decision:\n",
    "Since α < p-value, we do not reject the null hypothesis."
   ]
  },
  {
   "cell_type": "markdown",
   "metadata": {},
   "source": [
    "(iv) Conclusion:\n",
    "There is not sufficient evidence to conclude that the standard deviation is greater than 3.     "
   ]
  },
  {
   "cell_type": "markdown",
   "metadata": {},
   "source": [
    "## 17.\n",
    "The manager of \"Frenchies\" is concerned that patrons are not consistently receiving the same amount of French fries with each order. The chef claims that the standard deviation for a 10-ounce order of fries is at most 1.5 oz., but the manager thinks that it may be higher. He randomly weighs 52 orders of fries, which yields a mean of 11 oz. and a standard deviation of 1.9 oz. Conduct a hypothesis test at the 5% level."
   ]
  },
  {
   "cell_type": "code",
   "execution_count": 465,
   "metadata": {
    "collapsed": true
   },
   "outputs": [],
   "source": [
    "sigma_0 <- 1.5\n",
    "n <- 52\n",
    "x_bar <- 11\n",
    "s <- 1.9"
   ]
  },
  {
   "cell_type": "markdown",
   "metadata": {},
   "source": [
    "Part (a)\n",
    "State the null hypothesis.\n",
    "H0: σ^2 ≤ 1.5^2"
   ]
  },
  {
   "cell_type": "markdown",
   "metadata": {},
   "source": [
    "Part (b)\n",
    "State the alternative hypothesis.\n",
    "Ha: σ^2 > 1.5^2"
   ]
  },
  {
   "cell_type": "markdown",
   "metadata": {},
   "source": [
    "Part (c)\n",
    "What are the degrees of freedom? (Enter an exact number as an integer, fraction, or decimal.)\n",
    "$\\nu=n-1=51$"
   ]
  },
  {
   "cell_type": "code",
   "execution_count": 466,
   "metadata": {},
   "outputs": [
    {
     "data": {
      "text/html": [
       "51"
      ],
      "text/latex": [
       "51"
      ],
      "text/markdown": [
       "51"
      ],
      "text/plain": [
       "[1] 51"
      ]
     },
     "metadata": {},
     "output_type": "display_data"
    }
   ],
   "source": [
    "df <- n-1\n",
    "df"
   ]
  },
  {
   "cell_type": "markdown",
   "metadata": {},
   "source": [
    "Part (d)\n",
    "State the distribution to use for the test.\n",
    "\n",
    "$\\chi^2_{51}$"
   ]
  },
  {
   "cell_type": "markdown",
   "metadata": {},
   "source": [
    "Part (e)\n",
    "What is the test statistic? (Round your answer to two decimal places.)"
   ]
  },
  {
   "cell_type": "code",
   "execution_count": 467,
   "metadata": {},
   "outputs": [
    {
     "data": {
      "text/html": [
       "81.83"
      ],
      "text/latex": [
       "81.83"
      ],
      "text/markdown": [
       "81.83"
      ],
      "text/plain": [
       "[1] 81.83"
      ]
     },
     "metadata": {},
     "output_type": "display_data"
    }
   ],
   "source": [
    "stat <- df*s^2/sigma_0^2\n",
    "round(stat,2)"
   ]
  },
  {
   "cell_type": "markdown",
   "metadata": {},
   "source": [
    "Part (f)\n",
    "What is the p-value? (Round your answer to four decimal places.)"
   ]
  },
  {
   "cell_type": "code",
   "execution_count": 468,
   "metadata": {},
   "outputs": [
    {
     "data": {
      "text/html": [
       "0"
      ],
      "text/latex": [
       "0"
      ],
      "text/markdown": [
       "0"
      ],
      "text/plain": [
       "[1] 0"
      ]
     },
     "metadata": {},
     "output_type": "display_data"
    }
   ],
   "source": [
    "p_value <- 1-pchisq(stat,4)\n",
    "round(p_value,4)"
   ]
  },
  {
   "cell_type": "markdown",
   "metadata": {},
   "source": [
    "Explain what the p-value means for this problem.\n",
    "If H0 is true, then there is a chance equal to the p-value of obtaining a sample standard deviation of 1.9 or more."
   ]
  },
  {
   "cell_type": "markdown",
   "metadata": {},
   "source": [
    "Part (g)\n",
    "Sketch a picture of this situation. Label and scale the horizontal axis, and shade the region(s) corresponding to the p-value."
   ]
  },
  {
   "cell_type": "code",
   "execution_count": 469,
   "metadata": {},
   "outputs": [
    {
     "data": {
      "image/png": "[encoded data removed]",
      "text/plain": [
       "plot without title"
      ]
     },
     "metadata": {},
     "output_type": "display_data"
    }
   ],
   "source": [
    "curve(dchisq(x,df),from = 0,to = 3*df)\n",
    "abline(v=stat)"
   ]
  },
  {
   "cell_type": "markdown",
   "metadata": {},
   "source": [
    "Part (h)\n",
    "Indicate the correct decision (\"reject\" or \"do not reject\" the null hypothesis), the reason for it, and write the appropriate conclusion."
   ]
  },
  {
   "cell_type": "code",
   "execution_count": 470,
   "metadata": {},
   "outputs": [
    {
     "name": "stdout",
     "output_type": "stream",
     "text": [
      "[1] \"Reject H0\"\n"
     ]
    }
   ],
   "source": [
    "if ( p_value<alpha ){\n",
    "    print(\"Reject H0\")\n",
    "} else {\n",
    "    print(\"Fail to Reject H0\")\n",
    "}"
   ]
  },
  {
   "cell_type": "markdown",
   "metadata": {},
   "source": [
    "(i) Alpha (Enter an exact number as an integer, fraction, or decimal.)\n",
    "α = 0.05"
   ]
  },
  {
   "cell_type": "markdown",
   "metadata": {},
   "source": [
    "(ii) Decision:\n",
    "reject the null hypothesis"
   ]
  },
  {
   "cell_type": "markdown",
   "metadata": {},
   "source": [
    "(iii) Reason for decision:\n",
    "Since α > p-value, we reject the null hypothesis. "
   ]
  },
  {
   "cell_type": "markdown",
   "metadata": {},
   "source": [
    "(iv) Conclusion:\n",
    "There is sufficient evidence to conclude that the standard deviation is greater than 1.5. "
   ]
  },
  {
   "cell_type": "markdown",
   "metadata": {},
   "source": [
    "## 18.\n",
    "(a) Explain why a goodness-of-fit test and a test of independence are generally right-tailed tests.\n",
    "\n",
    "The test statistic is always positive.\n",
    "If the expected and observed values are not close together, \n",
    "the test statistic will be large and the null hypothesis will be rejected.  "
   ]
  },
  {
   "cell_type": "markdown",
   "metadata": {},
   "source": [
    "(b) If you did a left-tailed test, what would you be testing?\n",
    "\n",
    "testing to see if the data fits the distribution \"too well\""
   ]
  },
  {
   "cell_type": "markdown",
   "metadata": {},
   "source": [
    "## 19.\n",
    "Three different design configurations are being considered for a particular component. There are four possible failure modes for the component. An engineer obtained the following data on number of failures in each mode for each of the three configurations. Does the configuration appear to have an effect on type of failure?\n",
    "\n",
    "|Configuration\\FailureMode |1  |2  |3 |4 |\n",
    "|--------------|---|---|--|--|\n",
    "|\t1            |20 |44 |17|9 |\n",
    "|\t2 \t         |4  |18 |7 |12|\n",
    "|\t3 \t         |10 |31 |14|5 |"
   ]
  },
  {
   "cell_type": "code",
   "execution_count": 472,
   "metadata": {},
   "outputs": [
    {
     "data": {
      "text/html": [
       "<table>\n",
       "<tbody>\n",
       "\t<tr><td>20</td><td>44</td><td>17</td><td> 9</td></tr>\n",
       "\t<tr><td> 4</td><td>18</td><td> 7</td><td>12</td></tr>\n",
       "\t<tr><td>10</td><td>31</td><td>14</td><td> 5</td></tr>\n",
       "</tbody>\n",
       "</table>\n"
      ],
      "text/latex": [
       "\\begin{tabular}{llll}\n",
       "\t 20 & 44 & 17 &  9\\\\\n",
       "\t  4 & 18 &  7 & 12\\\\\n",
       "\t 10 & 31 & 14 &  5\\\\\n",
       "\\end{tabular}\n"
      ],
      "text/markdown": [
       "\n",
       "| 20 | 44 | 17 |  9 | \n",
       "|  4 | 18 |  7 | 12 | \n",
       "| 10 | 31 | 14 |  5 | \n",
       "\n",
       "\n"
      ],
      "text/plain": [
       "     [,1] [,2] [,3] [,4]\n",
       "[1,] 20   44   17    9  \n",
       "[2,]  4   18    7   12  \n",
       "[3,] 10   31   14    5  "
      ]
     },
     "metadata": {},
     "output_type": "display_data"
    },
    {
     "data": {
      "text/html": [
       "2"
      ],
      "text/latex": [
       "2"
      ],
      "text/markdown": [
       "2"
      ],
      "text/plain": [
       "[1] 2"
      ]
     },
     "metadata": {},
     "output_type": "display_data"
    }
   ],
   "source": [
    "observed_frequency <- rbind(c(20,44,17,9),c(4,18,7,12),c(10,31,14,5))\n",
    "observed_frequency\n",
    "\n",
    "df <- prod(dim(data)-1)\n",
    "df"
   ]
  },
  {
   "cell_type": "markdown",
   "metadata": {},
   "source": [
    "State the appropriate hypotheses.\n",
    "H0: $p_{ij} = p_i \\cdot p_j$  i = 1, 2, 3; j = 1, 2, 3, 4\n",
    "Ha: at least one $p_{ij} ≠ p_i \\cdot p_j$"
   ]
  },
  {
   "cell_type": "markdown",
   "metadata": {},
   "source": [
    "Compute the test statistic value. (Round your answer to three decimal places.)"
   ]
  },
  {
   "cell_type": "code",
   "execution_count": 473,
   "metadata": {},
   "outputs": [
    {
     "data": {
      "text/html": [
       "12.865"
      ],
      "text/latex": [
       "12.865"
      ],
      "text/markdown": [
       "12.865"
      ],
      "text/plain": [
       "[1] 12.865"
      ]
     },
     "metadata": {},
     "output_type": "display_data"
    }
   ],
   "source": [
    "expected_frequency <- outer(rowSums(observed_frequency),colSums(observed_frequency))/sum(observed_frequency)\n",
    "stat <- sum((observed_frequency-expected_frequency)^2/expected_frequency)\n",
    "round(stat,3)"
   ]
  },
  {
   "cell_type": "markdown",
   "metadata": {},
   "source": [
    "What can you say about the P-value?\n",
    "0.025 < P-value < 0.05 "
   ]
  },
  {
   "cell_type": "code",
   "execution_count": 474,
   "metadata": {},
   "outputs": [
    {
     "data": {
      "text/html": [
       "0.0016"
      ],
      "text/latex": [
       "0.0016"
      ],
      "text/markdown": [
       "0.0016"
      ],
      "text/plain": [
       "[1] 0.0016"
      ]
     },
     "metadata": {},
     "output_type": "display_data"
    }
   ],
   "source": [
    "p_value <- 1-pchisq(stat,df)\n",
    "round(p_value,4)"
   ]
  },
  {
   "cell_type": "markdown",
   "metadata": {},
   "source": [
    "State the conclusion in the problem context. (Use α = 0.05.)\n",
    "Reject H0. There is evidence that configuration has a significant effect on type of failure. "
   ]
  },
  {
   "cell_type": "code",
   "execution_count": 475,
   "metadata": {},
   "outputs": [
    {
     "name": "stdout",
     "output_type": "stream",
     "text": [
      "[1] \"Reject H0\"\n"
     ]
    }
   ],
   "source": [
    "alpha <- 0.05\n",
    "if ( p_value<alpha ){\n",
    "    print(\"Reject H0\")\n",
    "} else {\n",
    "    print(\"Fail to Reject H0\")\n",
    "}"
   ]
  },
  {
   "cell_type": "code",
   "execution_count": 476,
   "metadata": {},
   "outputs": [
    {
     "data": {
      "text/plain": [
       "\n",
       "\tPearson's Chi-squared test\n",
       "\n",
       "data:  observed_frequency\n",
       "X-squared = 12.865, df = 6, p-value = 0.04523\n"
      ]
     },
     "metadata": {},
     "output_type": "display_data"
    }
   ],
   "source": [
    "#check answer \n",
    "chisq.test(observed_frequency)"
   ]
  },
  {
   "cell_type": "markdown",
   "metadata": {},
   "source": [
    "## 20.\n",
    "Consider the accompanying 2 × 3 table displaying the sample proportions that fell in the various combinations of categories (e.g., 13% of those in the sample were in the first category of both factors).\n",
    "\n",
    "|  |1     |2 \t   |3   |\n",
    "|--|------|------|----|\n",
    "|1 |0.13 \t|0.20  |0.28|\n",
    "|2 |0.08 \t|0.10  |0.21|"
   ]
  },
  {
   "cell_type": "code",
   "execution_count": 477,
   "metadata": {},
   "outputs": [
    {
     "data": {
      "text/html": [
       "<table>\n",
       "<tbody>\n",
       "\t<tr><td>0.13</td><td>0.2 </td><td>0.28</td></tr>\n",
       "\t<tr><td>0.08</td><td>0.1 </td><td>0.21</td></tr>\n",
       "</tbody>\n",
       "</table>\n"
      ],
      "text/latex": [
       "\\begin{tabular}{lll}\n",
       "\t 0.13 & 0.2  & 0.28\\\\\n",
       "\t 0.08 & 0.1  & 0.21\\\\\n",
       "\\end{tabular}\n"
      ],
      "text/markdown": [
       "\n",
       "| 0.13 | 0.2  | 0.28 | \n",
       "| 0.08 | 0.1  | 0.21 | \n",
       "\n",
       "\n"
      ],
      "text/plain": [
       "     [,1] [,2] [,3]\n",
       "[1,] 0.13 0.2  0.28\n",
       "[2,] 0.08 0.1  0.21"
      ]
     },
     "metadata": {},
     "output_type": "display_data"
    }
   ],
   "source": [
    "observed_proportion <- rbind(c(0.13,0.20,0.28),c(0.08,0.10,0.21))\n",
    "observed_proportion"
   ]
  },
  {
   "cell_type": "markdown",
   "metadata": {},
   "source": [
    "(a) Suppose the sample consisted of n = 100 people. Use the chi-squared test for independence with significance level 0.10. State the appropriate hypotheses.\n",
    "H0: pij = pi · pj for every pair (i, j)\n",
    "Ha: at least one pij ≠ pi · pj"
   ]
  },
  {
   "cell_type": "code",
   "execution_count": 486,
   "metadata": {
    "collapsed": true
   },
   "outputs": [],
   "source": [
    "n <- 100\n",
    "alpha <- 0.1\n",
    "df <- prod(dim(data)-1)\n",
    "observed_frequency <- n*observed_proportion\n",
    "expected_frequency <- outer(rowSums(observed_frequency),colSums(observed_frequency))/sum(observed_frequency)"
   ]
  },
  {
   "cell_type": "markdown",
   "metadata": {},
   "source": [
    "Calculate the test statistic. (Round your answer to two decimal places.)"
   ]
  },
  {
   "cell_type": "code",
   "execution_count": 487,
   "metadata": {},
   "outputs": [
    {
     "data": {
      "text/html": [
       "0.72"
      ],
      "text/latex": [
       "0.72"
      ],
      "text/markdown": [
       "0.72"
      ],
      "text/plain": [
       "[1] 0.72"
      ]
     },
     "metadata": {},
     "output_type": "display_data"
    }
   ],
   "source": [
    "stat <- sum((observed_frequency-expected_frequency)^2/expected_frequency)\n",
    "round(stat,2)"
   ]
  },
  {
   "cell_type": "markdown",
   "metadata": {},
   "source": [
    "What can be said about the P-value for the test?\n",
    "P-value > 0.10 "
   ]
  },
  {
   "cell_type": "code",
   "execution_count": 488,
   "metadata": {},
   "outputs": [
    {
     "data": {
      "text/html": [
       "0.6982"
      ],
      "text/latex": [
       "0.6982"
      ],
      "text/markdown": [
       "0.6982"
      ],
      "text/plain": [
       "[1] 0.6982"
      ]
     },
     "metadata": {},
     "output_type": "display_data"
    }
   ],
   "source": [
    "p_value <- 1-pchisq(stat,df)\n",
    "round(p_value,4)"
   ]
  },
  {
   "cell_type": "markdown",
   "metadata": {},
   "source": [
    "State the conclusion in the problem context.\n",
    "\n",
    "Fail to reject H0. \n",
    "\n",
    "An individual's category with respect to factor 1 is independent of the category with respect to factor 2."
   ]
  },
  {
   "cell_type": "code",
   "execution_count": 489,
   "metadata": {},
   "outputs": [
    {
     "data": {
      "text/plain": [
       "\n",
       "\tPearson's Chi-squared test\n",
       "\n",
       "data:  observed_frequency\n",
       "X-squared = 0.71859, df = 2, p-value = 0.6982\n"
      ]
     },
     "metadata": {},
     "output_type": "display_data"
    }
   ],
   "source": [
    "chisq.test(observed_frequency)"
   ]
  },
  {
   "cell_type": "code",
   "execution_count": 490,
   "metadata": {},
   "outputs": [
    {
     "name": "stdout",
     "output_type": "stream",
     "text": [
      "[1] \"Fail to Reject H0\"\n"
     ]
    }
   ],
   "source": [
    "if ( p_value<alpha ){\n",
    "    print(\"Reject H0\")\n",
    "} else {\n",
    "    print(\"Fail to Reject H0\")\n",
    "}"
   ]
  },
  {
   "cell_type": "markdown",
   "metadata": {},
   "source": [
    "(b) Suppose the sample consisted of n = 1000 people. Use the chi-squared test for independence with significance level 0.10.\n",
    "Calculate the test statistic. (Round your answer to two decimal places.)\n",
    "χ2 = "
   ]
  },
  {
   "cell_type": "code",
   "execution_count": 491,
   "metadata": {},
   "outputs": [
    {
     "data": {
      "text/html": [
       "7.19"
      ],
      "text/latex": [
       "7.19"
      ],
      "text/markdown": [
       "7.19"
      ],
      "text/plain": [
       "[1] 7.19"
      ]
     },
     "metadata": {},
     "output_type": "display_data"
    },
    {
     "data": {
      "text/html": [
       "0.0275"
      ],
      "text/latex": [
       "0.0275"
      ],
      "text/markdown": [
       "0.0275"
      ],
      "text/plain": [
       "[1] 0.0275"
      ]
     },
     "metadata": {},
     "output_type": "display_data"
    }
   ],
   "source": [
    "n <- 1000\n",
    "alpha <- 0.1\n",
    "observed_frequency <- n*observed_proportion\n",
    "expected_frequency <- outer(rowSums(observed_frequency),colSums(observed_frequency))/sum(observed_frequency)\n",
    "stat <- sum((observed_frequency-expected_frequency)^2/expected_frequency)\n",
    "round(stat,2)\n",
    "p_value <- 1-pchisq(stat,df)\n",
    "round(p_value,4)"
   ]
  },
  {
   "cell_type": "markdown",
   "metadata": {},
   "source": [
    "What can be said about the P-value for the test?\n",
    "0.025 < P-value < 0.05 "
   ]
  },
  {
   "cell_type": "code",
   "execution_count": 492,
   "metadata": {},
   "outputs": [
    {
     "name": "stdout",
     "output_type": "stream",
     "text": [
      "[1] \"Reject H0\"\n"
     ]
    }
   ],
   "source": [
    "if ( p_value<alpha ){\n",
    "    print(\"Reject H0\")\n",
    "} else {\n",
    "    print(\"Fail to Reject H0\")\n",
    "}"
   ]
  },
  {
   "cell_type": "markdown",
   "metadata": {},
   "source": [
    "State the conclusion in the problem context.\n",
    "\n",
    "Reject H0. \n",
    "\n",
    "An individual's category with respect to factor 1 is not independent of the category with respect to factor 2. "
   ]
  },
  {
   "cell_type": "code",
   "execution_count": 493,
   "metadata": {},
   "outputs": [
    {
     "data": {
      "text/plain": [
       "\n",
       "\tPearson's Chi-squared test\n",
       "\n",
       "data:  observed_frequency\n",
       "X-squared = 7.1859, df = 2, p-value = 0.02752\n"
      ]
     },
     "metadata": {},
     "output_type": "display_data"
    }
   ],
   "source": [
    "#check answer\n",
    "chisq.test(observed_frequency)"
   ]
  },
  {
   "cell_type": "markdown",
   "metadata": {},
   "source": [
    "(c) What is the smallest sample size n for which these observed proportions would result in rejection of the independence hypothesis? (Round your answer up to the next whole number.)\n",
    "n = "
   ]
  },
  {
   "cell_type": "code",
   "execution_count": 494,
   "metadata": {},
   "outputs": [
    {
     "data": {
      "text/html": [
       "641"
      ],
      "text/latex": [
       "641"
      ],
      "text/markdown": [
       "641"
      ],
      "text/plain": [
       "[1] 641"
      ]
     },
     "metadata": {},
     "output_type": "display_data"
    }
   ],
   "source": [
    "alpha <- 0.1\n",
    "stat <- qchisq(1-alpha,df)\n",
    "expected_proportion <- outer(rowSums(observed_proportion),colSums(observed_proportion))/sum(observed_proportion)\n",
    "pseudo_stat <- sum((observed_proportion-expected_proportion)^2/expected_proportion)\n",
    "n <- ceiling(stat/pseudo_stat)\n",
    "n"
   ]
  },
  {
   "cell_type": "markdown",
   "metadata": {},
   "source": [
    "## 21.\n",
    "The accompanying data refers to leaf marks found on white clover samples selected from both long-grass areas and short-grass areas. Use a χ2 test to decide whether the true proportions of different marks are identical for the two types of regions. (Use α = 0.01.)\n",
    "\n",
    "\t \t\n",
    "|Grass\\Mark       |L   |LL |Y+YL |O   |Others|\n",
    "|-----------------|----|---|-----|----|------|\n",
    "|Long-Grass Areas |406 |11 |22   |7   |277   |\n",
    "|Short-GrassAreas |509 |4  |14   |11  |220   |"
   ]
  },
  {
   "cell_type": "code",
   "execution_count": 495,
   "metadata": {},
   "outputs": [
    {
     "data": {
      "text/html": [
       "<table>\n",
       "<tbody>\n",
       "\t<tr><td>406</td><td>11 </td><td>22 </td><td> 7 </td><td>277</td></tr>\n",
       "\t<tr><td>509</td><td> 4 </td><td>14 </td><td>11 </td><td>220</td></tr>\n",
       "</tbody>\n",
       "</table>\n"
      ],
      "text/latex": [
       "\\begin{tabular}{lllll}\n",
       "\t 406 & 11  & 22  &  7  & 277\\\\\n",
       "\t 509 &  4  & 14  & 11  & 220\\\\\n",
       "\\end{tabular}\n"
      ],
      "text/markdown": [
       "\n",
       "| 406 | 11  | 22  |  7  | 277 | \n",
       "| 509 |  4  | 14  | 11  | 220 | \n",
       "\n",
       "\n"
      ],
      "text/plain": [
       "     [,1] [,2] [,3] [,4] [,5]\n",
       "[1,] 406  11   22    7   277 \n",
       "[2,] 509   4   14   11   220 "
      ]
     },
     "metadata": {},
     "output_type": "display_data"
    }
   ],
   "source": [
    "observed_frequency <- rbind(c(406,11,22,7,277),c(509,4,14,11,220))\n",
    "observed_frequency"
   ]
  },
  {
   "cell_type": "markdown",
   "metadata": {},
   "source": [
    "State the appropriate hypotheses.\n",
    "H0: p1j = p2j      j = 1, 2, 3, 4, 5\n",
    "\n",
    "Ha: at least one p1j ≠ p2j"
   ]
  },
  {
   "cell_type": "markdown",
   "metadata": {},
   "source": [
    "Calculate the test statistic. (Round your answer to two decimal places.)"
   ]
  },
  {
   "cell_type": "code",
   "execution_count": 496,
   "metadata": {},
   "outputs": [
    {
     "data": {
      "text/html": [
       "23.25"
      ],
      "text/latex": [
       "23.25"
      ],
      "text/markdown": [
       "23.25"
      ],
      "text/plain": [
       "[1] 23.25"
      ]
     },
     "metadata": {},
     "output_type": "display_data"
    }
   ],
   "source": [
    "df <- prod(dim(observed_frequency)-1)\n",
    "expected_frequency <- outer(rowSums(observed_frequency),colSums(observed_frequency))/sum(observed_frequency)\n",
    "stat <- sum((observed_frequency-expected_frequency)^2/expected_frequency)\n",
    "round(stat,2)"
   ]
  },
  {
   "cell_type": "markdown",
   "metadata": {},
   "source": [
    "What can be said about the P-value for the test?\n",
    "P-value < 0.005 "
   ]
  },
  {
   "cell_type": "code",
   "execution_count": 497,
   "metadata": {},
   "outputs": [
    {
     "data": {
      "text/html": [
       "1e-04"
      ],
      "text/latex": [
       "1e-04"
      ],
      "text/markdown": [
       "1e-04"
      ],
      "text/plain": [
       "[1] 1e-04"
      ]
     },
     "metadata": {},
     "output_type": "display_data"
    }
   ],
   "source": [
    "p_value <- 1-pchisq(stat,df)\n",
    "round(p_value,4)"
   ]
  },
  {
   "cell_type": "markdown",
   "metadata": {},
   "source": [
    "State the conclusion in the problem context.\n",
    "Reject H0. There is evidence that the proportions are different. "
   ]
  },
  {
   "cell_type": "code",
   "execution_count": 498,
   "metadata": {},
   "outputs": [
    {
     "name": "stdout",
     "output_type": "stream",
     "text": [
      "[1] \"Reject H0\"\n"
     ]
    }
   ],
   "source": [
    "if ( p_value<alpha ){\n",
    "    print(\"Reject H0\")\n",
    "} else {\n",
    "    print(\"Fail to Reject H0\")\n",
    "}"
   ]
  },
  {
   "cell_type": "markdown",
   "metadata": {},
   "source": [
    "## 22.\n",
    "Each individual in a random sample of high school and college students was cross-classified with respect to both political views and marijuana usage, resulting in the data displayed in the accompanying two-way table. Does the data support the hypothesis that political views and marijuana usage level are independent within the population? Test the appropriate hypotheses using level of significance 0.01.\n",
    "\n",
    "|Political Views\\Usage Level |Never \t|Rarely \t|Frequently|\n",
    "|----------------------------|--------|---------|----------|\n",
    "|Liberal                     |476 \t  |173 \t    |116       |\n",
    "|Conservative \t             |211 \t  |49 \t    |14        |\n",
    "|Other \t                     |171 \t  |47 \t    |86        |"
   ]
  },
  {
   "cell_type": "code",
   "execution_count": 499,
   "metadata": {},
   "outputs": [
    {
     "data": {
      "text/html": [
       "4"
      ],
      "text/latex": [
       "4"
      ],
      "text/markdown": [
       "4"
      ],
      "text/plain": [
       "[1] 4"
      ]
     },
     "metadata": {},
     "output_type": "display_data"
    }
   ],
   "source": [
    "observed_frequency <- rbind(c(476,173,116),c(211,49,14),c(171,47,86))\n",
    "df <- prod(dim(observed_frequency)-1)\n",
    "df"
   ]
  },
  {
   "cell_type": "markdown",
   "metadata": {},
   "source": [
    "State the appropriate hypotheses.\n",
    "H0: pij = pi· · p·j    i = 1, 2, 3; j = 1, 2, 3\n",
    "Ha: at least one pij ≠ pi· · p·j"
   ]
  },
  {
   "cell_type": "markdown",
   "metadata": {},
   "source": [
    "Calculate the test statistic. (Round your answer to two decimal places.)"
   ]
  },
  {
   "cell_type": "code",
   "execution_count": 500,
   "metadata": {},
   "outputs": [
    {
     "data": {
      "text/html": [
       "65.92"
      ],
      "text/latex": [
       "65.92"
      ],
      "text/markdown": [
       "65.92"
      ],
      "text/plain": [
       "[1] 65.92"
      ]
     },
     "metadata": {},
     "output_type": "display_data"
    }
   ],
   "source": [
    "df <- prod(dim(observed_frequency)-1)\n",
    "expected_frequency <- outer(rowSums(observed_frequency),colSums(observed_frequency))/sum(observed_frequency)\n",
    "stat <- sum((observed_frequency-expected_frequency)^2/expected_frequency)\n",
    "round(stat,2)"
   ]
  },
  {
   "cell_type": "markdown",
   "metadata": {},
   "source": [
    "What can be said about the P-value for the test?\n",
    "P-value < 0.005 "
   ]
  },
  {
   "cell_type": "code",
   "execution_count": 501,
   "metadata": {},
   "outputs": [
    {
     "data": {
      "text/html": [
       "1.64646074551911e-13"
      ],
      "text/latex": [
       "1.64646074551911e-13"
      ],
      "text/markdown": [
       "1.64646074551911e-13"
      ],
      "text/plain": [
       "[1] 1.646461e-13"
      ]
     },
     "metadata": {},
     "output_type": "display_data"
    }
   ],
   "source": [
    "p_value <- 1-pchisq(stat,df)\n",
    "p_value"
   ]
  },
  {
   "cell_type": "markdown",
   "metadata": {},
   "source": [
    "State the conclusion in the problem context.\n",
    "Reject H0. There is evidence that political views and level of marijuana usage are related. "
   ]
  },
  {
   "cell_type": "code",
   "execution_count": 502,
   "metadata": {},
   "outputs": [
    {
     "name": "stdout",
     "output_type": "stream",
     "text": [
      "[1] \"Reject H0\"\n"
     ]
    }
   ],
   "source": [
    "if ( p_value<alpha ){\n",
    "    print(\"Reject H0\")\n",
    "} else {\n",
    "    print(\"Fail to Reject H0\")\n",
    "}"
   ]
  },
  {
   "cell_type": "code",
   "execution_count": 503,
   "metadata": {},
   "outputs": [
    {
     "data": {
      "text/plain": [
       "\n",
       "\tPearson's Chi-squared test\n",
       "\n",
       "data:  observed_frequency\n",
       "X-squared = 65.92, df = 4, p-value = 1.647e-13\n"
      ]
     },
     "metadata": {},
     "output_type": "display_data"
    }
   ],
   "source": [
    "#check answer\n",
    "chisq.test(observed_frequency)"
   ]
  },
  {
   "cell_type": "markdown",
   "metadata": {},
   "source": [
    "## 23.\n",
    "Qualifications of male and female head and assistant college athletic coaches were compared in an article. Each person in random samples of 2217 male coaches and 1135 female coaches was classified according to number of years of coaching experience to obtain the accompanying two-way table. Is there enough evidence to conclude that the proportions falling into the experience categories are different for men and women? Use α = 0.01.\n",
    "\n",
    "|Gender\\Years of Experience  |1–3   |4–6  |7–9  |10–12  |13+|  \n",
    "|----------------------------|------|-----|-----|-------|---|\n",
    "|Male \t                     |198 \t|370 \t|478 \t|356 \t  |815|\n",
    "|Female \t                   |230 \t|245 \t|240 \t|162 \t  |258|"
   ]
  },
  {
   "cell_type": "code",
   "execution_count": 504,
   "metadata": {},
   "outputs": [
    {
     "data": {
      "text/html": [
       "<table>\n",
       "<tbody>\n",
       "\t<tr><td>198</td><td>370</td><td>478</td><td>356</td><td>815</td></tr>\n",
       "\t<tr><td>230</td><td>245</td><td>240</td><td>162</td><td>258</td></tr>\n",
       "</tbody>\n",
       "</table>\n"
      ],
      "text/latex": [
       "\\begin{tabular}{lllll}\n",
       "\t 198 & 370 & 478 & 356 & 815\\\\\n",
       "\t 230 & 245 & 240 & 162 & 258\\\\\n",
       "\\end{tabular}\n"
      ],
      "text/markdown": [
       "\n",
       "| 198 | 370 | 478 | 356 | 815 | \n",
       "| 230 | 245 | 240 | 162 | 258 | \n",
       "\n",
       "\n"
      ],
      "text/plain": [
       "     [,1] [,2] [,3] [,4] [,5]\n",
       "[1,] 198  370  478  356  815 \n",
       "[2,] 230  245  240  162  258 "
      ]
     },
     "metadata": {},
     "output_type": "display_data"
    }
   ],
   "source": [
    "observed_frequency <- rbind(c(198,370,478,356,815),c(230,245,240,162,258))\n",
    "observed_frequency"
   ]
  },
  {
   "cell_type": "markdown",
   "metadata": {},
   "source": [
    "State the appropriate hypotheses.\n",
    "H0: p1j = p2j      j = 1, 2, 3, 4, 5\n",
    "Ha: at least one p1j ≠ p2j "
   ]
  },
  {
   "cell_type": "markdown",
   "metadata": {},
   "source": [
    "Calculate the test statistic. (Round your answer to two decimal places.)"
   ]
  },
  {
   "cell_type": "code",
   "execution_count": 505,
   "metadata": {},
   "outputs": [
    {
     "data": {
      "text/html": [
       "133.09"
      ],
      "text/latex": [
       "133.09"
      ],
      "text/markdown": [
       "133.09"
      ],
      "text/plain": [
       "[1] 133.09"
      ]
     },
     "metadata": {},
     "output_type": "display_data"
    }
   ],
   "source": [
    "df <- prod(dim(observed_frequency)-1)\n",
    "expected_frequency <- outer(rowSums(observed_frequency),colSums(observed_frequency))/sum(observed_frequency)\n",
    "stat <- sum((observed_frequency-expected_frequency)^2/expected_frequency)\n",
    "round(stat,2)"
   ]
  },
  {
   "cell_type": "markdown",
   "metadata": {},
   "source": [
    "What can be said about the P-value for the test?\n",
    "P-value < 0.005 "
   ]
  },
  {
   "cell_type": "code",
   "execution_count": 506,
   "metadata": {},
   "outputs": [
    {
     "data": {
      "text/html": [
       "0"
      ],
      "text/latex": [
       "0"
      ],
      "text/markdown": [
       "0"
      ],
      "text/plain": [
       "[1] 0"
      ]
     },
     "metadata": {},
     "output_type": "display_data"
    }
   ],
   "source": [
    "p_value <- 1-pchisq(stat,df)\n",
    "p_value"
   ]
  },
  {
   "cell_type": "markdown",
   "metadata": {},
   "source": [
    "State the conclusion in the problem context.\n",
    "\n",
    "Reject H0. \n",
    "\n",
    "There is evidence that the proportions of male and female coaches falling into these experience categories are very different. "
   ]
  },
  {
   "cell_type": "code",
   "execution_count": 507,
   "metadata": {},
   "outputs": [
    {
     "data": {
      "text/plain": [
       "\n",
       "\tPearson's Chi-squared test\n",
       "\n",
       "data:  observed_frequency\n",
       "X-squared = 133.09, df = 4, p-value < 2.2e-16\n"
      ]
     },
     "metadata": {},
     "output_type": "display_data"
    }
   ],
   "source": [
    "#check answer\n",
    "chisq.test(observed_frequency)"
   ]
  },
  {
   "cell_type": "markdown",
   "metadata": {},
   "source": [
    "## 24.\n",
    "It is hypothesized that when homing pigeons are disoriented in a certain manner, they will exhibit no preference for any direction of flight after takeoff (so that the direction X should be uniformly distributed on the interval from 0° to 360°). To test this, 120 pigeons are disoriented, let loose, and the direction of flight of each is recorded; the resulting data follows. Use the chi-squared test at level 0.10 to see whether the data supports the hypothesis.\n",
    "\n",
    "|Direction |0−<45° |45−<90° |90−<135° |135−<180° |180−<225° |225−<270° |270−<315° |315−<360° |\n",
    "|----------|-------|--------|---------|----------|----------|----------|----------|----------|\n",
    "|Frequency |12 \t   |17 \t    |16 \t    |15        |13 \t      |19 \t     |17 \t      |11        |"
   ]
  },
  {
   "cell_type": "code",
   "execution_count": 508,
   "metadata": {
    "collapsed": true
   },
   "outputs": [],
   "source": [
    "alpha <- 0.10\n",
    "observed_frequency <- c(12,17,16,15,13,19,17,11)\n",
    "n <- sum(observed_frequency)\n",
    "df <- 8-1\n",
    "expected_frequency <- rep(n/8,8)"
   ]
  },
  {
   "cell_type": "markdown",
   "metadata": {},
   "source": [
    "\n",
    "State the appropriate hypotheses.\n",
    "H0: p1 = p2 = ... = p8 = 0.125\n",
    "Ha: at least one pi ≠ 0.125     "
   ]
  },
  {
   "cell_type": "markdown",
   "metadata": {},
   "source": [
    "Calculate the test statistic. (Round your answer to two decimal places.)"
   ]
  },
  {
   "cell_type": "code",
   "execution_count": 509,
   "metadata": {},
   "outputs": [
    {
     "data": {
      "text/html": [
       "3.6"
      ],
      "text/latex": [
       "3.6"
      ],
      "text/markdown": [
       "3.6"
      ],
      "text/plain": [
       "[1] 3.6"
      ]
     },
     "metadata": {},
     "output_type": "display_data"
    }
   ],
   "source": [
    "stat <- sum((observed_frequency-expected_frequency)^2/expected_frequency)\n",
    "round(stat,2)"
   ]
  },
  {
   "cell_type": "markdown",
   "metadata": {},
   "source": [
    "What can be said about the P-value for the test?\n",
    "P-value > 0.10 "
   ]
  },
  {
   "cell_type": "code",
   "execution_count": 510,
   "metadata": {},
   "outputs": [
    {
     "data": {
      "text/html": [
       "0.824522898857651"
      ],
      "text/latex": [
       "0.824522898857651"
      ],
      "text/markdown": [
       "0.824522898857651"
      ],
      "text/plain": [
       "[1] 0.8245229"
      ]
     },
     "metadata": {},
     "output_type": "display_data"
    }
   ],
   "source": [
    "p_value <- 1-pchisq(stat,df)\n",
    "p_value"
   ]
  },
  {
   "cell_type": "markdown",
   "metadata": {},
   "source": [
    "State the conclusion in the problem context.\n",
    "Fail to reject H0. There is not enough evidence to disprove the claim. "
   ]
  },
  {
   "cell_type": "code",
   "execution_count": 511,
   "metadata": {},
   "outputs": [
    {
     "name": "stdout",
     "output_type": "stream",
     "text": [
      "[1] \"Fail to Reject H0\"\n"
     ]
    }
   ],
   "source": [
    " if ( p_value<alpha ){\n",
    "    print(\"Reject H0\")\n",
    "} else {\n",
    "    print(\"Fail to Reject H0\")\n",
    "}"
   ]
  },
  {
   "cell_type": "markdown",
   "metadata": {},
   "source": [
    "## 25.\n",
    "An article made a strong case for central statistical monitoring as an alternative to more expensive onsite data verification. It suggested various methods for identifying data characteristics such as outliers, incorrect dates, anomalous data patterns, unusual correlation structures, and digit preference. Benford's Law gives a probability model for the first significant digit in many large data sets:\n",
    "$p(x) = log_{10}\\left(\\frac{(x + 1)}{x}\\right)$ for x = 1, 2, ..., 9.\n",
    "\n",
    "|Digit |1 \t|2 \t|3 \t|4 \t|5 \t|6 \t|7 \t|8 \t|9  |\n",
    "|------|----|---|---|---|---|---|---|---|---|\n",
    "|Freq. |343 |180|165|155|83 |65 |51 |49 |55 |\n",
    "\n",
    "\n",
    "\n",
    "Carry out a test of hypotheses to see whether or not these frequencies are consistent with Benford's Law using a significance level of 0.05. "
   ]
  },
  {
   "cell_type": "code",
   "execution_count": 512,
   "metadata": {},
   "outputs": [
    {
     "data": {
      "text/html": [
       "<ol class=list-inline>\n",
       "\t<li>0.301</li>\n",
       "\t<li>0.1761</li>\n",
       "\t<li>0.1249</li>\n",
       "\t<li>0.0969</li>\n",
       "\t<li>0.0792</li>\n",
       "\t<li>0.0669</li>\n",
       "\t<li>0.058</li>\n",
       "\t<li>0.0512</li>\n",
       "\t<li>0.0458</li>\n",
       "</ol>\n"
      ],
      "text/latex": [
       "\\begin{enumerate*}\n",
       "\\item 0.301\n",
       "\\item 0.1761\n",
       "\\item 0.1249\n",
       "\\item 0.0969\n",
       "\\item 0.0792\n",
       "\\item 0.0669\n",
       "\\item 0.058\n",
       "\\item 0.0512\n",
       "\\item 0.0458\n",
       "\\end{enumerate*}\n"
      ],
      "text/markdown": [
       "1. 0.301\n",
       "2. 0.1761\n",
       "3. 0.1249\n",
       "4. 0.0969\n",
       "5. 0.0792\n",
       "6. 0.0669\n",
       "7. 0.058\n",
       "8. 0.0512\n",
       "9. 0.0458\n",
       "\n",
       "\n"
      ],
      "text/plain": [
       "[1] 0.3010 0.1761 0.1249 0.0969 0.0792 0.0669 0.0580 0.0512 0.0458"
      ]
     },
     "metadata": {},
     "output_type": "display_data"
    }
   ],
   "source": [
    "digits <- 1:9\n",
    "df <- length(digits)-1\n",
    "observed_frequency <- c(343,180,165,155,83,65,51,49,55)\n",
    "n <- sum(observed_frequency)\n",
    "expected_proportion <- log10((digits+1)/(digits))\n",
    "round(expected_proportion,4)\n",
    "expected_frequency <- n*expected_proportion"
   ]
  },
  {
   "cell_type": "markdown",
   "metadata": {},
   "source": [
    "State the appropriate hypotheses. (Round your answers to four decimal places.)\n",
    "\n",
    "H0: p1 = 0.3010, p2 = 0.1761, p3 = 0.1249, p4 = 0.0969, p5 = 0.0792, p6 = 0.0669, p7 = 0.0580, p8 = 0.0512, p9 = 0.0458\n",
    "\n",
    "Ha: at least one pi ≠ pi0"
   ]
  },
  {
   "cell_type": "markdown",
   "metadata": {},
   "source": [
    "Calculate the test statistic. (Round your answer to two decimal places.) "
   ]
  },
  {
   "cell_type": "code",
   "execution_count": 513,
   "metadata": {},
   "outputs": [
    {
     "data": {
      "text/html": [
       "30.83"
      ],
      "text/latex": [
       "30.83"
      ],
      "text/markdown": [
       "30.83"
      ],
      "text/plain": [
       "[1] 30.83"
      ]
     },
     "metadata": {},
     "output_type": "display_data"
    }
   ],
   "source": [
    "stat <- sum((observed_frequency-expected_frequency)^2/expected_frequency)\n",
    "round(stat,2)"
   ]
  },
  {
   "cell_type": "markdown",
   "metadata": {},
   "source": [
    "What can be said about the P-value for the test?\n",
    "P-value < 0.005 "
   ]
  },
  {
   "cell_type": "code",
   "execution_count": 514,
   "metadata": {},
   "outputs": [
    {
     "data": {
      "text/html": [
       "0.000150726473341134"
      ],
      "text/latex": [
       "0.000150726473341134"
      ],
      "text/markdown": [
       "0.000150726473341134"
      ],
      "text/plain": [
       "[1] 0.0001507265"
      ]
     },
     "metadata": {},
     "output_type": "display_data"
    }
   ],
   "source": [
    "p_value <- 1-pchisq(stat,df)\n",
    "p_value"
   ]
  },
  {
   "cell_type": "markdown",
   "metadata": {},
   "source": [
    "State the conclusion in the problem context. \n",
    "\n",
    "Reject H0. There is enough evidence to conclude that at least one of the first significant digits deviates from Benford's law."
   ]
  },
  {
   "cell_type": "markdown",
   "metadata": {},
   "source": [
    "## 26.\n",
    "Criminologists have long debated whether there is a relationship between weather conditions and the incidence of violent crime. The author of an article classified 1358 homicides according to season, resulting in the accompanying data. Test the null hypothesis of equal proportions using α = 0.01.\n",
    "\n",
    "|Winter |Spring |Summer |Fall |\n",
    "|-------|-------|-------|-----|\n",
    "|328 \t  |333    |372    |325  |"
   ]
  },
  {
   "cell_type": "code",
   "execution_count": 515,
   "metadata": {
    "collapsed": true
   },
   "outputs": [],
   "source": [
    "alpha <- 0.01\n",
    "observed_frequency <- c(328,333,372,325)\n",
    "df <- length(observed_frequency)-1\n",
    "n <- sum(observed_frequency)"
   ]
  },
  {
   "cell_type": "markdown",
   "metadata": {},
   "source": [
    "State the appropriate hypotheses.\n",
    "H0: p1 = p2 = p3 = p4 = 0.25\n",
    "Ha: at least one pi does not equal 0.25"
   ]
  },
  {
   "cell_type": "code",
   "execution_count": 516,
   "metadata": {
    "collapsed": true
   },
   "outputs": [],
   "source": [
    "expected_proportion <- rep(1/4,4)\n",
    "expected_frequency  <- n*expected_proportion"
   ]
  },
  {
   "cell_type": "markdown",
   "metadata": {},
   "source": [
    "Compute the test statistic value. (Round your answer to three decimal places.)"
   ]
  },
  {
   "cell_type": "code",
   "execution_count": 517,
   "metadata": {},
   "outputs": [
    {
     "data": {
      "text/html": [
       "4.244"
      ],
      "text/latex": [
       "4.244"
      ],
      "text/markdown": [
       "4.244"
      ],
      "text/plain": [
       "[1] 4.244"
      ]
     },
     "metadata": {},
     "output_type": "display_data"
    }
   ],
   "source": [
    "stat <- sum((observed_frequency-expected_frequency)^2/expected_frequency)\n",
    "round(stat,3)"
   ]
  },
  {
   "cell_type": "markdown",
   "metadata": {},
   "source": [
    "What can we say about the P-value?\n",
    "P-value > 0.10 "
   ]
  },
  {
   "cell_type": "code",
   "execution_count": 518,
   "metadata": {},
   "outputs": [
    {
     "data": {
      "text/html": [
       "0.236246431174051"
      ],
      "text/latex": [
       "0.236246431174051"
      ],
      "text/markdown": [
       "0.236246431174051"
      ],
      "text/plain": [
       "[1] 0.2362464"
      ]
     },
     "metadata": {},
     "output_type": "display_data"
    }
   ],
   "source": [
    "p_value <- 1-pchisq(stat,df)\n",
    "p_value"
   ]
  },
  {
   "cell_type": "markdown",
   "metadata": {},
   "source": [
    "State the conclusion in the problem context.\n",
    "\n",
    "Fail to reject H0. \n",
    "\n",
    "There is no evidence that there is a seasonal relationship between weather conditions and the incidence of violent crime."
   ]
  },
  {
   "cell_type": "markdown",
   "metadata": {},
   "source": [
    "## 27.\n",
    "The response time of a computer system to a request for a certain type of information is hypothesized to have an exponential distribution with parameter λ = 1 sec (so if X = response time, the pdf of X under H0 is f0(x) = e−x for x ≥ 0)."
   ]
  },
  {
   "cell_type": "markdown",
   "metadata": {},
   "source": [
    "(a) If you had observed X1, X2, . . . , Xn and wanted to use the chi-squared test with five class intervals having equal probability under H0, what would be the resulting class intervals?\n",
    "\n",
    "[0, 0.2231), [0.2231, 0.5108), [0.5108, 0.9163), [0.9163, 1.6094), [1.6094, ∞) "
   ]
  },
  {
   "cell_type": "code",
   "execution_count": 519,
   "metadata": {},
   "outputs": [
    {
     "data": {
      "text/html": [
       "<ol class=list-inline>\n",
       "\t<li>0</li>\n",
       "\t<li>0.22314355131421</li>\n",
       "\t<li>0.510825623765991</li>\n",
       "\t<li>0.916290731874155</li>\n",
       "\t<li>1.6094379124341</li>\n",
       "\t<li>Inf</li>\n",
       "</ol>\n"
      ],
      "text/latex": [
       "\\begin{enumerate*}\n",
       "\\item 0\n",
       "\\item 0.22314355131421\n",
       "\\item 0.510825623765991\n",
       "\\item 0.916290731874155\n",
       "\\item 1.6094379124341\n",
       "\\item Inf\n",
       "\\end{enumerate*}\n"
      ],
      "text/markdown": [
       "1. 0\n",
       "2. 0.22314355131421\n",
       "3. 0.510825623765991\n",
       "4. 0.916290731874155\n",
       "5. 1.6094379124341\n",
       "6. Inf\n",
       "\n",
       "\n"
      ],
      "text/plain": [
       "[1] 0.0000000 0.2231436 0.5108256 0.9162907 1.6094379       Inf"
      ]
     },
     "metadata": {},
     "output_type": "display_data"
    }
   ],
   "source": [
    "quintile <- 1:4\n",
    "bin <- c(0,qexp(quintile/5),Inf)\n",
    "bin"
   ]
  },
  {
   "cell_type": "markdown",
   "metadata": {},
   "source": [
    "(b) Carry out the chi-squared test using the following data resulting from a random sample of 40 response times. (Use α = 0.10. Use H0: the population distribution is exponential versus Ha: the population distribution is not exponential.)"
   ]
  },
  {
   "cell_type": "code",
   "execution_count": 520,
   "metadata": {},
   "outputs": [
    {
     "data": {
      "text/html": [
       "<ol class=list-inline>\n",
       "\t<li>8</li>\n",
       "\t<li>6</li>\n",
       "\t<li>9</li>\n",
       "\t<li>9</li>\n",
       "\t<li>8</li>\n",
       "</ol>\n"
      ],
      "text/latex": [
       "\\begin{enumerate*}\n",
       "\\item 8\n",
       "\\item 6\n",
       "\\item 9\n",
       "\\item 9\n",
       "\\item 8\n",
       "\\end{enumerate*}\n"
      ],
      "text/markdown": [
       "1. 8\n",
       "2. 6\n",
       "3. 9\n",
       "4. 9\n",
       "5. 8\n",
       "\n",
       "\n"
      ],
      "text/plain": [
       "[1] 8 6 9 9 8"
      ]
     },
     "metadata": {},
     "output_type": "display_data"
    },
    {
     "data": {
      "text/html": [
       "<ol class=list-inline>\n",
       "\t<li>8</li>\n",
       "\t<li>8</li>\n",
       "\t<li>8</li>\n",
       "\t<li>8</li>\n",
       "\t<li>8</li>\n",
       "</ol>\n"
      ],
      "text/latex": [
       "\\begin{enumerate*}\n",
       "\\item 8\n",
       "\\item 8\n",
       "\\item 8\n",
       "\\item 8\n",
       "\\item 8\n",
       "\\end{enumerate*}\n"
      ],
      "text/markdown": [
       "1. 8\n",
       "2. 8\n",
       "3. 8\n",
       "4. 8\n",
       "5. 8\n",
       "\n",
       "\n"
      ],
      "text/plain": [
       "[1] 8 8 8 8 8"
      ]
     },
     "metadata": {},
     "output_type": "display_data"
    },
    {
     "data": {
      "text/html": [
       "<ol class=list-inline>\n",
       "\t<li>0</li>\n",
       "\t<li>-2</li>\n",
       "\t<li>1</li>\n",
       "\t<li>1</li>\n",
       "\t<li>0</li>\n",
       "</ol>\n"
      ],
      "text/latex": [
       "\\begin{enumerate*}\n",
       "\\item 0\n",
       "\\item -2\n",
       "\\item 1\n",
       "\\item 1\n",
       "\\item 0\n",
       "\\end{enumerate*}\n"
      ],
      "text/markdown": [
       "1. 0\n",
       "2. -2\n",
       "3. 1\n",
       "4. 1\n",
       "5. 0\n",
       "\n",
       "\n"
      ],
      "text/plain": [
       "[1]  0 -2  1  1  0"
      ]
     },
     "metadata": {},
     "output_type": "display_data"
    }
   ],
   "source": [
    "df <- 5-1\n",
    "observations <- c(0.10,0.99,1.16,1.26,3.24,0.12,0.26,0.80,0.79,1.16,1.56,0.41,0.59,0.2,2.22,0.66,0.71,2.21,0.68,0.43,0.11,0.46,0.69,0.38,0.99,0.55,0.81,2.51,2.77,0.16,1.11,0.02,2.13,0.19,1.21,1.13,2.93,2.14,0.14,0.44)\n",
    "n <- length(observations)\n",
    "observations <- sort(observations)\n",
    "observed_frequency <- diff(findInterval(bin,observations)) # running difference of observations < bin\n",
    "expected_proportion <- rep(1/5,5)\n",
    "expected_frequency <- n*expected_proportion\n",
    "\n",
    "#debug\n",
    "observed_frequency\n",
    "expected_frequency\n",
    "(observed_frequency-expected_frequency)\n"
   ]
  },
  {
   "cell_type": "markdown",
   "metadata": {},
   "source": [
    "Calculate the test statistic. (Round your answer to two decimal places.)"
   ]
  },
  {
   "cell_type": "code",
   "execution_count": 521,
   "metadata": {},
   "outputs": [
    {
     "data": {
      "text/html": [
       "0.75"
      ],
      "text/latex": [
       "0.75"
      ],
      "text/markdown": [
       "0.75"
      ],
      "text/plain": [
       "[1] 0.75"
      ]
     },
     "metadata": {},
     "output_type": "display_data"
    }
   ],
   "source": [
    "stat <- sum((observed_frequency-expected_frequency)^2/expected_frequency)\n",
    "round(stat,2)"
   ]
  },
  {
   "cell_type": "markdown",
   "metadata": {},
   "source": [
    "What can be said about the P-value for the test?\n",
    "P-value > 0.10 "
   ]
  },
  {
   "cell_type": "code",
   "execution_count": 522,
   "metadata": {},
   "outputs": [
    {
     "data": {
      "text/html": [
       "0.945022758337587"
      ],
      "text/latex": [
       "0.945022758337587"
      ],
      "text/markdown": [
       "0.945022758337587"
      ],
      "text/plain": [
       "[1] 0.9450228"
      ]
     },
     "metadata": {},
     "output_type": "display_data"
    }
   ],
   "source": [
    "p_value <- 1-pchisq(stat,df)\n",
    "p_value"
   ]
  },
  {
   "cell_type": "markdown",
   "metadata": {},
   "source": [
    "State the conclusion in the problem context.\n",
    "Fail to reject H0. The data is consistent with the specified exponential distribution."
   ]
  },
  {
   "cell_type": "code",
   "execution_count": 523,
   "metadata": {},
   "outputs": [
    {
     "data": {
      "image/png": "[encoded data removed]",
      "text/plain": [
       "plot without title"
      ]
     },
     "metadata": {},
     "output_type": "display_data"
    }
   ],
   "source": [
    "curve(dchisq(x,df),from = 0,to = 3*df)\n",
    "abline(v=stat)"
   ]
  }
 ],
 "metadata": {
  "kernelspec": {
   "display_name": "R",
   "language": "R",
   "name": "ir"
  },
  "language_info": {
   "codemirror_mode": "r",
   "file_extension": ".r",
   "mimetype": "text/x-r-source",
   "name": "R",
   "pygments_lexer": "r",
   "version": "3.3.2"
  }
 },
 "nbformat": 4,
 "nbformat_minor": 2
}
